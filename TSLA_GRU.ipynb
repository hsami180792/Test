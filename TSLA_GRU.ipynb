{
  "nbformat": 4,
  "nbformat_minor": 0,
  "metadata": {
    "colab": {
      "provenance": []
    },
    "kernelspec": {
      "name": "python3",
      "display_name": "Python 3"
    },
    "language_info": {
      "name": "python"
    }
  },
  "cells": [
    {
      "cell_type": "code",
      "execution_count": 119,
      "metadata": {
        "id": "pa8BuGYTzgJb"
      },
      "outputs": [],
      "source": [
        "import numpy as np\n",
        "import matplotlib.pyplot as plt\n",
        "import pandas as pd\n",
        "from sklearn.preprocessing import MinMaxScaler"
      ]
    },
    {
      "cell_type": "code",
      "source": [
        "import io"
      ],
      "metadata": {
        "id": "xV-QJu9fzocN"
      },
      "execution_count": 120,
      "outputs": []
    },
    {
      "cell_type": "code",
      "source": [
        "from google.colab import files\n",
        "uploaded = files.upload()"
      ],
      "metadata": {
        "colab": {
          "base_uri": "https://localhost:8080/",
          "height": 73
        },
        "id": "r24TXRS-zq5E",
        "outputId": "03467409-da5b-45d6-c571-ace9f44a1fd9"
      },
      "execution_count": 121,
      "outputs": [
        {
          "output_type": "display_data",
          "data": {
            "text/plain": [
              "<IPython.core.display.HTML object>"
            ],
            "text/html": [
              "\n",
              "     <input type=\"file\" id=\"files-8ab4f744-2fa4-488c-9344-6fa61e67b66c\" name=\"files[]\" multiple disabled\n",
              "        style=\"border:none\" />\n",
              "     <output id=\"result-8ab4f744-2fa4-488c-9344-6fa61e67b66c\">\n",
              "      Upload widget is only available when the cell has been executed in the\n",
              "      current browser session. Please rerun this cell to enable.\n",
              "      </output>\n",
              "      <script>// Copyright 2017 Google LLC\n",
              "//\n",
              "// Licensed under the Apache License, Version 2.0 (the \"License\");\n",
              "// you may not use this file except in compliance with the License.\n",
              "// You may obtain a copy of the License at\n",
              "//\n",
              "//      http://www.apache.org/licenses/LICENSE-2.0\n",
              "//\n",
              "// Unless required by applicable law or agreed to in writing, software\n",
              "// distributed under the License is distributed on an \"AS IS\" BASIS,\n",
              "// WITHOUT WARRANTIES OR CONDITIONS OF ANY KIND, either express or implied.\n",
              "// See the License for the specific language governing permissions and\n",
              "// limitations under the License.\n",
              "\n",
              "/**\n",
              " * @fileoverview Helpers for google.colab Python module.\n",
              " */\n",
              "(function(scope) {\n",
              "function span(text, styleAttributes = {}) {\n",
              "  const element = document.createElement('span');\n",
              "  element.textContent = text;\n",
              "  for (const key of Object.keys(styleAttributes)) {\n",
              "    element.style[key] = styleAttributes[key];\n",
              "  }\n",
              "  return element;\n",
              "}\n",
              "\n",
              "// Max number of bytes which will be uploaded at a time.\n",
              "const MAX_PAYLOAD_SIZE = 100 * 1024;\n",
              "\n",
              "function _uploadFiles(inputId, outputId) {\n",
              "  const steps = uploadFilesStep(inputId, outputId);\n",
              "  const outputElement = document.getElementById(outputId);\n",
              "  // Cache steps on the outputElement to make it available for the next call\n",
              "  // to uploadFilesContinue from Python.\n",
              "  outputElement.steps = steps;\n",
              "\n",
              "  return _uploadFilesContinue(outputId);\n",
              "}\n",
              "\n",
              "// This is roughly an async generator (not supported in the browser yet),\n",
              "// where there are multiple asynchronous steps and the Python side is going\n",
              "// to poll for completion of each step.\n",
              "// This uses a Promise to block the python side on completion of each step,\n",
              "// then passes the result of the previous step as the input to the next step.\n",
              "function _uploadFilesContinue(outputId) {\n",
              "  const outputElement = document.getElementById(outputId);\n",
              "  const steps = outputElement.steps;\n",
              "\n",
              "  const next = steps.next(outputElement.lastPromiseValue);\n",
              "  return Promise.resolve(next.value.promise).then((value) => {\n",
              "    // Cache the last promise value to make it available to the next\n",
              "    // step of the generator.\n",
              "    outputElement.lastPromiseValue = value;\n",
              "    return next.value.response;\n",
              "  });\n",
              "}\n",
              "\n",
              "/**\n",
              " * Generator function which is called between each async step of the upload\n",
              " * process.\n",
              " * @param {string} inputId Element ID of the input file picker element.\n",
              " * @param {string} outputId Element ID of the output display.\n",
              " * @return {!Iterable<!Object>} Iterable of next steps.\n",
              " */\n",
              "function* uploadFilesStep(inputId, outputId) {\n",
              "  const inputElement = document.getElementById(inputId);\n",
              "  inputElement.disabled = false;\n",
              "\n",
              "  const outputElement = document.getElementById(outputId);\n",
              "  outputElement.innerHTML = '';\n",
              "\n",
              "  const pickedPromise = new Promise((resolve) => {\n",
              "    inputElement.addEventListener('change', (e) => {\n",
              "      resolve(e.target.files);\n",
              "    });\n",
              "  });\n",
              "\n",
              "  const cancel = document.createElement('button');\n",
              "  inputElement.parentElement.appendChild(cancel);\n",
              "  cancel.textContent = 'Cancel upload';\n",
              "  const cancelPromise = new Promise((resolve) => {\n",
              "    cancel.onclick = () => {\n",
              "      resolve(null);\n",
              "    };\n",
              "  });\n",
              "\n",
              "  // Wait for the user to pick the files.\n",
              "  const files = yield {\n",
              "    promise: Promise.race([pickedPromise, cancelPromise]),\n",
              "    response: {\n",
              "      action: 'starting',\n",
              "    }\n",
              "  };\n",
              "\n",
              "  cancel.remove();\n",
              "\n",
              "  // Disable the input element since further picks are not allowed.\n",
              "  inputElement.disabled = true;\n",
              "\n",
              "  if (!files) {\n",
              "    return {\n",
              "      response: {\n",
              "        action: 'complete',\n",
              "      }\n",
              "    };\n",
              "  }\n",
              "\n",
              "  for (const file of files) {\n",
              "    const li = document.createElement('li');\n",
              "    li.append(span(file.name, {fontWeight: 'bold'}));\n",
              "    li.append(span(\n",
              "        `(${file.type || 'n/a'}) - ${file.size} bytes, ` +\n",
              "        `last modified: ${\n",
              "            file.lastModifiedDate ? file.lastModifiedDate.toLocaleDateString() :\n",
              "                                    'n/a'} - `));\n",
              "    const percent = span('0% done');\n",
              "    li.appendChild(percent);\n",
              "\n",
              "    outputElement.appendChild(li);\n",
              "\n",
              "    const fileDataPromise = new Promise((resolve) => {\n",
              "      const reader = new FileReader();\n",
              "      reader.onload = (e) => {\n",
              "        resolve(e.target.result);\n",
              "      };\n",
              "      reader.readAsArrayBuffer(file);\n",
              "    });\n",
              "    // Wait for the data to be ready.\n",
              "    let fileData = yield {\n",
              "      promise: fileDataPromise,\n",
              "      response: {\n",
              "        action: 'continue',\n",
              "      }\n",
              "    };\n",
              "\n",
              "    // Use a chunked sending to avoid message size limits. See b/62115660.\n",
              "    let position = 0;\n",
              "    do {\n",
              "      const length = Math.min(fileData.byteLength - position, MAX_PAYLOAD_SIZE);\n",
              "      const chunk = new Uint8Array(fileData, position, length);\n",
              "      position += length;\n",
              "\n",
              "      const base64 = btoa(String.fromCharCode.apply(null, chunk));\n",
              "      yield {\n",
              "        response: {\n",
              "          action: 'append',\n",
              "          file: file.name,\n",
              "          data: base64,\n",
              "        },\n",
              "      };\n",
              "\n",
              "      let percentDone = fileData.byteLength === 0 ?\n",
              "          100 :\n",
              "          Math.round((position / fileData.byteLength) * 100);\n",
              "      percent.textContent = `${percentDone}% done`;\n",
              "\n",
              "    } while (position < fileData.byteLength);\n",
              "  }\n",
              "\n",
              "  // All done.\n",
              "  yield {\n",
              "    response: {\n",
              "      action: 'complete',\n",
              "    }\n",
              "  };\n",
              "}\n",
              "\n",
              "scope.google = scope.google || {};\n",
              "scope.google.colab = scope.google.colab || {};\n",
              "scope.google.colab._files = {\n",
              "  _uploadFiles,\n",
              "  _uploadFilesContinue,\n",
              "};\n",
              "})(self);\n",
              "</script> "
            ]
          },
          "metadata": {}
        },
        {
          "output_type": "stream",
          "name": "stdout",
          "text": [
            "Saving TSLA.csv to TSLA.csv\n"
          ]
        }
      ]
    },
    {
      "cell_type": "code",
      "source": [
        "df = pd.read_csv(io.BytesIO(uploaded['TSLA.csv']))\n",
        "print(df)"
      ],
      "metadata": {
        "colab": {
          "base_uri": "https://localhost:8080/"
        },
        "id": "rDifliYGzwvi",
        "outputId": "cd13a54e-c763-4d44-9a0d-aab8c429cf64"
      },
      "execution_count": 122,
      "outputs": [
        {
          "output_type": "stream",
          "name": "stdout",
          "text": [
            "           Date       Open       High        Low      Close  Adj Close\n",
            "0     6/30/2010   1.719333   2.028000   1.553333   1.588667   1.588667\n",
            "1      7/1/2010   1.666667   1.728000   1.351333   1.464000   1.464000\n",
            "2      7/2/2010   1.533333   1.540000   1.247333   1.280000   1.280000\n",
            "3      7/6/2010   1.333333   1.333333   1.055333   1.074000   1.074000\n",
            "4      7/7/2010   1.093333   1.108667   0.998667   1.053333   1.053333\n",
            "...         ...        ...        ...        ...        ...        ...\n",
            "2512  6/23/2020  66.592003  67.466667  66.267334  66.785332  66.785332\n",
            "2513  6/24/2020  66.274002  66.725334  63.542667  64.056664  64.056664\n",
            "2514  6/25/2020  63.618000  65.732002  62.476665  65.732002  65.732002\n",
            "2515  6/26/2020  66.318665  66.333336  63.658001  63.982666  63.982666\n",
            "2516  6/29/2020  64.600670  67.333336  63.234669  67.290001  67.290001\n",
            "\n",
            "[2517 rows x 6 columns]\n"
          ]
        }
      ]
    },
    {
      "cell_type": "code",
      "source": [
        "data_training = df[df['Date'] < '2020-03-15'].copy()\n",
        "data_testing = df[df['Date'] >= '2020-03-15'].copy()"
      ],
      "metadata": {
        "id": "loLfrbEez1Kz"
      },
      "execution_count": 123,
      "outputs": []
    },
    {
      "cell_type": "code",
      "source": [
        "data_training = data_training.drop(['Date'], axis = 1)"
      ],
      "metadata": {
        "id": "ZAwybGlaz4HS"
      },
      "execution_count": 124,
      "outputs": []
    },
    {
      "cell_type": "code",
      "source": [
        "scaler = MinMaxScaler()\n",
        "data_training = scaler.fit_transform(data_training)\n",
        "data_training"
      ],
      "metadata": {
        "colab": {
          "base_uri": "https://localhost:8080/"
        },
        "id": "G0oMyymYz6nD",
        "outputId": "b6c15770-038b-4ed7-f2a1-a9027bf2823c"
      },
      "execution_count": 125,
      "outputs": [
        {
          "output_type": "execute_result",
          "data": {
            "text/plain": [
              "array([[5.86706009e-04, 4.95404273e-04, 3.51870551e-04, 6.12891031e-04,\n",
              "        6.12891031e-04],\n",
              "       [2.98890786e-04, 9.38110673e-04, 3.40514396e-04, 1.04749439e-03,\n",
              "        1.04749439e-03],\n",
              "       [1.09593288e-03, 1.05406813e-03, 1.14640982e-03, 1.19236775e-03,\n",
              "        1.19236775e-03],\n",
              "       ...,\n",
              "       [8.43912623e-01, 8.35903505e-01, 8.58221111e-01, 8.45526370e-01,\n",
              "        8.45526370e-01],\n",
              "       [7.85794970e-01, 7.58387701e-01, 7.36646115e-01, 7.34312507e-01,\n",
              "        7.34312507e-01],\n",
              "       [6.74762555e-01, 7.06475111e-01, 6.71403625e-01, 7.22043303e-01,\n",
              "        7.22043303e-01]])"
            ]
          },
          "metadata": {},
          "execution_count": 125
        }
      ]
    },
    {
      "cell_type": "code",
      "source": [
        "x_train = []\n",
        "y_train = []\n",
        "\n",
        "for i in range(60, data_training.shape[0]):\n",
        "    x_train.append(data_training[i-20:i])\n",
        "    y_train.append(data_training[i, 0])\n",
        "\n",
        "x_train = np.array(x_train)\n",
        "y_train = np.array(y_train)"
      ],
      "metadata": {
        "id": "RHB_FUf30Z9L"
      },
      "execution_count": 126,
      "outputs": []
    },
    {
      "cell_type": "code",
      "source": [
        "x_train.shape"
      ],
      "metadata": {
        "colab": {
          "base_uri": "https://localhost:8080/"
        },
        "id": "qmWYzXwY0h3r",
        "outputId": "3ab0bc8c-a0b0-4170-d290-3814f4b53995"
      },
      "execution_count": 127,
      "outputs": [
        {
          "output_type": "execute_result",
          "data": {
            "text/plain": [
              "(970, 20, 5)"
            ]
          },
          "metadata": {},
          "execution_count": 127
        }
      ]
    },
    {
      "cell_type": "code",
      "source": [
        "from tensorflow.keras import Sequential\n",
        "from tensorflow.keras.layers import Dense, LSTM, Dropout, GRU, Bidirectional"
      ],
      "metadata": {
        "id": "bB7lh8H00kVb"
      },
      "execution_count": 128,
      "outputs": []
    },
    {
      "cell_type": "code",
      "source": [
        "regressorGRU = Sequential()\n",
        "\n",
        "regressorGRU.add(GRU(units = 60, activation = 'relu', return_sequences = True, input_shape = (x_train.shape[1], 5)))\n",
        "regressorGRU.add(Dropout(0.2))\n",
        "\n",
        "regressorGRU.add(GRU(units = 60, activation = 'relu', return_sequences = True))\n",
        "regressorGRU.add(Dropout(0.2))\n",
        "\n",
        "regressorGRU.add(GRU(units = 80, activation = 'relu', return_sequences = True))\n",
        "regressorGRU.add(Dropout(0.2))\n",
        "\n",
        "regressorGRU.add(GRU(units = 120, activation = 'relu'))\n",
        "regressorGRU.add(Dropout(0.2))\n",
        "\n",
        "regressorGRU.add(Dense(units = 1))"
      ],
      "metadata": {
        "id": "KGK1n3id0muD"
      },
      "execution_count": 129,
      "outputs": []
    },
    {
      "cell_type": "code",
      "source": [
        "regressorGRU.summary()"
      ],
      "metadata": {
        "colab": {
          "base_uri": "https://localhost:8080/"
        },
        "id": "yYY75U140pQz",
        "outputId": "0bc252c9-8746-4776-e3a8-971ba4d015a1"
      },
      "execution_count": 130,
      "outputs": [
        {
          "output_type": "stream",
          "name": "stdout",
          "text": [
            "Model: \"sequential_5\"\n",
            "_________________________________________________________________\n",
            " Layer (type)                Output Shape              Param #   \n",
            "=================================================================\n",
            " gru_20 (GRU)                (None, 20, 60)            12060     \n",
            "                                                                 \n",
            " dropout_20 (Dropout)        (None, 20, 60)            0         \n",
            "                                                                 \n",
            " gru_21 (GRU)                (None, 20, 60)            21960     \n",
            "                                                                 \n",
            " dropout_21 (Dropout)        (None, 20, 60)            0         \n",
            "                                                                 \n",
            " gru_22 (GRU)                (None, 20, 80)            34080     \n",
            "                                                                 \n",
            " dropout_22 (Dropout)        (None, 20, 80)            0         \n",
            "                                                                 \n",
            " gru_23 (GRU)                (None, 120)               72720     \n",
            "                                                                 \n",
            " dropout_23 (Dropout)        (None, 120)               0         \n",
            "                                                                 \n",
            " dense_5 (Dense)             (None, 1)                 121       \n",
            "                                                                 \n",
            "=================================================================\n",
            "Total params: 140941 (550.55 KB)\n",
            "Trainable params: 140941 (550.55 KB)\n",
            "Non-trainable params: 0 (0.00 Byte)\n",
            "_________________________________________________________________\n"
          ]
        }
      ]
    },
    {
      "cell_type": "code",
      "source": [
        "regressorGRU.compile(optimizer = 'adam', loss = 'mean_squared_error')\n",
        "regressorGRU.fit(x_train, y_train, epochs = 50, batch_size = 32)"
      ],
      "metadata": {
        "colab": {
          "base_uri": "https://localhost:8080/"
        },
        "id": "wLj5SWbm0sLF",
        "outputId": "6464aede-6bb2-411f-97b6-7f1b4e93310d"
      },
      "execution_count": 131,
      "outputs": [
        {
          "output_type": "stream",
          "name": "stdout",
          "text": [
            "Epoch 1/50\n",
            "31/31 [==============================] - 7s 50ms/step - loss: 0.0176\n",
            "Epoch 2/50\n",
            "31/31 [==============================] - 2s 50ms/step - loss: 0.0027\n",
            "Epoch 3/50\n",
            "31/31 [==============================] - 2s 49ms/step - loss: 0.0019\n",
            "Epoch 4/50\n",
            "31/31 [==============================] - 3s 84ms/step - loss: 0.0018\n",
            "Epoch 5/50\n",
            "31/31 [==============================] - 2s 50ms/step - loss: 0.0022\n",
            "Epoch 6/50\n",
            "31/31 [==============================] - 2s 49ms/step - loss: 0.0020\n",
            "Epoch 7/50\n",
            "31/31 [==============================] - 2s 49ms/step - loss: 0.0016\n",
            "Epoch 8/50\n",
            "31/31 [==============================] - 2s 49ms/step - loss: 0.0020\n",
            "Epoch 9/50\n",
            "31/31 [==============================] - 2s 49ms/step - loss: 0.0017\n",
            "Epoch 10/50\n",
            "31/31 [==============================] - 2s 49ms/step - loss: 0.0016\n",
            "Epoch 11/50\n",
            "31/31 [==============================] - 2s 65ms/step - loss: 0.0016\n",
            "Epoch 12/50\n",
            "31/31 [==============================] - 2s 70ms/step - loss: 0.0014\n",
            "Epoch 13/50\n",
            "31/31 [==============================] - 2s 49ms/step - loss: 0.0018\n",
            "Epoch 14/50\n",
            "31/31 [==============================] - 2s 49ms/step - loss: 0.0022\n",
            "Epoch 15/50\n",
            "31/31 [==============================] - 2s 50ms/step - loss: 0.0013\n",
            "Epoch 16/50\n",
            "31/31 [==============================] - 1s 48ms/step - loss: 0.0013\n",
            "Epoch 17/50\n",
            "31/31 [==============================] - 2s 50ms/step - loss: 0.0012\n",
            "Epoch 18/50\n",
            "31/31 [==============================] - 1s 48ms/step - loss: 0.0012\n",
            "Epoch 19/50\n",
            "31/31 [==============================] - 2s 78ms/step - loss: 0.0016\n",
            "Epoch 20/50\n",
            "31/31 [==============================] - 2s 56ms/step - loss: 0.0016\n",
            "Epoch 21/50\n",
            "31/31 [==============================] - 2s 51ms/step - loss: 0.0016\n",
            "Epoch 22/50\n",
            "31/31 [==============================] - 2s 49ms/step - loss: 0.0010\n",
            "Epoch 23/50\n",
            "31/31 [==============================] - 2s 50ms/step - loss: 0.0012\n",
            "Epoch 24/50\n",
            "31/31 [==============================] - 1s 48ms/step - loss: 0.0012\n",
            "Epoch 25/50\n",
            "31/31 [==============================] - 2s 49ms/step - loss: 0.0013\n",
            "Epoch 26/50\n",
            "31/31 [==============================] - 2s 57ms/step - loss: 0.0013\n",
            "Epoch 27/50\n",
            "31/31 [==============================] - 2s 75ms/step - loss: 0.0012\n",
            "Epoch 28/50\n",
            "31/31 [==============================] - 2s 50ms/step - loss: 0.0012\n",
            "Epoch 29/50\n",
            "31/31 [==============================] - 2s 50ms/step - loss: 0.0011\n",
            "Epoch 30/50\n",
            "31/31 [==============================] - 2s 49ms/step - loss: 0.0010\n",
            "Epoch 31/50\n",
            "31/31 [==============================] - 2s 50ms/step - loss: 9.6434e-04\n",
            "Epoch 32/50\n",
            "31/31 [==============================] - 2s 50ms/step - loss: 0.0013\n",
            "Epoch 33/50\n",
            "31/31 [==============================] - 2s 49ms/step - loss: 0.0010\n",
            "Epoch 34/50\n",
            "31/31 [==============================] - 2s 74ms/step - loss: 8.8639e-04\n",
            "Epoch 35/50\n",
            "31/31 [==============================] - 2s 62ms/step - loss: 9.0918e-04\n",
            "Epoch 36/50\n",
            "31/31 [==============================] - 2s 50ms/step - loss: 8.3851e-04\n",
            "Epoch 37/50\n",
            "31/31 [==============================] - 2s 50ms/step - loss: 9.3288e-04\n",
            "Epoch 38/50\n",
            "31/31 [==============================] - 2s 49ms/step - loss: 9.7966e-04\n",
            "Epoch 39/50\n",
            "31/31 [==============================] - 2s 49ms/step - loss: 9.1127e-04\n",
            "Epoch 40/50\n",
            "31/31 [==============================] - 2s 49ms/step - loss: 0.0011\n",
            "Epoch 41/50\n",
            "31/31 [==============================] - 2s 58ms/step - loss: 9.2748e-04\n",
            "Epoch 42/50\n",
            "31/31 [==============================] - 2s 77ms/step - loss: 8.9329e-04\n",
            "Epoch 43/50\n",
            "31/31 [==============================] - 2s 50ms/step - loss: 0.0010\n",
            "Epoch 44/50\n",
            "31/31 [==============================] - 2s 65ms/step - loss: 8.5567e-04\n",
            "Epoch 45/50\n",
            "31/31 [==============================] - 2s 55ms/step - loss: 9.3973e-04\n",
            "Epoch 46/50\n",
            "31/31 [==============================] - 2s 50ms/step - loss: 8.2744e-04\n",
            "Epoch 47/50\n",
            "31/31 [==============================] - 2s 50ms/step - loss: 8.4302e-04\n",
            "Epoch 48/50\n",
            "31/31 [==============================] - 2s 56ms/step - loss: 8.5884e-04\n",
            "Epoch 49/50\n",
            "31/31 [==============================] - 2s 78ms/step - loss: 8.6978e-04\n",
            "Epoch 50/50\n",
            "31/31 [==============================] - 2s 50ms/step - loss: 7.5732e-04\n"
          ]
        },
        {
          "output_type": "execute_result",
          "data": {
            "text/plain": [
              "<keras.src.callbacks.History at 0x7d75ab407bb0>"
            ]
          },
          "metadata": {},
          "execution_count": 131
        }
      ]
    },
    {
      "cell_type": "code",
      "source": [
        "data_testing.head()"
      ],
      "metadata": {
        "colab": {
          "base_uri": "https://localhost:8080/",
          "height": 206
        },
        "id": "vhTxTiQ00u7V",
        "outputId": "312f6a55-9eea-4d45-a312-9108017342d7"
      },
      "execution_count": 132,
      "outputs": [
        {
          "output_type": "execute_result",
          "data": {
            "text/plain": [
              "        Date      Open      High       Low     Close  Adj Close\n",
              "0  6/30/2010  1.719333  2.028000  1.553333  1.588667   1.588667\n",
              "1   7/1/2010  1.666667  1.728000  1.351333  1.464000   1.464000\n",
              "2   7/2/2010  1.533333  1.540000  1.247333  1.280000   1.280000\n",
              "3   7/6/2010  1.333333  1.333333  1.055333  1.074000   1.074000\n",
              "4   7/7/2010  1.093333  1.108667  0.998667  1.053333   1.053333"
            ],
            "text/html": [
              "\n",
              "  <div id=\"df-fee48a70-649d-4afd-ad96-0d52644c95e7\" class=\"colab-df-container\">\n",
              "    <div>\n",
              "<style scoped>\n",
              "    .dataframe tbody tr th:only-of-type {\n",
              "        vertical-align: middle;\n",
              "    }\n",
              "\n",
              "    .dataframe tbody tr th {\n",
              "        vertical-align: top;\n",
              "    }\n",
              "\n",
              "    .dataframe thead th {\n",
              "        text-align: right;\n",
              "    }\n",
              "</style>\n",
              "<table border=\"1\" class=\"dataframe\">\n",
              "  <thead>\n",
              "    <tr style=\"text-align: right;\">\n",
              "      <th></th>\n",
              "      <th>Date</th>\n",
              "      <th>Open</th>\n",
              "      <th>High</th>\n",
              "      <th>Low</th>\n",
              "      <th>Close</th>\n",
              "      <th>Adj Close</th>\n",
              "    </tr>\n",
              "  </thead>\n",
              "  <tbody>\n",
              "    <tr>\n",
              "      <th>0</th>\n",
              "      <td>6/30/2010</td>\n",
              "      <td>1.719333</td>\n",
              "      <td>2.028000</td>\n",
              "      <td>1.553333</td>\n",
              "      <td>1.588667</td>\n",
              "      <td>1.588667</td>\n",
              "    </tr>\n",
              "    <tr>\n",
              "      <th>1</th>\n",
              "      <td>7/1/2010</td>\n",
              "      <td>1.666667</td>\n",
              "      <td>1.728000</td>\n",
              "      <td>1.351333</td>\n",
              "      <td>1.464000</td>\n",
              "      <td>1.464000</td>\n",
              "    </tr>\n",
              "    <tr>\n",
              "      <th>2</th>\n",
              "      <td>7/2/2010</td>\n",
              "      <td>1.533333</td>\n",
              "      <td>1.540000</td>\n",
              "      <td>1.247333</td>\n",
              "      <td>1.280000</td>\n",
              "      <td>1.280000</td>\n",
              "    </tr>\n",
              "    <tr>\n",
              "      <th>3</th>\n",
              "      <td>7/6/2010</td>\n",
              "      <td>1.333333</td>\n",
              "      <td>1.333333</td>\n",
              "      <td>1.055333</td>\n",
              "      <td>1.074000</td>\n",
              "      <td>1.074000</td>\n",
              "    </tr>\n",
              "    <tr>\n",
              "      <th>4</th>\n",
              "      <td>7/7/2010</td>\n",
              "      <td>1.093333</td>\n",
              "      <td>1.108667</td>\n",
              "      <td>0.998667</td>\n",
              "      <td>1.053333</td>\n",
              "      <td>1.053333</td>\n",
              "    </tr>\n",
              "  </tbody>\n",
              "</table>\n",
              "</div>\n",
              "    <div class=\"colab-df-buttons\">\n",
              "\n",
              "  <div class=\"colab-df-container\">\n",
              "    <button class=\"colab-df-convert\" onclick=\"convertToInteractive('df-fee48a70-649d-4afd-ad96-0d52644c95e7')\"\n",
              "            title=\"Convert this dataframe to an interactive table.\"\n",
              "            style=\"display:none;\">\n",
              "\n",
              "  <svg xmlns=\"http://www.w3.org/2000/svg\" height=\"24px\" viewBox=\"0 -960 960 960\">\n",
              "    <path d=\"M120-120v-720h720v720H120Zm60-500h600v-160H180v160Zm220 220h160v-160H400v160Zm0 220h160v-160H400v160ZM180-400h160v-160H180v160Zm440 0h160v-160H620v160ZM180-180h160v-160H180v160Zm440 0h160v-160H620v160Z\"/>\n",
              "  </svg>\n",
              "    </button>\n",
              "\n",
              "  <style>\n",
              "    .colab-df-container {\n",
              "      display:flex;\n",
              "      gap: 12px;\n",
              "    }\n",
              "\n",
              "    .colab-df-convert {\n",
              "      background-color: #E8F0FE;\n",
              "      border: none;\n",
              "      border-radius: 50%;\n",
              "      cursor: pointer;\n",
              "      display: none;\n",
              "      fill: #1967D2;\n",
              "      height: 32px;\n",
              "      padding: 0 0 0 0;\n",
              "      width: 32px;\n",
              "    }\n",
              "\n",
              "    .colab-df-convert:hover {\n",
              "      background-color: #E2EBFA;\n",
              "      box-shadow: 0px 1px 2px rgba(60, 64, 67, 0.3), 0px 1px 3px 1px rgba(60, 64, 67, 0.15);\n",
              "      fill: #174EA6;\n",
              "    }\n",
              "\n",
              "    .colab-df-buttons div {\n",
              "      margin-bottom: 4px;\n",
              "    }\n",
              "\n",
              "    [theme=dark] .colab-df-convert {\n",
              "      background-color: #3B4455;\n",
              "      fill: #D2E3FC;\n",
              "    }\n",
              "\n",
              "    [theme=dark] .colab-df-convert:hover {\n",
              "      background-color: #434B5C;\n",
              "      box-shadow: 0px 1px 3px 1px rgba(0, 0, 0, 0.15);\n",
              "      filter: drop-shadow(0px 1px 2px rgba(0, 0, 0, 0.3));\n",
              "      fill: #FFFFFF;\n",
              "    }\n",
              "  </style>\n",
              "\n",
              "    <script>\n",
              "      const buttonEl =\n",
              "        document.querySelector('#df-fee48a70-649d-4afd-ad96-0d52644c95e7 button.colab-df-convert');\n",
              "      buttonEl.style.display =\n",
              "        google.colab.kernel.accessAllowed ? 'block' : 'none';\n",
              "\n",
              "      async function convertToInteractive(key) {\n",
              "        const element = document.querySelector('#df-fee48a70-649d-4afd-ad96-0d52644c95e7');\n",
              "        const dataTable =\n",
              "          await google.colab.kernel.invokeFunction('convertToInteractive',\n",
              "                                                    [key], {});\n",
              "        if (!dataTable) return;\n",
              "\n",
              "        const docLinkHtml = 'Like what you see? Visit the ' +\n",
              "          '<a target=\"_blank\" href=https://colab.research.google.com/notebooks/data_table.ipynb>data table notebook</a>'\n",
              "          + ' to learn more about interactive tables.';\n",
              "        element.innerHTML = '';\n",
              "        dataTable['output_type'] = 'display_data';\n",
              "        await google.colab.output.renderOutput(dataTable, element);\n",
              "        const docLink = document.createElement('div');\n",
              "        docLink.innerHTML = docLinkHtml;\n",
              "        element.appendChild(docLink);\n",
              "      }\n",
              "    </script>\n",
              "  </div>\n",
              "\n",
              "\n",
              "<div id=\"df-97378ac4-1399-4ae3-a780-d38f133ec04f\">\n",
              "  <button class=\"colab-df-quickchart\" onclick=\"quickchart('df-97378ac4-1399-4ae3-a780-d38f133ec04f')\"\n",
              "            title=\"Suggest charts\"\n",
              "            style=\"display:none;\">\n",
              "\n",
              "<svg xmlns=\"http://www.w3.org/2000/svg\" height=\"24px\"viewBox=\"0 0 24 24\"\n",
              "     width=\"24px\">\n",
              "    <g>\n",
              "        <path d=\"M19 3H5c-1.1 0-2 .9-2 2v14c0 1.1.9 2 2 2h14c1.1 0 2-.9 2-2V5c0-1.1-.9-2-2-2zM9 17H7v-7h2v7zm4 0h-2V7h2v10zm4 0h-2v-4h2v4z\"/>\n",
              "    </g>\n",
              "</svg>\n",
              "  </button>\n",
              "\n",
              "<style>\n",
              "  .colab-df-quickchart {\n",
              "      --bg-color: #E8F0FE;\n",
              "      --fill-color: #1967D2;\n",
              "      --hover-bg-color: #E2EBFA;\n",
              "      --hover-fill-color: #174EA6;\n",
              "      --disabled-fill-color: #AAA;\n",
              "      --disabled-bg-color: #DDD;\n",
              "  }\n",
              "\n",
              "  [theme=dark] .colab-df-quickchart {\n",
              "      --bg-color: #3B4455;\n",
              "      --fill-color: #D2E3FC;\n",
              "      --hover-bg-color: #434B5C;\n",
              "      --hover-fill-color: #FFFFFF;\n",
              "      --disabled-bg-color: #3B4455;\n",
              "      --disabled-fill-color: #666;\n",
              "  }\n",
              "\n",
              "  .colab-df-quickchart {\n",
              "    background-color: var(--bg-color);\n",
              "    border: none;\n",
              "    border-radius: 50%;\n",
              "    cursor: pointer;\n",
              "    display: none;\n",
              "    fill: var(--fill-color);\n",
              "    height: 32px;\n",
              "    padding: 0;\n",
              "    width: 32px;\n",
              "  }\n",
              "\n",
              "  .colab-df-quickchart:hover {\n",
              "    background-color: var(--hover-bg-color);\n",
              "    box-shadow: 0 1px 2px rgba(60, 64, 67, 0.3), 0 1px 3px 1px rgba(60, 64, 67, 0.15);\n",
              "    fill: var(--button-hover-fill-color);\n",
              "  }\n",
              "\n",
              "  .colab-df-quickchart-complete:disabled,\n",
              "  .colab-df-quickchart-complete:disabled:hover {\n",
              "    background-color: var(--disabled-bg-color);\n",
              "    fill: var(--disabled-fill-color);\n",
              "    box-shadow: none;\n",
              "  }\n",
              "\n",
              "  .colab-df-spinner {\n",
              "    border: 2px solid var(--fill-color);\n",
              "    border-color: transparent;\n",
              "    border-bottom-color: var(--fill-color);\n",
              "    animation:\n",
              "      spin 1s steps(1) infinite;\n",
              "  }\n",
              "\n",
              "  @keyframes spin {\n",
              "    0% {\n",
              "      border-color: transparent;\n",
              "      border-bottom-color: var(--fill-color);\n",
              "      border-left-color: var(--fill-color);\n",
              "    }\n",
              "    20% {\n",
              "      border-color: transparent;\n",
              "      border-left-color: var(--fill-color);\n",
              "      border-top-color: var(--fill-color);\n",
              "    }\n",
              "    30% {\n",
              "      border-color: transparent;\n",
              "      border-left-color: var(--fill-color);\n",
              "      border-top-color: var(--fill-color);\n",
              "      border-right-color: var(--fill-color);\n",
              "    }\n",
              "    40% {\n",
              "      border-color: transparent;\n",
              "      border-right-color: var(--fill-color);\n",
              "      border-top-color: var(--fill-color);\n",
              "    }\n",
              "    60% {\n",
              "      border-color: transparent;\n",
              "      border-right-color: var(--fill-color);\n",
              "    }\n",
              "    80% {\n",
              "      border-color: transparent;\n",
              "      border-right-color: var(--fill-color);\n",
              "      border-bottom-color: var(--fill-color);\n",
              "    }\n",
              "    90% {\n",
              "      border-color: transparent;\n",
              "      border-bottom-color: var(--fill-color);\n",
              "    }\n",
              "  }\n",
              "</style>\n",
              "\n",
              "  <script>\n",
              "    async function quickchart(key) {\n",
              "      const quickchartButtonEl =\n",
              "        document.querySelector('#' + key + ' button');\n",
              "      quickchartButtonEl.disabled = true;  // To prevent multiple clicks.\n",
              "      quickchartButtonEl.classList.add('colab-df-spinner');\n",
              "      try {\n",
              "        const charts = await google.colab.kernel.invokeFunction(\n",
              "            'suggestCharts', [key], {});\n",
              "      } catch (error) {\n",
              "        console.error('Error during call to suggestCharts:', error);\n",
              "      }\n",
              "      quickchartButtonEl.classList.remove('colab-df-spinner');\n",
              "      quickchartButtonEl.classList.add('colab-df-quickchart-complete');\n",
              "    }\n",
              "    (() => {\n",
              "      let quickchartButtonEl =\n",
              "        document.querySelector('#df-97378ac4-1399-4ae3-a780-d38f133ec04f button');\n",
              "      quickchartButtonEl.style.display =\n",
              "        google.colab.kernel.accessAllowed ? 'block' : 'none';\n",
              "    })();\n",
              "  </script>\n",
              "</div>\n",
              "\n",
              "    </div>\n",
              "  </div>\n"
            ]
          },
          "metadata": {},
          "execution_count": 132
        }
      ]
    },
    {
      "cell_type": "code",
      "source": [
        "past_20_days = data_testing.tail(20)"
      ],
      "metadata": {
        "id": "oix-XQ7G0w80"
      },
      "execution_count": 133,
      "outputs": []
    },
    {
      "cell_type": "code",
      "source": [
        "df = past_20_days.append(data_testing, ignore_index = True)\n",
        "df = df.drop(['Date'], axis = 1)\n",
        "df.head()"
      ],
      "metadata": {
        "colab": {
          "base_uri": "https://localhost:8080/",
          "height": 241
        },
        "id": "VFu9sJvr0y-d",
        "outputId": "c812d0b8-ec28-4046-f882-aac7ca3b60bb"
      },
      "execution_count": 134,
      "outputs": [
        {
          "output_type": "stream",
          "name": "stderr",
          "text": [
            "<ipython-input-134-08f6f3976b94>:1: FutureWarning: The frame.append method is deprecated and will be removed from pandas in a future version. Use pandas.concat instead.\n",
            "  df = past_20_days.append(data_testing, ignore_index = True)\n"
          ]
        },
        {
          "output_type": "execute_result",
          "data": {
            "text/plain": [
              "        Open       High        Low      Close  Adj Close\n",
              "0  59.646667  60.577332  58.066666  58.770668  58.770668\n",
              "1  59.208000  59.862667  58.673332  58.863998  58.863998\n",
              "2  59.325333  59.716667  57.229332  57.625332  57.625332\n",
              "3  58.522667  59.101334  57.746666  59.043999  59.043999\n",
              "4  61.266666  63.333332  60.610668  63.327999  63.327999"
            ],
            "text/html": [
              "\n",
              "  <div id=\"df-85527cc7-4966-4be9-94f9-9ff3e2d1b3de\" class=\"colab-df-container\">\n",
              "    <div>\n",
              "<style scoped>\n",
              "    .dataframe tbody tr th:only-of-type {\n",
              "        vertical-align: middle;\n",
              "    }\n",
              "\n",
              "    .dataframe tbody tr th {\n",
              "        vertical-align: top;\n",
              "    }\n",
              "\n",
              "    .dataframe thead th {\n",
              "        text-align: right;\n",
              "    }\n",
              "</style>\n",
              "<table border=\"1\" class=\"dataframe\">\n",
              "  <thead>\n",
              "    <tr style=\"text-align: right;\">\n",
              "      <th></th>\n",
              "      <th>Open</th>\n",
              "      <th>High</th>\n",
              "      <th>Low</th>\n",
              "      <th>Close</th>\n",
              "      <th>Adj Close</th>\n",
              "    </tr>\n",
              "  </thead>\n",
              "  <tbody>\n",
              "    <tr>\n",
              "      <th>0</th>\n",
              "      <td>59.646667</td>\n",
              "      <td>60.577332</td>\n",
              "      <td>58.066666</td>\n",
              "      <td>58.770668</td>\n",
              "      <td>58.770668</td>\n",
              "    </tr>\n",
              "    <tr>\n",
              "      <th>1</th>\n",
              "      <td>59.208000</td>\n",
              "      <td>59.862667</td>\n",
              "      <td>58.673332</td>\n",
              "      <td>58.863998</td>\n",
              "      <td>58.863998</td>\n",
              "    </tr>\n",
              "    <tr>\n",
              "      <th>2</th>\n",
              "      <td>59.325333</td>\n",
              "      <td>59.716667</td>\n",
              "      <td>57.229332</td>\n",
              "      <td>57.625332</td>\n",
              "      <td>57.625332</td>\n",
              "    </tr>\n",
              "    <tr>\n",
              "      <th>3</th>\n",
              "      <td>58.522667</td>\n",
              "      <td>59.101334</td>\n",
              "      <td>57.746666</td>\n",
              "      <td>59.043999</td>\n",
              "      <td>59.043999</td>\n",
              "    </tr>\n",
              "    <tr>\n",
              "      <th>4</th>\n",
              "      <td>61.266666</td>\n",
              "      <td>63.333332</td>\n",
              "      <td>60.610668</td>\n",
              "      <td>63.327999</td>\n",
              "      <td>63.327999</td>\n",
              "    </tr>\n",
              "  </tbody>\n",
              "</table>\n",
              "</div>\n",
              "    <div class=\"colab-df-buttons\">\n",
              "\n",
              "  <div class=\"colab-df-container\">\n",
              "    <button class=\"colab-df-convert\" onclick=\"convertToInteractive('df-85527cc7-4966-4be9-94f9-9ff3e2d1b3de')\"\n",
              "            title=\"Convert this dataframe to an interactive table.\"\n",
              "            style=\"display:none;\">\n",
              "\n",
              "  <svg xmlns=\"http://www.w3.org/2000/svg\" height=\"24px\" viewBox=\"0 -960 960 960\">\n",
              "    <path d=\"M120-120v-720h720v720H120Zm60-500h600v-160H180v160Zm220 220h160v-160H400v160Zm0 220h160v-160H400v160ZM180-400h160v-160H180v160Zm440 0h160v-160H620v160ZM180-180h160v-160H180v160Zm440 0h160v-160H620v160Z\"/>\n",
              "  </svg>\n",
              "    </button>\n",
              "\n",
              "  <style>\n",
              "    .colab-df-container {\n",
              "      display:flex;\n",
              "      gap: 12px;\n",
              "    }\n",
              "\n",
              "    .colab-df-convert {\n",
              "      background-color: #E8F0FE;\n",
              "      border: none;\n",
              "      border-radius: 50%;\n",
              "      cursor: pointer;\n",
              "      display: none;\n",
              "      fill: #1967D2;\n",
              "      height: 32px;\n",
              "      padding: 0 0 0 0;\n",
              "      width: 32px;\n",
              "    }\n",
              "\n",
              "    .colab-df-convert:hover {\n",
              "      background-color: #E2EBFA;\n",
              "      box-shadow: 0px 1px 2px rgba(60, 64, 67, 0.3), 0px 1px 3px 1px rgba(60, 64, 67, 0.15);\n",
              "      fill: #174EA6;\n",
              "    }\n",
              "\n",
              "    .colab-df-buttons div {\n",
              "      margin-bottom: 4px;\n",
              "    }\n",
              "\n",
              "    [theme=dark] .colab-df-convert {\n",
              "      background-color: #3B4455;\n",
              "      fill: #D2E3FC;\n",
              "    }\n",
              "\n",
              "    [theme=dark] .colab-df-convert:hover {\n",
              "      background-color: #434B5C;\n",
              "      box-shadow: 0px 1px 3px 1px rgba(0, 0, 0, 0.15);\n",
              "      filter: drop-shadow(0px 1px 2px rgba(0, 0, 0, 0.3));\n",
              "      fill: #FFFFFF;\n",
              "    }\n",
              "  </style>\n",
              "\n",
              "    <script>\n",
              "      const buttonEl =\n",
              "        document.querySelector('#df-85527cc7-4966-4be9-94f9-9ff3e2d1b3de button.colab-df-convert');\n",
              "      buttonEl.style.display =\n",
              "        google.colab.kernel.accessAllowed ? 'block' : 'none';\n",
              "\n",
              "      async function convertToInteractive(key) {\n",
              "        const element = document.querySelector('#df-85527cc7-4966-4be9-94f9-9ff3e2d1b3de');\n",
              "        const dataTable =\n",
              "          await google.colab.kernel.invokeFunction('convertToInteractive',\n",
              "                                                    [key], {});\n",
              "        if (!dataTable) return;\n",
              "\n",
              "        const docLinkHtml = 'Like what you see? Visit the ' +\n",
              "          '<a target=\"_blank\" href=https://colab.research.google.com/notebooks/data_table.ipynb>data table notebook</a>'\n",
              "          + ' to learn more about interactive tables.';\n",
              "        element.innerHTML = '';\n",
              "        dataTable['output_type'] = 'display_data';\n",
              "        await google.colab.output.renderOutput(dataTable, element);\n",
              "        const docLink = document.createElement('div');\n",
              "        docLink.innerHTML = docLinkHtml;\n",
              "        element.appendChild(docLink);\n",
              "      }\n",
              "    </script>\n",
              "  </div>\n",
              "\n",
              "\n",
              "<div id=\"df-7c5d3e48-49f1-4063-a41d-bbc5131b9a50\">\n",
              "  <button class=\"colab-df-quickchart\" onclick=\"quickchart('df-7c5d3e48-49f1-4063-a41d-bbc5131b9a50')\"\n",
              "            title=\"Suggest charts\"\n",
              "            style=\"display:none;\">\n",
              "\n",
              "<svg xmlns=\"http://www.w3.org/2000/svg\" height=\"24px\"viewBox=\"0 0 24 24\"\n",
              "     width=\"24px\">\n",
              "    <g>\n",
              "        <path d=\"M19 3H5c-1.1 0-2 .9-2 2v14c0 1.1.9 2 2 2h14c1.1 0 2-.9 2-2V5c0-1.1-.9-2-2-2zM9 17H7v-7h2v7zm4 0h-2V7h2v10zm4 0h-2v-4h2v4z\"/>\n",
              "    </g>\n",
              "</svg>\n",
              "  </button>\n",
              "\n",
              "<style>\n",
              "  .colab-df-quickchart {\n",
              "      --bg-color: #E8F0FE;\n",
              "      --fill-color: #1967D2;\n",
              "      --hover-bg-color: #E2EBFA;\n",
              "      --hover-fill-color: #174EA6;\n",
              "      --disabled-fill-color: #AAA;\n",
              "      --disabled-bg-color: #DDD;\n",
              "  }\n",
              "\n",
              "  [theme=dark] .colab-df-quickchart {\n",
              "      --bg-color: #3B4455;\n",
              "      --fill-color: #D2E3FC;\n",
              "      --hover-bg-color: #434B5C;\n",
              "      --hover-fill-color: #FFFFFF;\n",
              "      --disabled-bg-color: #3B4455;\n",
              "      --disabled-fill-color: #666;\n",
              "  }\n",
              "\n",
              "  .colab-df-quickchart {\n",
              "    background-color: var(--bg-color);\n",
              "    border: none;\n",
              "    border-radius: 50%;\n",
              "    cursor: pointer;\n",
              "    display: none;\n",
              "    fill: var(--fill-color);\n",
              "    height: 32px;\n",
              "    padding: 0;\n",
              "    width: 32px;\n",
              "  }\n",
              "\n",
              "  .colab-df-quickchart:hover {\n",
              "    background-color: var(--hover-bg-color);\n",
              "    box-shadow: 0 1px 2px rgba(60, 64, 67, 0.3), 0 1px 3px 1px rgba(60, 64, 67, 0.15);\n",
              "    fill: var(--button-hover-fill-color);\n",
              "  }\n",
              "\n",
              "  .colab-df-quickchart-complete:disabled,\n",
              "  .colab-df-quickchart-complete:disabled:hover {\n",
              "    background-color: var(--disabled-bg-color);\n",
              "    fill: var(--disabled-fill-color);\n",
              "    box-shadow: none;\n",
              "  }\n",
              "\n",
              "  .colab-df-spinner {\n",
              "    border: 2px solid var(--fill-color);\n",
              "    border-color: transparent;\n",
              "    border-bottom-color: var(--fill-color);\n",
              "    animation:\n",
              "      spin 1s steps(1) infinite;\n",
              "  }\n",
              "\n",
              "  @keyframes spin {\n",
              "    0% {\n",
              "      border-color: transparent;\n",
              "      border-bottom-color: var(--fill-color);\n",
              "      border-left-color: var(--fill-color);\n",
              "    }\n",
              "    20% {\n",
              "      border-color: transparent;\n",
              "      border-left-color: var(--fill-color);\n",
              "      border-top-color: var(--fill-color);\n",
              "    }\n",
              "    30% {\n",
              "      border-color: transparent;\n",
              "      border-left-color: var(--fill-color);\n",
              "      border-top-color: var(--fill-color);\n",
              "      border-right-color: var(--fill-color);\n",
              "    }\n",
              "    40% {\n",
              "      border-color: transparent;\n",
              "      border-right-color: var(--fill-color);\n",
              "      border-top-color: var(--fill-color);\n",
              "    }\n",
              "    60% {\n",
              "      border-color: transparent;\n",
              "      border-right-color: var(--fill-color);\n",
              "    }\n",
              "    80% {\n",
              "      border-color: transparent;\n",
              "      border-right-color: var(--fill-color);\n",
              "      border-bottom-color: var(--fill-color);\n",
              "    }\n",
              "    90% {\n",
              "      border-color: transparent;\n",
              "      border-bottom-color: var(--fill-color);\n",
              "    }\n",
              "  }\n",
              "</style>\n",
              "\n",
              "  <script>\n",
              "    async function quickchart(key) {\n",
              "      const quickchartButtonEl =\n",
              "        document.querySelector('#' + key + ' button');\n",
              "      quickchartButtonEl.disabled = true;  // To prevent multiple clicks.\n",
              "      quickchartButtonEl.classList.add('colab-df-spinner');\n",
              "      try {\n",
              "        const charts = await google.colab.kernel.invokeFunction(\n",
              "            'suggestCharts', [key], {});\n",
              "      } catch (error) {\n",
              "        console.error('Error during call to suggestCharts:', error);\n",
              "      }\n",
              "      quickchartButtonEl.classList.remove('colab-df-spinner');\n",
              "      quickchartButtonEl.classList.add('colab-df-quickchart-complete');\n",
              "    }\n",
              "    (() => {\n",
              "      let quickchartButtonEl =\n",
              "        document.querySelector('#df-7c5d3e48-49f1-4063-a41d-bbc5131b9a50 button');\n",
              "      quickchartButtonEl.style.display =\n",
              "        google.colab.kernel.accessAllowed ? 'block' : 'none';\n",
              "    })();\n",
              "  </script>\n",
              "</div>\n",
              "\n",
              "    </div>\n",
              "  </div>\n"
            ]
          },
          "metadata": {},
          "execution_count": 134
        }
      ]
    },
    {
      "cell_type": "code",
      "source": [
        "inputs = scaler.transform(df)\n",
        "inputs"
      ],
      "metadata": {
        "colab": {
          "base_uri": "https://localhost:8080/"
        },
        "id": "XKzOg7xH01pX",
        "outputId": "9d0d1fa0-dc04-40a2-da50-7142c84a887b"
      },
      "execution_count": 135,
      "outputs": [
        {
          "output_type": "execute_result",
          "data": {
            "text/plain": [
              "array([[0.96811833, 0.93640834, 0.96592583, 0.96003884, 0.96003884],\n",
              "       [0.96083425, 0.92510881, 0.97625476, 0.9615989 , 0.9615989 ],\n",
              "       [0.96278257, 0.92280042, 0.95166962, 0.94089396, 0.94089396],\n",
              "       ...,\n",
              "       [1.03406249, 1.01790853, 1.04100924, 1.07640111, 1.07640111],\n",
              "       [1.07890715, 1.02741619, 1.06112233, 1.04716006, 1.04716006],\n",
              "       [1.05037977, 1.04322713, 1.0539148 , 1.10244387, 1.10244387]])"
            ]
          },
          "metadata": {},
          "execution_count": 135
        }
      ]
    },
    {
      "cell_type": "code",
      "source": [
        "x_test = []\n",
        "y_test = []\n",
        "\n",
        "for i in range(20, inputs.shape[0]):\n",
        "    x_test.append(inputs[i-20:i])\n",
        "    y_test.append(inputs[i,0])\n",
        "\n",
        "x_test = np.array(x_test)\n",
        "y_test = np.array(y_test)\n",
        "x_test.shape, y_test.shape"
      ],
      "metadata": {
        "colab": {
          "base_uri": "https://localhost:8080/"
        },
        "id": "BW9x3C9l04KV",
        "outputId": "13c23bbc-bfca-4357-d7b2-24f758133fba"
      },
      "execution_count": 136,
      "outputs": [
        {
          "output_type": "execute_result",
          "data": {
            "text/plain": [
              "((1487, 20, 5), (1487,))"
            ]
          },
          "metadata": {},
          "execution_count": 136
        }
      ]
    },
    {
      "cell_type": "code",
      "source": [
        "x_test.shape"
      ],
      "metadata": {
        "colab": {
          "base_uri": "https://localhost:8080/"
        },
        "id": "Zd_P2VYY067s",
        "outputId": "38417447-35c3-4024-87b6-ceed27b917c6"
      },
      "execution_count": 137,
      "outputs": [
        {
          "output_type": "execute_result",
          "data": {
            "text/plain": [
              "(1487, 20, 5)"
            ]
          },
          "metadata": {},
          "execution_count": 137
        }
      ]
    },
    {
      "cell_type": "code",
      "source": [
        "y_pred = regressorGRU.predict(x_test)"
      ],
      "metadata": {
        "id": "25arIPFe0861",
        "colab": {
          "base_uri": "https://localhost:8080/"
        },
        "outputId": "05de9878-1394-4902-bbb2-1f3bd7858c09"
      },
      "execution_count": 138,
      "outputs": [
        {
          "output_type": "stream",
          "name": "stdout",
          "text": [
            "47/47 [==============================] - 1s 15ms/step\n"
          ]
        }
      ]
    },
    {
      "cell_type": "code",
      "source": [
        "scaler.scale_"
      ],
      "metadata": {
        "colab": {
          "base_uri": "https://localhost:8080/"
        },
        "id": "4Ae570VM0-7E",
        "outputId": "0b3e1e96-355c-44f9-afba-6606c3974e7b"
      },
      "execution_count": 139,
      "outputs": [
        {
          "output_type": "execute_result",
          "data": {
            "text/plain": [
              "array([0.01660504, 0.01581094, 0.01702572, 0.01671551, 0.01671551])"
            ]
          },
          "metadata": {},
          "execution_count": 139
        }
      ]
    },
    {
      "cell_type": "code",
      "source": [
        "scale = 1 / 0.01660504\n",
        "scale"
      ],
      "metadata": {
        "colab": {
          "base_uri": "https://localhost:8080/"
        },
        "id": "_XnJ6dmz09A2",
        "outputId": "8fcc8b6f-ae5f-4ef7-e75b-a61f80c7e382"
      },
      "execution_count": 140,
      "outputs": [
        {
          "output_type": "execute_result",
          "data": {
            "text/plain": [
              "60.22267937927279"
            ]
          },
          "metadata": {},
          "execution_count": 140
        }
      ]
    },
    {
      "cell_type": "code",
      "source": [
        "y_pred = y_pred * scale\n",
        "y_test = y_test * scale"
      ],
      "metadata": {
        "id": "ygpN1m261DI1"
      },
      "execution_count": 141,
      "outputs": []
    },
    {
      "cell_type": "code",
      "source": [
        "y_pred.shape"
      ],
      "metadata": {
        "colab": {
          "base_uri": "https://localhost:8080/"
        },
        "id": "_rESwhpB1FjN",
        "outputId": "8e0fc8ab-0c35-497c-a086-11d5c8c9e534"
      },
      "execution_count": 142,
      "outputs": [
        {
          "output_type": "execute_result",
          "data": {
            "text/plain": [
              "(1487, 1)"
            ]
          },
          "metadata": {},
          "execution_count": 142
        }
      ]
    },
    {
      "cell_type": "code",
      "source": [
        "y_test.shape"
      ],
      "metadata": {
        "colab": {
          "base_uri": "https://localhost:8080/"
        },
        "id": "N1OtHpYw1Jpm",
        "outputId": "b88a2fb5-8a4a-488f-e710-06ed61bd0c06"
      },
      "execution_count": 143,
      "outputs": [
        {
          "output_type": "execute_result",
          "data": {
            "text/plain": [
              "(1487,)"
            ]
          },
          "metadata": {},
          "execution_count": 143
        }
      ]
    },
    {
      "cell_type": "code",
      "source": [
        "y_pred[1417:]"
      ],
      "metadata": {
        "colab": {
          "base_uri": "https://localhost:8080/"
        },
        "id": "dXtrd6bv1MEY",
        "outputId": "fce60cbe-319a-4f39-f6fd-2720589d3346"
      },
      "execution_count": 144,
      "outputs": [
        {
          "output_type": "execute_result",
          "data": {
            "text/plain": [
              "array([[24.04877 ],\n",
              "       [24.343895],\n",
              "       [24.42124 ],\n",
              "       [26.020647],\n",
              "       [27.971037],\n",
              "       [28.823362],\n",
              "       [28.79253 ],\n",
              "       [28.477667],\n",
              "       [28.803627],\n",
              "       [28.199747],\n",
              "       [27.162825],\n",
              "       [27.056395],\n",
              "       [27.832447],\n",
              "       [29.13211 ],\n",
              "       [29.836548],\n",
              "       [30.708775],\n",
              "       [32.958748],\n",
              "       [36.061993],\n",
              "       [37.83302 ],\n",
              "       [38.912678],\n",
              "       [39.824   ],\n",
              "       [39.98197 ],\n",
              "       [38.91299 ],\n",
              "       [39.18649 ],\n",
              "       [38.999237],\n",
              "       [39.160435],\n",
              "       [41.10615 ],\n",
              "       [41.451664],\n",
              "       [42.199562],\n",
              "       [42.45141 ],\n",
              "       [40.491543],\n",
              "       [40.73647 ],\n",
              "       [41.44085 ],\n",
              "       [41.81947 ],\n",
              "       [42.020435],\n",
              "       [43.01896 ],\n",
              "       [43.26568 ],\n",
              "       [43.530594],\n",
              "       [43.051926],\n",
              "       [43.00345 ],\n",
              "       [43.03789 ],\n",
              "       [43.51229 ],\n",
              "       [43.52513 ],\n",
              "       [43.71245 ],\n",
              "       [43.975864],\n",
              "       [43.966335],\n",
              "       [44.01827 ],\n",
              "       [43.903534],\n",
              "       [43.703007],\n",
              "       [44.215717],\n",
              "       [46.13909 ],\n",
              "       [46.536205],\n",
              "       [46.7059  ],\n",
              "       [46.394287],\n",
              "       [46.708267],\n",
              "       [48.59263 ],\n",
              "       [49.02242 ],\n",
              "       [51.524765],\n",
              "       [51.177948],\n",
              "       [50.10363 ],\n",
              "       [51.049454],\n",
              "       [51.368942],\n",
              "       [51.67163 ],\n",
              "       [52.16466 ],\n",
              "       [52.20595 ],\n",
              "       [52.11054 ],\n",
              "       [52.314663],\n",
              "       [51.405865],\n",
              "       [51.51327 ],\n",
              "       [51.138466]], dtype=float32)"
            ]
          },
          "metadata": {},
          "execution_count": 144
        }
      ]
    },
    {
      "cell_type": "code",
      "source": [
        "y_test[1417:]"
      ],
      "metadata": {
        "colab": {
          "base_uri": "https://localhost:8080/"
        },
        "id": "1oaIx9rC1Ovu",
        "outputId": "6ce9559e-9238-497e-962f-860aea7eb5c7"
      },
      "execution_count": 145,
      "outputs": [
        {
          "output_type": "execute_result",
          "data": {
            "text/plain": [
              "array([27.86933919, 27.56267412, 30.47600677, 35.00600578, 35.14867581,\n",
              "       32.32267518, 32.67334126, 32.07267513, 32.25600517, 30.72467483,\n",
              "       32.62267425, 32.73600927, 34.98933977, 35.60267491, 36.12867603,\n",
              "       38.00001044, 45.25401005, 48.12267769, 46.45201132, 50.14134314,\n",
              "       47.50267855, 47.33067752, 45.58800913, 47.16267848, 46.04334323,\n",
              "       47.83001063, 51.69867849, 51.3340124 , 55.66868137, 48.98934288,\n",
              "       45.38934408, 51.3086794 , 50.4226772 , 50.47001021, 51.57401046,\n",
              "       51.35667941, 53.78934295, 53.37801186, 50.65601125, 51.34601041,\n",
              "       53.84134496, 53.00067777, 53.35601285, 53.05601379, 53.46734488,\n",
              "       54.28934306, 53.38001086, 52.89001275, 52.57267968, 55.85601341,\n",
              "       58.30267995, 57.86401286, 57.98134588, 57.1786797 , 59.92267931,\n",
              "       61.32334562, 64.78135039, 64.66935037, 63.98935022, 59.84201429,\n",
              "       66.11267969, 64.50335033, 65.52268356, 66.1746837 , 65.31934451,\n",
              "       65.2480175 , 64.93001643, 62.27401384, 64.97467943, 63.25668405])"
            ]
          },
          "metadata": {},
          "execution_count": 145
        }
      ]
    },
    {
      "cell_type": "code",
      "source": [
        "plt.figure(figsize = (14,5))\n",
        "plt.plot(y_test[1417:], color = 'red', label = 'Real CELH Price')\n",
        "plt.plot(y_pred[1417:], color = 'green', label = 'Predicted CELH price')\n",
        "plt.title('CELH Price Prediction')\n",
        "plt.xlabel('Time')\n",
        "plt.ylabel('CELH Price')\n",
        "plt.legend()\n",
        "plt.show()"
      ],
      "metadata": {
        "colab": {
          "base_uri": "https://localhost:8080/",
          "height": 487
        },
        "id": "dF1LW4S51Q3F",
        "outputId": "01bb4617-2a0b-49e0-cf5d-eb3417e164d2"
      },
      "execution_count": 146,
      "outputs": [
        {
          "output_type": "display_data",
          "data": {
            "text/plain": [
              "<Figure size 1400x500 with 1 Axes>"
            ],
            "image/png": "[encoded data removed]"
          },
          "metadata": {}
        }
      ]
    },
    {
      "cell_type": "code",
      "source": [
        "for i in y_pred[1522:]:\n",
        "  if y_pred[1522:] < 1.2 * y_test[1522:] & y_pred[1522:] > 0.75 * y_test[1522:]:\n",
        "    print('1')\n",
        "  else:\n",
        "    print('0')\n"
      ],
      "metadata": {
        "colab": {
          "base_uri": "https://localhost:8080/",
          "height": 252
        },
        "id": "O-gXRBgCD3DA",
        "outputId": "b07380c1-20cf-44f2-b496-ff2cb90d8a94"
      },
      "execution_count": null,
      "outputs": [
        {
          "output_type": "error",
          "ename": "TypeError",
          "evalue": "ignored",
          "traceback": [
            "\u001b[0;31m---------------------------------------------------------------------------\u001b[0m",
            "\u001b[0;31mTypeError\u001b[0m                                 Traceback (most recent call last)",
            "\u001b[0;32m<ipython-input-35-3bb343dd0df6>\u001b[0m in \u001b[0;36m<module>\u001b[0;34m\u001b[0m\n\u001b[1;32m      1\u001b[0m \u001b[0;32mfor\u001b[0m \u001b[0mi\u001b[0m \u001b[0;32min\u001b[0m \u001b[0my_pred\u001b[0m\u001b[0;34m[\u001b[0m\u001b[0;36m1522\u001b[0m\u001b[0;34m:\u001b[0m\u001b[0;34m]\u001b[0m\u001b[0;34m:\u001b[0m\u001b[0;34m\u001b[0m\u001b[0;34m\u001b[0m\u001b[0m\n\u001b[0;32m----> 2\u001b[0;31m   \u001b[0;32mif\u001b[0m \u001b[0my_pred\u001b[0m\u001b[0;34m[\u001b[0m\u001b[0;36m1522\u001b[0m\u001b[0;34m:\u001b[0m\u001b[0;34m]\u001b[0m \u001b[0;34m<\u001b[0m \u001b[0;36m1.2\u001b[0m \u001b[0;34m*\u001b[0m \u001b[0my_test\u001b[0m\u001b[0;34m[\u001b[0m\u001b[0;36m1522\u001b[0m\u001b[0;34m:\u001b[0m\u001b[0;34m]\u001b[0m \u001b[0;34m&\u001b[0m \u001b[0my_pred\u001b[0m\u001b[0;34m[\u001b[0m\u001b[0;36m1522\u001b[0m\u001b[0;34m:\u001b[0m\u001b[0;34m]\u001b[0m \u001b[0;34m>\u001b[0m \u001b[0;36m0.75\u001b[0m \u001b[0;34m*\u001b[0m \u001b[0my_test\u001b[0m\u001b[0;34m[\u001b[0m\u001b[0;36m1522\u001b[0m\u001b[0;34m:\u001b[0m\u001b[0;34m]\u001b[0m\u001b[0;34m:\u001b[0m\u001b[0;34m\u001b[0m\u001b[0;34m\u001b[0m\u001b[0m\n\u001b[0m\u001b[1;32m      3\u001b[0m     \u001b[0mprint\u001b[0m\u001b[0;34m(\u001b[0m\u001b[0;34m'1'\u001b[0m\u001b[0;34m)\u001b[0m\u001b[0;34m\u001b[0m\u001b[0;34m\u001b[0m\u001b[0m\n\u001b[1;32m      4\u001b[0m   \u001b[0;32melse\u001b[0m\u001b[0;34m:\u001b[0m\u001b[0;34m\u001b[0m\u001b[0;34m\u001b[0m\u001b[0m\n\u001b[1;32m      5\u001b[0m     \u001b[0mprint\u001b[0m\u001b[0;34m(\u001b[0m\u001b[0;34m'0'\u001b[0m\u001b[0;34m)\u001b[0m\u001b[0;34m\u001b[0m\u001b[0;34m\u001b[0m\u001b[0m\n",
            "\u001b[0;31mTypeError\u001b[0m: ufunc 'bitwise_and' not supported for the input types, and the inputs could not be safely coerced to any supported types according to the casting rule ''safe''"
          ]
        }
      ]
    }
  ]
}