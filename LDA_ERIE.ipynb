{
  "cells": [
    {
      "cell_type": "code",
      "execution_count": 75,
      "metadata": {
        "id": "2wQ0HyqL0gdS"
      },
      "outputs": [],
      "source": [
        "#Linear Discriminant Analysis for dimensionality reduction\n",
        "#Dataset preparation\n",
        "import numpy as np\n",
        "import matplotlib.pyplot as plt\n",
        "import pandas as pd\n",
        "from sklearn.preprocessing import MinMaxScaler"
      ]
    },
    {
      "cell_type": "code",
      "execution_count": 76,
      "metadata": {
        "id": "fYdbUkBy12On"
      },
      "outputs": [],
      "source": [
        "import io"
      ]
    },
    {
      "cell_type": "code",
      "execution_count": 77,
      "metadata": {
        "colab": {
          "base_uri": "https://localhost:8080/",
          "height": 73
        },
        "id": "u5AUST1819ZV",
        "outputId": "c48cbf7a-8ee8-4a47-a212-60594efcb72c"
      },
      "outputs": [
        {
          "output_type": "display_data",
          "data": {
            "text/plain": [
              "<IPython.core.display.HTML object>"
            ],
            "text/html": [
              "\n",
              "     <input type=\"file\" id=\"files-71a0609d-bdf4-4060-9af3-9e0e2b7f368a\" name=\"files[]\" multiple disabled\n",
              "        style=\"border:none\" />\n",
              "     <output id=\"result-71a0609d-bdf4-4060-9af3-9e0e2b7f368a\">\n",
              "      Upload widget is only available when the cell has been executed in the\n",
              "      current browser session. Please rerun this cell to enable.\n",
              "      </output>\n",
              "      <script>// Copyright 2017 Google LLC\n",
              "//\n",
              "// Licensed under the Apache License, Version 2.0 (the \"License\");\n",
              "// you may not use this file except in compliance with the License.\n",
              "// You may obtain a copy of the License at\n",
              "//\n",
              "//      http://www.apache.org/licenses/LICENSE-2.0\n",
              "//\n",
              "// Unless required by applicable law or agreed to in writing, software\n",
              "// distributed under the License is distributed on an \"AS IS\" BASIS,\n",
              "// WITHOUT WARRANTIES OR CONDITIONS OF ANY KIND, either express or implied.\n",
              "// See the License for the specific language governing permissions and\n",
              "// limitations under the License.\n",
              "\n",
              "/**\n",
              " * @fileoverview Helpers for google.colab Python module.\n",
              " */\n",
              "(function(scope) {\n",
              "function span(text, styleAttributes = {}) {\n",
              "  const element = document.createElement('span');\n",
              "  element.textContent = text;\n",
              "  for (const key of Object.keys(styleAttributes)) {\n",
              "    element.style[key] = styleAttributes[key];\n",
              "  }\n",
              "  return element;\n",
              "}\n",
              "\n",
              "// Max number of bytes which will be uploaded at a time.\n",
              "const MAX_PAYLOAD_SIZE = 100 * 1024;\n",
              "\n",
              "function _uploadFiles(inputId, outputId) {\n",
              "  const steps = uploadFilesStep(inputId, outputId);\n",
              "  const outputElement = document.getElementById(outputId);\n",
              "  // Cache steps on the outputElement to make it available for the next call\n",
              "  // to uploadFilesContinue from Python.\n",
              "  outputElement.steps = steps;\n",
              "\n",
              "  return _uploadFilesContinue(outputId);\n",
              "}\n",
              "\n",
              "// This is roughly an async generator (not supported in the browser yet),\n",
              "// where there are multiple asynchronous steps and the Python side is going\n",
              "// to poll for completion of each step.\n",
              "// This uses a Promise to block the python side on completion of each step,\n",
              "// then passes the result of the previous step as the input to the next step.\n",
              "function _uploadFilesContinue(outputId) {\n",
              "  const outputElement = document.getElementById(outputId);\n",
              "  const steps = outputElement.steps;\n",
              "\n",
              "  const next = steps.next(outputElement.lastPromiseValue);\n",
              "  return Promise.resolve(next.value.promise).then((value) => {\n",
              "    // Cache the last promise value to make it available to the next\n",
              "    // step of the generator.\n",
              "    outputElement.lastPromiseValue = value;\n",
              "    return next.value.response;\n",
              "  });\n",
              "}\n",
              "\n",
              "/**\n",
              " * Generator function which is called between each async step of the upload\n",
              " * process.\n",
              " * @param {string} inputId Element ID of the input file picker element.\n",
              " * @param {string} outputId Element ID of the output display.\n",
              " * @return {!Iterable<!Object>} Iterable of next steps.\n",
              " */\n",
              "function* uploadFilesStep(inputId, outputId) {\n",
              "  const inputElement = document.getElementById(inputId);\n",
              "  inputElement.disabled = false;\n",
              "\n",
              "  const outputElement = document.getElementById(outputId);\n",
              "  outputElement.innerHTML = '';\n",
              "\n",
              "  const pickedPromise = new Promise((resolve) => {\n",
              "    inputElement.addEventListener('change', (e) => {\n",
              "      resolve(e.target.files);\n",
              "    });\n",
              "  });\n",
              "\n",
              "  const cancel = document.createElement('button');\n",
              "  inputElement.parentElement.appendChild(cancel);\n",
              "  cancel.textContent = 'Cancel upload';\n",
              "  const cancelPromise = new Promise((resolve) => {\n",
              "    cancel.onclick = () => {\n",
              "      resolve(null);\n",
              "    };\n",
              "  });\n",
              "\n",
              "  // Wait for the user to pick the files.\n",
              "  const files = yield {\n",
              "    promise: Promise.race([pickedPromise, cancelPromise]),\n",
              "    response: {\n",
              "      action: 'starting',\n",
              "    }\n",
              "  };\n",
              "\n",
              "  cancel.remove();\n",
              "\n",
              "  // Disable the input element since further picks are not allowed.\n",
              "  inputElement.disabled = true;\n",
              "\n",
              "  if (!files) {\n",
              "    return {\n",
              "      response: {\n",
              "        action: 'complete',\n",
              "      }\n",
              "    };\n",
              "  }\n",
              "\n",
              "  for (const file of files) {\n",
              "    const li = document.createElement('li');\n",
              "    li.append(span(file.name, {fontWeight: 'bold'}));\n",
              "    li.append(span(\n",
              "        `(${file.type || 'n/a'}) - ${file.size} bytes, ` +\n",
              "        `last modified: ${\n",
              "            file.lastModifiedDate ? file.lastModifiedDate.toLocaleDateString() :\n",
              "                                    'n/a'} - `));\n",
              "    const percent = span('0% done');\n",
              "    li.appendChild(percent);\n",
              "\n",
              "    outputElement.appendChild(li);\n",
              "\n",
              "    const fileDataPromise = new Promise((resolve) => {\n",
              "      const reader = new FileReader();\n",
              "      reader.onload = (e) => {\n",
              "        resolve(e.target.result);\n",
              "      };\n",
              "      reader.readAsArrayBuffer(file);\n",
              "    });\n",
              "    // Wait for the data to be ready.\n",
              "    let fileData = yield {\n",
              "      promise: fileDataPromise,\n",
              "      response: {\n",
              "        action: 'continue',\n",
              "      }\n",
              "    };\n",
              "\n",
              "    // Use a chunked sending to avoid message size limits. See b/62115660.\n",
              "    let position = 0;\n",
              "    do {\n",
              "      const length = Math.min(fileData.byteLength - position, MAX_PAYLOAD_SIZE);\n",
              "      const chunk = new Uint8Array(fileData, position, length);\n",
              "      position += length;\n",
              "\n",
              "      const base64 = btoa(String.fromCharCode.apply(null, chunk));\n",
              "      yield {\n",
              "        response: {\n",
              "          action: 'append',\n",
              "          file: file.name,\n",
              "          data: base64,\n",
              "        },\n",
              "      };\n",
              "\n",
              "      let percentDone = fileData.byteLength === 0 ?\n",
              "          100 :\n",
              "          Math.round((position / fileData.byteLength) * 100);\n",
              "      percent.textContent = `${percentDone}% done`;\n",
              "\n",
              "    } while (position < fileData.byteLength);\n",
              "  }\n",
              "\n",
              "  // All done.\n",
              "  yield {\n",
              "    response: {\n",
              "      action: 'complete',\n",
              "    }\n",
              "  };\n",
              "}\n",
              "\n",
              "scope.google = scope.google || {};\n",
              "scope.google.colab = scope.google.colab || {};\n",
              "scope.google.colab._files = {\n",
              "  _uploadFiles,\n",
              "  _uploadFilesContinue,\n",
              "};\n",
              "})(self);\n",
              "</script> "
            ]
          },
          "metadata": {}
        },
        {
          "output_type": "stream",
          "name": "stdout",
          "text": [
            "Saving ERIE.csv to ERIE.csv\n"
          ]
        }
      ],
      "source": [
        "from google.colab import files\n",
        "uploaded = files.upload()"
      ]
    },
    {
      "cell_type": "code",
      "execution_count": 78,
      "metadata": {
        "colab": {
          "base_uri": "https://localhost:8080/"
        },
        "id": "RtMgc1yy2FYj",
        "outputId": "4f8155b8-702e-41ba-fa55-b4266854c19b"
      },
      "outputs": [
        {
          "output_type": "stream",
          "name": "stdout",
          "text": [
            "           Date        Open        High         Low       Close   Adj Close  \\\n",
            "0      1/4/2010   39.150002   39.560001   39.150002   39.349998   25.904909   \n",
            "1      1/5/2010   39.540001   39.540001   38.540001   38.770000   25.523081   \n",
            "2      1/6/2010   38.669998   38.790001   38.410000   38.779999   25.529673   \n",
            "3      1/7/2010   38.540001   38.959999   38.500000   38.930000   25.628424   \n",
            "4      1/8/2010   38.799999   38.980000   38.529999   38.810001   25.549421   \n",
            "...         ...         ...         ...         ...         ...         ...   \n",
            "2635  6/23/2020  184.309998  187.639999  183.720001  186.110001  171.158691   \n",
            "2636  6/24/2020  186.350006  186.350006  182.009995  183.410004  168.675598   \n",
            "2637  6/25/2020  183.289993  188.869995  181.199997  188.169998  173.053253   \n",
            "2638  6/26/2020  187.380005  188.880005  184.899994  186.059998  171.112732   \n",
            "2639  6/29/2020  187.619995  190.580002  187.520004  188.500000  173.356689   \n",
            "\n",
            "         Average  \n",
            "0      36.622982  \n",
            "1      36.382617  \n",
            "2      36.035934  \n",
            "3      36.111685  \n",
            "4      36.133884  \n",
            "...          ...  \n",
            "2635  182.587738  \n",
            "2636  181.359122  \n",
            "2637  182.916647  \n",
            "2638  183.666547  \n",
            "2639  185.515338  \n",
            "\n",
            "[2640 rows x 7 columns]\n"
          ]
        }
      ],
      "source": [
        "df = pd.read_csv(io.BytesIO(uploaded['ERIE.csv']))\n",
        "print(df)"
      ]
    },
    {
      "cell_type": "markdown",
      "metadata": {
        "id": "z5YDXVWKKWqx"
      },
      "source": [
        "# New Section"
      ]
    },
    {
      "cell_type": "code",
      "execution_count": 79,
      "metadata": {
        "colab": {
          "base_uri": "https://localhost:8080/",
          "height": 206
        },
        "id": "ayJAAVEH7kBU",
        "outputId": "fb9c23a8-2b58-4a9c-df81-6483b2038b9c"
      },
      "outputs": [
        {
          "output_type": "execute_result",
          "data": {
            "text/plain": [
              "        Open       High        Low      Close  Adj Close    Average\n",
              "0  39.150002  39.560001  39.150002  39.349998  25.904909  36.622982\n",
              "1  39.540001  39.540001  38.540001  38.770000  25.523081  36.382617\n",
              "2  38.669998  38.790001  38.410000  38.779999  25.529673  36.035934\n",
              "3  38.540001  38.959999  38.500000  38.930000  25.628424  36.111685\n",
              "4  38.799999  38.980000  38.529999  38.810001  25.549421  36.133884"
            ],
            "text/html": [
              "\n",
              "  <div id=\"df-7681dfd6-1808-4a6a-80e2-3fcc4e8e06fb\" class=\"colab-df-container\">\n",
              "    <div>\n",
              "<style scoped>\n",
              "    .dataframe tbody tr th:only-of-type {\n",
              "        vertical-align: middle;\n",
              "    }\n",
              "\n",
              "    .dataframe tbody tr th {\n",
              "        vertical-align: top;\n",
              "    }\n",
              "\n",
              "    .dataframe thead th {\n",
              "        text-align: right;\n",
              "    }\n",
              "</style>\n",
              "<table border=\"1\" class=\"dataframe\">\n",
              "  <thead>\n",
              "    <tr style=\"text-align: right;\">\n",
              "      <th></th>\n",
              "      <th>Open</th>\n",
              "      <th>High</th>\n",
              "      <th>Low</th>\n",
              "      <th>Close</th>\n",
              "      <th>Adj Close</th>\n",
              "      <th>Average</th>\n",
              "    </tr>\n",
              "  </thead>\n",
              "  <tbody>\n",
              "    <tr>\n",
              "      <th>0</th>\n",
              "      <td>39.150002</td>\n",
              "      <td>39.560001</td>\n",
              "      <td>39.150002</td>\n",
              "      <td>39.349998</td>\n",
              "      <td>25.904909</td>\n",
              "      <td>36.622982</td>\n",
              "    </tr>\n",
              "    <tr>\n",
              "      <th>1</th>\n",
              "      <td>39.540001</td>\n",
              "      <td>39.540001</td>\n",
              "      <td>38.540001</td>\n",
              "      <td>38.770000</td>\n",
              "      <td>25.523081</td>\n",
              "      <td>36.382617</td>\n",
              "    </tr>\n",
              "    <tr>\n",
              "      <th>2</th>\n",
              "      <td>38.669998</td>\n",
              "      <td>38.790001</td>\n",
              "      <td>38.410000</td>\n",
              "      <td>38.779999</td>\n",
              "      <td>25.529673</td>\n",
              "      <td>36.035934</td>\n",
              "    </tr>\n",
              "    <tr>\n",
              "      <th>3</th>\n",
              "      <td>38.540001</td>\n",
              "      <td>38.959999</td>\n",
              "      <td>38.500000</td>\n",
              "      <td>38.930000</td>\n",
              "      <td>25.628424</td>\n",
              "      <td>36.111685</td>\n",
              "    </tr>\n",
              "    <tr>\n",
              "      <th>4</th>\n",
              "      <td>38.799999</td>\n",
              "      <td>38.980000</td>\n",
              "      <td>38.529999</td>\n",
              "      <td>38.810001</td>\n",
              "      <td>25.549421</td>\n",
              "      <td>36.133884</td>\n",
              "    </tr>\n",
              "  </tbody>\n",
              "</table>\n",
              "</div>\n",
              "    <div class=\"colab-df-buttons\">\n",
              "\n",
              "  <div class=\"colab-df-container\">\n",
              "    <button class=\"colab-df-convert\" onclick=\"convertToInteractive('df-7681dfd6-1808-4a6a-80e2-3fcc4e8e06fb')\"\n",
              "            title=\"Convert this dataframe to an interactive table.\"\n",
              "            style=\"display:none;\">\n",
              "\n",
              "  <svg xmlns=\"http://www.w3.org/2000/svg\" height=\"24px\" viewBox=\"0 -960 960 960\">\n",
              "    <path d=\"M120-120v-720h720v720H120Zm60-500h600v-160H180v160Zm220 220h160v-160H400v160Zm0 220h160v-160H400v160ZM180-400h160v-160H180v160Zm440 0h160v-160H620v160ZM180-180h160v-160H180v160Zm440 0h160v-160H620v160Z\"/>\n",
              "  </svg>\n",
              "    </button>\n",
              "\n",
              "  <style>\n",
              "    .colab-df-container {\n",
              "      display:flex;\n",
              "      gap: 12px;\n",
              "    }\n",
              "\n",
              "    .colab-df-convert {\n",
              "      background-color: #E8F0FE;\n",
              "      border: none;\n",
              "      border-radius: 50%;\n",
              "      cursor: pointer;\n",
              "      display: none;\n",
              "      fill: #1967D2;\n",
              "      height: 32px;\n",
              "      padding: 0 0 0 0;\n",
              "      width: 32px;\n",
              "    }\n",
              "\n",
              "    .colab-df-convert:hover {\n",
              "      background-color: #E2EBFA;\n",
              "      box-shadow: 0px 1px 2px rgba(60, 64, 67, 0.3), 0px 1px 3px 1px rgba(60, 64, 67, 0.15);\n",
              "      fill: #174EA6;\n",
              "    }\n",
              "\n",
              "    .colab-df-buttons div {\n",
              "      margin-bottom: 4px;\n",
              "    }\n",
              "\n",
              "    [theme=dark] .colab-df-convert {\n",
              "      background-color: #3B4455;\n",
              "      fill: #D2E3FC;\n",
              "    }\n",
              "\n",
              "    [theme=dark] .colab-df-convert:hover {\n",
              "      background-color: #434B5C;\n",
              "      box-shadow: 0px 1px 3px 1px rgba(0, 0, 0, 0.15);\n",
              "      filter: drop-shadow(0px 1px 2px rgba(0, 0, 0, 0.3));\n",
              "      fill: #FFFFFF;\n",
              "    }\n",
              "  </style>\n",
              "\n",
              "    <script>\n",
              "      const buttonEl =\n",
              "        document.querySelector('#df-7681dfd6-1808-4a6a-80e2-3fcc4e8e06fb button.colab-df-convert');\n",
              "      buttonEl.style.display =\n",
              "        google.colab.kernel.accessAllowed ? 'block' : 'none';\n",
              "\n",
              "      async function convertToInteractive(key) {\n",
              "        const element = document.querySelector('#df-7681dfd6-1808-4a6a-80e2-3fcc4e8e06fb');\n",
              "        const dataTable =\n",
              "          await google.colab.kernel.invokeFunction('convertToInteractive',\n",
              "                                                    [key], {});\n",
              "        if (!dataTable) return;\n",
              "\n",
              "        const docLinkHtml = 'Like what you see? Visit the ' +\n",
              "          '<a target=\"_blank\" href=https://colab.research.google.com/notebooks/data_table.ipynb>data table notebook</a>'\n",
              "          + ' to learn more about interactive tables.';\n",
              "        element.innerHTML = '';\n",
              "        dataTable['output_type'] = 'display_data';\n",
              "        await google.colab.output.renderOutput(dataTable, element);\n",
              "        const docLink = document.createElement('div');\n",
              "        docLink.innerHTML = docLinkHtml;\n",
              "        element.appendChild(docLink);\n",
              "      }\n",
              "    </script>\n",
              "  </div>\n",
              "\n",
              "\n",
              "<div id=\"df-459e7dc5-65ac-4810-a2ca-70e8622824d8\">\n",
              "  <button class=\"colab-df-quickchart\" onclick=\"quickchart('df-459e7dc5-65ac-4810-a2ca-70e8622824d8')\"\n",
              "            title=\"Suggest charts\"\n",
              "            style=\"display:none;\">\n",
              "\n",
              "<svg xmlns=\"http://www.w3.org/2000/svg\" height=\"24px\"viewBox=\"0 0 24 24\"\n",
              "     width=\"24px\">\n",
              "    <g>\n",
              "        <path d=\"M19 3H5c-1.1 0-2 .9-2 2v14c0 1.1.9 2 2 2h14c1.1 0 2-.9 2-2V5c0-1.1-.9-2-2-2zM9 17H7v-7h2v7zm4 0h-2V7h2v10zm4 0h-2v-4h2v4z\"/>\n",
              "    </g>\n",
              "</svg>\n",
              "  </button>\n",
              "\n",
              "<style>\n",
              "  .colab-df-quickchart {\n",
              "      --bg-color: #E8F0FE;\n",
              "      --fill-color: #1967D2;\n",
              "      --hover-bg-color: #E2EBFA;\n",
              "      --hover-fill-color: #174EA6;\n",
              "      --disabled-fill-color: #AAA;\n",
              "      --disabled-bg-color: #DDD;\n",
              "  }\n",
              "\n",
              "  [theme=dark] .colab-df-quickchart {\n",
              "      --bg-color: #3B4455;\n",
              "      --fill-color: #D2E3FC;\n",
              "      --hover-bg-color: #434B5C;\n",
              "      --hover-fill-color: #FFFFFF;\n",
              "      --disabled-bg-color: #3B4455;\n",
              "      --disabled-fill-color: #666;\n",
              "  }\n",
              "\n",
              "  .colab-df-quickchart {\n",
              "    background-color: var(--bg-color);\n",
              "    border: none;\n",
              "    border-radius: 50%;\n",
              "    cursor: pointer;\n",
              "    display: none;\n",
              "    fill: var(--fill-color);\n",
              "    height: 32px;\n",
              "    padding: 0;\n",
              "    width: 32px;\n",
              "  }\n",
              "\n",
              "  .colab-df-quickchart:hover {\n",
              "    background-color: var(--hover-bg-color);\n",
              "    box-shadow: 0 1px 2px rgba(60, 64, 67, 0.3), 0 1px 3px 1px rgba(60, 64, 67, 0.15);\n",
              "    fill: var(--button-hover-fill-color);\n",
              "  }\n",
              "\n",
              "  .colab-df-quickchart-complete:disabled,\n",
              "  .colab-df-quickchart-complete:disabled:hover {\n",
              "    background-color: var(--disabled-bg-color);\n",
              "    fill: var(--disabled-fill-color);\n",
              "    box-shadow: none;\n",
              "  }\n",
              "\n",
              "  .colab-df-spinner {\n",
              "    border: 2px solid var(--fill-color);\n",
              "    border-color: transparent;\n",
              "    border-bottom-color: var(--fill-color);\n",
              "    animation:\n",
              "      spin 1s steps(1) infinite;\n",
              "  }\n",
              "\n",
              "  @keyframes spin {\n",
              "    0% {\n",
              "      border-color: transparent;\n",
              "      border-bottom-color: var(--fill-color);\n",
              "      border-left-color: var(--fill-color);\n",
              "    }\n",
              "    20% {\n",
              "      border-color: transparent;\n",
              "      border-left-color: var(--fill-color);\n",
              "      border-top-color: var(--fill-color);\n",
              "    }\n",
              "    30% {\n",
              "      border-color: transparent;\n",
              "      border-left-color: var(--fill-color);\n",
              "      border-top-color: var(--fill-color);\n",
              "      border-right-color: var(--fill-color);\n",
              "    }\n",
              "    40% {\n",
              "      border-color: transparent;\n",
              "      border-right-color: var(--fill-color);\n",
              "      border-top-color: var(--fill-color);\n",
              "    }\n",
              "    60% {\n",
              "      border-color: transparent;\n",
              "      border-right-color: var(--fill-color);\n",
              "    }\n",
              "    80% {\n",
              "      border-color: transparent;\n",
              "      border-right-color: var(--fill-color);\n",
              "      border-bottom-color: var(--fill-color);\n",
              "    }\n",
              "    90% {\n",
              "      border-color: transparent;\n",
              "      border-bottom-color: var(--fill-color);\n",
              "    }\n",
              "  }\n",
              "</style>\n",
              "\n",
              "  <script>\n",
              "    async function quickchart(key) {\n",
              "      const quickchartButtonEl =\n",
              "        document.querySelector('#' + key + ' button');\n",
              "      quickchartButtonEl.disabled = true;  // To prevent multiple clicks.\n",
              "      quickchartButtonEl.classList.add('colab-df-spinner');\n",
              "      try {\n",
              "        const charts = await google.colab.kernel.invokeFunction(\n",
              "            'suggestCharts', [key], {});\n",
              "      } catch (error) {\n",
              "        console.error('Error during call to suggestCharts:', error);\n",
              "      }\n",
              "      quickchartButtonEl.classList.remove('colab-df-spinner');\n",
              "      quickchartButtonEl.classList.add('colab-df-quickchart-complete');\n",
              "    }\n",
              "    (() => {\n",
              "      let quickchartButtonEl =\n",
              "        document.querySelector('#df-459e7dc5-65ac-4810-a2ca-70e8622824d8 button');\n",
              "      quickchartButtonEl.style.display =\n",
              "        google.colab.kernel.accessAllowed ? 'block' : 'none';\n",
              "    })();\n",
              "  </script>\n",
              "</div>\n",
              "\n",
              "    </div>\n",
              "  </div>\n"
            ]
          },
          "metadata": {},
          "execution_count": 79
        }
      ],
      "source": [
        "df = df.drop(['Date'], axis = 1)\n",
        "df.head()"
      ]
    },
    {
      "cell_type": "code",
      "execution_count": 80,
      "metadata": {
        "id": "bSeDQALb8vic"
      },
      "outputs": [],
      "source": [
        "x = df.iloc[:, 0:5].values\n",
        "y = df.iloc[:, 5].values\n",
        "y = y.astype('int')"
      ]
    },
    {
      "cell_type": "code",
      "execution_count": 81,
      "metadata": {
        "id": "42_jEhpG-RH9"
      },
      "outputs": [],
      "source": [
        "from sklearn.model_selection import train_test_split\n",
        "x_train, x_test, y_train, y_test = train_test_split(x, y, test_size = 0.2, random_state = 0)"
      ]
    },
    {
      "cell_type": "code",
      "execution_count": 82,
      "metadata": {
        "id": "aJjkApKr-p7C"
      },
      "outputs": [],
      "source": [
        "from sklearn.preprocessing import StandardScaler\n",
        "sc = StandardScaler()\n",
        "x_train = sc.fit_transform(x_train)\n",
        "x_test = sc.transform(x_test)"
      ]
    },
    {
      "cell_type": "code",
      "execution_count": 83,
      "metadata": {
        "id": "uqO9ZX3G_Ftk"
      },
      "outputs": [],
      "source": [
        "from  sklearn.discriminant_analysis import LinearDiscriminantAnalysis as LDA\n",
        "lda = LDA(n_components = 1)\n",
        "x_train = lda.fit_transform(x_train, y_train)\n",
        "x_test = lda.transform(x_test)"
      ]
    },
    {
      "cell_type": "code",
      "execution_count": 84,
      "metadata": {
        "colab": {
          "base_uri": "https://localhost:8080/",
          "height": 213
        },
        "id": "PrEIrxouAvCV",
        "outputId": "b83db799-bfc5-4617-ab0b-1d5917479c85"
      },
      "outputs": [
        {
          "output_type": "stream",
          "name": "stderr",
          "text": [
            "/usr/local/lib/python3.10/dist-packages/sklearn/linear_model/_logistic.py:458: ConvergenceWarning: lbfgs failed to converge (status=1):\n",
            "STOP: TOTAL NO. of ITERATIONS REACHED LIMIT.\n",
            "\n",
            "Increase the number of iterations (max_iter) or scale the data as shown in:\n",
            "    https://scikit-learn.org/stable/modules/preprocessing.html\n",
            "Please also refer to the documentation for alternative solver options:\n",
            "    https://scikit-learn.org/stable/modules/linear_model.html#logistic-regression\n",
            "  n_iter_i = _check_optimize_result(\n"
          ]
        },
        {
          "output_type": "execute_result",
          "data": {
            "text/plain": [
              "LogisticRegression(random_state=0)"
            ],
            "text/html": [
              "<style>#sk-container-id-6 {color: black;background-color: white;}#sk-container-id-6 pre{padding: 0;}#sk-container-id-6 div.sk-toggleable {background-color: white;}#sk-container-id-6 label.sk-toggleable__label {cursor: pointer;display: block;width: 100%;margin-bottom: 0;padding: 0.3em;box-sizing: border-box;text-align: center;}#sk-container-id-6 label.sk-toggleable__label-arrow:before {content: \"▸\";float: left;margin-right: 0.25em;color: #696969;}#sk-container-id-6 label.sk-toggleable__label-arrow:hover:before {color: black;}#sk-container-id-6 div.sk-estimator:hover label.sk-toggleable__label-arrow:before {color: black;}#sk-container-id-6 div.sk-toggleable__content {max-height: 0;max-width: 0;overflow: hidden;text-align: left;background-color: #f0f8ff;}#sk-container-id-6 div.sk-toggleable__content pre {margin: 0.2em;color: black;border-radius: 0.25em;background-color: #f0f8ff;}#sk-container-id-6 input.sk-toggleable__control:checked~div.sk-toggleable__content {max-height: 200px;max-width: 100%;overflow: auto;}#sk-container-id-6 input.sk-toggleable__control:checked~label.sk-toggleable__label-arrow:before {content: \"▾\";}#sk-container-id-6 div.sk-estimator input.sk-toggleable__control:checked~label.sk-toggleable__label {background-color: #d4ebff;}#sk-container-id-6 div.sk-label input.sk-toggleable__control:checked~label.sk-toggleable__label {background-color: #d4ebff;}#sk-container-id-6 input.sk-hidden--visually {border: 0;clip: rect(1px 1px 1px 1px);clip: rect(1px, 1px, 1px, 1px);height: 1px;margin: -1px;overflow: hidden;padding: 0;position: absolute;width: 1px;}#sk-container-id-6 div.sk-estimator {font-family: monospace;background-color: #f0f8ff;border: 1px dotted black;border-radius: 0.25em;box-sizing: border-box;margin-bottom: 0.5em;}#sk-container-id-6 div.sk-estimator:hover {background-color: #d4ebff;}#sk-container-id-6 div.sk-parallel-item::after {content: \"\";width: 100%;border-bottom: 1px solid gray;flex-grow: 1;}#sk-container-id-6 div.sk-label:hover label.sk-toggleable__label {background-color: #d4ebff;}#sk-container-id-6 div.sk-serial::before {content: \"\";position: absolute;border-left: 1px solid gray;box-sizing: border-box;top: 0;bottom: 0;left: 50%;z-index: 0;}#sk-container-id-6 div.sk-serial {display: flex;flex-direction: column;align-items: center;background-color: white;padding-right: 0.2em;padding-left: 0.2em;position: relative;}#sk-container-id-6 div.sk-item {position: relative;z-index: 1;}#sk-container-id-6 div.sk-parallel {display: flex;align-items: stretch;justify-content: center;background-color: white;position: relative;}#sk-container-id-6 div.sk-item::before, #sk-container-id-6 div.sk-parallel-item::before {content: \"\";position: absolute;border-left: 1px solid gray;box-sizing: border-box;top: 0;bottom: 0;left: 50%;z-index: -1;}#sk-container-id-6 div.sk-parallel-item {display: flex;flex-direction: column;z-index: 1;position: relative;background-color: white;}#sk-container-id-6 div.sk-parallel-item:first-child::after {align-self: flex-end;width: 50%;}#sk-container-id-6 div.sk-parallel-item:last-child::after {align-self: flex-start;width: 50%;}#sk-container-id-6 div.sk-parallel-item:only-child::after {width: 0;}#sk-container-id-6 div.sk-dashed-wrapped {border: 1px dashed gray;margin: 0 0.4em 0.5em 0.4em;box-sizing: border-box;padding-bottom: 0.4em;background-color: white;}#sk-container-id-6 div.sk-label label {font-family: monospace;font-weight: bold;display: inline-block;line-height: 1.2em;}#sk-container-id-6 div.sk-label-container {text-align: center;}#sk-container-id-6 div.sk-container {/* jupyter's `normalize.less` sets `[hidden] { display: none; }` but bootstrap.min.css set `[hidden] { display: none !important; }` so we also need the `!important` here to be able to override the default hidden behavior on the sphinx rendered scikit-learn.org. See: https://github.com/scikit-learn/scikit-learn/issues/21755 */display: inline-block !important;position: relative;}#sk-container-id-6 div.sk-text-repr-fallback {display: none;}</style><div id=\"sk-container-id-6\" class=\"sk-top-container\"><div class=\"sk-text-repr-fallback\"><pre>LogisticRegression(random_state=0)</pre><b>In a Jupyter environment, please rerun this cell to show the HTML representation or trust the notebook. <br />On GitHub, the HTML representation is unable to render, please try loading this page with nbviewer.org.</b></div><div class=\"sk-container\" hidden><div class=\"sk-item\"><div class=\"sk-estimator sk-toggleable\"><input class=\"sk-toggleable__control sk-hidden--visually\" id=\"sk-estimator-id-6\" type=\"checkbox\" checked><label for=\"sk-estimator-id-6\" class=\"sk-toggleable__label sk-toggleable__label-arrow\">LogisticRegression</label><div class=\"sk-toggleable__content\"><pre>LogisticRegression(random_state=0)</pre></div></div></div></div></div>"
            ]
          },
          "metadata": {},
          "execution_count": 84
        }
      ],
      "source": [
        "from sklearn.linear_model import LogisticRegression\n",
        "classifier = LogisticRegression(random_state = 0)\n",
        "classifier.fit(x_train, y_train)"
      ]
    },
    {
      "cell_type": "code",
      "execution_count": 85,
      "metadata": {
        "id": "7HYmPH7BBPqE"
      },
      "outputs": [],
      "source": [
        "y_pred = classifier.predict(x_test)"
      ]
    },
    {
      "cell_type": "code",
      "execution_count": 86,
      "metadata": {
        "colab": {
          "base_uri": "https://localhost:8080/"
        },
        "id": "7-ckGs45BVFy",
        "outputId": "de154854-cf3b-44f8-c25c-7758ea9099f2"
      },
      "outputs": [
        {
          "output_type": "stream",
          "name": "stdout",
          "text": [
            "[[0 0 0 ... 0 0 0]\n",
            " [0 0 0 ... 0 0 0]\n",
            " [0 0 0 ... 0 0 0]\n",
            " ...\n",
            " [0 0 0 ... 0 0 0]\n",
            " [0 0 0 ... 0 0 0]\n",
            " [0 0 0 ... 0 0 0]]\n"
          ]
        },
        {
          "output_type": "execute_result",
          "data": {
            "text/plain": [
              "0.07765151515151515"
            ]
          },
          "metadata": {},
          "execution_count": 86
        }
      ],
      "source": [
        "from sklearn.metrics import confusion_matrix, accuracy_score\n",
        "cm = confusion_matrix(y_test, y_pred)\n",
        "print(cm)\n",
        "accuracy_score(y_test, y_pred)"
      ]
    },
    {
      "cell_type": "code",
      "execution_count": 87,
      "metadata": {
        "colab": {
          "base_uri": "https://localhost:8080/"
        },
        "id": "1hG-pdpfBzj-",
        "outputId": "c02547c2-c865-458d-d03d-1af95df5110f"
      },
      "outputs": [
        {
          "output_type": "execute_result",
          "data": {
            "text/plain": [
              "array([ 67,  67,  66,  66,  67, 181, 115,  66,  67, 115, 115, 115, 115,\n",
              "        66,  67,  72,  72,  66, 115,  66,  66, 115,  66,  66,  66, 115,\n",
              "       115,  66,  66,  66,  66, 115,  66,  66, 115,  66,  66,  66, 115,\n",
              "       181,  67,  66, 115, 115, 115, 181,  66, 115,  94,  66,  66, 115,\n",
              "       115,  67,  66,  66,  66,  66, 115,  72, 115, 115,  66,  66, 115,\n",
              "        66,  66,  72,  67,  66,  66,  66,  66, 115, 115, 181, 115, 181,\n",
              "        67,  66, 181,  66,  94, 181,  66, 115, 115,  66, 115,  72,  66,\n",
              "       115,  66,  66,  66,  66, 115, 115,  72,  66, 181, 115,  66,  66,\n",
              "        67, 181,  72, 181, 115,  66,  66,  67,  67,  66, 115,  66, 115,\n",
              "        72,  72,  67, 115,  66,  67, 115, 115, 181,  66, 181,  66,  66,\n",
              "        66, 115, 115, 115,  66,  66,  66, 115,  72,  72,  67,  72, 115,\n",
              "        66,  66,  72,  72,  66, 115,  66,  66,  66,  66,  66,  66, 115,\n",
              "        66, 115, 115, 181,  66, 115, 181,  67,  66,  66, 115, 115,  66,\n",
              "       115,  66, 115,  72, 115,  66,  66,  66,  66,  66,  66,  66,  66,\n",
              "       115, 115,  66, 115,  67,  67,  66,  66,  66, 115,  72,  67,  66,\n",
              "       115,  67, 115,  72, 115, 115,  94,  66,  72, 115,  66,  66,  66,\n",
              "        94,  66,  67,  67,  67,  66,  67, 115,  66,  67, 115, 115,  66,\n",
              "       115,  67,  66,  66,  66,  67, 115, 115, 115, 115,  66,  66,  72,\n",
              "        66, 115,  66, 115, 115, 115, 181,  66, 115,  66, 181, 115, 115,\n",
              "        72, 115,  66,  66,  66, 181, 115, 115,  66, 181, 115, 115,  72,\n",
              "        66,  66,  67, 115,  72, 115, 115,  66,  66,  66,  66,  66,  66,\n",
              "        66, 115,  66, 115,  66, 115, 115,  94,  66,  66,  66,  67,  66,\n",
              "       181, 181, 115,  94, 115,  67,  66, 181, 115,  66,  66,  66, 115,\n",
              "       115, 115, 115,  94, 181,  66,  67, 115, 115,  94,  66,  66,  66,\n",
              "       115,  66, 115,  66,  72, 115, 115, 181, 115,  66,  66,  66,  66,\n",
              "        66,  66, 115,  72,  66, 115,  66, 115, 115, 115,  66, 115, 115,\n",
              "        66, 115, 181,  66,  66,  66, 115,  66, 115,  66,  66, 115, 115,\n",
              "        94, 115, 115,  66,  66,  66, 115, 115,  66, 181, 115, 115, 115,\n",
              "        66,  66, 115, 115,  67,  66,  72, 115, 115,  66,  66,  66, 115,\n",
              "       115, 115,  66, 115,  66,  66,  72, 115, 115, 115,  67, 115,  72,\n",
              "        66, 115,  66,  72,  66, 115, 115,  66,  66, 115,  72,  66,  66,\n",
              "        66,  66,  66, 115,  66,  67,  66,  66,  67,  67,  66,  66, 115,\n",
              "       115,  67,  66,  66, 115,  66, 115,  66,  66,  66, 181,  66, 115,\n",
              "        66, 115,  66, 115,  66, 115, 115,  66,  66,  66,  66,  66, 115,\n",
              "        72,  67,  67,  66,  66, 115, 115,  72,  66, 115, 115,  66,  66,\n",
              "        66, 115,  66,  67,  66, 115, 115,  66,  66, 181,  66,  66,  66,\n",
              "       181,  67, 115, 115, 115,  66, 115,  66, 115,  66,  66,  66,  66,\n",
              "        66,  66,  72,  66,  66,  66,  67, 115, 115,  66, 115,  66,  66,\n",
              "       181, 115,  66,  66,  66,  66, 115, 115, 115, 115, 115,  66, 115,\n",
              "        66, 115,  66,  94, 115,  66,  66,  72,  66,  66, 115,  67, 115,\n",
              "        66, 115,  67, 115,  66,  66,  66, 181])"
            ]
          },
          "metadata": {},
          "execution_count": 87
        }
      ],
      "source": [
        "y_pred"
      ]
    },
    {
      "cell_type": "code",
      "execution_count": 88,
      "metadata": {
        "colab": {
          "base_uri": "https://localhost:8080/"
        },
        "id": "cs34X9pRB5V8",
        "outputId": "912978f4-d419-4744-fe35-ba262e175220"
      },
      "outputs": [
        {
          "output_type": "execute_result",
          "data": {
            "text/plain": [
              "array([ 79,  80,  70,  66,  82, 232, 122,  60,  80, 111, 112, 170, 116,\n",
              "        67,  77,  88,  88,  71, 153,  76,  73, 117,  73,  73,  38,  96,\n",
              "       166,  69,  65,  68,  43, 111,  72,  57,  99,  72,  58,  66, 108,\n",
              "       189,  79,  66, 176, 103, 110, 247,  70, 131,  94,  43,  69,  95,\n",
              "       127,  80,  64,  70,  52,  59, 115,  88, 115, 115,  66,  60, 115,\n",
              "        60,  73,  91,  81,  73,  69,  71,  67, 131, 122, 212, 118, 217,\n",
              "        82,  61, 217,  64,  93, 228,  66, 109, 165,  66, 182,  92,  71,\n",
              "       121,  64,  36,  64,  70, 167, 115,  92,  72, 202, 122,  67,  56,\n",
              "        84, 198,  89, 214, 169,  68,  63,  81,  77,  59, 127,  67, 165,\n",
              "        93,  92,  78, 177,  46,  78, 112, 123, 258,  70, 206,  52,  73,\n",
              "        67, 126, 179, 111,  67,  59,  70, 119,  89,  89,  85,  86, 102,\n",
              "        65,  68,  89,  92,  63, 109,  70,  71,  60,  66,  52,  52, 116,\n",
              "        61, 115, 123, 217,  68, 158, 211,  80,  65,  70, 158, 117,  70,\n",
              "       163,  74, 110,  88, 141,  65,  72,  75,  65,  35,  71,  60,  43,\n",
              "       134, 118,  69, 119,  83,  82,  65,  41,  73, 170,  88,  83,  61,\n",
              "       111,  78, 172,  89, 124, 117,  93,  44,  93, 179,  65,  73,  64,\n",
              "        93,  66,  83,  79,  80,  68,  82, 116,  64,  77, 111, 145,  73,\n",
              "       113,  83,  69,  58,  65,  83, 185, 117, 121, 108,  69,  71,  87,\n",
              "        51, 174,  61, 118,  95, 171, 259,  70, 118,  42, 202, 154, 182,\n",
              "        93, 174,  44,  70,  43, 200, 111, 181,  67, 243, 162, 159,  89,\n",
              "        59,  44,  82, 129,  88, 123, 184,  70,  72,  56,  71,  66,  71,\n",
              "        35, 178,  65, 119,  67,  98,  98,  94,  71,  35,  65,  77,  70,\n",
              "       211, 208, 118,  93, 114,  83,  68, 210, 109,  67,  66,  71, 171,\n",
              "       120, 119, 115,  95, 259,  59,  82, 150, 159,  94,  36,  65,  76,\n",
              "       122,  69, 118,  74,  91, 177, 101, 203, 108,  68,  70,  72,  71,\n",
              "        73,  47, 128,  88,  66, 119,  65, 119,  96, 121,  52, 178, 116,\n",
              "        66, 112, 262,  73,  59,  60, 154,  67, 115,  72,  66, 109, 163,\n",
              "        94, 169, 110,  67,  70,  39, 164, 108,  73, 194, 109, 175, 162,\n",
              "        64,  75, 174, 175,  84,  72,  93, 117,  97,  68,  74,  72, 116,\n",
              "       118, 123,  68, 175,  65,  67,  88, 114, 120, 115,  81, 117,  88,\n",
              "        66, 167,  64,  92,  77, 164, 119,  70,  67, 114,  87,  60,  70,\n",
              "        65,  41,  61, 161,  59,  77,  66,  44,  84,  81,  35,  59, 115,\n",
              "       131,  78,  54,  37, 162,  71, 118,  64,  66,  66, 212,  66, 135,\n",
              "        36, 109,  73, 165,  66, 115, 118,  73,  42,  60,  69,  70,  95,\n",
              "        90,  78,  83,  61,  35, 116, 102,  86,  62, 112, 109,  67,  73,\n",
              "        58, 121,  40,  84,  68,  95, 109,  67,  73, 219,  71,  76,  71,\n",
              "       192,  80, 123, 130, 131,  43,  99,  60, 118,  71,  60,  75,  66,\n",
              "        62,  72,  92,  64,  41,  67,  81, 120, 178,  36, 118,  69,  66,\n",
              "       250, 184,  73,  66,  73,  59, 109, 116, 166, 159, 114,  59, 111,\n",
              "        46, 160,  65,  94, 107,  73,  47,  91,  69,  66, 115,  78, 121,\n",
              "        71, 169,  82, 182,  76,  66,  68, 188])"
            ]
          },
          "metadata": {},
          "execution_count": 88
        }
      ],
      "source": [
        "y_test"
      ]
    }
  ],
  "metadata": {
    "colab": {
      "provenance": []
    },
    "kernelspec": {
      "display_name": "Python 3",
      "name": "python3"
    },
    "language_info": {
      "name": "python"
    }
  },
  "nbformat": 4,
  "nbformat_minor": 0
}