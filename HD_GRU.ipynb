{
  "nbformat": 4,
  "nbformat_minor": 0,
  "metadata": {
    "colab": {
      "provenance": []
    },
    "kernelspec": {
      "name": "python3",
      "display_name": "Python 3"
    },
    "language_info": {
      "name": "python"
    }
  },
  "cells": [
    {
      "cell_type": "code",
      "execution_count": 116,
      "metadata": {
        "id": "pa8BuGYTzgJb"
      },
      "outputs": [],
      "source": [
        "import numpy as np\n",
        "import matplotlib.pyplot as plt\n",
        "import pandas as pd\n",
        "from sklearn.preprocessing import MinMaxScaler"
      ]
    },
    {
      "cell_type": "code",
      "source": [
        "import io"
      ],
      "metadata": {
        "id": "xV-QJu9fzocN"
      },
      "execution_count": 117,
      "outputs": []
    },
    {
      "cell_type": "code",
      "source": [
        "from google.colab import files\n",
        "uploaded = files.upload()"
      ],
      "metadata": {
        "colab": {
          "base_uri": "https://localhost:8080/",
          "height": 73
        },
        "id": "r24TXRS-zq5E",
        "outputId": "d49cf186-bc67-40a3-d99b-6e3a0e697bdc"
      },
      "execution_count": 118,
      "outputs": [
        {
          "output_type": "display_data",
          "data": {
            "text/plain": [
              "<IPython.core.display.HTML object>"
            ],
            "text/html": [
              "\n",
              "     <input type=\"file\" id=\"files-5a025e62-6809-4e9a-94f4-7825b1559407\" name=\"files[]\" multiple disabled\n",
              "        style=\"border:none\" />\n",
              "     <output id=\"result-5a025e62-6809-4e9a-94f4-7825b1559407\">\n",
              "      Upload widget is only available when the cell has been executed in the\n",
              "      current browser session. Please rerun this cell to enable.\n",
              "      </output>\n",
              "      <script>// Copyright 2017 Google LLC\n",
              "//\n",
              "// Licensed under the Apache License, Version 2.0 (the \"License\");\n",
              "// you may not use this file except in compliance with the License.\n",
              "// You may obtain a copy of the License at\n",
              "//\n",
              "//      http://www.apache.org/licenses/LICENSE-2.0\n",
              "//\n",
              "// Unless required by applicable law or agreed to in writing, software\n",
              "// distributed under the License is distributed on an \"AS IS\" BASIS,\n",
              "// WITHOUT WARRANTIES OR CONDITIONS OF ANY KIND, either express or implied.\n",
              "// See the License for the specific language governing permissions and\n",
              "// limitations under the License.\n",
              "\n",
              "/**\n",
              " * @fileoverview Helpers for google.colab Python module.\n",
              " */\n",
              "(function(scope) {\n",
              "function span(text, styleAttributes = {}) {\n",
              "  const element = document.createElement('span');\n",
              "  element.textContent = text;\n",
              "  for (const key of Object.keys(styleAttributes)) {\n",
              "    element.style[key] = styleAttributes[key];\n",
              "  }\n",
              "  return element;\n",
              "}\n",
              "\n",
              "// Max number of bytes which will be uploaded at a time.\n",
              "const MAX_PAYLOAD_SIZE = 100 * 1024;\n",
              "\n",
              "function _uploadFiles(inputId, outputId) {\n",
              "  const steps = uploadFilesStep(inputId, outputId);\n",
              "  const outputElement = document.getElementById(outputId);\n",
              "  // Cache steps on the outputElement to make it available for the next call\n",
              "  // to uploadFilesContinue from Python.\n",
              "  outputElement.steps = steps;\n",
              "\n",
              "  return _uploadFilesContinue(outputId);\n",
              "}\n",
              "\n",
              "// This is roughly an async generator (not supported in the browser yet),\n",
              "// where there are multiple asynchronous steps and the Python side is going\n",
              "// to poll for completion of each step.\n",
              "// This uses a Promise to block the python side on completion of each step,\n",
              "// then passes the result of the previous step as the input to the next step.\n",
              "function _uploadFilesContinue(outputId) {\n",
              "  const outputElement = document.getElementById(outputId);\n",
              "  const steps = outputElement.steps;\n",
              "\n",
              "  const next = steps.next(outputElement.lastPromiseValue);\n",
              "  return Promise.resolve(next.value.promise).then((value) => {\n",
              "    // Cache the last promise value to make it available to the next\n",
              "    // step of the generator.\n",
              "    outputElement.lastPromiseValue = value;\n",
              "    return next.value.response;\n",
              "  });\n",
              "}\n",
              "\n",
              "/**\n",
              " * Generator function which is called between each async step of the upload\n",
              " * process.\n",
              " * @param {string} inputId Element ID of the input file picker element.\n",
              " * @param {string} outputId Element ID of the output display.\n",
              " * @return {!Iterable<!Object>} Iterable of next steps.\n",
              " */\n",
              "function* uploadFilesStep(inputId, outputId) {\n",
              "  const inputElement = document.getElementById(inputId);\n",
              "  inputElement.disabled = false;\n",
              "\n",
              "  const outputElement = document.getElementById(outputId);\n",
              "  outputElement.innerHTML = '';\n",
              "\n",
              "  const pickedPromise = new Promise((resolve) => {\n",
              "    inputElement.addEventListener('change', (e) => {\n",
              "      resolve(e.target.files);\n",
              "    });\n",
              "  });\n",
              "\n",
              "  const cancel = document.createElement('button');\n",
              "  inputElement.parentElement.appendChild(cancel);\n",
              "  cancel.textContent = 'Cancel upload';\n",
              "  const cancelPromise = new Promise((resolve) => {\n",
              "    cancel.onclick = () => {\n",
              "      resolve(null);\n",
              "    };\n",
              "  });\n",
              "\n",
              "  // Wait for the user to pick the files.\n",
              "  const files = yield {\n",
              "    promise: Promise.race([pickedPromise, cancelPromise]),\n",
              "    response: {\n",
              "      action: 'starting',\n",
              "    }\n",
              "  };\n",
              "\n",
              "  cancel.remove();\n",
              "\n",
              "  // Disable the input element since further picks are not allowed.\n",
              "  inputElement.disabled = true;\n",
              "\n",
              "  if (!files) {\n",
              "    return {\n",
              "      response: {\n",
              "        action: 'complete',\n",
              "      }\n",
              "    };\n",
              "  }\n",
              "\n",
              "  for (const file of files) {\n",
              "    const li = document.createElement('li');\n",
              "    li.append(span(file.name, {fontWeight: 'bold'}));\n",
              "    li.append(span(\n",
              "        `(${file.type || 'n/a'}) - ${file.size} bytes, ` +\n",
              "        `last modified: ${\n",
              "            file.lastModifiedDate ? file.lastModifiedDate.toLocaleDateString() :\n",
              "                                    'n/a'} - `));\n",
              "    const percent = span('0% done');\n",
              "    li.appendChild(percent);\n",
              "\n",
              "    outputElement.appendChild(li);\n",
              "\n",
              "    const fileDataPromise = new Promise((resolve) => {\n",
              "      const reader = new FileReader();\n",
              "      reader.onload = (e) => {\n",
              "        resolve(e.target.result);\n",
              "      };\n",
              "      reader.readAsArrayBuffer(file);\n",
              "    });\n",
              "    // Wait for the data to be ready.\n",
              "    let fileData = yield {\n",
              "      promise: fileDataPromise,\n",
              "      response: {\n",
              "        action: 'continue',\n",
              "      }\n",
              "    };\n",
              "\n",
              "    // Use a chunked sending to avoid message size limits. See b/62115660.\n",
              "    let position = 0;\n",
              "    do {\n",
              "      const length = Math.min(fileData.byteLength - position, MAX_PAYLOAD_SIZE);\n",
              "      const chunk = new Uint8Array(fileData, position, length);\n",
              "      position += length;\n",
              "\n",
              "      const base64 = btoa(String.fromCharCode.apply(null, chunk));\n",
              "      yield {\n",
              "        response: {\n",
              "          action: 'append',\n",
              "          file: file.name,\n",
              "          data: base64,\n",
              "        },\n",
              "      };\n",
              "\n",
              "      let percentDone = fileData.byteLength === 0 ?\n",
              "          100 :\n",
              "          Math.round((position / fileData.byteLength) * 100);\n",
              "      percent.textContent = `${percentDone}% done`;\n",
              "\n",
              "    } while (position < fileData.byteLength);\n",
              "  }\n",
              "\n",
              "  // All done.\n",
              "  yield {\n",
              "    response: {\n",
              "      action: 'complete',\n",
              "    }\n",
              "  };\n",
              "}\n",
              "\n",
              "scope.google = scope.google || {};\n",
              "scope.google.colab = scope.google.colab || {};\n",
              "scope.google.colab._files = {\n",
              "  _uploadFiles,\n",
              "  _uploadFilesContinue,\n",
              "};\n",
              "})(self);\n",
              "</script> "
            ]
          },
          "metadata": {}
        },
        {
          "output_type": "stream",
          "name": "stdout",
          "text": [
            "Saving HD.csv to HD.csv\n"
          ]
        }
      ]
    },
    {
      "cell_type": "code",
      "source": [
        "df = pd.read_csv(io.BytesIO(uploaded['HD.csv']))\n",
        "print(df)"
      ],
      "metadata": {
        "colab": {
          "base_uri": "https://localhost:8080/"
        },
        "id": "rDifliYGzwvi",
        "outputId": "951185d7-0606-4d22-b7d4-af1261fd248b"
      },
      "execution_count": 119,
      "outputs": [
        {
          "output_type": "stream",
          "name": "stdout",
          "text": [
            "           Date        Open        High         Low       Close   Adj Close  \\\n",
            "0      1/4/2010   29.150000   29.150000   28.549999   28.670000   20.551073   \n",
            "1      1/5/2010   28.730000   28.990000   28.290001   28.879999   20.701614   \n",
            "2      1/6/2010   28.879999   29.000000   28.700001   28.780001   20.629927   \n",
            "3      1/7/2010   28.860001   29.219999   28.730000   29.120001   20.873646   \n",
            "4      1/8/2010   29.000000   29.240000   28.690001   28.980000   20.773291   \n",
            "...         ...         ...         ...         ...         ...         ...   \n",
            "2635  6/23/2020  253.000000  253.440002  250.130005  250.309998  230.219467   \n",
            "2636  6/24/2020  247.809998  250.289993  242.729996  246.130005  226.374954   \n",
            "2637  6/25/2020  244.800003  246.350006  242.199997  245.380005  225.685181   \n",
            "2638  6/26/2020  245.350006  246.100006  240.250000  241.009995  221.665909   \n",
            "2639  6/29/2020  242.660004  246.500000  240.339996  246.119995  226.365753   \n",
            "\n",
            "         Average  \n",
            "0      27.214214  \n",
            "1      27.118323  \n",
            "2      27.197986  \n",
            "3      27.360729  \n",
            "4      27.336658  \n",
            "...          ...  \n",
            "2635  247.419894  \n",
            "2636  242.666989  \n",
            "2637  240.883038  \n",
            "2638  238.875183  \n",
            "2639  240.397150  \n",
            "\n",
            "[2640 rows x 7 columns]\n"
          ]
        }
      ]
    },
    {
      "cell_type": "code",
      "source": [
        "data_training = df[df['Date'] < '2020-03-15'].copy()\n",
        "data_testing = df[df['Date'] >= '2020-03-15'].copy()"
      ],
      "metadata": {
        "id": "loLfrbEez1Kz"
      },
      "execution_count": 120,
      "outputs": []
    },
    {
      "cell_type": "code",
      "source": [
        "data_training = data_training.drop(['Date'], axis = 1)"
      ],
      "metadata": {
        "id": "ZAwybGlaz4HS"
      },
      "execution_count": 121,
      "outputs": []
    },
    {
      "cell_type": "code",
      "source": [
        "scaler = MinMaxScaler()\n",
        "data_training = scaler.fit_transform(data_training)\n",
        "data_training"
      ],
      "metadata": {
        "colab": {
          "base_uri": "https://localhost:8080/"
        },
        "id": "G0oMyymYz6nD",
        "outputId": "e7a11e5a-1ac1-4fb0-a9fd-6c5d4d04823e"
      },
      "execution_count": 122,
      "outputs": [
        {
          "output_type": "execute_result",
          "data": {
            "text/plain": [
              "array([[0.00753425, 0.00560518, 0.00627276, 0.00605426, 0.00465625,\n",
              "        0.00563503],\n",
              "       [0.00561644, 0.00487605, 0.00507357, 0.00701019, 0.00539151,\n",
              "        0.00518944],\n",
              "       [0.00630137, 0.00492162, 0.00696462, 0.00655499, 0.00504138,\n",
              "        0.00555961],\n",
              "       ...,\n",
              "       [0.96621007, 0.97119938, 0.95535264, 0.94655861, 0.94792444,\n",
              "        0.96041255],\n",
              "       [0.92954341, 0.94285457, 0.91038239, 0.8985342 , 0.90112736,\n",
              "        0.91939853],\n",
              "       [0.87273975, 0.88014946, 0.85392741, 0.8671704 , 0.87056504,\n",
              "        0.87145519]])"
            ]
          },
          "metadata": {},
          "execution_count": 122
        }
      ]
    },
    {
      "cell_type": "code",
      "source": [
        "x_train = []\n",
        "y_train = []\n",
        "\n",
        "for i in range(60, data_training.shape[0]):\n",
        "    x_train.append(data_training[i-20:i])\n",
        "    y_train.append(data_training[i, 0])\n",
        "\n",
        "x_train = np.array(x_train)\n",
        "y_train = np.array(y_train)"
      ],
      "metadata": {
        "id": "RHB_FUf30Z9L"
      },
      "execution_count": 123,
      "outputs": []
    },
    {
      "cell_type": "code",
      "source": [
        "x_train.shape"
      ],
      "metadata": {
        "colab": {
          "base_uri": "https://localhost:8080/"
        },
        "id": "qmWYzXwY0h3r",
        "outputId": "9646d802-a21a-4cb0-9e64-6e1a91c76da5"
      },
      "execution_count": 124,
      "outputs": [
        {
          "output_type": "execute_result",
          "data": {
            "text/plain": [
              "(1008, 20, 6)"
            ]
          },
          "metadata": {},
          "execution_count": 124
        }
      ]
    },
    {
      "cell_type": "code",
      "source": [
        "from tensorflow.keras import Sequential\n",
        "from tensorflow.keras.layers import Dense, LSTM, Dropout, GRU, Bidirectional"
      ],
      "metadata": {
        "id": "bB7lh8H00kVb"
      },
      "execution_count": 125,
      "outputs": []
    },
    {
      "cell_type": "code",
      "source": [
        "regressorGRU = Sequential()\n",
        "\n",
        "regressorGRU.add(GRU(units = 60, activation = 'relu', return_sequences = True, input_shape = (x_train.shape[1], 6)))\n",
        "regressorGRU.add(Dropout(0.2))\n",
        "\n",
        "regressorGRU.add(GRU(units = 60, activation = 'relu', return_sequences = True))\n",
        "regressorGRU.add(Dropout(0.2))\n",
        "\n",
        "regressorGRU.add(GRU(units = 80, activation = 'relu', return_sequences = True))\n",
        "regressorGRU.add(Dropout(0.2))\n",
        "\n",
        "regressorGRU.add(GRU(units = 120, activation = 'relu'))\n",
        "regressorGRU.add(Dropout(0.2))\n",
        "\n",
        "regressorGRU.add(Dense(units = 1))"
      ],
      "metadata": {
        "id": "KGK1n3id0muD"
      },
      "execution_count": 126,
      "outputs": []
    },
    {
      "cell_type": "code",
      "source": [
        "regressorGRU.summary()"
      ],
      "metadata": {
        "colab": {
          "base_uri": "https://localhost:8080/"
        },
        "id": "yYY75U140pQz",
        "outputId": "ba725e89-7e38-4dba-d080-0240aa3949e8"
      },
      "execution_count": 127,
      "outputs": [
        {
          "output_type": "stream",
          "name": "stdout",
          "text": [
            "Model: \"sequential_5\"\n",
            "_________________________________________________________________\n",
            " Layer (type)                Output Shape              Param #   \n",
            "=================================================================\n",
            " gru_20 (GRU)                (None, 20, 60)            12240     \n",
            "                                                                 \n",
            " dropout_20 (Dropout)        (None, 20, 60)            0         \n",
            "                                                                 \n",
            " gru_21 (GRU)                (None, 20, 60)            21960     \n",
            "                                                                 \n",
            " dropout_21 (Dropout)        (None, 20, 60)            0         \n",
            "                                                                 \n",
            " gru_22 (GRU)                (None, 20, 80)            34080     \n",
            "                                                                 \n",
            " dropout_22 (Dropout)        (None, 20, 80)            0         \n",
            "                                                                 \n",
            " gru_23 (GRU)                (None, 120)               72720     \n",
            "                                                                 \n",
            " dropout_23 (Dropout)        (None, 120)               0         \n",
            "                                                                 \n",
            " dense_5 (Dense)             (None, 1)                 121       \n",
            "                                                                 \n",
            "=================================================================\n",
            "Total params: 141121 (551.25 KB)\n",
            "Trainable params: 141121 (551.25 KB)\n",
            "Non-trainable params: 0 (0.00 Byte)\n",
            "_________________________________________________________________\n"
          ]
        }
      ]
    },
    {
      "cell_type": "code",
      "source": [
        "regressorGRU.compile(optimizer = 'adam', loss = 'mean_squared_error')\n",
        "regressorGRU.fit(x_train, y_train, epochs = 50, batch_size = 32)"
      ],
      "metadata": {
        "colab": {
          "base_uri": "https://localhost:8080/"
        },
        "id": "wLj5SWbm0sLF",
        "outputId": "b9630d10-8c6d-46e1-a144-3056514c69fe"
      },
      "execution_count": 128,
      "outputs": [
        {
          "output_type": "stream",
          "name": "stdout",
          "text": [
            "Epoch 1/50\n",
            "32/32 [==============================] - 7s 43ms/step - loss: 0.0453\n",
            "Epoch 2/50\n",
            "32/32 [==============================] - 2s 52ms/step - loss: 0.0045\n",
            "Epoch 3/50\n",
            "32/32 [==============================] - 2s 69ms/step - loss: 0.0044\n",
            "Epoch 4/50\n",
            "32/32 [==============================] - 1s 44ms/step - loss: 0.0034\n",
            "Epoch 5/50\n",
            "32/32 [==============================] - 1s 44ms/step - loss: 0.0035\n",
            "Epoch 6/50\n",
            "32/32 [==============================] - 1s 43ms/step - loss: 0.0037\n",
            "Epoch 7/50\n",
            "32/32 [==============================] - 1s 43ms/step - loss: 0.0031\n",
            "Epoch 8/50\n",
            "32/32 [==============================] - 1s 44ms/step - loss: 0.0029\n",
            "Epoch 9/50\n",
            "32/32 [==============================] - 1s 43ms/step - loss: 0.0036\n",
            "Epoch 10/50\n",
            "32/32 [==============================] - 1s 46ms/step - loss: 0.0028\n",
            "Epoch 11/50\n",
            "32/32 [==============================] - 2s 72ms/step - loss: 0.0026\n",
            "Epoch 12/50\n",
            "32/32 [==============================] - 1s 43ms/step - loss: 0.0029\n",
            "Epoch 13/50\n",
            "32/32 [==============================] - 1s 43ms/step - loss: 0.0029\n",
            "Epoch 14/50\n",
            "32/32 [==============================] - 1s 43ms/step - loss: 0.0024\n",
            "Epoch 15/50\n",
            "32/32 [==============================] - 1s 43ms/step - loss: 0.0022\n",
            "Epoch 16/50\n",
            "32/32 [==============================] - 1s 43ms/step - loss: 0.0023\n",
            "Epoch 17/50\n",
            "32/32 [==============================] - 1s 44ms/step - loss: 0.0021\n",
            "Epoch 18/50\n",
            "32/32 [==============================] - 1s 43ms/step - loss: 0.0021\n",
            "Epoch 19/50\n",
            "32/32 [==============================] - 2s 72ms/step - loss: 0.0020\n",
            "Epoch 20/50\n",
            "32/32 [==============================] - 2s 46ms/step - loss: 0.0024\n",
            "Epoch 21/50\n",
            "32/32 [==============================] - 1s 42ms/step - loss: 0.0026\n",
            "Epoch 22/50\n",
            "32/32 [==============================] - 1s 43ms/step - loss: 0.0021\n",
            "Epoch 23/50\n",
            "32/32 [==============================] - 1s 43ms/step - loss: 0.0019\n",
            "Epoch 24/50\n",
            "32/32 [==============================] - 1s 43ms/step - loss: 0.0018\n",
            "Epoch 25/50\n",
            "32/32 [==============================] - 1s 43ms/step - loss: 0.0019\n",
            "Epoch 26/50\n",
            "32/32 [==============================] - 1s 44ms/step - loss: 0.0018\n",
            "Epoch 27/50\n",
            "32/32 [==============================] - 2s 66ms/step - loss: 0.0017\n",
            "Epoch 28/50\n",
            "32/32 [==============================] - 2s 51ms/step - loss: 0.0017\n",
            "Epoch 29/50\n",
            "32/32 [==============================] - 1s 43ms/step - loss: 0.0019\n",
            "Epoch 30/50\n",
            "32/32 [==============================] - 1s 42ms/step - loss: 0.0020\n",
            "Epoch 31/50\n",
            "32/32 [==============================] - 1s 44ms/step - loss: 0.0020\n",
            "Epoch 32/50\n",
            "32/32 [==============================] - 1s 43ms/step - loss: 0.0025\n",
            "Epoch 33/50\n",
            "32/32 [==============================] - 1s 43ms/step - loss: 0.0022\n",
            "Epoch 34/50\n",
            "32/32 [==============================] - 1s 44ms/step - loss: 0.0018\n",
            "Epoch 35/50\n",
            "32/32 [==============================] - 2s 59ms/step - loss: 0.0017\n",
            "Epoch 36/50\n",
            "32/32 [==============================] - 2s 58ms/step - loss: 0.0016\n",
            "Epoch 37/50\n",
            "32/32 [==============================] - 1s 43ms/step - loss: 0.0018\n",
            "Epoch 38/50\n",
            "32/32 [==============================] - 1s 43ms/step - loss: 0.0016\n",
            "Epoch 39/50\n",
            "32/32 [==============================] - 1s 43ms/step - loss: 0.0019\n",
            "Epoch 40/50\n",
            "32/32 [==============================] - 1s 44ms/step - loss: 0.0016\n",
            "Epoch 41/50\n",
            "32/32 [==============================] - 1s 44ms/step - loss: 0.0018\n",
            "Epoch 42/50\n",
            "32/32 [==============================] - 1s 44ms/step - loss: 0.0020\n",
            "Epoch 43/50\n",
            "32/32 [==============================] - 2s 56ms/step - loss: 0.0024\n",
            "Epoch 44/50\n",
            "32/32 [==============================] - 2s 63ms/step - loss: 0.0022\n",
            "Epoch 45/50\n",
            "32/32 [==============================] - 1s 42ms/step - loss: 0.0017\n",
            "Epoch 46/50\n",
            "32/32 [==============================] - 1s 43ms/step - loss: 0.0015\n",
            "Epoch 47/50\n",
            "32/32 [==============================] - 1s 43ms/step - loss: 0.0014\n",
            "Epoch 48/50\n",
            "32/32 [==============================] - 1s 43ms/step - loss: 0.0018\n",
            "Epoch 49/50\n",
            "32/32 [==============================] - 1s 43ms/step - loss: 0.0016\n",
            "Epoch 50/50\n",
            "32/32 [==============================] - 1s 43ms/step - loss: 0.0019\n"
          ]
        },
        {
          "output_type": "execute_result",
          "data": {
            "text/plain": [
              "<keras.src.callbacks.History at 0x7e7f4198fd90>"
            ]
          },
          "metadata": {},
          "execution_count": 128
        }
      ]
    },
    {
      "cell_type": "code",
      "source": [
        "data_testing.head()"
      ],
      "metadata": {
        "colab": {
          "base_uri": "https://localhost:8080/",
          "height": 206
        },
        "id": "vhTxTiQ00u7V",
        "outputId": "71a97e5f-f313-4a2f-87ac-3095dbce69e3"
      },
      "execution_count": 129,
      "outputs": [
        {
          "output_type": "execute_result",
          "data": {
            "text/plain": [
              "        Date       Open       High        Low      Close  Adj Close    Average\n",
              "38  3/1/2010  31.240000  31.549999  31.090000  31.430000  22.529491  29.567898\n",
              "39  3/2/2010  31.389999  31.580000  31.270000  31.360001  22.479313  29.615863\n",
              "40  3/3/2010  31.430000  31.809999  31.320000  31.469999  22.558161  29.717632\n",
              "41  3/4/2010  31.540001  31.580000  31.299999  31.440001  22.536654  29.679331\n",
              "42  3/5/2010  31.549999  31.910000  31.490000  31.799999  22.794710  29.908942"
            ],
            "text/html": [
              "\n",
              "  <div id=\"df-39a57738-c687-4164-93ac-642cf4b3aed9\" class=\"colab-df-container\">\n",
              "    <div>\n",
              "<style scoped>\n",
              "    .dataframe tbody tr th:only-of-type {\n",
              "        vertical-align: middle;\n",
              "    }\n",
              "\n",
              "    .dataframe tbody tr th {\n",
              "        vertical-align: top;\n",
              "    }\n",
              "\n",
              "    .dataframe thead th {\n",
              "        text-align: right;\n",
              "    }\n",
              "</style>\n",
              "<table border=\"1\" class=\"dataframe\">\n",
              "  <thead>\n",
              "    <tr style=\"text-align: right;\">\n",
              "      <th></th>\n",
              "      <th>Date</th>\n",
              "      <th>Open</th>\n",
              "      <th>High</th>\n",
              "      <th>Low</th>\n",
              "      <th>Close</th>\n",
              "      <th>Adj Close</th>\n",
              "      <th>Average</th>\n",
              "    </tr>\n",
              "  </thead>\n",
              "  <tbody>\n",
              "    <tr>\n",
              "      <th>38</th>\n",
              "      <td>3/1/2010</td>\n",
              "      <td>31.240000</td>\n",
              "      <td>31.549999</td>\n",
              "      <td>31.090000</td>\n",
              "      <td>31.430000</td>\n",
              "      <td>22.529491</td>\n",
              "      <td>29.567898</td>\n",
              "    </tr>\n",
              "    <tr>\n",
              "      <th>39</th>\n",
              "      <td>3/2/2010</td>\n",
              "      <td>31.389999</td>\n",
              "      <td>31.580000</td>\n",
              "      <td>31.270000</td>\n",
              "      <td>31.360001</td>\n",
              "      <td>22.479313</td>\n",
              "      <td>29.615863</td>\n",
              "    </tr>\n",
              "    <tr>\n",
              "      <th>40</th>\n",
              "      <td>3/3/2010</td>\n",
              "      <td>31.430000</td>\n",
              "      <td>31.809999</td>\n",
              "      <td>31.320000</td>\n",
              "      <td>31.469999</td>\n",
              "      <td>22.558161</td>\n",
              "      <td>29.717632</td>\n",
              "    </tr>\n",
              "    <tr>\n",
              "      <th>41</th>\n",
              "      <td>3/4/2010</td>\n",
              "      <td>31.540001</td>\n",
              "      <td>31.580000</td>\n",
              "      <td>31.299999</td>\n",
              "      <td>31.440001</td>\n",
              "      <td>22.536654</td>\n",
              "      <td>29.679331</td>\n",
              "    </tr>\n",
              "    <tr>\n",
              "      <th>42</th>\n",
              "      <td>3/5/2010</td>\n",
              "      <td>31.549999</td>\n",
              "      <td>31.910000</td>\n",
              "      <td>31.490000</td>\n",
              "      <td>31.799999</td>\n",
              "      <td>22.794710</td>\n",
              "      <td>29.908942</td>\n",
              "    </tr>\n",
              "  </tbody>\n",
              "</table>\n",
              "</div>\n",
              "    <div class=\"colab-df-buttons\">\n",
              "\n",
              "  <div class=\"colab-df-container\">\n",
              "    <button class=\"colab-df-convert\" onclick=\"convertToInteractive('df-39a57738-c687-4164-93ac-642cf4b3aed9')\"\n",
              "            title=\"Convert this dataframe to an interactive table.\"\n",
              "            style=\"display:none;\">\n",
              "\n",
              "  <svg xmlns=\"http://www.w3.org/2000/svg\" height=\"24px\" viewBox=\"0 -960 960 960\">\n",
              "    <path d=\"M120-120v-720h720v720H120Zm60-500h600v-160H180v160Zm220 220h160v-160H400v160Zm0 220h160v-160H400v160ZM180-400h160v-160H180v160Zm440 0h160v-160H620v160ZM180-180h160v-160H180v160Zm440 0h160v-160H620v160Z\"/>\n",
              "  </svg>\n",
              "    </button>\n",
              "\n",
              "  <style>\n",
              "    .colab-df-container {\n",
              "      display:flex;\n",
              "      gap: 12px;\n",
              "    }\n",
              "\n",
              "    .colab-df-convert {\n",
              "      background-color: #E8F0FE;\n",
              "      border: none;\n",
              "      border-radius: 50%;\n",
              "      cursor: pointer;\n",
              "      display: none;\n",
              "      fill: #1967D2;\n",
              "      height: 32px;\n",
              "      padding: 0 0 0 0;\n",
              "      width: 32px;\n",
              "    }\n",
              "\n",
              "    .colab-df-convert:hover {\n",
              "      background-color: #E2EBFA;\n",
              "      box-shadow: 0px 1px 2px rgba(60, 64, 67, 0.3), 0px 1px 3px 1px rgba(60, 64, 67, 0.15);\n",
              "      fill: #174EA6;\n",
              "    }\n",
              "\n",
              "    .colab-df-buttons div {\n",
              "      margin-bottom: 4px;\n",
              "    }\n",
              "\n",
              "    [theme=dark] .colab-df-convert {\n",
              "      background-color: #3B4455;\n",
              "      fill: #D2E3FC;\n",
              "    }\n",
              "\n",
              "    [theme=dark] .colab-df-convert:hover {\n",
              "      background-color: #434B5C;\n",
              "      box-shadow: 0px 1px 3px 1px rgba(0, 0, 0, 0.15);\n",
              "      filter: drop-shadow(0px 1px 2px rgba(0, 0, 0, 0.3));\n",
              "      fill: #FFFFFF;\n",
              "    }\n",
              "  </style>\n",
              "\n",
              "    <script>\n",
              "      const buttonEl =\n",
              "        document.querySelector('#df-39a57738-c687-4164-93ac-642cf4b3aed9 button.colab-df-convert');\n",
              "      buttonEl.style.display =\n",
              "        google.colab.kernel.accessAllowed ? 'block' : 'none';\n",
              "\n",
              "      async function convertToInteractive(key) {\n",
              "        const element = document.querySelector('#df-39a57738-c687-4164-93ac-642cf4b3aed9');\n",
              "        const dataTable =\n",
              "          await google.colab.kernel.invokeFunction('convertToInteractive',\n",
              "                                                    [key], {});\n",
              "        if (!dataTable) return;\n",
              "\n",
              "        const docLinkHtml = 'Like what you see? Visit the ' +\n",
              "          '<a target=\"_blank\" href=https://colab.research.google.com/notebooks/data_table.ipynb>data table notebook</a>'\n",
              "          + ' to learn more about interactive tables.';\n",
              "        element.innerHTML = '';\n",
              "        dataTable['output_type'] = 'display_data';\n",
              "        await google.colab.output.renderOutput(dataTable, element);\n",
              "        const docLink = document.createElement('div');\n",
              "        docLink.innerHTML = docLinkHtml;\n",
              "        element.appendChild(docLink);\n",
              "      }\n",
              "    </script>\n",
              "  </div>\n",
              "\n",
              "\n",
              "<div id=\"df-78da0022-41bb-4a19-82ce-da5c1bf623ee\">\n",
              "  <button class=\"colab-df-quickchart\" onclick=\"quickchart('df-78da0022-41bb-4a19-82ce-da5c1bf623ee')\"\n",
              "            title=\"Suggest charts\"\n",
              "            style=\"display:none;\">\n",
              "\n",
              "<svg xmlns=\"http://www.w3.org/2000/svg\" height=\"24px\"viewBox=\"0 0 24 24\"\n",
              "     width=\"24px\">\n",
              "    <g>\n",
              "        <path d=\"M19 3H5c-1.1 0-2 .9-2 2v14c0 1.1.9 2 2 2h14c1.1 0 2-.9 2-2V5c0-1.1-.9-2-2-2zM9 17H7v-7h2v7zm4 0h-2V7h2v10zm4 0h-2v-4h2v4z\"/>\n",
              "    </g>\n",
              "</svg>\n",
              "  </button>\n",
              "\n",
              "<style>\n",
              "  .colab-df-quickchart {\n",
              "      --bg-color: #E8F0FE;\n",
              "      --fill-color: #1967D2;\n",
              "      --hover-bg-color: #E2EBFA;\n",
              "      --hover-fill-color: #174EA6;\n",
              "      --disabled-fill-color: #AAA;\n",
              "      --disabled-bg-color: #DDD;\n",
              "  }\n",
              "\n",
              "  [theme=dark] .colab-df-quickchart {\n",
              "      --bg-color: #3B4455;\n",
              "      --fill-color: #D2E3FC;\n",
              "      --hover-bg-color: #434B5C;\n",
              "      --hover-fill-color: #FFFFFF;\n",
              "      --disabled-bg-color: #3B4455;\n",
              "      --disabled-fill-color: #666;\n",
              "  }\n",
              "\n",
              "  .colab-df-quickchart {\n",
              "    background-color: var(--bg-color);\n",
              "    border: none;\n",
              "    border-radius: 50%;\n",
              "    cursor: pointer;\n",
              "    display: none;\n",
              "    fill: var(--fill-color);\n",
              "    height: 32px;\n",
              "    padding: 0;\n",
              "    width: 32px;\n",
              "  }\n",
              "\n",
              "  .colab-df-quickchart:hover {\n",
              "    background-color: var(--hover-bg-color);\n",
              "    box-shadow: 0 1px 2px rgba(60, 64, 67, 0.3), 0 1px 3px 1px rgba(60, 64, 67, 0.15);\n",
              "    fill: var(--button-hover-fill-color);\n",
              "  }\n",
              "\n",
              "  .colab-df-quickchart-complete:disabled,\n",
              "  .colab-df-quickchart-complete:disabled:hover {\n",
              "    background-color: var(--disabled-bg-color);\n",
              "    fill: var(--disabled-fill-color);\n",
              "    box-shadow: none;\n",
              "  }\n",
              "\n",
              "  .colab-df-spinner {\n",
              "    border: 2px solid var(--fill-color);\n",
              "    border-color: transparent;\n",
              "    border-bottom-color: var(--fill-color);\n",
              "    animation:\n",
              "      spin 1s steps(1) infinite;\n",
              "  }\n",
              "\n",
              "  @keyframes spin {\n",
              "    0% {\n",
              "      border-color: transparent;\n",
              "      border-bottom-color: var(--fill-color);\n",
              "      border-left-color: var(--fill-color);\n",
              "    }\n",
              "    20% {\n",
              "      border-color: transparent;\n",
              "      border-left-color: var(--fill-color);\n",
              "      border-top-color: var(--fill-color);\n",
              "    }\n",
              "    30% {\n",
              "      border-color: transparent;\n",
              "      border-left-color: var(--fill-color);\n",
              "      border-top-color: var(--fill-color);\n",
              "      border-right-color: var(--fill-color);\n",
              "    }\n",
              "    40% {\n",
              "      border-color: transparent;\n",
              "      border-right-color: var(--fill-color);\n",
              "      border-top-color: var(--fill-color);\n",
              "    }\n",
              "    60% {\n",
              "      border-color: transparent;\n",
              "      border-right-color: var(--fill-color);\n",
              "    }\n",
              "    80% {\n",
              "      border-color: transparent;\n",
              "      border-right-color: var(--fill-color);\n",
              "      border-bottom-color: var(--fill-color);\n",
              "    }\n",
              "    90% {\n",
              "      border-color: transparent;\n",
              "      border-bottom-color: var(--fill-color);\n",
              "    }\n",
              "  }\n",
              "</style>\n",
              "\n",
              "  <script>\n",
              "    async function quickchart(key) {\n",
              "      const quickchartButtonEl =\n",
              "        document.querySelector('#' + key + ' button');\n",
              "      quickchartButtonEl.disabled = true;  // To prevent multiple clicks.\n",
              "      quickchartButtonEl.classList.add('colab-df-spinner');\n",
              "      try {\n",
              "        const charts = await google.colab.kernel.invokeFunction(\n",
              "            'suggestCharts', [key], {});\n",
              "      } catch (error) {\n",
              "        console.error('Error during call to suggestCharts:', error);\n",
              "      }\n",
              "      quickchartButtonEl.classList.remove('colab-df-spinner');\n",
              "      quickchartButtonEl.classList.add('colab-df-quickchart-complete');\n",
              "    }\n",
              "    (() => {\n",
              "      let quickchartButtonEl =\n",
              "        document.querySelector('#df-78da0022-41bb-4a19-82ce-da5c1bf623ee button');\n",
              "      quickchartButtonEl.style.display =\n",
              "        google.colab.kernel.accessAllowed ? 'block' : 'none';\n",
              "    })();\n",
              "  </script>\n",
              "</div>\n",
              "\n",
              "    </div>\n",
              "  </div>\n"
            ]
          },
          "metadata": {},
          "execution_count": 129
        }
      ]
    },
    {
      "cell_type": "code",
      "source": [
        "past_20_days = data_testing.tail(20)"
      ],
      "metadata": {
        "id": "oix-XQ7G0w80"
      },
      "execution_count": 130,
      "outputs": []
    },
    {
      "cell_type": "code",
      "source": [
        "df = past_20_days.append(data_testing, ignore_index = True)\n",
        "df = df.drop(['Date'], axis = 1)\n",
        "df.head()"
      ],
      "metadata": {
        "colab": {
          "base_uri": "https://localhost:8080/",
          "height": 241
        },
        "id": "VFu9sJvr0y-d",
        "outputId": "636083ae-f4b4-4cf6-b6e7-0e1b7a402396"
      },
      "execution_count": 131,
      "outputs": [
        {
          "output_type": "stream",
          "name": "stderr",
          "text": [
            "<ipython-input-131-08f6f3976b94>:1: FutureWarning: The frame.append method is deprecated and will be removed from pandas in a future version. Use pandas.concat instead.\n",
            "  df = past_20_days.append(data_testing, ignore_index = True)\n"
          ]
        },
        {
          "output_type": "execute_result",
          "data": {
            "text/plain": [
              "         Open        High         Low       Close   Adj Close     Average\n",
              "0  248.630005  252.720001  247.000000  252.710007  231.047241  246.421451\n",
              "1  251.800003  252.830002  250.389999  251.000000  230.854111  247.374823\n",
              "2  249.770004  252.169998  247.470001  248.949997  228.968643  245.465729\n",
              "3  252.339996  255.850006  250.380005  254.899994  234.441010  249.582202\n",
              "4  252.490005  256.809998  252.259995  256.769989  236.160950  250.898187"
            ],
            "text/html": [
              "\n",
              "  <div id=\"df-ab0536f5-5962-4b83-b0bd-24a2cc302144\" class=\"colab-df-container\">\n",
              "    <div>\n",
              "<style scoped>\n",
              "    .dataframe tbody tr th:only-of-type {\n",
              "        vertical-align: middle;\n",
              "    }\n",
              "\n",
              "    .dataframe tbody tr th {\n",
              "        vertical-align: top;\n",
              "    }\n",
              "\n",
              "    .dataframe thead th {\n",
              "        text-align: right;\n",
              "    }\n",
              "</style>\n",
              "<table border=\"1\" class=\"dataframe\">\n",
              "  <thead>\n",
              "    <tr style=\"text-align: right;\">\n",
              "      <th></th>\n",
              "      <th>Open</th>\n",
              "      <th>High</th>\n",
              "      <th>Low</th>\n",
              "      <th>Close</th>\n",
              "      <th>Adj Close</th>\n",
              "      <th>Average</th>\n",
              "    </tr>\n",
              "  </thead>\n",
              "  <tbody>\n",
              "    <tr>\n",
              "      <th>0</th>\n",
              "      <td>248.630005</td>\n",
              "      <td>252.720001</td>\n",
              "      <td>247.000000</td>\n",
              "      <td>252.710007</td>\n",
              "      <td>231.047241</td>\n",
              "      <td>246.421451</td>\n",
              "    </tr>\n",
              "    <tr>\n",
              "      <th>1</th>\n",
              "      <td>251.800003</td>\n",
              "      <td>252.830002</td>\n",
              "      <td>250.389999</td>\n",
              "      <td>251.000000</td>\n",
              "      <td>230.854111</td>\n",
              "      <td>247.374823</td>\n",
              "    </tr>\n",
              "    <tr>\n",
              "      <th>2</th>\n",
              "      <td>249.770004</td>\n",
              "      <td>252.169998</td>\n",
              "      <td>247.470001</td>\n",
              "      <td>248.949997</td>\n",
              "      <td>228.968643</td>\n",
              "      <td>245.465729</td>\n",
              "    </tr>\n",
              "    <tr>\n",
              "      <th>3</th>\n",
              "      <td>252.339996</td>\n",
              "      <td>255.850006</td>\n",
              "      <td>250.380005</td>\n",
              "      <td>254.899994</td>\n",
              "      <td>234.441010</td>\n",
              "      <td>249.582202</td>\n",
              "    </tr>\n",
              "    <tr>\n",
              "      <th>4</th>\n",
              "      <td>252.490005</td>\n",
              "      <td>256.809998</td>\n",
              "      <td>252.259995</td>\n",
              "      <td>256.769989</td>\n",
              "      <td>236.160950</td>\n",
              "      <td>250.898187</td>\n",
              "    </tr>\n",
              "  </tbody>\n",
              "</table>\n",
              "</div>\n",
              "    <div class=\"colab-df-buttons\">\n",
              "\n",
              "  <div class=\"colab-df-container\">\n",
              "    <button class=\"colab-df-convert\" onclick=\"convertToInteractive('df-ab0536f5-5962-4b83-b0bd-24a2cc302144')\"\n",
              "            title=\"Convert this dataframe to an interactive table.\"\n",
              "            style=\"display:none;\">\n",
              "\n",
              "  <svg xmlns=\"http://www.w3.org/2000/svg\" height=\"24px\" viewBox=\"0 -960 960 960\">\n",
              "    <path d=\"M120-120v-720h720v720H120Zm60-500h600v-160H180v160Zm220 220h160v-160H400v160Zm0 220h160v-160H400v160ZM180-400h160v-160H180v160Zm440 0h160v-160H620v160ZM180-180h160v-160H180v160Zm440 0h160v-160H620v160Z\"/>\n",
              "  </svg>\n",
              "    </button>\n",
              "\n",
              "  <style>\n",
              "    .colab-df-container {\n",
              "      display:flex;\n",
              "      gap: 12px;\n",
              "    }\n",
              "\n",
              "    .colab-df-convert {\n",
              "      background-color: #E8F0FE;\n",
              "      border: none;\n",
              "      border-radius: 50%;\n",
              "      cursor: pointer;\n",
              "      display: none;\n",
              "      fill: #1967D2;\n",
              "      height: 32px;\n",
              "      padding: 0 0 0 0;\n",
              "      width: 32px;\n",
              "    }\n",
              "\n",
              "    .colab-df-convert:hover {\n",
              "      background-color: #E2EBFA;\n",
              "      box-shadow: 0px 1px 2px rgba(60, 64, 67, 0.3), 0px 1px 3px 1px rgba(60, 64, 67, 0.15);\n",
              "      fill: #174EA6;\n",
              "    }\n",
              "\n",
              "    .colab-df-buttons div {\n",
              "      margin-bottom: 4px;\n",
              "    }\n",
              "\n",
              "    [theme=dark] .colab-df-convert {\n",
              "      background-color: #3B4455;\n",
              "      fill: #D2E3FC;\n",
              "    }\n",
              "\n",
              "    [theme=dark] .colab-df-convert:hover {\n",
              "      background-color: #434B5C;\n",
              "      box-shadow: 0px 1px 3px 1px rgba(0, 0, 0, 0.15);\n",
              "      filter: drop-shadow(0px 1px 2px rgba(0, 0, 0, 0.3));\n",
              "      fill: #FFFFFF;\n",
              "    }\n",
              "  </style>\n",
              "\n",
              "    <script>\n",
              "      const buttonEl =\n",
              "        document.querySelector('#df-ab0536f5-5962-4b83-b0bd-24a2cc302144 button.colab-df-convert');\n",
              "      buttonEl.style.display =\n",
              "        google.colab.kernel.accessAllowed ? 'block' : 'none';\n",
              "\n",
              "      async function convertToInteractive(key) {\n",
              "        const element = document.querySelector('#df-ab0536f5-5962-4b83-b0bd-24a2cc302144');\n",
              "        const dataTable =\n",
              "          await google.colab.kernel.invokeFunction('convertToInteractive',\n",
              "                                                    [key], {});\n",
              "        if (!dataTable) return;\n",
              "\n",
              "        const docLinkHtml = 'Like what you see? Visit the ' +\n",
              "          '<a target=\"_blank\" href=https://colab.research.google.com/notebooks/data_table.ipynb>data table notebook</a>'\n",
              "          + ' to learn more about interactive tables.';\n",
              "        element.innerHTML = '';\n",
              "        dataTable['output_type'] = 'display_data';\n",
              "        await google.colab.output.renderOutput(dataTable, element);\n",
              "        const docLink = document.createElement('div');\n",
              "        docLink.innerHTML = docLinkHtml;\n",
              "        element.appendChild(docLink);\n",
              "      }\n",
              "    </script>\n",
              "  </div>\n",
              "\n",
              "\n",
              "<div id=\"df-e8a25417-b0c7-4924-af72-16c4edf78991\">\n",
              "  <button class=\"colab-df-quickchart\" onclick=\"quickchart('df-e8a25417-b0c7-4924-af72-16c4edf78991')\"\n",
              "            title=\"Suggest charts\"\n",
              "            style=\"display:none;\">\n",
              "\n",
              "<svg xmlns=\"http://www.w3.org/2000/svg\" height=\"24px\"viewBox=\"0 0 24 24\"\n",
              "     width=\"24px\">\n",
              "    <g>\n",
              "        <path d=\"M19 3H5c-1.1 0-2 .9-2 2v14c0 1.1.9 2 2 2h14c1.1 0 2-.9 2-2V5c0-1.1-.9-2-2-2zM9 17H7v-7h2v7zm4 0h-2V7h2v10zm4 0h-2v-4h2v4z\"/>\n",
              "    </g>\n",
              "</svg>\n",
              "  </button>\n",
              "\n",
              "<style>\n",
              "  .colab-df-quickchart {\n",
              "      --bg-color: #E8F0FE;\n",
              "      --fill-color: #1967D2;\n",
              "      --hover-bg-color: #E2EBFA;\n",
              "      --hover-fill-color: #174EA6;\n",
              "      --disabled-fill-color: #AAA;\n",
              "      --disabled-bg-color: #DDD;\n",
              "  }\n",
              "\n",
              "  [theme=dark] .colab-df-quickchart {\n",
              "      --bg-color: #3B4455;\n",
              "      --fill-color: #D2E3FC;\n",
              "      --hover-bg-color: #434B5C;\n",
              "      --hover-fill-color: #FFFFFF;\n",
              "      --disabled-bg-color: #3B4455;\n",
              "      --disabled-fill-color: #666;\n",
              "  }\n",
              "\n",
              "  .colab-df-quickchart {\n",
              "    background-color: var(--bg-color);\n",
              "    border: none;\n",
              "    border-radius: 50%;\n",
              "    cursor: pointer;\n",
              "    display: none;\n",
              "    fill: var(--fill-color);\n",
              "    height: 32px;\n",
              "    padding: 0;\n",
              "    width: 32px;\n",
              "  }\n",
              "\n",
              "  .colab-df-quickchart:hover {\n",
              "    background-color: var(--hover-bg-color);\n",
              "    box-shadow: 0 1px 2px rgba(60, 64, 67, 0.3), 0 1px 3px 1px rgba(60, 64, 67, 0.15);\n",
              "    fill: var(--button-hover-fill-color);\n",
              "  }\n",
              "\n",
              "  .colab-df-quickchart-complete:disabled,\n",
              "  .colab-df-quickchart-complete:disabled:hover {\n",
              "    background-color: var(--disabled-bg-color);\n",
              "    fill: var(--disabled-fill-color);\n",
              "    box-shadow: none;\n",
              "  }\n",
              "\n",
              "  .colab-df-spinner {\n",
              "    border: 2px solid var(--fill-color);\n",
              "    border-color: transparent;\n",
              "    border-bottom-color: var(--fill-color);\n",
              "    animation:\n",
              "      spin 1s steps(1) infinite;\n",
              "  }\n",
              "\n",
              "  @keyframes spin {\n",
              "    0% {\n",
              "      border-color: transparent;\n",
              "      border-bottom-color: var(--fill-color);\n",
              "      border-left-color: var(--fill-color);\n",
              "    }\n",
              "    20% {\n",
              "      border-color: transparent;\n",
              "      border-left-color: var(--fill-color);\n",
              "      border-top-color: var(--fill-color);\n",
              "    }\n",
              "    30% {\n",
              "      border-color: transparent;\n",
              "      border-left-color: var(--fill-color);\n",
              "      border-top-color: var(--fill-color);\n",
              "      border-right-color: var(--fill-color);\n",
              "    }\n",
              "    40% {\n",
              "      border-color: transparent;\n",
              "      border-right-color: var(--fill-color);\n",
              "      border-top-color: var(--fill-color);\n",
              "    }\n",
              "    60% {\n",
              "      border-color: transparent;\n",
              "      border-right-color: var(--fill-color);\n",
              "    }\n",
              "    80% {\n",
              "      border-color: transparent;\n",
              "      border-right-color: var(--fill-color);\n",
              "      border-bottom-color: var(--fill-color);\n",
              "    }\n",
              "    90% {\n",
              "      border-color: transparent;\n",
              "      border-bottom-color: var(--fill-color);\n",
              "    }\n",
              "  }\n",
              "</style>\n",
              "\n",
              "  <script>\n",
              "    async function quickchart(key) {\n",
              "      const quickchartButtonEl =\n",
              "        document.querySelector('#' + key + ' button');\n",
              "      quickchartButtonEl.disabled = true;  // To prevent multiple clicks.\n",
              "      quickchartButtonEl.classList.add('colab-df-spinner');\n",
              "      try {\n",
              "        const charts = await google.colab.kernel.invokeFunction(\n",
              "            'suggestCharts', [key], {});\n",
              "      } catch (error) {\n",
              "        console.error('Error during call to suggestCharts:', error);\n",
              "      }\n",
              "      quickchartButtonEl.classList.remove('colab-df-spinner');\n",
              "      quickchartButtonEl.classList.add('colab-df-quickchart-complete');\n",
              "    }\n",
              "    (() => {\n",
              "      let quickchartButtonEl =\n",
              "        document.querySelector('#df-e8a25417-b0c7-4924-af72-16c4edf78991 button');\n",
              "      quickchartButtonEl.style.display =\n",
              "        google.colab.kernel.accessAllowed ? 'block' : 'none';\n",
              "    })();\n",
              "  </script>\n",
              "</div>\n",
              "\n",
              "    </div>\n",
              "  </div>\n"
            ]
          },
          "metadata": {},
          "execution_count": 131
        }
      ]
    },
    {
      "cell_type": "code",
      "source": [
        "inputs = scaler.transform(df)\n",
        "inputs"
      ],
      "metadata": {
        "colab": {
          "base_uri": "https://localhost:8080/"
        },
        "id": "XKzOg7xH01pX",
        "outputId": "26b15625-c631-4ffe-ecde-7cf6798ac712"
      },
      "execution_count": 132,
      "outputs": [
        {
          "output_type": "execute_result",
          "data": {
            "text/plain": [
              "array([[1.00972605, 1.02442581, 1.013837  , 1.02590132, 1.03273921,\n",
              "        1.02424605],\n",
              "       [1.02420093, 1.02492709, 1.02947281, 1.01811724, 1.03179595,\n",
              "        1.02867617],\n",
              "       [1.01493153, 1.02191942, 1.0160048 , 1.00878547, 1.02258714,\n",
              "        1.019805  ],\n",
              "       ...,\n",
              "       [0.99223746, 0.9953974 , 0.99169779, 0.9925346 , 1.00655041,\n",
              "        0.99851018],\n",
              "       [0.99474889, 0.99425813, 0.98270375, 0.97264198, 0.98691991,\n",
              "        0.98918009],\n",
              "       [0.98246577, 0.99608093, 0.98311884, 0.99590309, 1.00987439,\n",
              "        0.99625236]])"
            ]
          },
          "metadata": {},
          "execution_count": 132
        }
      ]
    },
    {
      "cell_type": "code",
      "source": [
        "x_test = []\n",
        "y_test = []\n",
        "\n",
        "for i in range(20, inputs.shape[0]):\n",
        "    x_test.append(inputs[i-20:i])\n",
        "    y_test.append(inputs[i,0])\n",
        "\n",
        "x_test = np.array(x_test)\n",
        "y_test = np.array(y_test)\n",
        "x_test.shape, y_test.shape"
      ],
      "metadata": {
        "colab": {
          "base_uri": "https://localhost:8080/"
        },
        "id": "BW9x3C9l04KV",
        "outputId": "16edfae9-feb6-42b9-c201-91c8eb961e91"
      },
      "execution_count": 133,
      "outputs": [
        {
          "output_type": "execute_result",
          "data": {
            "text/plain": [
              "((1572, 20, 6), (1572,))"
            ]
          },
          "metadata": {},
          "execution_count": 133
        }
      ]
    },
    {
      "cell_type": "code",
      "source": [
        "x_test.shape"
      ],
      "metadata": {
        "colab": {
          "base_uri": "https://localhost:8080/"
        },
        "id": "Zd_P2VYY067s",
        "outputId": "7d835395-a069-44c0-ef8d-3588faa76fbf"
      },
      "execution_count": 134,
      "outputs": [
        {
          "output_type": "execute_result",
          "data": {
            "text/plain": [
              "(1572, 20, 6)"
            ]
          },
          "metadata": {},
          "execution_count": 134
        }
      ]
    },
    {
      "cell_type": "code",
      "source": [
        "y_pred = regressorGRU.predict(x_test)"
      ],
      "metadata": {
        "id": "25arIPFe0861",
        "colab": {
          "base_uri": "https://localhost:8080/"
        },
        "outputId": "a1e013bb-3828-4f86-ee3e-dafa444e5428"
      },
      "execution_count": 135,
      "outputs": [
        {
          "output_type": "stream",
          "name": "stdout",
          "text": [
            "50/50 [==============================] - 1s 13ms/step\n"
          ]
        }
      ]
    },
    {
      "cell_type": "code",
      "source": [
        "scaler.scale_"
      ],
      "metadata": {
        "colab": {
          "base_uri": "https://localhost:8080/"
        },
        "id": "4Ae570VM0-7E",
        "outputId": "cab093b6-044a-4407-ac76-eaef139631aa"
      },
      "execution_count": 136,
      "outputs": [
        {
          "output_type": "execute_result",
          "data": {
            "text/plain": [
              "array([0.00456621, 0.00455705, 0.00461233, 0.00455208, 0.00488409,\n",
              "       0.00464679])"
            ]
          },
          "metadata": {},
          "execution_count": 136
        }
      ]
    },
    {
      "cell_type": "code",
      "source": [
        "scale = 1 / 0.00456621\n",
        "scale"
      ],
      "metadata": {
        "colab": {
          "base_uri": "https://localhost:8080/"
        },
        "id": "_XnJ6dmz09A2",
        "outputId": "aeff06c5-8352-4312-b765-5f951adb6e33"
      },
      "execution_count": 137,
      "outputs": [
        {
          "output_type": "execute_result",
          "data": {
            "text/plain": [
              "219.00000219"
            ]
          },
          "metadata": {},
          "execution_count": 137
        }
      ]
    },
    {
      "cell_type": "code",
      "source": [
        "y_pred = y_pred * scale\n",
        "y_test = y_test * scale"
      ],
      "metadata": {
        "id": "ygpN1m261DI1"
      },
      "execution_count": 138,
      "outputs": []
    },
    {
      "cell_type": "code",
      "source": [
        "y_pred.shape"
      ],
      "metadata": {
        "colab": {
          "base_uri": "https://localhost:8080/"
        },
        "id": "_rESwhpB1FjN",
        "outputId": "32360898-d353-496d-b565-04c140ea1cd8"
      },
      "execution_count": 139,
      "outputs": [
        {
          "output_type": "execute_result",
          "data": {
            "text/plain": [
              "(1572, 1)"
            ]
          },
          "metadata": {},
          "execution_count": 139
        }
      ]
    },
    {
      "cell_type": "code",
      "source": [
        "y_test.shape"
      ],
      "metadata": {
        "colab": {
          "base_uri": "https://localhost:8080/"
        },
        "id": "N1OtHpYw1Jpm",
        "outputId": "4a3091e2-3a0f-493b-bdf9-b9be79b0f85c"
      },
      "execution_count": 140,
      "outputs": [
        {
          "output_type": "execute_result",
          "data": {
            "text/plain": [
              "(1572,)"
            ]
          },
          "metadata": {},
          "execution_count": 140
        }
      ]
    },
    {
      "cell_type": "code",
      "source": [
        "y_pred[1503:]"
      ],
      "metadata": {
        "colab": {
          "base_uri": "https://localhost:8080/"
        },
        "id": "dXtrd6bv1MEY",
        "outputId": "34d17542-8edd-4f3d-f0d5-6b22ce37ebdb"
      },
      "execution_count": 141,
      "outputs": [
        {
          "output_type": "execute_result",
          "data": {
            "text/plain": [
              "array([[134.54723],\n",
              "       [130.73055],\n",
              "       [129.79424],\n",
              "       [130.844  ],\n",
              "       [133.08884],\n",
              "       [135.23723],\n",
              "       [137.26414],\n",
              "       [138.53035],\n",
              "       [138.04967],\n",
              "       [136.96965],\n",
              "       [135.94357],\n",
              "       [136.2611 ],\n",
              "       [137.99187],\n",
              "       [139.65973],\n",
              "       [141.7074 ],\n",
              "       [143.32103],\n",
              "       [145.26599],\n",
              "       [146.38124],\n",
              "       [147.06052],\n",
              "       [148.46667],\n",
              "       [149.89436],\n",
              "       [150.46727],\n",
              "       [150.74997],\n",
              "       [151.00743],\n",
              "       [151.88367],\n",
              "       [153.77567],\n",
              "       [156.12361],\n",
              "       [158.3146 ],\n",
              "       [159.80702],\n",
              "       [160.65466],\n",
              "       [161.43257],\n",
              "       [162.74065],\n",
              "       [164.06163],\n",
              "       [165.49779],\n",
              "       [167.26712],\n",
              "       [169.06088],\n",
              "       [170.58842],\n",
              "       [171.413  ],\n",
              "       [171.79909],\n",
              "       [172.64496],\n",
              "       [174.4556 ],\n",
              "       [175.69437],\n",
              "       [176.46143],\n",
              "       [176.9541 ],\n",
              "       [177.47699],\n",
              "       [178.37558],\n",
              "       [179.2815 ],\n",
              "       [180.2753 ],\n",
              "       [181.08957],\n",
              "       [181.80472],\n",
              "       [182.66481],\n",
              "       [183.51349],\n",
              "       [184.05818],\n",
              "       [184.81554],\n",
              "       [185.658  ],\n",
              "       [186.51645],\n",
              "       [187.23645],\n",
              "       [186.61278],\n",
              "       [185.44826],\n",
              "       [184.06755],\n",
              "       [183.81317],\n",
              "       [184.37764],\n",
              "       [184.80475],\n",
              "       [185.11932],\n",
              "       [185.09892],\n",
              "       [185.32843],\n",
              "       [185.21613],\n",
              "       [184.71523],\n",
              "       [184.01114]], dtype=float32)"
            ]
          },
          "metadata": {},
          "execution_count": 141
        }
      ]
    },
    {
      "cell_type": "code",
      "source": [
        "y_test[1503:]"
      ],
      "metadata": {
        "colab": {
          "base_uri": "https://localhost:8080/"
        },
        "id": "1oaIx9rC1Ovu",
        "outputId": "537e8659-b1f2-4de3-acf9-ac3c7641126c"
      },
      "execution_count": 142,
      "outputs": [
        {
          "output_type": "execute_result",
          "data": {
            "text/plain": [
              "array([122.55999923, 145.89000046, 156.91999957, 155.99000656,\n",
              "       160.99000661, 163.07000863, 167.30000467, 148.41000548,\n",
              "       147.44999847, 152.05999952, 160.5000016 , 175.41999975,\n",
              "       166.71000867, 172.30000472, 172.94999873, 174.38000674,\n",
              "       171.16999971, 171.61999672, 179.6699998 , 178.63000679,\n",
              "       173.25000173, 174.39000074, 175.82000876, 177.22999777,\n",
              "       187.53999488, 196.49000696, 193.83999794, 189.28999489,\n",
              "       189.27000589, 189.17999489, 197.44000397, 199.869997  ,\n",
              "       199.00999699, 205.19999905, 204.27000604, 211.07000911,\n",
              "       205.53999506, 198.86999699, 205.28999505, 218.33999818,\n",
              "       212.94999913, 214.50000214, 210.1199971 , 213.19999913,\n",
              "       220.64999621, 215.19000415, 222.02000622, 217.56000018,\n",
              "       221.91000622, 221.13000721, 224.30000524, 222.27000622,\n",
              "       224.83999825, 224.99000725, 227.83000428, 229.9500143 ,\n",
              "       221.36000321, 215.57000916, 210.1199971 , 221.89999622,\n",
              "       225.27000625, 221.86000322, 225.60000826, 218.19999918,\n",
              "       225.50000225, 220.3100002 , 217.30000517, 217.85000818,\n",
              "       215.16000615])"
            ]
          },
          "metadata": {},
          "execution_count": 142
        }
      ]
    },
    {
      "cell_type": "code",
      "source": [
        "plt.figure(figsize = (14,5))\n",
        "plt.plot(y_test[1503:], color = 'red', label = 'Real CELH Price')\n",
        "plt.plot(y_pred[1503:], color = 'green', label = 'Predicted CELH price')\n",
        "plt.title('CELH Price Prediction')\n",
        "plt.xlabel('Time')\n",
        "plt.ylabel('CELH Price')\n",
        "plt.legend()\n",
        "plt.show()"
      ],
      "metadata": {
        "colab": {
          "base_uri": "https://localhost:8080/",
          "height": 487
        },
        "id": "dF1LW4S51Q3F",
        "outputId": "e93db345-8662-4223-f280-ae9bb283519d"
      },
      "execution_count": 143,
      "outputs": [
        {
          "output_type": "display_data",
          "data": {
            "text/plain": [
              "<Figure size 1400x500 with 1 Axes>"
            ],
            "image/png": "[encoded data removed]"
          },
          "metadata": {}
        }
      ]
    }
  ]
}