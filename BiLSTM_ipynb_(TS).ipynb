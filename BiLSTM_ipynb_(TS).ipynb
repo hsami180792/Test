{
  "cells": [
    {
      "cell_type": "code",
      "execution_count": 113,
      "metadata": {
        "id": "aoo_hrDL--2j"
      },
      "outputs": [],
      "source": [
        "import numpy as np\n",
        "import matplotlib.pyplot as plt\n",
        "import pandas as pd\n",
        "from sklearn.preprocessing import MinMaxScaler, StandardScaler"
      ]
    },
    {
      "cell_type": "code",
      "execution_count": 114,
      "metadata": {
        "id": "PcpaLHNYB-YW"
      },
      "outputs": [],
      "source": [
        "import io"
      ]
    },
    {
      "cell_type": "code",
      "execution_count": 116,
      "metadata": {
        "colab": {
          "base_uri": "https://localhost:8080/",
          "height": 73
        },
        "id": "8gk8rRfgCAZc",
        "outputId": "ee669815-873e-4357-88b2-ad793eb9e061"
      },
      "outputs": [
        {
          "output_type": "display_data",
          "data": {
            "text/plain": [
              "<IPython.core.display.HTML object>"
            ],
            "text/html": [
              "\n",
              "     <input type=\"file\" id=\"files-4caecd7f-f45b-47bd-993a-2689a94b1c5c\" name=\"files[]\" multiple disabled\n",
              "        style=\"border:none\" />\n",
              "     <output id=\"result-4caecd7f-f45b-47bd-993a-2689a94b1c5c\">\n",
              "      Upload widget is only available when the cell has been executed in the\n",
              "      current browser session. Please rerun this cell to enable.\n",
              "      </output>\n",
              "      <script>// Copyright 2017 Google LLC\n",
              "//\n",
              "// Licensed under the Apache License, Version 2.0 (the \"License\");\n",
              "// you may not use this file except in compliance with the License.\n",
              "// You may obtain a copy of the License at\n",
              "//\n",
              "//      http://www.apache.org/licenses/LICENSE-2.0\n",
              "//\n",
              "// Unless required by applicable law or agreed to in writing, software\n",
              "// distributed under the License is distributed on an \"AS IS\" BASIS,\n",
              "// WITHOUT WARRANTIES OR CONDITIONS OF ANY KIND, either express or implied.\n",
              "// See the License for the specific language governing permissions and\n",
              "// limitations under the License.\n",
              "\n",
              "/**\n",
              " * @fileoverview Helpers for google.colab Python module.\n",
              " */\n",
              "(function(scope) {\n",
              "function span(text, styleAttributes = {}) {\n",
              "  const element = document.createElement('span');\n",
              "  element.textContent = text;\n",
              "  for (const key of Object.keys(styleAttributes)) {\n",
              "    element.style[key] = styleAttributes[key];\n",
              "  }\n",
              "  return element;\n",
              "}\n",
              "\n",
              "// Max number of bytes which will be uploaded at a time.\n",
              "const MAX_PAYLOAD_SIZE = 100 * 1024;\n",
              "\n",
              "function _uploadFiles(inputId, outputId) {\n",
              "  const steps = uploadFilesStep(inputId, outputId);\n",
              "  const outputElement = document.getElementById(outputId);\n",
              "  // Cache steps on the outputElement to make it available for the next call\n",
              "  // to uploadFilesContinue from Python.\n",
              "  outputElement.steps = steps;\n",
              "\n",
              "  return _uploadFilesContinue(outputId);\n",
              "}\n",
              "\n",
              "// This is roughly an async generator (not supported in the browser yet),\n",
              "// where there are multiple asynchronous steps and the Python side is going\n",
              "// to poll for completion of each step.\n",
              "// This uses a Promise to block the python side on completion of each step,\n",
              "// then passes the result of the previous step as the input to the next step.\n",
              "function _uploadFilesContinue(outputId) {\n",
              "  const outputElement = document.getElementById(outputId);\n",
              "  const steps = outputElement.steps;\n",
              "\n",
              "  const next = steps.next(outputElement.lastPromiseValue);\n",
              "  return Promise.resolve(next.value.promise).then((value) => {\n",
              "    // Cache the last promise value to make it available to the next\n",
              "    // step of the generator.\n",
              "    outputElement.lastPromiseValue = value;\n",
              "    return next.value.response;\n",
              "  });\n",
              "}\n",
              "\n",
              "/**\n",
              " * Generator function which is called between each async step of the upload\n",
              " * process.\n",
              " * @param {string} inputId Element ID of the input file picker element.\n",
              " * @param {string} outputId Element ID of the output display.\n",
              " * @return {!Iterable<!Object>} Iterable of next steps.\n",
              " */\n",
              "function* uploadFilesStep(inputId, outputId) {\n",
              "  const inputElement = document.getElementById(inputId);\n",
              "  inputElement.disabled = false;\n",
              "\n",
              "  const outputElement = document.getElementById(outputId);\n",
              "  outputElement.innerHTML = '';\n",
              "\n",
              "  const pickedPromise = new Promise((resolve) => {\n",
              "    inputElement.addEventListener('change', (e) => {\n",
              "      resolve(e.target.files);\n",
              "    });\n",
              "  });\n",
              "\n",
              "  const cancel = document.createElement('button');\n",
              "  inputElement.parentElement.appendChild(cancel);\n",
              "  cancel.textContent = 'Cancel upload';\n",
              "  const cancelPromise = new Promise((resolve) => {\n",
              "    cancel.onclick = () => {\n",
              "      resolve(null);\n",
              "    };\n",
              "  });\n",
              "\n",
              "  // Wait for the user to pick the files.\n",
              "  const files = yield {\n",
              "    promise: Promise.race([pickedPromise, cancelPromise]),\n",
              "    response: {\n",
              "      action: 'starting',\n",
              "    }\n",
              "  };\n",
              "\n",
              "  cancel.remove();\n",
              "\n",
              "  // Disable the input element since further picks are not allowed.\n",
              "  inputElement.disabled = true;\n",
              "\n",
              "  if (!files) {\n",
              "    return {\n",
              "      response: {\n",
              "        action: 'complete',\n",
              "      }\n",
              "    };\n",
              "  }\n",
              "\n",
              "  for (const file of files) {\n",
              "    const li = document.createElement('li');\n",
              "    li.append(span(file.name, {fontWeight: 'bold'}));\n",
              "    li.append(span(\n",
              "        `(${file.type || 'n/a'}) - ${file.size} bytes, ` +\n",
              "        `last modified: ${\n",
              "            file.lastModifiedDate ? file.lastModifiedDate.toLocaleDateString() :\n",
              "                                    'n/a'} - `));\n",
              "    const percent = span('0% done');\n",
              "    li.appendChild(percent);\n",
              "\n",
              "    outputElement.appendChild(li);\n",
              "\n",
              "    const fileDataPromise = new Promise((resolve) => {\n",
              "      const reader = new FileReader();\n",
              "      reader.onload = (e) => {\n",
              "        resolve(e.target.result);\n",
              "      };\n",
              "      reader.readAsArrayBuffer(file);\n",
              "    });\n",
              "    // Wait for the data to be ready.\n",
              "    let fileData = yield {\n",
              "      promise: fileDataPromise,\n",
              "      response: {\n",
              "        action: 'continue',\n",
              "      }\n",
              "    };\n",
              "\n",
              "    // Use a chunked sending to avoid message size limits. See b/62115660.\n",
              "    let position = 0;\n",
              "    do {\n",
              "      const length = Math.min(fileData.byteLength - position, MAX_PAYLOAD_SIZE);\n",
              "      const chunk = new Uint8Array(fileData, position, length);\n",
              "      position += length;\n",
              "\n",
              "      const base64 = btoa(String.fromCharCode.apply(null, chunk));\n",
              "      yield {\n",
              "        response: {\n",
              "          action: 'append',\n",
              "          file: file.name,\n",
              "          data: base64,\n",
              "        },\n",
              "      };\n",
              "\n",
              "      let percentDone = fileData.byteLength === 0 ?\n",
              "          100 :\n",
              "          Math.round((position / fileData.byteLength) * 100);\n",
              "      percent.textContent = `${percentDone}% done`;\n",
              "\n",
              "    } while (position < fileData.byteLength);\n",
              "  }\n",
              "\n",
              "  // All done.\n",
              "  yield {\n",
              "    response: {\n",
              "      action: 'complete',\n",
              "    }\n",
              "  };\n",
              "}\n",
              "\n",
              "scope.google = scope.google || {};\n",
              "scope.google.colab = scope.google.colab || {};\n",
              "scope.google.colab._files = {\n",
              "  _uploadFiles,\n",
              "  _uploadFilesContinue,\n",
              "};\n",
              "})(self);\n",
              "</script> "
            ]
          },
          "metadata": {}
        },
        {
          "output_type": "stream",
          "name": "stdout",
          "text": [
            "Saving TSLA.csv to TSLA (2).csv\n"
          ]
        }
      ],
      "source": [
        "from google.colab import files\n",
        "uploaded = files.upload()"
      ]
    },
    {
      "cell_type": "code",
      "execution_count": 118,
      "metadata": {
        "colab": {
          "base_uri": "https://localhost:8080/"
        },
        "id": "r02WFySSCJzj",
        "outputId": "a36acd02-2291-4df9-99ee-5c6208e88ed9"
      },
      "outputs": [
        {
          "output_type": "stream",
          "name": "stdout",
          "text": [
            "           Date       Open       High        Low      Close  Adj Close  \\\n",
            "0     6/30/2010   1.719333   2.028000   1.553333   1.588667   1.588667   \n",
            "1      7/1/2010   1.666667   1.728000   1.351333   1.464000   1.464000   \n",
            "2      7/2/2010   1.533333   1.540000   1.247333   1.280000   1.280000   \n",
            "3      7/6/2010   1.333333   1.333333   1.055333   1.074000   1.074000   \n",
            "4      7/7/2010   1.093333   1.108667   0.998667   1.053333   1.053333   \n",
            "...         ...        ...        ...        ...        ...        ...   \n",
            "2512  6/23/2020  66.592003  67.466667  66.267334  66.785332  66.785332   \n",
            "2513  6/24/2020  66.274002  66.725334  63.542667  64.056664  64.056664   \n",
            "2514  6/25/2020  63.618000  65.732002  62.476665  65.732002  65.732002   \n",
            "2515  6/26/2020  66.318665  66.333336  63.658001  63.982666  63.982666   \n",
            "2516  6/29/2020  64.600670  67.333336  63.234669  67.290001  67.290001   \n",
            "\n",
            "        Average  \n",
            "0      1.695600  \n",
            "1      1.534800  \n",
            "2      1.376133  \n",
            "3      1.174000  \n",
            "4      1.061467  \n",
            "...         ...  \n",
            "2512  66.779334  \n",
            "2513  64.931066  \n",
            "2514  64.658134  \n",
            "2515  64.855067  \n",
            "2516  65.949735  \n",
            "\n",
            "[2517 rows x 7 columns]\n"
          ]
        }
      ],
      "source": [
        "df = pd.read_csv(io.BytesIO(uploaded['TSLA (2).csv']))\n",
        "print(df)"
      ]
    },
    {
      "cell_type": "code",
      "execution_count": 101,
      "metadata": {
        "colab": {
          "base_uri": "https://localhost:8080/",
          "height": 574
        },
        "id": "BQ5bBs-mCEYL",
        "outputId": "525876bc-0672-46b9-a201-2e07d10415ee"
      },
      "outputs": [
        {
          "output_type": "display_data",
          "data": {
            "text/plain": [
              "<Figure size 1600x600 with 1 Axes>"
            ],
            "image/png": "[encoded data removed]"
          },
          "metadata": {}
        }
      ],
      "source": [
        "plt.figure(figsize=(16,6))\n",
        "plt.title('Average Price History')\n",
        "plt.plot(df['Average'])\n",
        "plt.xlabel('Date', fontsize=18)\n",
        "plt.ylabel('Average Price USD ($)', fontsize=18)\n",
        "plt.show()"
      ]
    },
    {
      "cell_type": "code",
      "execution_count": 102,
      "metadata": {
        "colab": {
          "base_uri": "https://localhost:8080/"
        },
        "id": "ZTwdFCcCCLxK",
        "outputId": "516298b5-12d3-4365-b9ee-90aae1fd15f8"
      },
      "outputs": [
        {
          "output_type": "execute_result",
          "data": {
            "text/plain": [
              "2392"
            ]
          },
          "metadata": {},
          "execution_count": 102
        }
      ],
      "source": [
        "data = df.filter(['Average'])\n",
        "dataset = data.values\n",
        "training_data_len = int(np.ceil( len(dataset) * 0.95 ))\n",
        "window_size = 60\n",
        "training_data_len"
      ]
    },
    {
      "cell_type": "code",
      "execution_count": 103,
      "metadata": {
        "colab": {
          "base_uri": "https://localhost:8080/"
        },
        "id": "eH_fGy4aCRGr",
        "outputId": "70085ff8-ad83-4e9e-88a8-5c6e09c4a410"
      },
      "outputs": [
        {
          "output_type": "stream",
          "name": "stdout",
          "text": [
            "scaled_data.shape 2517\n"
          ]
        },
        {
          "output_type": "execute_result",
          "data": {
            "text/plain": [
              "array([[-1.11766081],\n",
              "       [-1.13232048],\n",
              "       [-1.14678567],\n",
              "       ...,\n",
              "       [ 4.62245077],\n",
              "       [ 4.64040455],\n",
              "       [ 4.74020231]])"
            ]
          },
          "metadata": {},
          "execution_count": 103
        }
      ],
      "source": [
        "sc = StandardScaler()\n",
        "scaled_data = sc.fit_transform(dataset)\n",
        "print('scaled_data.shape', len(dataset))\n",
        "scaled_data"
      ]
    },
    {
      "cell_type": "code",
      "execution_count": 104,
      "metadata": {
        "colab": {
          "base_uri": "https://localhost:8080/"
        },
        "id": "EHCH_jjFCUsk",
        "outputId": "83bdb8ba-7643-4700-fc3a-5c0923419e0c"
      },
      "outputs": [
        {
          "output_type": "stream",
          "name": "stdout",
          "text": [
            "x_train [array([-1.11766081, -1.13232048, -1.14678567, -1.16521358, -1.17547291,\n",
            "       -1.16995425, -1.16669656, -1.16634402, -1.16380352, -1.15612116,\n",
            "       -1.15042019, -1.14663978, -1.1405255 , -1.14539991, -1.14886428,\n",
            "       -1.14567948, -1.14292018, -1.14436669, -1.14649391, -1.14655472,\n",
            "       -1.14783103, -1.15060252, -1.14626295, -1.14136427, -1.14157091,\n",
            "       -1.14577674, -1.1519518 , -1.15247446, -1.15533103, -1.16136024,\n",
            "       -1.16492185, -1.16171277, -1.15911146, -1.15623056, -1.15637645,\n",
            "       -1.15834564, -1.15740968, -1.15221921, -1.15517304, -1.15372651,\n",
            "       -1.15158711, -1.15248664, -1.15161143, -1.15343476, -1.14970301,\n",
            "       -1.14577674, -1.14469491, -1.14680997, -1.14581322, -1.14563087,\n",
            "       -1.14852391, -1.14615357, -1.1447192 , -1.14129132, -1.14092665,\n",
            "       -1.14752715, -1.1454607 , -1.14503522, -1.14903443, -1.15232861])]\n",
            "\n",
            " y_train [-1.1506997624066244]\n",
            "\n",
            "x_train [array([-1.11766081, -1.13232048, -1.14678567, -1.16521358, -1.17547291,\n",
            "       -1.16995425, -1.16669656, -1.16634402, -1.16380352, -1.15612116,\n",
            "       -1.15042019, -1.14663978, -1.1405255 , -1.14539991, -1.14886428,\n",
            "       -1.14567948, -1.14292018, -1.14436669, -1.14649391, -1.14655472,\n",
            "       -1.14783103, -1.15060252, -1.14626295, -1.14136427, -1.14157091,\n",
            "       -1.14577674, -1.1519518 , -1.15247446, -1.15533103, -1.16136024,\n",
            "       -1.16492185, -1.16171277, -1.15911146, -1.15623056, -1.15637645,\n",
            "       -1.15834564, -1.15740968, -1.15221921, -1.15517304, -1.15372651,\n",
            "       -1.15158711, -1.15248664, -1.15161143, -1.15343476, -1.14970301,\n",
            "       -1.14577674, -1.14469491, -1.14680997, -1.14581322, -1.14563087,\n",
            "       -1.14852391, -1.14615357, -1.1447192 , -1.14129132, -1.14092665,\n",
            "       -1.14752715, -1.1454607 , -1.14503522, -1.14903443, -1.15232861]), array([-1.13232048, -1.14678567, -1.16521358, -1.17547291, -1.16995425,\n",
            "       -1.16669656, -1.16634402, -1.16380352, -1.15612116, -1.15042019,\n",
            "       -1.14663978, -1.1405255 , -1.14539991, -1.14886428, -1.14567948,\n",
            "       -1.14292018, -1.14436669, -1.14649391, -1.14655472, -1.14783103,\n",
            "       -1.15060252, -1.14626295, -1.14136427, -1.14157091, -1.14577674,\n",
            "       -1.1519518 , -1.15247446, -1.15533103, -1.16136024, -1.16492185,\n",
            "       -1.16171277, -1.15911146, -1.15623056, -1.15637645, -1.15834564,\n",
            "       -1.15740968, -1.15221921, -1.15517304, -1.15372651, -1.15158711,\n",
            "       -1.15248664, -1.15161143, -1.15343476, -1.14970301, -1.14577674,\n",
            "       -1.14469491, -1.14680997, -1.14581322, -1.14563087, -1.14852391,\n",
            "       -1.14615357, -1.1447192 , -1.14129132, -1.14092665, -1.14752715,\n",
            "       -1.1454607 , -1.14503522, -1.14903443, -1.15232861, -1.15069976])]\n",
            "\n",
            " y_train [-1.1506997624066244, -1.147867492380648]\n",
            "\n",
            "x_train.shape (2332, 60, 1)\n"
          ]
        }
      ],
      "source": [
        "train_data = scaled_data[0: int(training_data_len)]\n",
        "x_train = []\n",
        "y_train = []\n",
        "\n",
        "for i in range(window_size, len(train_data)):\n",
        "    x_train.append(train_data[i-window_size:i, 0])\n",
        "    y_train.append(train_data[i, 0])\n",
        "    if i <= window_size + 1:\n",
        "      print('x_train', x_train)\n",
        "      print('\\n y_train', y_train)\n",
        "      print()\n",
        "\n",
        "x_train = np.array(x_train)\n",
        "y_train = np.array(y_train)\n",
        "\n",
        "x_train = np.reshape(x_train, (x_train.shape[0], x_train.shape[1], 1))\n",
        "print('x_train.shape', x_train.shape)"
      ]
    },
    {
      "cell_type": "code",
      "execution_count": 105,
      "metadata": {
        "colab": {
          "base_uri": "https://localhost:8080/"
        },
        "id": "B_Kdn5MdCX86",
        "outputId": "2a67a8bc-e3a3-4fc8-e796-2fabc594f155"
      },
      "outputs": [
        {
          "output_type": "stream",
          "name": "stdout",
          "text": [
            "60\n"
          ]
        }
      ],
      "source": [
        "print(x_train.shape[1])"
      ]
    },
    {
      "cell_type": "code",
      "execution_count": 106,
      "metadata": {
        "colab": {
          "base_uri": "https://localhost:8080/"
        },
        "id": "FdXRQCguCb7z",
        "outputId": "efc12e91-5dc1-48d3-e7b6-fb18363f950f"
      },
      "outputs": [
        {
          "output_type": "stream",
          "name": "stdout",
          "text": [
            "Requirement already satisfied: layers in /usr/local/lib/python3.10/dist-packages (0.1.5)\n",
            "Requirement already satisfied: PyYaml in /usr/local/lib/python3.10/dist-packages (from layers) (6.0.1)\n",
            "Requirement already satisfied: bashutils in /usr/local/lib/python3.10/dist-packages (from layers) (0.0.4)\n"
          ]
        }
      ],
      "source": [
        "from tensorflow.keras import Sequential\n",
        "from tensorflow.keras.layers import Dense, LSTM, Dropout, GRU, Bidirectional\n",
        "!pip install layers"
      ]
    },
    {
      "cell_type": "code",
      "execution_count": 107,
      "metadata": {
        "id": "Imv-k6r1M1US"
      },
      "outputs": [],
      "source": [
        "import tensorflow as tf"
      ]
    },
    {
      "cell_type": "code",
      "execution_count": 108,
      "metadata": {
        "colab": {
          "base_uri": "https://localhost:8080/"
        },
        "id": "m3t6bpmsMii8",
        "outputId": "e4ae10a6-764c-4ebe-9cbb-6b5dc553d040"
      },
      "outputs": [
        {
          "output_type": "stream",
          "name": "stdout",
          "text": [
            "Model: \"model_5\"\n",
            "_________________________________________________________________\n",
            " Layer (type)                Output Shape              Param #   \n",
            "=================================================================\n",
            " input (InputLayer)          [(None, 60, 1)]           0         \n",
            "                                                                 \n",
            " bidirectional_10 (Bidirect  (None, 60, 256)           133120    \n",
            " ional)                                                          \n",
            "                                                                 \n",
            " bidirectional_11 (Bidirect  (None, 128)               164352    \n",
            " ional)                                                          \n",
            "                                                                 \n",
            " last_dense (Dense)          (None, 1)                 129       \n",
            "                                                                 \n",
            "=================================================================\n",
            "Total params: 297601 (1.14 MB)\n",
            "Trainable params: 297601 (1.14 MB)\n",
            "Non-trainable params: 0 (0.00 Byte)\n",
            "_________________________________________________________________\n"
          ]
        }
      ],
      "source": [
        "def build_lstm_model():\n",
        "  input = tf.keras.layers.Input(shape = (x_train.shape[1], 1), name = 'input')\n",
        "  x = tf.keras.layers.Bidirectional(LSTM(128, return_sequences = True))(input)\n",
        "  x = tf.keras.layers.Bidirectional(LSTM(64, return_sequences = False, dropout = 0.5))(x)\n",
        "  output = tf.keras.layers.Dense(1, name = \"last_dense\")(x)\n",
        "  model = tf.keras.Model(inputs = input, outputs = output)\n",
        "  return model\n",
        "\n",
        "LSTM_model = build_lstm_model()\n",
        "LSTM_model.summary()"
      ]
    },
    {
      "cell_type": "code",
      "execution_count": 109,
      "metadata": {
        "colab": {
          "base_uri": "https://localhost:8080/"
        },
        "id": "eDxyEfI1OGUL",
        "outputId": "eb308142-f744-402f-8bf5-3f825ebf55e5"
      },
      "outputs": [
        {
          "output_type": "stream",
          "name": "stdout",
          "text": [
            "Epoch 1/50\n",
            "73/73 [==============================] - 42s 346ms/step - loss: 0.0317\n",
            "Epoch 2/50\n",
            "73/73 [==============================] - 21s 285ms/step - loss: 0.0054\n",
            "Epoch 3/50\n",
            "73/73 [==============================] - 20s 268ms/step - loss: 0.0044\n",
            "Epoch 4/50\n",
            "73/73 [==============================] - 21s 284ms/step - loss: 0.0038\n",
            "Epoch 5/50\n",
            "73/73 [==============================] - 20s 270ms/step - loss: 0.0036\n",
            "Epoch 6/50\n",
            "73/73 [==============================] - 21s 282ms/step - loss: 0.0033\n",
            "Epoch 7/50\n",
            "73/73 [==============================] - 21s 286ms/step - loss: 0.0031\n",
            "Epoch 8/50\n",
            "73/73 [==============================] - 20s 268ms/step - loss: 0.0031\n",
            "Epoch 9/50\n",
            "73/73 [==============================] - 21s 284ms/step - loss: 0.0032\n",
            "Epoch 10/50\n",
            "73/73 [==============================] - 20s 273ms/step - loss: 0.0027\n",
            "Epoch 11/50\n",
            "73/73 [==============================] - 21s 283ms/step - loss: 0.0027\n",
            "Epoch 12/50\n",
            "73/73 [==============================] - 21s 285ms/step - loss: 0.0028\n",
            "Epoch 13/50\n",
            "73/73 [==============================] - 19s 267ms/step - loss: 0.0025\n",
            "Epoch 14/50\n",
            "73/73 [==============================] - 21s 284ms/step - loss: 0.0025\n",
            "Epoch 15/50\n",
            "73/73 [==============================] - 20s 271ms/step - loss: 0.0024\n",
            "Epoch 16/50\n",
            "73/73 [==============================] - 21s 283ms/step - loss: 0.0024\n",
            "Epoch 17/50\n",
            "73/73 [==============================] - 20s 280ms/step - loss: 0.0025\n",
            "Epoch 18/50\n",
            "73/73 [==============================] - 20s 268ms/step - loss: 0.0023\n",
            "Epoch 19/50\n",
            "73/73 [==============================] - 21s 286ms/step - loss: 0.0023\n",
            "Epoch 20/50\n",
            "73/73 [==============================] - 19s 267ms/step - loss: 0.0025\n",
            "Epoch 21/50\n",
            "73/73 [==============================] - 21s 284ms/step - loss: 0.0025\n",
            "Epoch 22/50\n",
            "73/73 [==============================] - 20s 278ms/step - loss: 0.0023\n",
            "Epoch 23/50\n",
            "73/73 [==============================] - 20s 271ms/step - loss: 0.0022\n",
            "Epoch 24/50\n",
            "73/73 [==============================] - 21s 286ms/step - loss: 0.0022\n",
            "Epoch 25/50\n",
            "73/73 [==============================] - 19s 264ms/step - loss: 0.0022\n",
            "Epoch 26/50\n",
            "73/73 [==============================] - 21s 283ms/step - loss: 0.0021\n",
            "Epoch 27/50\n",
            "73/73 [==============================] - 19s 266ms/step - loss: 0.0023\n",
            "Epoch 28/50\n",
            "73/73 [==============================] - 21s 280ms/step - loss: 0.0021\n",
            "Epoch 29/50\n",
            "73/73 [==============================] - 21s 288ms/step - loss: 0.0022\n",
            "Epoch 30/50\n",
            "73/73 [==============================] - 19s 267ms/step - loss: 0.0021\n",
            "Epoch 31/50\n",
            "73/73 [==============================] - 21s 283ms/step - loss: 0.0020\n",
            "Epoch 32/50\n",
            "73/73 [==============================] - 19s 266ms/step - loss: 0.0021\n",
            "Epoch 33/50\n",
            "73/73 [==============================] - 21s 285ms/step - loss: 0.0022\n",
            "Epoch 34/50\n",
            "73/73 [==============================] - 21s 285ms/step - loss: 0.0020\n",
            "Epoch 35/50\n",
            "73/73 [==============================] - 20s 268ms/step - loss: 0.0021\n",
            "Epoch 36/50\n",
            "73/73 [==============================] - 21s 286ms/step - loss: 0.0020\n",
            "Epoch 37/50\n",
            "73/73 [==============================] - 20s 268ms/step - loss: 0.0019\n",
            "Epoch 38/50\n",
            "73/73 [==============================] - 21s 287ms/step - loss: 0.0019\n",
            "Epoch 39/50\n",
            "73/73 [==============================] - 21s 283ms/step - loss: 0.0019\n",
            "Epoch 40/50\n",
            "73/73 [==============================] - 20s 268ms/step - loss: 0.0021\n",
            "Epoch 41/50\n",
            "73/73 [==============================] - 21s 283ms/step - loss: 0.0018\n",
            "Epoch 42/50\n",
            "73/73 [==============================] - 19s 267ms/step - loss: 0.0018\n",
            "Epoch 43/50\n",
            "73/73 [==============================] - 21s 284ms/step - loss: 0.0019\n",
            "Epoch 44/50\n",
            "73/73 [==============================] - 20s 277ms/step - loss: 0.0018\n",
            "Epoch 45/50\n",
            "73/73 [==============================] - 20s 274ms/step - loss: 0.0019\n",
            "Epoch 46/50\n",
            "73/73 [==============================] - 21s 285ms/step - loss: 0.0019\n",
            "Epoch 47/50\n",
            "73/73 [==============================] - 19s 267ms/step - loss: 0.0018\n",
            "Epoch 48/50\n",
            "73/73 [==============================] - 21s 283ms/step - loss: 0.0019\n",
            "Epoch 49/50\n",
            "73/73 [==============================] - 19s 265ms/step - loss: 0.0019\n",
            "Epoch 50/50\n",
            "73/73 [==============================] - 21s 281ms/step - loss: 0.0018\n"
          ]
        }
      ],
      "source": [
        "epochs = 50\n",
        "batch_size = 32\n",
        "early_stopping_patience = 20\n",
        "\n",
        "LSTM_model.compile(optimizer = 'adam', loss = 'mean_squared_error')\n",
        "price = LSTM_model.fit(x_train, y_train, batch_size = batch_size, epochs = epochs)"
      ]
    },
    {
      "cell_type": "code",
      "execution_count": 110,
      "metadata": {
        "colab": {
          "base_uri": "https://localhost:8080/"
        },
        "id": "Ezh4SVe9Rcbc",
        "outputId": "60c3164c-2395-430a-b72d-1757760bc2e4"
      },
      "outputs": [
        {
          "output_type": "stream",
          "name": "stdout",
          "text": [
            "len(test_data):  185\n",
            "4/4 [==============================] - 2s 77ms/step\n"
          ]
        },
        {
          "output_type": "execute_result",
          "data": {
            "text/plain": [
              "8.553393499430719"
            ]
          },
          "metadata": {},
          "execution_count": 110
        }
      ],
      "source": [
        "test_data = scaled_data[training_data_len - window_size: ]\n",
        "print('len(test_data): ', len(test_data))\n",
        "\n",
        "x_test = []\n",
        "y_test = dataset[training_data_len:, :]\n",
        "for i in range(window_size, len(test_data)):\n",
        "  x_test.append(test_data[i - window_size:i, 0])\n",
        "\n",
        "x_test = np.array(x_test)\n",
        "\n",
        "x_test = np.reshape(x_test, (x_test.shape[0], x_test.shape[1], 1))\n",
        "\n",
        "predictions = LSTM_model.predict(x_test)\n",
        "predictions = sc.inverse_transform(predictions)\n",
        "\n",
        "rmse = np.sqrt(np.mean(((predictions - y_test) ** 2)))\n",
        "rmse"
      ]
    },
    {
      "cell_type": "code",
      "execution_count": 111,
      "metadata": {
        "colab": {
          "base_uri": "https://localhost:8080/",
          "height": 678
        },
        "id": "8VuPThTcTlvO",
        "outputId": "17f6094c-d8a9-4852-9996-4ade95715dfc"
      },
      "outputs": [
        {
          "output_type": "stream",
          "name": "stderr",
          "text": [
            "<ipython-input-111-8f188311654f>:3: SettingWithCopyWarning: \n",
            "A value is trying to be set on a copy of a slice from a DataFrame.\n",
            "Try using .loc[row_indexer,col_indexer] = value instead\n",
            "\n",
            "See the caveats in the documentation: https://pandas.pydata.org/pandas-docs/stable/user_guide/indexing.html#returning-a-view-versus-a-copy\n",
            "  test['Predictions'] = predictions\n"
          ]
        },
        {
          "output_type": "display_data",
          "data": {
            "text/plain": [
              "<Figure size 1600x600 with 1 Axes>"
            ],
            "image/png": "[encoded data removed]"
          },
          "metadata": {}
        }
      ],
      "source": [
        "train = data[: training_data_len]\n",
        "test = data[training_data_len: ]\n",
        "test['Predictions'] = predictions\n",
        "\n",
        "plt.figure(figsize = (16, 6))\n",
        "plt.title('Model')\n",
        "plt.xlabel('Date', fontsize = 18)\n",
        "plt.ylabel('Average Price USD $', fontsize = 18)\n",
        "plt.plot(test[['Average', 'Predictions']])\n",
        "plt.legend(['Average', 'Predictions'], loc = 'lower right')\n",
        "plt.show()"
      ]
    },
    {
      "cell_type": "code",
      "execution_count": 112,
      "metadata": {
        "colab": {
          "base_uri": "https://localhost:8080/",
          "height": 682
        },
        "id": "GEby4t1IWCuD",
        "outputId": "457abfb3-b074-4a62-8d87-45fefd9656b4"
      },
      "outputs": [
        {
          "output_type": "execute_result",
          "data": {
            "text/plain": [
              "        Average  Predictions\n",
              "2392  27.533733    28.263191\n",
              "2393  28.499066    27.731293\n",
              "2394  29.565867    28.465172\n",
              "2395  29.801467    29.497665\n",
              "2396  30.993466    29.805698\n",
              "...         ...          ...\n",
              "2512  66.779334    49.856468\n",
              "2513  64.931066    49.936123\n",
              "2514  64.658134    49.106422\n",
              "2515  64.855067    49.198441\n",
              "2516  65.949735    49.242519\n",
              "\n",
              "[125 rows x 2 columns]"
            ],
            "text/html": [
              "\n",
              "  <div id=\"df-8926a0a8-d5be-4b08-8361-bea0c6fc61bd\" class=\"colab-df-container\">\n",
              "    <div>\n",
              "<style scoped>\n",
              "    .dataframe tbody tr th:only-of-type {\n",
              "        vertical-align: middle;\n",
              "    }\n",
              "\n",
              "    .dataframe tbody tr th {\n",
              "        vertical-align: top;\n",
              "    }\n",
              "\n",
              "    .dataframe thead th {\n",
              "        text-align: right;\n",
              "    }\n",
              "</style>\n",
              "<table border=\"1\" class=\"dataframe\">\n",
              "  <thead>\n",
              "    <tr style=\"text-align: right;\">\n",
              "      <th></th>\n",
              "      <th>Average</th>\n",
              "      <th>Predictions</th>\n",
              "    </tr>\n",
              "  </thead>\n",
              "  <tbody>\n",
              "    <tr>\n",
              "      <th>2392</th>\n",
              "      <td>27.533733</td>\n",
              "      <td>28.263191</td>\n",
              "    </tr>\n",
              "    <tr>\n",
              "      <th>2393</th>\n",
              "      <td>28.499066</td>\n",
              "      <td>27.731293</td>\n",
              "    </tr>\n",
              "    <tr>\n",
              "      <th>2394</th>\n",
              "      <td>29.565867</td>\n",
              "      <td>28.465172</td>\n",
              "    </tr>\n",
              "    <tr>\n",
              "      <th>2395</th>\n",
              "      <td>29.801467</td>\n",
              "      <td>29.497665</td>\n",
              "    </tr>\n",
              "    <tr>\n",
              "      <th>2396</th>\n",
              "      <td>30.993466</td>\n",
              "      <td>29.805698</td>\n",
              "    </tr>\n",
              "    <tr>\n",
              "      <th>...</th>\n",
              "      <td>...</td>\n",
              "      <td>...</td>\n",
              "    </tr>\n",
              "    <tr>\n",
              "      <th>2512</th>\n",
              "      <td>66.779334</td>\n",
              "      <td>49.856468</td>\n",
              "    </tr>\n",
              "    <tr>\n",
              "      <th>2513</th>\n",
              "      <td>64.931066</td>\n",
              "      <td>49.936123</td>\n",
              "    </tr>\n",
              "    <tr>\n",
              "      <th>2514</th>\n",
              "      <td>64.658134</td>\n",
              "      <td>49.106422</td>\n",
              "    </tr>\n",
              "    <tr>\n",
              "      <th>2515</th>\n",
              "      <td>64.855067</td>\n",
              "      <td>49.198441</td>\n",
              "    </tr>\n",
              "    <tr>\n",
              "      <th>2516</th>\n",
              "      <td>65.949735</td>\n",
              "      <td>49.242519</td>\n",
              "    </tr>\n",
              "  </tbody>\n",
              "</table>\n",
              "<p>125 rows × 2 columns</p>\n",
              "</div>\n",
              "    <div class=\"colab-df-buttons\">\n",
              "\n",
              "  <div class=\"colab-df-container\">\n",
              "    <button class=\"colab-df-convert\" onclick=\"convertToInteractive('df-8926a0a8-d5be-4b08-8361-bea0c6fc61bd')\"\n",
              "            title=\"Convert this dataframe to an interactive table.\"\n",
              "            style=\"display:none;\">\n",
              "\n",
              "  <svg xmlns=\"http://www.w3.org/2000/svg\" height=\"24px\" viewBox=\"0 -960 960 960\">\n",
              "    <path d=\"M120-120v-720h720v720H120Zm60-500h600v-160H180v160Zm220 220h160v-160H400v160Zm0 220h160v-160H400v160ZM180-400h160v-160H180v160Zm440 0h160v-160H620v160ZM180-180h160v-160H180v160Zm440 0h160v-160H620v160Z\"/>\n",
              "  </svg>\n",
              "    </button>\n",
              "\n",
              "  <style>\n",
              "    .colab-df-container {\n",
              "      display:flex;\n",
              "      gap: 12px;\n",
              "    }\n",
              "\n",
              "    .colab-df-convert {\n",
              "      background-color: #E8F0FE;\n",
              "      border: none;\n",
              "      border-radius: 50%;\n",
              "      cursor: pointer;\n",
              "      display: none;\n",
              "      fill: #1967D2;\n",
              "      height: 32px;\n",
              "      padding: 0 0 0 0;\n",
              "      width: 32px;\n",
              "    }\n",
              "\n",
              "    .colab-df-convert:hover {\n",
              "      background-color: #E2EBFA;\n",
              "      box-shadow: 0px 1px 2px rgba(60, 64, 67, 0.3), 0px 1px 3px 1px rgba(60, 64, 67, 0.15);\n",
              "      fill: #174EA6;\n",
              "    }\n",
              "\n",
              "    .colab-df-buttons div {\n",
              "      margin-bottom: 4px;\n",
              "    }\n",
              "\n",
              "    [theme=dark] .colab-df-convert {\n",
              "      background-color: #3B4455;\n",
              "      fill: #D2E3FC;\n",
              "    }\n",
              "\n",
              "    [theme=dark] .colab-df-convert:hover {\n",
              "      background-color: #434B5C;\n",
              "      box-shadow: 0px 1px 3px 1px rgba(0, 0, 0, 0.15);\n",
              "      filter: drop-shadow(0px 1px 2px rgba(0, 0, 0, 0.3));\n",
              "      fill: #FFFFFF;\n",
              "    }\n",
              "  </style>\n",
              "\n",
              "    <script>\n",
              "      const buttonEl =\n",
              "        document.querySelector('#df-8926a0a8-d5be-4b08-8361-bea0c6fc61bd button.colab-df-convert');\n",
              "      buttonEl.style.display =\n",
              "        google.colab.kernel.accessAllowed ? 'block' : 'none';\n",
              "\n",
              "      async function convertToInteractive(key) {\n",
              "        const element = document.querySelector('#df-8926a0a8-d5be-4b08-8361-bea0c6fc61bd');\n",
              "        const dataTable =\n",
              "          await google.colab.kernel.invokeFunction('convertToInteractive',\n",
              "                                                    [key], {});\n",
              "        if (!dataTable) return;\n",
              "\n",
              "        const docLinkHtml = 'Like what you see? Visit the ' +\n",
              "          '<a target=\"_blank\" href=https://colab.research.google.com/notebooks/data_table.ipynb>data table notebook</a>'\n",
              "          + ' to learn more about interactive tables.';\n",
              "        element.innerHTML = '';\n",
              "        dataTable['output_type'] = 'display_data';\n",
              "        await google.colab.output.renderOutput(dataTable, element);\n",
              "        const docLink = document.createElement('div');\n",
              "        docLink.innerHTML = docLinkHtml;\n",
              "        element.appendChild(docLink);\n",
              "      }\n",
              "    </script>\n",
              "  </div>\n",
              "\n",
              "\n",
              "<div id=\"df-ad4fc684-77ed-4150-a47a-195e275d548e\">\n",
              "  <button class=\"colab-df-quickchart\" onclick=\"quickchart('df-ad4fc684-77ed-4150-a47a-195e275d548e')\"\n",
              "            title=\"Suggest charts\"\n",
              "            style=\"display:none;\">\n",
              "\n",
              "<svg xmlns=\"http://www.w3.org/2000/svg\" height=\"24px\"viewBox=\"0 0 24 24\"\n",
              "     width=\"24px\">\n",
              "    <g>\n",
              "        <path d=\"M19 3H5c-1.1 0-2 .9-2 2v14c0 1.1.9 2 2 2h14c1.1 0 2-.9 2-2V5c0-1.1-.9-2-2-2zM9 17H7v-7h2v7zm4 0h-2V7h2v10zm4 0h-2v-4h2v4z\"/>\n",
              "    </g>\n",
              "</svg>\n",
              "  </button>\n",
              "\n",
              "<style>\n",
              "  .colab-df-quickchart {\n",
              "      --bg-color: #E8F0FE;\n",
              "      --fill-color: #1967D2;\n",
              "      --hover-bg-color: #E2EBFA;\n",
              "      --hover-fill-color: #174EA6;\n",
              "      --disabled-fill-color: #AAA;\n",
              "      --disabled-bg-color: #DDD;\n",
              "  }\n",
              "\n",
              "  [theme=dark] .colab-df-quickchart {\n",
              "      --bg-color: #3B4455;\n",
              "      --fill-color: #D2E3FC;\n",
              "      --hover-bg-color: #434B5C;\n",
              "      --hover-fill-color: #FFFFFF;\n",
              "      --disabled-bg-color: #3B4455;\n",
              "      --disabled-fill-color: #666;\n",
              "  }\n",
              "\n",
              "  .colab-df-quickchart {\n",
              "    background-color: var(--bg-color);\n",
              "    border: none;\n",
              "    border-radius: 50%;\n",
              "    cursor: pointer;\n",
              "    display: none;\n",
              "    fill: var(--fill-color);\n",
              "    height: 32px;\n",
              "    padding: 0;\n",
              "    width: 32px;\n",
              "  }\n",
              "\n",
              "  .colab-df-quickchart:hover {\n",
              "    background-color: var(--hover-bg-color);\n",
              "    box-shadow: 0 1px 2px rgba(60, 64, 67, 0.3), 0 1px 3px 1px rgba(60, 64, 67, 0.15);\n",
              "    fill: var(--button-hover-fill-color);\n",
              "  }\n",
              "\n",
              "  .colab-df-quickchart-complete:disabled,\n",
              "  .colab-df-quickchart-complete:disabled:hover {\n",
              "    background-color: var(--disabled-bg-color);\n",
              "    fill: var(--disabled-fill-color);\n",
              "    box-shadow: none;\n",
              "  }\n",
              "\n",
              "  .colab-df-spinner {\n",
              "    border: 2px solid var(--fill-color);\n",
              "    border-color: transparent;\n",
              "    border-bottom-color: var(--fill-color);\n",
              "    animation:\n",
              "      spin 1s steps(1) infinite;\n",
              "  }\n",
              "\n",
              "  @keyframes spin {\n",
              "    0% {\n",
              "      border-color: transparent;\n",
              "      border-bottom-color: var(--fill-color);\n",
              "      border-left-color: var(--fill-color);\n",
              "    }\n",
              "    20% {\n",
              "      border-color: transparent;\n",
              "      border-left-color: var(--fill-color);\n",
              "      border-top-color: var(--fill-color);\n",
              "    }\n",
              "    30% {\n",
              "      border-color: transparent;\n",
              "      border-left-color: var(--fill-color);\n",
              "      border-top-color: var(--fill-color);\n",
              "      border-right-color: var(--fill-color);\n",
              "    }\n",
              "    40% {\n",
              "      border-color: transparent;\n",
              "      border-right-color: var(--fill-color);\n",
              "      border-top-color: var(--fill-color);\n",
              "    }\n",
              "    60% {\n",
              "      border-color: transparent;\n",
              "      border-right-color: var(--fill-color);\n",
              "    }\n",
              "    80% {\n",
              "      border-color: transparent;\n",
              "      border-right-color: var(--fill-color);\n",
              "      border-bottom-color: var(--fill-color);\n",
              "    }\n",
              "    90% {\n",
              "      border-color: transparent;\n",
              "      border-bottom-color: var(--fill-color);\n",
              "    }\n",
              "  }\n",
              "</style>\n",
              "\n",
              "  <script>\n",
              "    async function quickchart(key) {\n",
              "      const quickchartButtonEl =\n",
              "        document.querySelector('#' + key + ' button');\n",
              "      quickchartButtonEl.disabled = true;  // To prevent multiple clicks.\n",
              "      quickchartButtonEl.classList.add('colab-df-spinner');\n",
              "      try {\n",
              "        const charts = await google.colab.kernel.invokeFunction(\n",
              "            'suggestCharts', [key], {});\n",
              "      } catch (error) {\n",
              "        console.error('Error during call to suggestCharts:', error);\n",
              "      }\n",
              "      quickchartButtonEl.classList.remove('colab-df-spinner');\n",
              "      quickchartButtonEl.classList.add('colab-df-quickchart-complete');\n",
              "    }\n",
              "    (() => {\n",
              "      let quickchartButtonEl =\n",
              "        document.querySelector('#df-ad4fc684-77ed-4150-a47a-195e275d548e button');\n",
              "      quickchartButtonEl.style.display =\n",
              "        google.colab.kernel.accessAllowed ? 'block' : 'none';\n",
              "    })();\n",
              "  </script>\n",
              "</div>\n",
              "\n",
              "    </div>\n",
              "  </div>\n"
            ]
          },
          "metadata": {},
          "execution_count": 112
        }
      ],
      "source": [
        "test[:]"
      ]
    }
  ],
  "metadata": {
    "colab": {
      "provenance": []
    },
    "kernelspec": {
      "display_name": "Python 3",
      "name": "python3"
    },
    "language_info": {
      "name": "python"
    }
  },
  "nbformat": 4,
  "nbformat_minor": 0
}