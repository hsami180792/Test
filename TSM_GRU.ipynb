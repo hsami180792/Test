{
  "nbformat": 4,
  "nbformat_minor": 0,
  "metadata": {
    "colab": {
      "provenance": []
    },
    "kernelspec": {
      "name": "python3",
      "display_name": "Python 3"
    },
    "language_info": {
      "name": "python"
    }
  },
  "cells": [
    {
      "cell_type": "code",
      "execution_count": 60,
      "metadata": {
        "id": "pa8BuGYTzgJb"
      },
      "outputs": [],
      "source": [
        "import numpy as np\n",
        "import matplotlib.pyplot as plt\n",
        "import pandas as pd\n",
        "from sklearn.preprocessing import MinMaxScaler"
      ]
    },
    {
      "cell_type": "code",
      "source": [
        "import io"
      ],
      "metadata": {
        "id": "xV-QJu9fzocN"
      },
      "execution_count": 61,
      "outputs": []
    },
    {
      "cell_type": "code",
      "source": [
        "from google.colab import files\n",
        "uploaded = files.upload()"
      ],
      "metadata": {
        "colab": {
          "base_uri": "https://localhost:8080/",
          "height": 73
        },
        "id": "r24TXRS-zq5E",
        "outputId": "3eeb3118-d8f7-4065-bd63-7f7e4ab80b6b"
      },
      "execution_count": 62,
      "outputs": [
        {
          "output_type": "display_data",
          "data": {
            "text/plain": [
              "<IPython.core.display.HTML object>"
            ],
            "text/html": [
              "\n",
              "     <input type=\"file\" id=\"files-18d80044-753c-4678-81c5-4561dc46b7da\" name=\"files[]\" multiple disabled\n",
              "        style=\"border:none\" />\n",
              "     <output id=\"result-18d80044-753c-4678-81c5-4561dc46b7da\">\n",
              "      Upload widget is only available when the cell has been executed in the\n",
              "      current browser session. Please rerun this cell to enable.\n",
              "      </output>\n",
              "      <script>// Copyright 2017 Google LLC\n",
              "//\n",
              "// Licensed under the Apache License, Version 2.0 (the \"License\");\n",
              "// you may not use this file except in compliance with the License.\n",
              "// You may obtain a copy of the License at\n",
              "//\n",
              "//      http://www.apache.org/licenses/LICENSE-2.0\n",
              "//\n",
              "// Unless required by applicable law or agreed to in writing, software\n",
              "// distributed under the License is distributed on an \"AS IS\" BASIS,\n",
              "// WITHOUT WARRANTIES OR CONDITIONS OF ANY KIND, either express or implied.\n",
              "// See the License for the specific language governing permissions and\n",
              "// limitations under the License.\n",
              "\n",
              "/**\n",
              " * @fileoverview Helpers for google.colab Python module.\n",
              " */\n",
              "(function(scope) {\n",
              "function span(text, styleAttributes = {}) {\n",
              "  const element = document.createElement('span');\n",
              "  element.textContent = text;\n",
              "  for (const key of Object.keys(styleAttributes)) {\n",
              "    element.style[key] = styleAttributes[key];\n",
              "  }\n",
              "  return element;\n",
              "}\n",
              "\n",
              "// Max number of bytes which will be uploaded at a time.\n",
              "const MAX_PAYLOAD_SIZE = 100 * 1024;\n",
              "\n",
              "function _uploadFiles(inputId, outputId) {\n",
              "  const steps = uploadFilesStep(inputId, outputId);\n",
              "  const outputElement = document.getElementById(outputId);\n",
              "  // Cache steps on the outputElement to make it available for the next call\n",
              "  // to uploadFilesContinue from Python.\n",
              "  outputElement.steps = steps;\n",
              "\n",
              "  return _uploadFilesContinue(outputId);\n",
              "}\n",
              "\n",
              "// This is roughly an async generator (not supported in the browser yet),\n",
              "// where there are multiple asynchronous steps and the Python side is going\n",
              "// to poll for completion of each step.\n",
              "// This uses a Promise to block the python side on completion of each step,\n",
              "// then passes the result of the previous step as the input to the next step.\n",
              "function _uploadFilesContinue(outputId) {\n",
              "  const outputElement = document.getElementById(outputId);\n",
              "  const steps = outputElement.steps;\n",
              "\n",
              "  const next = steps.next(outputElement.lastPromiseValue);\n",
              "  return Promise.resolve(next.value.promise).then((value) => {\n",
              "    // Cache the last promise value to make it available to the next\n",
              "    // step of the generator.\n",
              "    outputElement.lastPromiseValue = value;\n",
              "    return next.value.response;\n",
              "  });\n",
              "}\n",
              "\n",
              "/**\n",
              " * Generator function which is called between each async step of the upload\n",
              " * process.\n",
              " * @param {string} inputId Element ID of the input file picker element.\n",
              " * @param {string} outputId Element ID of the output display.\n",
              " * @return {!Iterable<!Object>} Iterable of next steps.\n",
              " */\n",
              "function* uploadFilesStep(inputId, outputId) {\n",
              "  const inputElement = document.getElementById(inputId);\n",
              "  inputElement.disabled = false;\n",
              "\n",
              "  const outputElement = document.getElementById(outputId);\n",
              "  outputElement.innerHTML = '';\n",
              "\n",
              "  const pickedPromise = new Promise((resolve) => {\n",
              "    inputElement.addEventListener('change', (e) => {\n",
              "      resolve(e.target.files);\n",
              "    });\n",
              "  });\n",
              "\n",
              "  const cancel = document.createElement('button');\n",
              "  inputElement.parentElement.appendChild(cancel);\n",
              "  cancel.textContent = 'Cancel upload';\n",
              "  const cancelPromise = new Promise((resolve) => {\n",
              "    cancel.onclick = () => {\n",
              "      resolve(null);\n",
              "    };\n",
              "  });\n",
              "\n",
              "  // Wait for the user to pick the files.\n",
              "  const files = yield {\n",
              "    promise: Promise.race([pickedPromise, cancelPromise]),\n",
              "    response: {\n",
              "      action: 'starting',\n",
              "    }\n",
              "  };\n",
              "\n",
              "  cancel.remove();\n",
              "\n",
              "  // Disable the input element since further picks are not allowed.\n",
              "  inputElement.disabled = true;\n",
              "\n",
              "  if (!files) {\n",
              "    return {\n",
              "      response: {\n",
              "        action: 'complete',\n",
              "      }\n",
              "    };\n",
              "  }\n",
              "\n",
              "  for (const file of files) {\n",
              "    const li = document.createElement('li');\n",
              "    li.append(span(file.name, {fontWeight: 'bold'}));\n",
              "    li.append(span(\n",
              "        `(${file.type || 'n/a'}) - ${file.size} bytes, ` +\n",
              "        `last modified: ${\n",
              "            file.lastModifiedDate ? file.lastModifiedDate.toLocaleDateString() :\n",
              "                                    'n/a'} - `));\n",
              "    const percent = span('0% done');\n",
              "    li.appendChild(percent);\n",
              "\n",
              "    outputElement.appendChild(li);\n",
              "\n",
              "    const fileDataPromise = new Promise((resolve) => {\n",
              "      const reader = new FileReader();\n",
              "      reader.onload = (e) => {\n",
              "        resolve(e.target.result);\n",
              "      };\n",
              "      reader.readAsArrayBuffer(file);\n",
              "    });\n",
              "    // Wait for the data to be ready.\n",
              "    let fileData = yield {\n",
              "      promise: fileDataPromise,\n",
              "      response: {\n",
              "        action: 'continue',\n",
              "      }\n",
              "    };\n",
              "\n",
              "    // Use a chunked sending to avoid message size limits. See b/62115660.\n",
              "    let position = 0;\n",
              "    do {\n",
              "      const length = Math.min(fileData.byteLength - position, MAX_PAYLOAD_SIZE);\n",
              "      const chunk = new Uint8Array(fileData, position, length);\n",
              "      position += length;\n",
              "\n",
              "      const base64 = btoa(String.fromCharCode.apply(null, chunk));\n",
              "      yield {\n",
              "        response: {\n",
              "          action: 'append',\n",
              "          file: file.name,\n",
              "          data: base64,\n",
              "        },\n",
              "      };\n",
              "\n",
              "      let percentDone = fileData.byteLength === 0 ?\n",
              "          100 :\n",
              "          Math.round((position / fileData.byteLength) * 100);\n",
              "      percent.textContent = `${percentDone}% done`;\n",
              "\n",
              "    } while (position < fileData.byteLength);\n",
              "  }\n",
              "\n",
              "  // All done.\n",
              "  yield {\n",
              "    response: {\n",
              "      action: 'complete',\n",
              "    }\n",
              "  };\n",
              "}\n",
              "\n",
              "scope.google = scope.google || {};\n",
              "scope.google.colab = scope.google.colab || {};\n",
              "scope.google.colab._files = {\n",
              "  _uploadFiles,\n",
              "  _uploadFilesContinue,\n",
              "};\n",
              "})(self);\n",
              "</script> "
            ]
          },
          "metadata": {}
        },
        {
          "output_type": "stream",
          "name": "stdout",
          "text": [
            "Saving TSM.csv to TSM.csv\n"
          ]
        }
      ]
    },
    {
      "cell_type": "code",
      "source": [
        "df = pd.read_csv(io.BytesIO(uploaded['TSM.csv']))\n",
        "print(df)"
      ],
      "metadata": {
        "colab": {
          "base_uri": "https://localhost:8080/"
        },
        "id": "rDifliYGzwvi",
        "outputId": "5f1c2048-e043-45d8-e85f-1ae0cb4c928b"
      },
      "execution_count": 63,
      "outputs": [
        {
          "output_type": "stream",
          "name": "stdout",
          "text": [
            "           Date       Open       High        Low      Close  Adj Close  \\\n",
            "0      1/4/2010  11.490000  11.690000  11.470000  11.580000   7.458041   \n",
            "1      1/5/2010  11.600000  11.660000  11.460000  11.530000   7.425838   \n",
            "2      1/6/2010  11.560000  11.610000  11.380000  11.490000   7.400078   \n",
            "3      1/7/2010  11.410000  11.440000  11.070000  11.110000   7.155339   \n",
            "4      1/8/2010  11.140000  11.220000  11.030000  11.100000   7.148899   \n",
            "...         ...        ...        ...        ...        ...        ...   \n",
            "2635  6/23/2020  56.639999  57.160000  56.529999  56.759998  53.146317   \n",
            "2636  6/24/2020  56.709999  57.060001  56.160000  56.580002  52.977772   \n",
            "2637  6/25/2020  56.560001  57.090000  55.950001  57.040001  53.408482   \n",
            "2638  6/26/2020  57.000000  57.259998  56.209999  56.330002  52.743690   \n",
            "2639  6/29/2020  56.340000  56.410000  55.660000  56.389999  52.799870   \n",
            "\n",
            "        Average  \n",
            "0     10.737608  \n",
            "1     10.735168  \n",
            "2     10.688016  \n",
            "3     10.437068  \n",
            "4     10.327780  \n",
            "...         ...  \n",
            "2635  56.047263  \n",
            "2636  55.897555  \n",
            "2637  56.009697  \n",
            "2638  55.908738  \n",
            "2639  55.519974  \n",
            "\n",
            "[2640 rows x 7 columns]\n"
          ]
        }
      ]
    },
    {
      "cell_type": "code",
      "source": [
        "data_training = df[df['Date'] < '2020-03-15'].copy()\n",
        "data_testing = df[df['Date'] >= '2020-03-15'].copy()"
      ],
      "metadata": {
        "id": "loLfrbEez1Kz"
      },
      "execution_count": 64,
      "outputs": []
    },
    {
      "cell_type": "code",
      "source": [
        "data_training = data_training.drop(['Date'], axis = 1)"
      ],
      "metadata": {
        "id": "ZAwybGlaz4HS"
      },
      "execution_count": 65,
      "outputs": []
    },
    {
      "cell_type": "code",
      "source": [
        "scaler = MinMaxScaler()\n",
        "data_training = scaler.fit_transform(data_training)\n",
        "data_training"
      ],
      "metadata": {
        "colab": {
          "base_uri": "https://localhost:8080/"
        },
        "id": "G0oMyymYz6nD",
        "outputId": "0c0a525c-abdf-43fd-c67d-07571da43bba"
      },
      "execution_count": 66,
      "outputs": [
        {
          "output_type": "execute_result",
          "data": {
            "text/plain": [
              "array([[0.03738133, 0.03887689, 0.04097387, 0.03979511, 0.02634788,\n",
              "        0.03672851],\n",
              "       [0.03955696, 0.03828785, 0.04077593, 0.03881009, 0.02569569,\n",
              "        0.03668011],\n",
              "       [0.03876582, 0.03730611, 0.0391924 , 0.03802206, 0.02517399,\n",
              "        0.0357451 ],\n",
              "       ...,\n",
              "       [0.88785605, 0.89731005, 0.89034051, 0.89578406, 0.90136546,\n",
              "        0.89450489],\n",
              "       [0.88212027, 0.88140583, 0.868369  , 0.86150514, 0.8689223 ,\n",
              "        0.87248621],\n",
              "       [0.82575154, 0.87060671, 0.8234363 , 0.87234043, 0.8791772 ,\n",
              "        0.85418872]])"
            ]
          },
          "metadata": {},
          "execution_count": 66
        }
      ]
    },
    {
      "cell_type": "code",
      "source": [
        "x_train = []\n",
        "y_train = []\n",
        "\n",
        "for i in range(60, data_training.shape[0]):\n",
        "    x_train.append(data_training[i-20:i])\n",
        "    y_train.append(data_training[i, 0])\n",
        "\n",
        "x_train = np.array(x_train)\n",
        "y_train = np.array(y_train)"
      ],
      "metadata": {
        "id": "RHB_FUf30Z9L"
      },
      "execution_count": 67,
      "outputs": []
    },
    {
      "cell_type": "code",
      "source": [
        "x_train.shape"
      ],
      "metadata": {
        "colab": {
          "base_uri": "https://localhost:8080/"
        },
        "id": "qmWYzXwY0h3r",
        "outputId": "73e47063-c78a-4d60-fd3d-29091983265e"
      },
      "execution_count": 68,
      "outputs": [
        {
          "output_type": "execute_result",
          "data": {
            "text/plain": [
              "(1008, 20, 6)"
            ]
          },
          "metadata": {},
          "execution_count": 68
        }
      ]
    },
    {
      "cell_type": "code",
      "source": [
        "from tensorflow.keras import Sequential\n",
        "from tensorflow.keras.layers import Dense, LSTM, Dropout, GRU, Bidirectional"
      ],
      "metadata": {
        "id": "bB7lh8H00kVb"
      },
      "execution_count": 69,
      "outputs": []
    },
    {
      "cell_type": "code",
      "source": [
        "regressorGRU = Sequential()\n",
        "\n",
        "regressorGRU.add(GRU(units = 60, activation = 'relu', return_sequences = True, input_shape = (x_train.shape[1], 6)))\n",
        "regressorGRU.add(Dropout(0.2))\n",
        "\n",
        "regressorGRU.add(GRU(units = 60, activation = 'relu', return_sequences = True))\n",
        "regressorGRU.add(Dropout(0.2))\n",
        "\n",
        "regressorGRU.add(GRU(units = 80, activation = 'relu', return_sequences = True))\n",
        "regressorGRU.add(Dropout(0.2))\n",
        "\n",
        "regressorGRU.add(GRU(units = 120, activation = 'relu'))\n",
        "regressorGRU.add(Dropout(0.2))\n",
        "\n",
        "regressorGRU.add(Dense(units = 1))"
      ],
      "metadata": {
        "id": "KGK1n3id0muD"
      },
      "execution_count": 70,
      "outputs": []
    },
    {
      "cell_type": "code",
      "source": [
        "regressorGRU.summary()"
      ],
      "metadata": {
        "colab": {
          "base_uri": "https://localhost:8080/"
        },
        "id": "yYY75U140pQz",
        "outputId": "4434b07b-4a99-4a29-b8f1-f76f22a0e97a"
      },
      "execution_count": 71,
      "outputs": [
        {
          "output_type": "stream",
          "name": "stdout",
          "text": [
            "Model: \"sequential_3\"\n",
            "_________________________________________________________________\n",
            " Layer (type)                Output Shape              Param #   \n",
            "=================================================================\n",
            " gru_12 (GRU)                (None, 20, 60)            12240     \n",
            "                                                                 \n",
            " dropout_12 (Dropout)        (None, 20, 60)            0         \n",
            "                                                                 \n",
            " gru_13 (GRU)                (None, 20, 60)            21960     \n",
            "                                                                 \n",
            " dropout_13 (Dropout)        (None, 20, 60)            0         \n",
            "                                                                 \n",
            " gru_14 (GRU)                (None, 20, 80)            34080     \n",
            "                                                                 \n",
            " dropout_14 (Dropout)        (None, 20, 80)            0         \n",
            "                                                                 \n",
            " gru_15 (GRU)                (None, 120)               72720     \n",
            "                                                                 \n",
            " dropout_15 (Dropout)        (None, 120)               0         \n",
            "                                                                 \n",
            " dense_3 (Dense)             (None, 1)                 121       \n",
            "                                                                 \n",
            "=================================================================\n",
            "Total params: 141121 (551.25 KB)\n",
            "Trainable params: 141121 (551.25 KB)\n",
            "Non-trainable params: 0 (0.00 Byte)\n",
            "_________________________________________________________________\n"
          ]
        }
      ]
    },
    {
      "cell_type": "code",
      "source": [
        "regressorGRU.compile(optimizer = 'adam', loss = 'mean_squared_error')\n",
        "regressorGRU.fit(x_train, y_train, epochs = 50, batch_size = 32)"
      ],
      "metadata": {
        "colab": {
          "base_uri": "https://localhost:8080/"
        },
        "id": "wLj5SWbm0sLF",
        "outputId": "fbd8f283-3ead-4f8b-c0ec-22fe0044bfcc"
      },
      "execution_count": 72,
      "outputs": [
        {
          "output_type": "stream",
          "name": "stdout",
          "text": [
            "Epoch 1/50\n",
            "32/32 [==============================] - 7s 45ms/step - loss: 0.0466\n",
            "Epoch 2/50\n",
            "32/32 [==============================] - 1s 45ms/step - loss: 0.0037\n",
            "Epoch 3/50\n",
            "32/32 [==============================] - 2s 74ms/step - loss: 0.0034\n",
            "Epoch 4/50\n",
            "32/32 [==============================] - 1s 45ms/step - loss: 0.0042\n",
            "Epoch 5/50\n",
            "32/32 [==============================] - 1s 44ms/step - loss: 0.0031\n",
            "Epoch 6/50\n",
            "32/32 [==============================] - 1s 45ms/step - loss: 0.0039\n",
            "Epoch 7/50\n",
            "32/32 [==============================] - 1s 46ms/step - loss: 0.0026\n",
            "Epoch 8/50\n",
            "32/32 [==============================] - 1s 45ms/step - loss: 0.0030\n",
            "Epoch 9/50\n",
            "32/32 [==============================] - 1s 45ms/step - loss: 0.0028\n",
            "Epoch 10/50\n",
            "32/32 [==============================] - 1s 44ms/step - loss: 0.0025\n",
            "Epoch 11/50\n",
            "32/32 [==============================] - 2s 76ms/step - loss: 0.0025\n",
            "Epoch 12/50\n",
            "32/32 [==============================] - 1s 45ms/step - loss: 0.0021\n",
            "Epoch 13/50\n",
            "32/32 [==============================] - 1s 45ms/step - loss: 0.0022\n",
            "Epoch 14/50\n",
            "32/32 [==============================] - 1s 45ms/step - loss: 0.0022\n",
            "Epoch 15/50\n",
            "32/32 [==============================] - 1s 45ms/step - loss: 0.0019\n",
            "Epoch 16/50\n",
            "32/32 [==============================] - 1s 45ms/step - loss: 0.0021\n",
            "Epoch 17/50\n",
            "32/32 [==============================] - 1s 46ms/step - loss: 0.0021\n",
            "Epoch 18/50\n",
            "32/32 [==============================] - 2s 48ms/step - loss: 0.0017\n",
            "Epoch 19/50\n",
            "32/32 [==============================] - 2s 75ms/step - loss: 0.0018\n",
            "Epoch 20/50\n",
            "32/32 [==============================] - 1s 46ms/step - loss: 0.0019\n",
            "Epoch 21/50\n",
            "32/32 [==============================] - 1s 46ms/step - loss: 0.0018\n",
            "Epoch 22/50\n",
            "32/32 [==============================] - 1s 46ms/step - loss: 0.0020\n",
            "Epoch 23/50\n",
            "32/32 [==============================] - 1s 45ms/step - loss: 0.0018\n",
            "Epoch 24/50\n",
            "32/32 [==============================] - 1s 45ms/step - loss: 0.0019\n",
            "Epoch 25/50\n",
            "32/32 [==============================] - 1s 44ms/step - loss: 0.0018\n",
            "Epoch 26/50\n",
            "32/32 [==============================] - 2s 52ms/step - loss: 0.0019\n",
            "Epoch 27/50\n",
            "32/32 [==============================] - 2s 70ms/step - loss: 0.0019\n",
            "Epoch 28/50\n",
            "32/32 [==============================] - 1s 45ms/step - loss: 0.0018\n",
            "Epoch 29/50\n",
            "32/32 [==============================] - 1s 45ms/step - loss: 0.0018\n",
            "Epoch 30/50\n",
            "32/32 [==============================] - 1s 45ms/step - loss: 0.0016\n",
            "Epoch 31/50\n",
            "32/32 [==============================] - 1s 45ms/step - loss: 0.0013\n",
            "Epoch 32/50\n",
            "32/32 [==============================] - 1s 45ms/step - loss: 0.0016\n",
            "Epoch 33/50\n",
            "32/32 [==============================] - 1s 45ms/step - loss: 0.0015\n",
            "Epoch 34/50\n",
            "32/32 [==============================] - 2s 56ms/step - loss: 0.0014\n",
            "Epoch 35/50\n",
            "32/32 [==============================] - 2s 65ms/step - loss: 0.0014\n",
            "Epoch 36/50\n",
            "32/32 [==============================] - 1s 45ms/step - loss: 0.0015\n",
            "Epoch 37/50\n",
            "32/32 [==============================] - 1s 45ms/step - loss: 0.0017\n",
            "Epoch 38/50\n",
            "32/32 [==============================] - 1s 44ms/step - loss: 0.0017\n",
            "Epoch 39/50\n",
            "32/32 [==============================] - 1s 45ms/step - loss: 0.0015\n",
            "Epoch 40/50\n",
            "32/32 [==============================] - 1s 45ms/step - loss: 0.0018\n",
            "Epoch 41/50\n",
            "32/32 [==============================] - 1s 45ms/step - loss: 0.0016\n",
            "Epoch 42/50\n",
            "32/32 [==============================] - 2s 60ms/step - loss: 0.0014\n",
            "Epoch 43/50\n",
            "32/32 [==============================] - 2s 63ms/step - loss: 0.0015\n",
            "Epoch 44/50\n",
            "32/32 [==============================] - 1s 45ms/step - loss: 0.0014\n",
            "Epoch 45/50\n",
            "32/32 [==============================] - 1s 45ms/step - loss: 0.0017\n",
            "Epoch 46/50\n",
            "32/32 [==============================] - 1s 44ms/step - loss: 0.0015\n",
            "Epoch 47/50\n",
            "32/32 [==============================] - 1s 46ms/step - loss: 0.0015\n",
            "Epoch 48/50\n",
            "32/32 [==============================] - 1s 45ms/step - loss: 0.0015\n",
            "Epoch 49/50\n",
            "32/32 [==============================] - 1s 46ms/step - loss: 0.0014\n",
            "Epoch 50/50\n",
            "32/32 [==============================] - 2s 63ms/step - loss: 0.0015\n"
          ]
        },
        {
          "output_type": "execute_result",
          "data": {
            "text/plain": [
              "<keras.src.callbacks.History at 0x7e7f49c56950>"
            ]
          },
          "metadata": {},
          "execution_count": 72
        }
      ]
    },
    {
      "cell_type": "code",
      "source": [
        "data_testing.head()"
      ],
      "metadata": {
        "colab": {
          "base_uri": "https://localhost:8080/",
          "height": 206
        },
        "id": "vhTxTiQ00u7V",
        "outputId": "893dc814-8e7a-4c73-e210-97d7fadd24c9"
      },
      "execution_count": 73,
      "outputs": [
        {
          "output_type": "execute_result",
          "data": {
            "text/plain": [
              "        Date   Open   High   Low  Close  Adj Close   Average\n",
              "38  3/1/2010   9.91  10.00  9.89   9.95   6.408247  9.231649\n",
              "39  3/2/2010  10.02  10.10  9.90   9.95   6.408247  9.275649\n",
              "40  3/3/2010  10.06  10.07  9.81   9.86   6.350284  9.230057\n",
              "41  3/4/2010   9.77   9.91  9.75   9.87   6.356723  9.131345\n",
              "42  3/5/2010   9.99  10.15  9.96  10.13   6.524177  9.350835"
            ],
            "text/html": [
              "\n",
              "  <div id=\"df-18e75a05-b0ef-4d34-aa5a-d767f9c917ee\" class=\"colab-df-container\">\n",
              "    <div>\n",
              "<style scoped>\n",
              "    .dataframe tbody tr th:only-of-type {\n",
              "        vertical-align: middle;\n",
              "    }\n",
              "\n",
              "    .dataframe tbody tr th {\n",
              "        vertical-align: top;\n",
              "    }\n",
              "\n",
              "    .dataframe thead th {\n",
              "        text-align: right;\n",
              "    }\n",
              "</style>\n",
              "<table border=\"1\" class=\"dataframe\">\n",
              "  <thead>\n",
              "    <tr style=\"text-align: right;\">\n",
              "      <th></th>\n",
              "      <th>Date</th>\n",
              "      <th>Open</th>\n",
              "      <th>High</th>\n",
              "      <th>Low</th>\n",
              "      <th>Close</th>\n",
              "      <th>Adj Close</th>\n",
              "      <th>Average</th>\n",
              "    </tr>\n",
              "  </thead>\n",
              "  <tbody>\n",
              "    <tr>\n",
              "      <th>38</th>\n",
              "      <td>3/1/2010</td>\n",
              "      <td>9.91</td>\n",
              "      <td>10.00</td>\n",
              "      <td>9.89</td>\n",
              "      <td>9.95</td>\n",
              "      <td>6.408247</td>\n",
              "      <td>9.231649</td>\n",
              "    </tr>\n",
              "    <tr>\n",
              "      <th>39</th>\n",
              "      <td>3/2/2010</td>\n",
              "      <td>10.02</td>\n",
              "      <td>10.10</td>\n",
              "      <td>9.90</td>\n",
              "      <td>9.95</td>\n",
              "      <td>6.408247</td>\n",
              "      <td>9.275649</td>\n",
              "    </tr>\n",
              "    <tr>\n",
              "      <th>40</th>\n",
              "      <td>3/3/2010</td>\n",
              "      <td>10.06</td>\n",
              "      <td>10.07</td>\n",
              "      <td>9.81</td>\n",
              "      <td>9.86</td>\n",
              "      <td>6.350284</td>\n",
              "      <td>9.230057</td>\n",
              "    </tr>\n",
              "    <tr>\n",
              "      <th>41</th>\n",
              "      <td>3/4/2010</td>\n",
              "      <td>9.77</td>\n",
              "      <td>9.91</td>\n",
              "      <td>9.75</td>\n",
              "      <td>9.87</td>\n",
              "      <td>6.356723</td>\n",
              "      <td>9.131345</td>\n",
              "    </tr>\n",
              "    <tr>\n",
              "      <th>42</th>\n",
              "      <td>3/5/2010</td>\n",
              "      <td>9.99</td>\n",
              "      <td>10.15</td>\n",
              "      <td>9.96</td>\n",
              "      <td>10.13</td>\n",
              "      <td>6.524177</td>\n",
              "      <td>9.350835</td>\n",
              "    </tr>\n",
              "  </tbody>\n",
              "</table>\n",
              "</div>\n",
              "    <div class=\"colab-df-buttons\">\n",
              "\n",
              "  <div class=\"colab-df-container\">\n",
              "    <button class=\"colab-df-convert\" onclick=\"convertToInteractive('df-18e75a05-b0ef-4d34-aa5a-d767f9c917ee')\"\n",
              "            title=\"Convert this dataframe to an interactive table.\"\n",
              "            style=\"display:none;\">\n",
              "\n",
              "  <svg xmlns=\"http://www.w3.org/2000/svg\" height=\"24px\" viewBox=\"0 -960 960 960\">\n",
              "    <path d=\"M120-120v-720h720v720H120Zm60-500h600v-160H180v160Zm220 220h160v-160H400v160Zm0 220h160v-160H400v160ZM180-400h160v-160H180v160Zm440 0h160v-160H620v160ZM180-180h160v-160H180v160Zm440 0h160v-160H620v160Z\"/>\n",
              "  </svg>\n",
              "    </button>\n",
              "\n",
              "  <style>\n",
              "    .colab-df-container {\n",
              "      display:flex;\n",
              "      gap: 12px;\n",
              "    }\n",
              "\n",
              "    .colab-df-convert {\n",
              "      background-color: #E8F0FE;\n",
              "      border: none;\n",
              "      border-radius: 50%;\n",
              "      cursor: pointer;\n",
              "      display: none;\n",
              "      fill: #1967D2;\n",
              "      height: 32px;\n",
              "      padding: 0 0 0 0;\n",
              "      width: 32px;\n",
              "    }\n",
              "\n",
              "    .colab-df-convert:hover {\n",
              "      background-color: #E2EBFA;\n",
              "      box-shadow: 0px 1px 2px rgba(60, 64, 67, 0.3), 0px 1px 3px 1px rgba(60, 64, 67, 0.15);\n",
              "      fill: #174EA6;\n",
              "    }\n",
              "\n",
              "    .colab-df-buttons div {\n",
              "      margin-bottom: 4px;\n",
              "    }\n",
              "\n",
              "    [theme=dark] .colab-df-convert {\n",
              "      background-color: #3B4455;\n",
              "      fill: #D2E3FC;\n",
              "    }\n",
              "\n",
              "    [theme=dark] .colab-df-convert:hover {\n",
              "      background-color: #434B5C;\n",
              "      box-shadow: 0px 1px 3px 1px rgba(0, 0, 0, 0.15);\n",
              "      filter: drop-shadow(0px 1px 2px rgba(0, 0, 0, 0.3));\n",
              "      fill: #FFFFFF;\n",
              "    }\n",
              "  </style>\n",
              "\n",
              "    <script>\n",
              "      const buttonEl =\n",
              "        document.querySelector('#df-18e75a05-b0ef-4d34-aa5a-d767f9c917ee button.colab-df-convert');\n",
              "      buttonEl.style.display =\n",
              "        google.colab.kernel.accessAllowed ? 'block' : 'none';\n",
              "\n",
              "      async function convertToInteractive(key) {\n",
              "        const element = document.querySelector('#df-18e75a05-b0ef-4d34-aa5a-d767f9c917ee');\n",
              "        const dataTable =\n",
              "          await google.colab.kernel.invokeFunction('convertToInteractive',\n",
              "                                                    [key], {});\n",
              "        if (!dataTable) return;\n",
              "\n",
              "        const docLinkHtml = 'Like what you see? Visit the ' +\n",
              "          '<a target=\"_blank\" href=https://colab.research.google.com/notebooks/data_table.ipynb>data table notebook</a>'\n",
              "          + ' to learn more about interactive tables.';\n",
              "        element.innerHTML = '';\n",
              "        dataTable['output_type'] = 'display_data';\n",
              "        await google.colab.output.renderOutput(dataTable, element);\n",
              "        const docLink = document.createElement('div');\n",
              "        docLink.innerHTML = docLinkHtml;\n",
              "        element.appendChild(docLink);\n",
              "      }\n",
              "    </script>\n",
              "  </div>\n",
              "\n",
              "\n",
              "<div id=\"df-52909f68-754e-460a-bd32-cf721832e1de\">\n",
              "  <button class=\"colab-df-quickchart\" onclick=\"quickchart('df-52909f68-754e-460a-bd32-cf721832e1de')\"\n",
              "            title=\"Suggest charts\"\n",
              "            style=\"display:none;\">\n",
              "\n",
              "<svg xmlns=\"http://www.w3.org/2000/svg\" height=\"24px\"viewBox=\"0 0 24 24\"\n",
              "     width=\"24px\">\n",
              "    <g>\n",
              "        <path d=\"M19 3H5c-1.1 0-2 .9-2 2v14c0 1.1.9 2 2 2h14c1.1 0 2-.9 2-2V5c0-1.1-.9-2-2-2zM9 17H7v-7h2v7zm4 0h-2V7h2v10zm4 0h-2v-4h2v4z\"/>\n",
              "    </g>\n",
              "</svg>\n",
              "  </button>\n",
              "\n",
              "<style>\n",
              "  .colab-df-quickchart {\n",
              "      --bg-color: #E8F0FE;\n",
              "      --fill-color: #1967D2;\n",
              "      --hover-bg-color: #E2EBFA;\n",
              "      --hover-fill-color: #174EA6;\n",
              "      --disabled-fill-color: #AAA;\n",
              "      --disabled-bg-color: #DDD;\n",
              "  }\n",
              "\n",
              "  [theme=dark] .colab-df-quickchart {\n",
              "      --bg-color: #3B4455;\n",
              "      --fill-color: #D2E3FC;\n",
              "      --hover-bg-color: #434B5C;\n",
              "      --hover-fill-color: #FFFFFF;\n",
              "      --disabled-bg-color: #3B4455;\n",
              "      --disabled-fill-color: #666;\n",
              "  }\n",
              "\n",
              "  .colab-df-quickchart {\n",
              "    background-color: var(--bg-color);\n",
              "    border: none;\n",
              "    border-radius: 50%;\n",
              "    cursor: pointer;\n",
              "    display: none;\n",
              "    fill: var(--fill-color);\n",
              "    height: 32px;\n",
              "    padding: 0;\n",
              "    width: 32px;\n",
              "  }\n",
              "\n",
              "  .colab-df-quickchart:hover {\n",
              "    background-color: var(--hover-bg-color);\n",
              "    box-shadow: 0 1px 2px rgba(60, 64, 67, 0.3), 0 1px 3px 1px rgba(60, 64, 67, 0.15);\n",
              "    fill: var(--button-hover-fill-color);\n",
              "  }\n",
              "\n",
              "  .colab-df-quickchart-complete:disabled,\n",
              "  .colab-df-quickchart-complete:disabled:hover {\n",
              "    background-color: var(--disabled-bg-color);\n",
              "    fill: var(--disabled-fill-color);\n",
              "    box-shadow: none;\n",
              "  }\n",
              "\n",
              "  .colab-df-spinner {\n",
              "    border: 2px solid var(--fill-color);\n",
              "    border-color: transparent;\n",
              "    border-bottom-color: var(--fill-color);\n",
              "    animation:\n",
              "      spin 1s steps(1) infinite;\n",
              "  }\n",
              "\n",
              "  @keyframes spin {\n",
              "    0% {\n",
              "      border-color: transparent;\n",
              "      border-bottom-color: var(--fill-color);\n",
              "      border-left-color: var(--fill-color);\n",
              "    }\n",
              "    20% {\n",
              "      border-color: transparent;\n",
              "      border-left-color: var(--fill-color);\n",
              "      border-top-color: var(--fill-color);\n",
              "    }\n",
              "    30% {\n",
              "      border-color: transparent;\n",
              "      border-left-color: var(--fill-color);\n",
              "      border-top-color: var(--fill-color);\n",
              "      border-right-color: var(--fill-color);\n",
              "    }\n",
              "    40% {\n",
              "      border-color: transparent;\n",
              "      border-right-color: var(--fill-color);\n",
              "      border-top-color: var(--fill-color);\n",
              "    }\n",
              "    60% {\n",
              "      border-color: transparent;\n",
              "      border-right-color: var(--fill-color);\n",
              "    }\n",
              "    80% {\n",
              "      border-color: transparent;\n",
              "      border-right-color: var(--fill-color);\n",
              "      border-bottom-color: var(--fill-color);\n",
              "    }\n",
              "    90% {\n",
              "      border-color: transparent;\n",
              "      border-bottom-color: var(--fill-color);\n",
              "    }\n",
              "  }\n",
              "</style>\n",
              "\n",
              "  <script>\n",
              "    async function quickchart(key) {\n",
              "      const quickchartButtonEl =\n",
              "        document.querySelector('#' + key + ' button');\n",
              "      quickchartButtonEl.disabled = true;  // To prevent multiple clicks.\n",
              "      quickchartButtonEl.classList.add('colab-df-spinner');\n",
              "      try {\n",
              "        const charts = await google.colab.kernel.invokeFunction(\n",
              "            'suggestCharts', [key], {});\n",
              "      } catch (error) {\n",
              "        console.error('Error during call to suggestCharts:', error);\n",
              "      }\n",
              "      quickchartButtonEl.classList.remove('colab-df-spinner');\n",
              "      quickchartButtonEl.classList.add('colab-df-quickchart-complete');\n",
              "    }\n",
              "    (() => {\n",
              "      let quickchartButtonEl =\n",
              "        document.querySelector('#df-52909f68-754e-460a-bd32-cf721832e1de button');\n",
              "      quickchartButtonEl.style.display =\n",
              "        google.colab.kernel.accessAllowed ? 'block' : 'none';\n",
              "    })();\n",
              "  </script>\n",
              "</div>\n",
              "\n",
              "    </div>\n",
              "  </div>\n"
            ]
          },
          "metadata": {},
          "execution_count": 73
        }
      ]
    },
    {
      "cell_type": "code",
      "source": [
        "past_20_days = data_testing.tail(20)"
      ],
      "metadata": {
        "id": "oix-XQ7G0w80"
      },
      "execution_count": 74,
      "outputs": []
    },
    {
      "cell_type": "code",
      "source": [
        "df = past_20_days.append(data_testing, ignore_index = True)\n",
        "df = df.drop(['Date'], axis = 1)\n",
        "df.head()"
      ],
      "metadata": {
        "colab": {
          "base_uri": "https://localhost:8080/",
          "height": 241
        },
        "id": "VFu9sJvr0y-d",
        "outputId": "8ced862d-c176-42ea-ad34-b6d8598a968c"
      },
      "execution_count": 75,
      "outputs": [
        {
          "output_type": "stream",
          "name": "stderr",
          "text": [
            "<ipython-input-75-08f6f3976b94>:1: FutureWarning: The frame.append method is deprecated and will be removed from pandas in a future version. Use pandas.concat instead.\n",
            "  df = past_20_days.append(data_testing, ignore_index = True)\n"
          ]
        },
        {
          "output_type": "execute_result",
          "data": {
            "text/plain": [
              "        Open       High        Low      Close  Adj Close    Average\n",
              "0  51.450001  52.040001  51.290001  52.009998  48.337364  51.025473\n",
              "1  52.639999  53.250000  52.419998  53.060001  49.313217  52.136643\n",
              "2  53.060001  54.369999  53.029999  54.279999  50.447067  53.037413\n",
              "3  55.500000  56.340000  55.060001  55.200001  51.302097  54.680420\n",
              "4  55.740002  55.779999  54.709999  55.570000  51.645973  54.689195"
            ],
            "text/html": [
              "\n",
              "  <div id=\"df-3f2ed8a1-173b-49a9-9f32-620bc3b5badf\" class=\"colab-df-container\">\n",
              "    <div>\n",
              "<style scoped>\n",
              "    .dataframe tbody tr th:only-of-type {\n",
              "        vertical-align: middle;\n",
              "    }\n",
              "\n",
              "    .dataframe tbody tr th {\n",
              "        vertical-align: top;\n",
              "    }\n",
              "\n",
              "    .dataframe thead th {\n",
              "        text-align: right;\n",
              "    }\n",
              "</style>\n",
              "<table border=\"1\" class=\"dataframe\">\n",
              "  <thead>\n",
              "    <tr style=\"text-align: right;\">\n",
              "      <th></th>\n",
              "      <th>Open</th>\n",
              "      <th>High</th>\n",
              "      <th>Low</th>\n",
              "      <th>Close</th>\n",
              "      <th>Adj Close</th>\n",
              "      <th>Average</th>\n",
              "    </tr>\n",
              "  </thead>\n",
              "  <tbody>\n",
              "    <tr>\n",
              "      <th>0</th>\n",
              "      <td>51.450001</td>\n",
              "      <td>52.040001</td>\n",
              "      <td>51.290001</td>\n",
              "      <td>52.009998</td>\n",
              "      <td>48.337364</td>\n",
              "      <td>51.025473</td>\n",
              "    </tr>\n",
              "    <tr>\n",
              "      <th>1</th>\n",
              "      <td>52.639999</td>\n",
              "      <td>53.250000</td>\n",
              "      <td>52.419998</td>\n",
              "      <td>53.060001</td>\n",
              "      <td>49.313217</td>\n",
              "      <td>52.136643</td>\n",
              "    </tr>\n",
              "    <tr>\n",
              "      <th>2</th>\n",
              "      <td>53.060001</td>\n",
              "      <td>54.369999</td>\n",
              "      <td>53.029999</td>\n",
              "      <td>54.279999</td>\n",
              "      <td>50.447067</td>\n",
              "      <td>53.037413</td>\n",
              "    </tr>\n",
              "    <tr>\n",
              "      <th>3</th>\n",
              "      <td>55.500000</td>\n",
              "      <td>56.340000</td>\n",
              "      <td>55.060001</td>\n",
              "      <td>55.200001</td>\n",
              "      <td>51.302097</td>\n",
              "      <td>54.680420</td>\n",
              "    </tr>\n",
              "    <tr>\n",
              "      <th>4</th>\n",
              "      <td>55.740002</td>\n",
              "      <td>55.779999</td>\n",
              "      <td>54.709999</td>\n",
              "      <td>55.570000</td>\n",
              "      <td>51.645973</td>\n",
              "      <td>54.689195</td>\n",
              "    </tr>\n",
              "  </tbody>\n",
              "</table>\n",
              "</div>\n",
              "    <div class=\"colab-df-buttons\">\n",
              "\n",
              "  <div class=\"colab-df-container\">\n",
              "    <button class=\"colab-df-convert\" onclick=\"convertToInteractive('df-3f2ed8a1-173b-49a9-9f32-620bc3b5badf')\"\n",
              "            title=\"Convert this dataframe to an interactive table.\"\n",
              "            style=\"display:none;\">\n",
              "\n",
              "  <svg xmlns=\"http://www.w3.org/2000/svg\" height=\"24px\" viewBox=\"0 -960 960 960\">\n",
              "    <path d=\"M120-120v-720h720v720H120Zm60-500h600v-160H180v160Zm220 220h160v-160H400v160Zm0 220h160v-160H400v160ZM180-400h160v-160H180v160Zm440 0h160v-160H620v160ZM180-180h160v-160H180v160Zm440 0h160v-160H620v160Z\"/>\n",
              "  </svg>\n",
              "    </button>\n",
              "\n",
              "  <style>\n",
              "    .colab-df-container {\n",
              "      display:flex;\n",
              "      gap: 12px;\n",
              "    }\n",
              "\n",
              "    .colab-df-convert {\n",
              "      background-color: #E8F0FE;\n",
              "      border: none;\n",
              "      border-radius: 50%;\n",
              "      cursor: pointer;\n",
              "      display: none;\n",
              "      fill: #1967D2;\n",
              "      height: 32px;\n",
              "      padding: 0 0 0 0;\n",
              "      width: 32px;\n",
              "    }\n",
              "\n",
              "    .colab-df-convert:hover {\n",
              "      background-color: #E2EBFA;\n",
              "      box-shadow: 0px 1px 2px rgba(60, 64, 67, 0.3), 0px 1px 3px 1px rgba(60, 64, 67, 0.15);\n",
              "      fill: #174EA6;\n",
              "    }\n",
              "\n",
              "    .colab-df-buttons div {\n",
              "      margin-bottom: 4px;\n",
              "    }\n",
              "\n",
              "    [theme=dark] .colab-df-convert {\n",
              "      background-color: #3B4455;\n",
              "      fill: #D2E3FC;\n",
              "    }\n",
              "\n",
              "    [theme=dark] .colab-df-convert:hover {\n",
              "      background-color: #434B5C;\n",
              "      box-shadow: 0px 1px 3px 1px rgba(0, 0, 0, 0.15);\n",
              "      filter: drop-shadow(0px 1px 2px rgba(0, 0, 0, 0.3));\n",
              "      fill: #FFFFFF;\n",
              "    }\n",
              "  </style>\n",
              "\n",
              "    <script>\n",
              "      const buttonEl =\n",
              "        document.querySelector('#df-3f2ed8a1-173b-49a9-9f32-620bc3b5badf button.colab-df-convert');\n",
              "      buttonEl.style.display =\n",
              "        google.colab.kernel.accessAllowed ? 'block' : 'none';\n",
              "\n",
              "      async function convertToInteractive(key) {\n",
              "        const element = document.querySelector('#df-3f2ed8a1-173b-49a9-9f32-620bc3b5badf');\n",
              "        const dataTable =\n",
              "          await google.colab.kernel.invokeFunction('convertToInteractive',\n",
              "                                                    [key], {});\n",
              "        if (!dataTable) return;\n",
              "\n",
              "        const docLinkHtml = 'Like what you see? Visit the ' +\n",
              "          '<a target=\"_blank\" href=https://colab.research.google.com/notebooks/data_table.ipynb>data table notebook</a>'\n",
              "          + ' to learn more about interactive tables.';\n",
              "        element.innerHTML = '';\n",
              "        dataTable['output_type'] = 'display_data';\n",
              "        await google.colab.output.renderOutput(dataTable, element);\n",
              "        const docLink = document.createElement('div');\n",
              "        docLink.innerHTML = docLinkHtml;\n",
              "        element.appendChild(docLink);\n",
              "      }\n",
              "    </script>\n",
              "  </div>\n",
              "\n",
              "\n",
              "<div id=\"df-97d2be15-bf1f-4740-92f3-6099f7f33115\">\n",
              "  <button class=\"colab-df-quickchart\" onclick=\"quickchart('df-97d2be15-bf1f-4740-92f3-6099f7f33115')\"\n",
              "            title=\"Suggest charts\"\n",
              "            style=\"display:none;\">\n",
              "\n",
              "<svg xmlns=\"http://www.w3.org/2000/svg\" height=\"24px\"viewBox=\"0 0 24 24\"\n",
              "     width=\"24px\">\n",
              "    <g>\n",
              "        <path d=\"M19 3H5c-1.1 0-2 .9-2 2v14c0 1.1.9 2 2 2h14c1.1 0 2-.9 2-2V5c0-1.1-.9-2-2-2zM9 17H7v-7h2v7zm4 0h-2V7h2v10zm4 0h-2v-4h2v4z\"/>\n",
              "    </g>\n",
              "</svg>\n",
              "  </button>\n",
              "\n",
              "<style>\n",
              "  .colab-df-quickchart {\n",
              "      --bg-color: #E8F0FE;\n",
              "      --fill-color: #1967D2;\n",
              "      --hover-bg-color: #E2EBFA;\n",
              "      --hover-fill-color: #174EA6;\n",
              "      --disabled-fill-color: #AAA;\n",
              "      --disabled-bg-color: #DDD;\n",
              "  }\n",
              "\n",
              "  [theme=dark] .colab-df-quickchart {\n",
              "      --bg-color: #3B4455;\n",
              "      --fill-color: #D2E3FC;\n",
              "      --hover-bg-color: #434B5C;\n",
              "      --hover-fill-color: #FFFFFF;\n",
              "      --disabled-bg-color: #3B4455;\n",
              "      --disabled-fill-color: #666;\n",
              "  }\n",
              "\n",
              "  .colab-df-quickchart {\n",
              "    background-color: var(--bg-color);\n",
              "    border: none;\n",
              "    border-radius: 50%;\n",
              "    cursor: pointer;\n",
              "    display: none;\n",
              "    fill: var(--fill-color);\n",
              "    height: 32px;\n",
              "    padding: 0;\n",
              "    width: 32px;\n",
              "  }\n",
              "\n",
              "  .colab-df-quickchart:hover {\n",
              "    background-color: var(--hover-bg-color);\n",
              "    box-shadow: 0 1px 2px rgba(60, 64, 67, 0.3), 0 1px 3px 1px rgba(60, 64, 67, 0.15);\n",
              "    fill: var(--button-hover-fill-color);\n",
              "  }\n",
              "\n",
              "  .colab-df-quickchart-complete:disabled,\n",
              "  .colab-df-quickchart-complete:disabled:hover {\n",
              "    background-color: var(--disabled-bg-color);\n",
              "    fill: var(--disabled-fill-color);\n",
              "    box-shadow: none;\n",
              "  }\n",
              "\n",
              "  .colab-df-spinner {\n",
              "    border: 2px solid var(--fill-color);\n",
              "    border-color: transparent;\n",
              "    border-bottom-color: var(--fill-color);\n",
              "    animation:\n",
              "      spin 1s steps(1) infinite;\n",
              "  }\n",
              "\n",
              "  @keyframes spin {\n",
              "    0% {\n",
              "      border-color: transparent;\n",
              "      border-bottom-color: var(--fill-color);\n",
              "      border-left-color: var(--fill-color);\n",
              "    }\n",
              "    20% {\n",
              "      border-color: transparent;\n",
              "      border-left-color: var(--fill-color);\n",
              "      border-top-color: var(--fill-color);\n",
              "    }\n",
              "    30% {\n",
              "      border-color: transparent;\n",
              "      border-left-color: var(--fill-color);\n",
              "      border-top-color: var(--fill-color);\n",
              "      border-right-color: var(--fill-color);\n",
              "    }\n",
              "    40% {\n",
              "      border-color: transparent;\n",
              "      border-right-color: var(--fill-color);\n",
              "      border-top-color: var(--fill-color);\n",
              "    }\n",
              "    60% {\n",
              "      border-color: transparent;\n",
              "      border-right-color: var(--fill-color);\n",
              "    }\n",
              "    80% {\n",
              "      border-color: transparent;\n",
              "      border-right-color: var(--fill-color);\n",
              "      border-bottom-color: var(--fill-color);\n",
              "    }\n",
              "    90% {\n",
              "      border-color: transparent;\n",
              "      border-bottom-color: var(--fill-color);\n",
              "    }\n",
              "  }\n",
              "</style>\n",
              "\n",
              "  <script>\n",
              "    async function quickchart(key) {\n",
              "      const quickchartButtonEl =\n",
              "        document.querySelector('#' + key + ' button');\n",
              "      quickchartButtonEl.disabled = true;  // To prevent multiple clicks.\n",
              "      quickchartButtonEl.classList.add('colab-df-spinner');\n",
              "      try {\n",
              "        const charts = await google.colab.kernel.invokeFunction(\n",
              "            'suggestCharts', [key], {});\n",
              "      } catch (error) {\n",
              "        console.error('Error during call to suggestCharts:', error);\n",
              "      }\n",
              "      quickchartButtonEl.classList.remove('colab-df-spinner');\n",
              "      quickchartButtonEl.classList.add('colab-df-quickchart-complete');\n",
              "    }\n",
              "    (() => {\n",
              "      let quickchartButtonEl =\n",
              "        document.querySelector('#df-97d2be15-bf1f-4740-92f3-6099f7f33115 button');\n",
              "      quickchartButtonEl.style.display =\n",
              "        google.colab.kernel.accessAllowed ? 'block' : 'none';\n",
              "    })();\n",
              "  </script>\n",
              "</div>\n",
              "\n",
              "    </div>\n",
              "  </div>\n"
            ]
          },
          "metadata": {},
          "execution_count": 75
        }
      ]
    },
    {
      "cell_type": "code",
      "source": [
        "inputs = scaler.transform(df)\n",
        "inputs"
      ],
      "metadata": {
        "colab": {
          "base_uri": "https://localhost:8080/"
        },
        "id": "XKzOg7xH01pX",
        "outputId": "9831399b-0b33-4a93-f263-a5f17ddb4b5f"
      },
      "execution_count": 76,
      "outputs": [
        {
          "output_type": "execute_result",
          "data": {
            "text/plain": [
              "array([[0.82772945, 0.83114082, 0.82917662, 0.83628838, 0.85425657,\n",
              "        0.83562614],\n",
              "       [0.8512658 , 0.8548989 , 0.85154394, 0.85697401, 0.87402004,\n",
              "        0.85766034],\n",
              "       [0.8595728 , 0.87688985, 0.86361838, 0.88100865, 0.89698334,\n",
              "        0.87552237],\n",
              "       ...,\n",
              "       [0.92879749, 0.9302965 , 0.92141732, 0.93538221, 0.95695942,\n",
              "        0.93446197],\n",
              "       [0.9375    , 0.93363438, 0.92656375, 0.92139484, 0.94349571,\n",
              "        0.93245998],\n",
              "       [0.9244462 , 0.91694484, 0.915677  , 0.92257681, 0.9446335 ,\n",
              "        0.92475089]])"
            ]
          },
          "metadata": {},
          "execution_count": 76
        }
      ]
    },
    {
      "cell_type": "code",
      "source": [
        "x_test = []\n",
        "y_test = []\n",
        "\n",
        "for i in range(20, inputs.shape[0]):\n",
        "    x_test.append(inputs[i-20:i])\n",
        "    y_test.append(inputs[i,0])\n",
        "\n",
        "x_test = np.array(x_test)\n",
        "y_test = np.array(y_test)\n",
        "x_test.shape, y_test.shape"
      ],
      "metadata": {
        "colab": {
          "base_uri": "https://localhost:8080/"
        },
        "id": "BW9x3C9l04KV",
        "outputId": "5dce233d-fdb8-4653-b1d8-305d4eee4d54"
      },
      "execution_count": 77,
      "outputs": [
        {
          "output_type": "execute_result",
          "data": {
            "text/plain": [
              "((1572, 20, 6), (1572,))"
            ]
          },
          "metadata": {},
          "execution_count": 77
        }
      ]
    },
    {
      "cell_type": "code",
      "source": [
        "x_test.shape"
      ],
      "metadata": {
        "colab": {
          "base_uri": "https://localhost:8080/"
        },
        "id": "Zd_P2VYY067s",
        "outputId": "4f919586-5247-4b3b-d92b-1b9dc5bdab49"
      },
      "execution_count": 78,
      "outputs": [
        {
          "output_type": "execute_result",
          "data": {
            "text/plain": [
              "(1572, 20, 6)"
            ]
          },
          "metadata": {},
          "execution_count": 78
        }
      ]
    },
    {
      "cell_type": "code",
      "source": [
        "y_pred = regressorGRU.predict(x_test)"
      ],
      "metadata": {
        "id": "25arIPFe0861",
        "colab": {
          "base_uri": "https://localhost:8080/"
        },
        "outputId": "63c1817d-972c-42e5-b86d-9e6c647272ef"
      },
      "execution_count": 79,
      "outputs": [
        {
          "output_type": "stream",
          "name": "stdout",
          "text": [
            "50/50 [==============================] - 1s 14ms/step\n"
          ]
        }
      ]
    },
    {
      "cell_type": "code",
      "source": [
        "scaler.scale_"
      ],
      "metadata": {
        "colab": {
          "base_uri": "https://localhost:8080/"
        },
        "id": "4Ae570VM0-7E",
        "outputId": "db0451a2-2950-403f-b5a4-57ffff45fcbd"
      },
      "execution_count": 80,
      "outputs": [
        {
          "output_type": "execute_result",
          "data": {
            "text/plain": [
              "array([0.01977848, 0.01963479, 0.01979414, 0.01970055, 0.0202525 ,\n",
              "       0.01982973])"
            ]
          },
          "metadata": {},
          "execution_count": 80
        }
      ]
    },
    {
      "cell_type": "code",
      "source": [
        "scale = 1 / 0.01977848\n",
        "scale"
      ],
      "metadata": {
        "colab": {
          "base_uri": "https://localhost:8080/"
        },
        "id": "_XnJ6dmz09A2",
        "outputId": "8e36bc68-3887-4609-8f6c-02fea088ee04"
      },
      "execution_count": 81,
      "outputs": [
        {
          "output_type": "execute_result",
          "data": {
            "text/plain": [
              "50.56000258867213"
            ]
          },
          "metadata": {},
          "execution_count": 81
        }
      ]
    },
    {
      "cell_type": "code",
      "source": [
        "y_pred = y_pred * scale\n",
        "y_test = y_test * scale"
      ],
      "metadata": {
        "id": "ygpN1m261DI1"
      },
      "execution_count": 82,
      "outputs": []
    },
    {
      "cell_type": "code",
      "source": [
        "y_pred.shape"
      ],
      "metadata": {
        "colab": {
          "base_uri": "https://localhost:8080/"
        },
        "id": "_rESwhpB1FjN",
        "outputId": "5c56d7e1-fd50-4d87-c36a-d70b58e4d8dd"
      },
      "execution_count": 83,
      "outputs": [
        {
          "output_type": "execute_result",
          "data": {
            "text/plain": [
              "(1572, 1)"
            ]
          },
          "metadata": {},
          "execution_count": 83
        }
      ]
    },
    {
      "cell_type": "code",
      "source": [
        "y_test.shape"
      ],
      "metadata": {
        "colab": {
          "base_uri": "https://localhost:8080/"
        },
        "id": "N1OtHpYw1Jpm",
        "outputId": "c650fbcb-d620-4cb8-db47-39884270607c"
      },
      "execution_count": 84,
      "outputs": [
        {
          "output_type": "execute_result",
          "data": {
            "text/plain": [
              "(1572,)"
            ]
          },
          "metadata": {},
          "execution_count": 84
        }
      ]
    },
    {
      "cell_type": "code",
      "source": [
        "y_pred[1503:]"
      ],
      "metadata": {
        "colab": {
          "base_uri": "https://localhost:8080/"
        },
        "id": "dXtrd6bv1MEY",
        "outputId": "f06c2fdd-168c-414f-8985-2ad20da18782"
      },
      "execution_count": 85,
      "outputs": [
        {
          "output_type": "execute_result",
          "data": {
            "text/plain": [
              "array([[28.299055],\n",
              "       [27.989788],\n",
              "       [28.18894 ],\n",
              "       [28.576563],\n",
              "       [28.980553],\n",
              "       [28.99836 ],\n",
              "       [28.93218 ],\n",
              "       [28.923805],\n",
              "       [28.78163 ],\n",
              "       [28.728838],\n",
              "       [28.695127],\n",
              "       [28.927399],\n",
              "       [29.31622 ],\n",
              "       [29.634409],\n",
              "       [29.729923],\n",
              "       [29.69612 ],\n",
              "       [29.867676],\n",
              "       [29.973846],\n",
              "       [30.35913 ],\n",
              "       [30.94367 ],\n",
              "       [31.339365],\n",
              "       [31.42627 ],\n",
              "       [31.577948],\n",
              "       [31.729017],\n",
              "       [31.839104],\n",
              "       [32.014305],\n",
              "       [32.145912],\n",
              "       [32.360184],\n",
              "       [32.499714],\n",
              "       [32.366066],\n",
              "       [32.21056 ],\n",
              "       [32.094227],\n",
              "       [32.03824 ],\n",
              "       [32.05529 ],\n",
              "       [32.119377],\n",
              "       [32.149685],\n",
              "       [32.064873],\n",
              "       [31.908478],\n",
              "       [31.756187],\n",
              "       [31.50503 ],\n",
              "       [31.428947],\n",
              "       [31.380287],\n",
              "       [31.395926],\n",
              "       [31.396996],\n",
              "       [31.253368],\n",
              "       [31.193556],\n",
              "       [31.217224],\n",
              "       [31.18367 ],\n",
              "       [31.080608],\n",
              "       [31.058346],\n",
              "       [31.160427],\n",
              "       [31.415438],\n",
              "       [31.763502],\n",
              "       [32.26927 ],\n",
              "       [32.7138  ],\n",
              "       [33.10522 ],\n",
              "       [33.575203],\n",
              "       [33.760624],\n",
              "       [33.911793],\n",
              "       [33.955307],\n",
              "       [34.053944],\n",
              "       [34.183887],\n",
              "       [34.277145],\n",
              "       [34.306114],\n",
              "       [34.311127],\n",
              "       [34.43155 ],\n",
              "       [34.544376],\n",
              "       [34.64516 ],\n",
              "       [34.714127]], dtype=float32)"
            ]
          },
          "metadata": {},
          "execution_count": 85
        }
      ]
    },
    {
      "cell_type": "code",
      "source": [
        "y_test[1503:]"
      ],
      "metadata": {
        "colab": {
          "base_uri": "https://localhost:8080/"
        },
        "id": "1oaIx9rC1Ovu",
        "outputId": "961248eb-e9d9-4a16-9d40-51cabec34429"
      },
      "execution_count": 86,
      "outputs": [
        {
          "output_type": "execute_result",
          "data": {
            "text/plain": [
              "array([35.52000082, 38.40000197, 39.70000103, 39.50000002, 37.63000193,\n",
              "       37.58000192, 38.20000096, 37.23000391, 37.31999991, 38.19000296,\n",
              "       39.030003  , 41.69000313, 40.61000108, 40.68000108, 39.140004  ,\n",
              "       40.40000207, 40.16000006, 42.21000316, 44.53000328, 43.40000222,\n",
              "       42.00000015, 42.8800022 , 43.21000321, 43.0000002 , 43.55000423,\n",
              "       43.91000025, 44.15000226, 44.60000328, 42.8800022 , 42.19000316,\n",
              "       42.61000118, 42.51000318, 43.35000322, 43.0200012 , 43.0100032 ,\n",
              "       43.0400012 , 42.31000217, 40.83000209, 40.9600031 , 41.34000112,\n",
              "       41.75000014, 41.98000415, 42.50000018, 41.24000211, 41.70000114,\n",
              "       41.43000112, 41.86000114, 40.74000209, 41.31000212, 41.85000314,\n",
              "       43.0400012 , 43.46000323, 45.90000235, 46.14000436, 45.69000334,\n",
              "       47.22000242, 46.25000037, 46.9000024 , 45.11000131, 46.99000241,\n",
              "       46.55000438, 46.44000338, 46.8800024 , 45.90000235, 47.04000141,\n",
              "       47.11000141, 46.9600034 , 47.40000243, 46.74000239])"
            ]
          },
          "metadata": {},
          "execution_count": 86
        }
      ]
    },
    {
      "cell_type": "code",
      "source": [
        "plt.figure(figsize = (14,5))\n",
        "plt.plot(y_test[1503:], color = 'red', label = 'Real CELH Price')\n",
        "plt.plot(y_pred[1503:], color = 'green', label = 'Predicted CELH price')\n",
        "plt.title('CELH Price Prediction')\n",
        "plt.xlabel('Time')\n",
        "plt.ylabel('CELH Price')\n",
        "plt.legend()\n",
        "plt.show()"
      ],
      "metadata": {
        "colab": {
          "base_uri": "https://localhost:8080/",
          "height": 487
        },
        "id": "dF1LW4S51Q3F",
        "outputId": "9067a828-7d1a-4f99-9f2a-bcd65170f859"
      },
      "execution_count": 87,
      "outputs": [
        {
          "output_type": "display_data",
          "data": {
            "text/plain": [
              "<Figure size 1400x500 with 1 Axes>"
            ],
            "image/png": "[encoded data removed]"
          },
          "metadata": {}
        }
      ]
    }
  ]
}