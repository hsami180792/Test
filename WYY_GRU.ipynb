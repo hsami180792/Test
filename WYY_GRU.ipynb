{
  "nbformat": 4,
  "nbformat_minor": 0,
  "metadata": {
    "colab": {
      "provenance": []
    },
    "kernelspec": {
      "name": "python3",
      "display_name": "Python 3"
    },
    "language_info": {
      "name": "python"
    }
  },
  "cells": [
    {
      "cell_type": "code",
      "execution_count": 33,
      "metadata": {
        "id": "pa8BuGYTzgJb"
      },
      "outputs": [],
      "source": [
        "import numpy as np\n",
        "import matplotlib.pyplot as plt\n",
        "import pandas as pd\n",
        "from sklearn.preprocessing import MinMaxScaler"
      ]
    },
    {
      "cell_type": "code",
      "source": [
        "import io"
      ],
      "metadata": {
        "id": "xV-QJu9fzocN"
      },
      "execution_count": 2,
      "outputs": []
    },
    {
      "cell_type": "code",
      "source": [
        "from google.colab import files\n",
        "uploaded = files.upload()"
      ],
      "metadata": {
        "colab": {
          "base_uri": "https://localhost:8080/",
          "height": 73
        },
        "id": "r24TXRS-zq5E",
        "outputId": "7788aefe-5f10-4192-ac92-16167da2bb5e"
      },
      "execution_count": 3,
      "outputs": [
        {
          "output_type": "display_data",
          "data": {
            "text/plain": [
              "<IPython.core.display.HTML object>"
            ],
            "text/html": [
              "\n",
              "     <input type=\"file\" id=\"files-57e54350-939b-4d4f-939a-6d9b2dd3b374\" name=\"files[]\" multiple disabled\n",
              "        style=\"border:none\" />\n",
              "     <output id=\"result-57e54350-939b-4d4f-939a-6d9b2dd3b374\">\n",
              "      Upload widget is only available when the cell has been executed in the\n",
              "      current browser session. Please rerun this cell to enable.\n",
              "      </output>\n",
              "      <script>// Copyright 2017 Google LLC\n",
              "//\n",
              "// Licensed under the Apache License, Version 2.0 (the \"License\");\n",
              "// you may not use this file except in compliance with the License.\n",
              "// You may obtain a copy of the License at\n",
              "//\n",
              "//      http://www.apache.org/licenses/LICENSE-2.0\n",
              "//\n",
              "// Unless required by applicable law or agreed to in writing, software\n",
              "// distributed under the License is distributed on an \"AS IS\" BASIS,\n",
              "// WITHOUT WARRANTIES OR CONDITIONS OF ANY KIND, either express or implied.\n",
              "// See the License for the specific language governing permissions and\n",
              "// limitations under the License.\n",
              "\n",
              "/**\n",
              " * @fileoverview Helpers for google.colab Python module.\n",
              " */\n",
              "(function(scope) {\n",
              "function span(text, styleAttributes = {}) {\n",
              "  const element = document.createElement('span');\n",
              "  element.textContent = text;\n",
              "  for (const key of Object.keys(styleAttributes)) {\n",
              "    element.style[key] = styleAttributes[key];\n",
              "  }\n",
              "  return element;\n",
              "}\n",
              "\n",
              "// Max number of bytes which will be uploaded at a time.\n",
              "const MAX_PAYLOAD_SIZE = 100 * 1024;\n",
              "\n",
              "function _uploadFiles(inputId, outputId) {\n",
              "  const steps = uploadFilesStep(inputId, outputId);\n",
              "  const outputElement = document.getElementById(outputId);\n",
              "  // Cache steps on the outputElement to make it available for the next call\n",
              "  // to uploadFilesContinue from Python.\n",
              "  outputElement.steps = steps;\n",
              "\n",
              "  return _uploadFilesContinue(outputId);\n",
              "}\n",
              "\n",
              "// This is roughly an async generator (not supported in the browser yet),\n",
              "// where there are multiple asynchronous steps and the Python side is going\n",
              "// to poll for completion of each step.\n",
              "// This uses a Promise to block the python side on completion of each step,\n",
              "// then passes the result of the previous step as the input to the next step.\n",
              "function _uploadFilesContinue(outputId) {\n",
              "  const outputElement = document.getElementById(outputId);\n",
              "  const steps = outputElement.steps;\n",
              "\n",
              "  const next = steps.next(outputElement.lastPromiseValue);\n",
              "  return Promise.resolve(next.value.promise).then((value) => {\n",
              "    // Cache the last promise value to make it available to the next\n",
              "    // step of the generator.\n",
              "    outputElement.lastPromiseValue = value;\n",
              "    return next.value.response;\n",
              "  });\n",
              "}\n",
              "\n",
              "/**\n",
              " * Generator function which is called between each async step of the upload\n",
              " * process.\n",
              " * @param {string} inputId Element ID of the input file picker element.\n",
              " * @param {string} outputId Element ID of the output display.\n",
              " * @return {!Iterable<!Object>} Iterable of next steps.\n",
              " */\n",
              "function* uploadFilesStep(inputId, outputId) {\n",
              "  const inputElement = document.getElementById(inputId);\n",
              "  inputElement.disabled = false;\n",
              "\n",
              "  const outputElement = document.getElementById(outputId);\n",
              "  outputElement.innerHTML = '';\n",
              "\n",
              "  const pickedPromise = new Promise((resolve) => {\n",
              "    inputElement.addEventListener('change', (e) => {\n",
              "      resolve(e.target.files);\n",
              "    });\n",
              "  });\n",
              "\n",
              "  const cancel = document.createElement('button');\n",
              "  inputElement.parentElement.appendChild(cancel);\n",
              "  cancel.textContent = 'Cancel upload';\n",
              "  const cancelPromise = new Promise((resolve) => {\n",
              "    cancel.onclick = () => {\n",
              "      resolve(null);\n",
              "    };\n",
              "  });\n",
              "\n",
              "  // Wait for the user to pick the files.\n",
              "  const files = yield {\n",
              "    promise: Promise.race([pickedPromise, cancelPromise]),\n",
              "    response: {\n",
              "      action: 'starting',\n",
              "    }\n",
              "  };\n",
              "\n",
              "  cancel.remove();\n",
              "\n",
              "  // Disable the input element since further picks are not allowed.\n",
              "  inputElement.disabled = true;\n",
              "\n",
              "  if (!files) {\n",
              "    return {\n",
              "      response: {\n",
              "        action: 'complete',\n",
              "      }\n",
              "    };\n",
              "  }\n",
              "\n",
              "  for (const file of files) {\n",
              "    const li = document.createElement('li');\n",
              "    li.append(span(file.name, {fontWeight: 'bold'}));\n",
              "    li.append(span(\n",
              "        `(${file.type || 'n/a'}) - ${file.size} bytes, ` +\n",
              "        `last modified: ${\n",
              "            file.lastModifiedDate ? file.lastModifiedDate.toLocaleDateString() :\n",
              "                                    'n/a'} - `));\n",
              "    const percent = span('0% done');\n",
              "    li.appendChild(percent);\n",
              "\n",
              "    outputElement.appendChild(li);\n",
              "\n",
              "    const fileDataPromise = new Promise((resolve) => {\n",
              "      const reader = new FileReader();\n",
              "      reader.onload = (e) => {\n",
              "        resolve(e.target.result);\n",
              "      };\n",
              "      reader.readAsArrayBuffer(file);\n",
              "    });\n",
              "    // Wait for the data to be ready.\n",
              "    let fileData = yield {\n",
              "      promise: fileDataPromise,\n",
              "      response: {\n",
              "        action: 'continue',\n",
              "      }\n",
              "    };\n",
              "\n",
              "    // Use a chunked sending to avoid message size limits. See b/62115660.\n",
              "    let position = 0;\n",
              "    do {\n",
              "      const length = Math.min(fileData.byteLength - position, MAX_PAYLOAD_SIZE);\n",
              "      const chunk = new Uint8Array(fileData, position, length);\n",
              "      position += length;\n",
              "\n",
              "      const base64 = btoa(String.fromCharCode.apply(null, chunk));\n",
              "      yield {\n",
              "        response: {\n",
              "          action: 'append',\n",
              "          file: file.name,\n",
              "          data: base64,\n",
              "        },\n",
              "      };\n",
              "\n",
              "      let percentDone = fileData.byteLength === 0 ?\n",
              "          100 :\n",
              "          Math.round((position / fileData.byteLength) * 100);\n",
              "      percent.textContent = `${percentDone}% done`;\n",
              "\n",
              "    } while (position < fileData.byteLength);\n",
              "  }\n",
              "\n",
              "  // All done.\n",
              "  yield {\n",
              "    response: {\n",
              "      action: 'complete',\n",
              "    }\n",
              "  };\n",
              "}\n",
              "\n",
              "scope.google = scope.google || {};\n",
              "scope.google.colab = scope.google.colab || {};\n",
              "scope.google.colab._files = {\n",
              "  _uploadFiles,\n",
              "  _uploadFilesContinue,\n",
              "};\n",
              "})(self);\n",
              "</script> "
            ]
          },
          "metadata": {}
        },
        {
          "output_type": "stream",
          "name": "stdout",
          "text": [
            "Saving wyy_n.csv to wyy_n.csv\n"
          ]
        }
      ]
    },
    {
      "cell_type": "code",
      "source": [
        "df = pd.read_csv(io.BytesIO(uploaded['wyy_n.csv']))\n",
        "print(df)"
      ],
      "metadata": {
        "colab": {
          "base_uri": "https://localhost:8080/"
        },
        "id": "rDifliYGzwvi",
        "outputId": "c237d387-a8b4-4b06-be9d-7b7cffe6ffb1"
      },
      "execution_count": 4,
      "outputs": [
        {
          "output_type": "stream",
          "name": "stdout",
          "text": [
            "           Date  Open  High  Low  Close  Adj Close  Average\n",
            "0      1/4/2010   7.5   7.8  7.2    7.2        7.2     7.38\n",
            "1      1/5/2010   7.4   7.4  7.2    7.3        7.3     7.32\n",
            "2      1/6/2010   7.2   7.3  7.1    7.2        7.2     7.20\n",
            "3      1/7/2010   7.2   7.4  7.0    7.2        7.2     7.20\n",
            "4      1/8/2010   7.1   7.5  7.0    7.4        7.4     7.28\n",
            "...         ...   ...   ...  ...    ...        ...      ...\n",
            "2635  6/23/2020   7.3   7.3  6.6    6.7        6.7     6.92\n",
            "2636  6/24/2020   7.0   8.6  6.7    7.0        7.0     7.26\n",
            "2637  6/25/2020   6.9   7.1  6.9    6.9        6.9     6.94\n",
            "2638  6/26/2020   6.9   6.9  6.5    6.6        6.6     6.70\n",
            "2639  6/29/2020   6.5   7.2  6.4    6.9        6.9     6.78\n",
            "\n",
            "[2640 rows x 7 columns]\n"
          ]
        }
      ]
    },
    {
      "cell_type": "code",
      "source": [
        "data_training = df[df['Date'] < '2020-03-15'].copy()\n",
        "data_testing = df[df['Date'] >= '2020-03-15'].copy()"
      ],
      "metadata": {
        "id": "loLfrbEez1Kz"
      },
      "execution_count": 5,
      "outputs": []
    },
    {
      "cell_type": "code",
      "source": [
        "data_training = data_training.drop(['Date'], axis = 1)"
      ],
      "metadata": {
        "id": "ZAwybGlaz4HS"
      },
      "execution_count": 6,
      "outputs": []
    },
    {
      "cell_type": "code",
      "source": [
        "scaler = MinMaxScaler()\n",
        "data_training = scaler.fit_transform(data_training)\n",
        "data_training"
      ],
      "metadata": {
        "colab": {
          "base_uri": "https://localhost:8080/"
        },
        "id": "G0oMyymYz6nD",
        "outputId": "b2827951-7c8d-403c-858e-afe6bfd7677e"
      },
      "execution_count": 7,
      "outputs": [
        {
          "output_type": "execute_result",
          "data": {
            "text/plain": [
              "array([[0.27607364, 0.28220859, 0.28387099, 0.2625    , 0.2625    ,\n",
              "        0.27375001],\n",
              "       [0.26993867, 0.25766871, 0.28387099, 0.26875   , 0.26875   ,\n",
              "        0.27000001],\n",
              "       [0.25766873, 0.25153374, 0.27741937, 0.2625    , 0.2625    ,\n",
              "        0.26250001],\n",
              "       ...,\n",
              "       [0.10429448, 0.10429448, 0.10322581, 0.1       , 0.1       ,\n",
              "        0.1025    ],\n",
              "       [0.09815952, 0.08588957, 0.0967742 , 0.08125   , 0.08125   ,\n",
              "        0.08875   ],\n",
              "       [0.06748467, 0.09202454, 0.07741936, 0.1       , 0.1       ,\n",
              "        0.0875    ]])"
            ]
          },
          "metadata": {},
          "execution_count": 7
        }
      ]
    },
    {
      "cell_type": "code",
      "source": [
        "x_train = []\n",
        "y_train = []\n",
        "\n",
        "for i in range(60, data_training.shape[0]):\n",
        "    x_train.append(data_training[i-20:i])\n",
        "    y_train.append(data_training[i, 0])\n",
        "\n",
        "x_train = np.array(x_train)\n",
        "y_train = np.array(y_train)"
      ],
      "metadata": {
        "id": "RHB_FUf30Z9L"
      },
      "execution_count": 8,
      "outputs": []
    },
    {
      "cell_type": "code",
      "source": [
        "x_train.shape"
      ],
      "metadata": {
        "colab": {
          "base_uri": "https://localhost:8080/"
        },
        "id": "qmWYzXwY0h3r",
        "outputId": "5b15b0fb-5832-4fa9-e2b0-863e4be54281"
      },
      "execution_count": 9,
      "outputs": [
        {
          "output_type": "execute_result",
          "data": {
            "text/plain": [
              "(1008, 20, 6)"
            ]
          },
          "metadata": {},
          "execution_count": 9
        }
      ]
    },
    {
      "cell_type": "code",
      "source": [
        "from tensorflow.keras import Sequential\n",
        "from tensorflow.keras.layers import Dense, LSTM, Dropout, GRU, Bidirectional"
      ],
      "metadata": {
        "id": "bB7lh8H00kVb"
      },
      "execution_count": 14,
      "outputs": []
    },
    {
      "cell_type": "code",
      "source": [
        "regressorGRU = Sequential()\n",
        "\n",
        "regressorGRU.add(GRU(units = 60, activation = 'relu', return_sequences = True, input_shape = (x_train.shape[1], 6)))\n",
        "regressorGRU.add(Dropout(0.2))\n",
        "\n",
        "regressorGRU.add(GRU(units = 60, activation = 'relu', return_sequences = True))\n",
        "regressorGRU.add(Dropout(0.2))\n",
        "\n",
        "regressorGRU.add(GRU(units = 80, activation = 'relu', return_sequences = True))\n",
        "regressorGRU.add(Dropout(0.2))\n",
        "\n",
        "regressorGRU.add(GRU(units = 120, activation = 'relu'))\n",
        "regressorGRU.add(Dropout(0.2))\n",
        "\n",
        "regressorGRU.add(Dense(units = 1))"
      ],
      "metadata": {
        "id": "KGK1n3id0muD"
      },
      "execution_count": 15,
      "outputs": []
    },
    {
      "cell_type": "code",
      "source": [
        "regressorGRU.summary()"
      ],
      "metadata": {
        "colab": {
          "base_uri": "https://localhost:8080/"
        },
        "id": "yYY75U140pQz",
        "outputId": "17add297-b747-41c9-8dc6-c6b2f7a98162"
      },
      "execution_count": 16,
      "outputs": [
        {
          "output_type": "stream",
          "name": "stdout",
          "text": [
            "Model: \"sequential_1\"\n",
            "_________________________________________________________________\n",
            " Layer (type)                Output Shape              Param #   \n",
            "=================================================================\n",
            " gru_4 (GRU)                 (None, 20, 60)            12240     \n",
            "                                                                 \n",
            " dropout_4 (Dropout)         (None, 20, 60)            0         \n",
            "                                                                 \n",
            " gru_5 (GRU)                 (None, 20, 60)            21960     \n",
            "                                                                 \n",
            " dropout_5 (Dropout)         (None, 20, 60)            0         \n",
            "                                                                 \n",
            " gru_6 (GRU)                 (None, 20, 80)            34080     \n",
            "                                                                 \n",
            " dropout_6 (Dropout)         (None, 20, 80)            0         \n",
            "                                                                 \n",
            " gru_7 (GRU)                 (None, 120)               72720     \n",
            "                                                                 \n",
            " dropout_7 (Dropout)         (None, 120)               0         \n",
            "                                                                 \n",
            " dense_1 (Dense)             (None, 1)                 121       \n",
            "                                                                 \n",
            "=================================================================\n",
            "Total params: 141121 (551.25 KB)\n",
            "Trainable params: 141121 (551.25 KB)\n",
            "Non-trainable params: 0 (0.00 Byte)\n",
            "_________________________________________________________________\n"
          ]
        }
      ]
    },
    {
      "cell_type": "code",
      "source": [
        "regressorGRU.compile(optimizer = 'adam', loss = 'mean_squared_error')\n",
        "regressorGRU.fit(x_train, y_train, epochs = 50, batch_size = 32)"
      ],
      "metadata": {
        "colab": {
          "base_uri": "https://localhost:8080/"
        },
        "id": "wLj5SWbm0sLF",
        "outputId": "04fe57dd-0d71-4b5f-feee-d1b19e219a5e"
      },
      "execution_count": 17,
      "outputs": [
        {
          "output_type": "stream",
          "name": "stdout",
          "text": [
            "Epoch 1/50\n",
            "32/32 [==============================] - 7s 44ms/step - loss: 0.0354\n",
            "Epoch 2/50\n",
            "32/32 [==============================] - 1s 44ms/step - loss: 0.0065\n",
            "Epoch 3/50\n",
            "32/32 [==============================] - 1s 43ms/step - loss: 0.0054\n",
            "Epoch 4/50\n",
            "32/32 [==============================] - 1s 44ms/step - loss: 0.0051\n",
            "Epoch 5/50\n",
            "32/32 [==============================] - 1s 44ms/step - loss: 0.0054\n",
            "Epoch 6/50\n",
            "32/32 [==============================] - 1s 44ms/step - loss: 0.0048\n",
            "Epoch 7/50\n",
            "32/32 [==============================] - 2s 56ms/step - loss: 0.0051\n",
            "Epoch 8/50\n",
            "32/32 [==============================] - 2s 64ms/step - loss: 0.0049\n",
            "Epoch 9/50\n",
            "32/32 [==============================] - 1s 44ms/step - loss: 0.0042\n",
            "Epoch 10/50\n",
            "32/32 [==============================] - 1s 43ms/step - loss: 0.0037\n",
            "Epoch 11/50\n",
            "32/32 [==============================] - 1s 44ms/step - loss: 0.0037\n",
            "Epoch 12/50\n",
            "32/32 [==============================] - 2s 55ms/step - loss: 0.0042\n",
            "Epoch 13/50\n",
            "32/32 [==============================] - 1s 44ms/step - loss: 0.0040\n",
            "Epoch 14/50\n",
            "32/32 [==============================] - 1s 44ms/step - loss: 0.0036\n",
            "Epoch 15/50\n",
            "32/32 [==============================] - 2s 62ms/step - loss: 0.0035\n",
            "Epoch 16/50\n",
            "32/32 [==============================] - 2s 57ms/step - loss: 0.0033\n",
            "Epoch 17/50\n",
            "32/32 [==============================] - 1s 43ms/step - loss: 0.0036\n",
            "Epoch 18/50\n",
            "32/32 [==============================] - 1s 44ms/step - loss: 0.0032\n",
            "Epoch 19/50\n",
            "32/32 [==============================] - 1s 45ms/step - loss: 0.0029\n",
            "Epoch 20/50\n",
            "32/32 [==============================] - 1s 43ms/step - loss: 0.0027\n",
            "Epoch 21/50\n",
            "32/32 [==============================] - 1s 44ms/step - loss: 0.0027\n",
            "Epoch 22/50\n",
            "32/32 [==============================] - 1s 43ms/step - loss: 0.0025\n",
            "Epoch 23/50\n",
            "32/32 [==============================] - 2s 58ms/step - loss: 0.0032\n",
            "Epoch 24/50\n",
            "32/32 [==============================] - 2s 61ms/step - loss: 0.0026\n",
            "Epoch 25/50\n",
            "32/32 [==============================] - 1s 43ms/step - loss: 0.0028\n",
            "Epoch 26/50\n",
            "32/32 [==============================] - 1s 43ms/step - loss: 0.0025\n",
            "Epoch 27/50\n",
            "32/32 [==============================] - 1s 43ms/step - loss: 0.0034\n",
            "Epoch 28/50\n",
            "32/32 [==============================] - 1s 43ms/step - loss: 0.0031\n",
            "Epoch 29/50\n",
            "32/32 [==============================] - 1s 43ms/step - loss: 0.0030\n",
            "Epoch 30/50\n",
            "32/32 [==============================] - 1s 43ms/step - loss: 0.0024\n",
            "Epoch 31/50\n",
            "32/32 [==============================] - 2s 52ms/step - loss: 0.0024\n",
            "Epoch 32/50\n",
            "32/32 [==============================] - 2s 67ms/step - loss: 0.0022\n",
            "Epoch 33/50\n",
            "32/32 [==============================] - 1s 44ms/step - loss: 0.0022\n",
            "Epoch 34/50\n",
            "32/32 [==============================] - 1s 43ms/step - loss: 0.0025\n",
            "Epoch 35/50\n",
            "32/32 [==============================] - 1s 43ms/step - loss: 0.0023\n",
            "Epoch 36/50\n",
            "32/32 [==============================] - 1s 44ms/step - loss: 0.0022\n",
            "Epoch 37/50\n",
            "32/32 [==============================] - 1s 44ms/step - loss: 0.0024\n",
            "Epoch 38/50\n",
            "32/32 [==============================] - 1s 43ms/step - loss: 0.0022\n",
            "Epoch 39/50\n",
            "32/32 [==============================] - 2s 48ms/step - loss: 0.0022\n",
            "Epoch 40/50\n",
            "32/32 [==============================] - 2s 71ms/step - loss: 0.0022\n",
            "Epoch 41/50\n",
            "32/32 [==============================] - 1s 43ms/step - loss: 0.0022\n",
            "Epoch 42/50\n",
            "32/32 [==============================] - 1s 42ms/step - loss: 0.0022\n",
            "Epoch 43/50\n",
            "32/32 [==============================] - 1s 44ms/step - loss: 0.0022\n",
            "Epoch 44/50\n",
            "32/32 [==============================] - 1s 44ms/step - loss: 0.0021\n",
            "Epoch 45/50\n",
            "32/32 [==============================] - 1s 44ms/step - loss: 0.0024\n",
            "Epoch 46/50\n",
            "32/32 [==============================] - 1s 44ms/step - loss: 0.0022\n",
            "Epoch 47/50\n",
            "32/32 [==============================] - 1s 45ms/step - loss: 0.0022\n",
            "Epoch 48/50\n",
            "32/32 [==============================] - 2s 76ms/step - loss: 0.0019\n",
            "Epoch 49/50\n",
            "32/32 [==============================] - 1s 43ms/step - loss: 0.0023\n",
            "Epoch 50/50\n",
            "32/32 [==============================] - 1s 44ms/step - loss: 0.0019\n"
          ]
        },
        {
          "output_type": "execute_result",
          "data": {
            "text/plain": [
              "<keras.src.callbacks.History at 0x7e7f55c392d0>"
            ]
          },
          "metadata": {},
          "execution_count": 17
        }
      ]
    },
    {
      "cell_type": "code",
      "source": [
        "data_testing.head()"
      ],
      "metadata": {
        "colab": {
          "base_uri": "https://localhost:8080/",
          "height": 206
        },
        "id": "vhTxTiQ00u7V",
        "outputId": "4403cf32-e830-4d44-99b0-dcf69b33bdaf"
      },
      "execution_count": 18,
      "outputs": [
        {
          "output_type": "execute_result",
          "data": {
            "text/plain": [
              "        Date  Open  High  Low  Close  Adj Close  Average\n",
              "38  3/1/2010   7.7   7.8  7.6    7.7        7.7     7.70\n",
              "39  3/2/2010   7.8   7.9  7.6    7.8        7.8     7.78\n",
              "40  3/3/2010   7.9   7.9  7.6    7.8        7.8     7.80\n",
              "41  3/4/2010   7.7   7.9  7.7    7.8        7.8     7.78\n",
              "42  3/5/2010   7.7   7.9  7.7    7.8        7.8     7.78"
            ],
            "text/html": [
              "\n",
              "  <div id=\"df-1374c528-feda-4d82-a43b-2d293799288c\" class=\"colab-df-container\">\n",
              "    <div>\n",
              "<style scoped>\n",
              "    .dataframe tbody tr th:only-of-type {\n",
              "        vertical-align: middle;\n",
              "    }\n",
              "\n",
              "    .dataframe tbody tr th {\n",
              "        vertical-align: top;\n",
              "    }\n",
              "\n",
              "    .dataframe thead th {\n",
              "        text-align: right;\n",
              "    }\n",
              "</style>\n",
              "<table border=\"1\" class=\"dataframe\">\n",
              "  <thead>\n",
              "    <tr style=\"text-align: right;\">\n",
              "      <th></th>\n",
              "      <th>Date</th>\n",
              "      <th>Open</th>\n",
              "      <th>High</th>\n",
              "      <th>Low</th>\n",
              "      <th>Close</th>\n",
              "      <th>Adj Close</th>\n",
              "      <th>Average</th>\n",
              "    </tr>\n",
              "  </thead>\n",
              "  <tbody>\n",
              "    <tr>\n",
              "      <th>38</th>\n",
              "      <td>3/1/2010</td>\n",
              "      <td>7.7</td>\n",
              "      <td>7.8</td>\n",
              "      <td>7.6</td>\n",
              "      <td>7.7</td>\n",
              "      <td>7.7</td>\n",
              "      <td>7.70</td>\n",
              "    </tr>\n",
              "    <tr>\n",
              "      <th>39</th>\n",
              "      <td>3/2/2010</td>\n",
              "      <td>7.8</td>\n",
              "      <td>7.9</td>\n",
              "      <td>7.6</td>\n",
              "      <td>7.8</td>\n",
              "      <td>7.8</td>\n",
              "      <td>7.78</td>\n",
              "    </tr>\n",
              "    <tr>\n",
              "      <th>40</th>\n",
              "      <td>3/3/2010</td>\n",
              "      <td>7.9</td>\n",
              "      <td>7.9</td>\n",
              "      <td>7.6</td>\n",
              "      <td>7.8</td>\n",
              "      <td>7.8</td>\n",
              "      <td>7.80</td>\n",
              "    </tr>\n",
              "    <tr>\n",
              "      <th>41</th>\n",
              "      <td>3/4/2010</td>\n",
              "      <td>7.7</td>\n",
              "      <td>7.9</td>\n",
              "      <td>7.7</td>\n",
              "      <td>7.8</td>\n",
              "      <td>7.8</td>\n",
              "      <td>7.78</td>\n",
              "    </tr>\n",
              "    <tr>\n",
              "      <th>42</th>\n",
              "      <td>3/5/2010</td>\n",
              "      <td>7.7</td>\n",
              "      <td>7.9</td>\n",
              "      <td>7.7</td>\n",
              "      <td>7.8</td>\n",
              "      <td>7.8</td>\n",
              "      <td>7.78</td>\n",
              "    </tr>\n",
              "  </tbody>\n",
              "</table>\n",
              "</div>\n",
              "    <div class=\"colab-df-buttons\">\n",
              "\n",
              "  <div class=\"colab-df-container\">\n",
              "    <button class=\"colab-df-convert\" onclick=\"convertToInteractive('df-1374c528-feda-4d82-a43b-2d293799288c')\"\n",
              "            title=\"Convert this dataframe to an interactive table.\"\n",
              "            style=\"display:none;\">\n",
              "\n",
              "  <svg xmlns=\"http://www.w3.org/2000/svg\" height=\"24px\" viewBox=\"0 -960 960 960\">\n",
              "    <path d=\"M120-120v-720h720v720H120Zm60-500h600v-160H180v160Zm220 220h160v-160H400v160Zm0 220h160v-160H400v160ZM180-400h160v-160H180v160Zm440 0h160v-160H620v160ZM180-180h160v-160H180v160Zm440 0h160v-160H620v160Z\"/>\n",
              "  </svg>\n",
              "    </button>\n",
              "\n",
              "  <style>\n",
              "    .colab-df-container {\n",
              "      display:flex;\n",
              "      gap: 12px;\n",
              "    }\n",
              "\n",
              "    .colab-df-convert {\n",
              "      background-color: #E8F0FE;\n",
              "      border: none;\n",
              "      border-radius: 50%;\n",
              "      cursor: pointer;\n",
              "      display: none;\n",
              "      fill: #1967D2;\n",
              "      height: 32px;\n",
              "      padding: 0 0 0 0;\n",
              "      width: 32px;\n",
              "    }\n",
              "\n",
              "    .colab-df-convert:hover {\n",
              "      background-color: #E2EBFA;\n",
              "      box-shadow: 0px 1px 2px rgba(60, 64, 67, 0.3), 0px 1px 3px 1px rgba(60, 64, 67, 0.15);\n",
              "      fill: #174EA6;\n",
              "    }\n",
              "\n",
              "    .colab-df-buttons div {\n",
              "      margin-bottom: 4px;\n",
              "    }\n",
              "\n",
              "    [theme=dark] .colab-df-convert {\n",
              "      background-color: #3B4455;\n",
              "      fill: #D2E3FC;\n",
              "    }\n",
              "\n",
              "    [theme=dark] .colab-df-convert:hover {\n",
              "      background-color: #434B5C;\n",
              "      box-shadow: 0px 1px 3px 1px rgba(0, 0, 0, 0.15);\n",
              "      filter: drop-shadow(0px 1px 2px rgba(0, 0, 0, 0.3));\n",
              "      fill: #FFFFFF;\n",
              "    }\n",
              "  </style>\n",
              "\n",
              "    <script>\n",
              "      const buttonEl =\n",
              "        document.querySelector('#df-1374c528-feda-4d82-a43b-2d293799288c button.colab-df-convert');\n",
              "      buttonEl.style.display =\n",
              "        google.colab.kernel.accessAllowed ? 'block' : 'none';\n",
              "\n",
              "      async function convertToInteractive(key) {\n",
              "        const element = document.querySelector('#df-1374c528-feda-4d82-a43b-2d293799288c');\n",
              "        const dataTable =\n",
              "          await google.colab.kernel.invokeFunction('convertToInteractive',\n",
              "                                                    [key], {});\n",
              "        if (!dataTable) return;\n",
              "\n",
              "        const docLinkHtml = 'Like what you see? Visit the ' +\n",
              "          '<a target=\"_blank\" href=https://colab.research.google.com/notebooks/data_table.ipynb>data table notebook</a>'\n",
              "          + ' to learn more about interactive tables.';\n",
              "        element.innerHTML = '';\n",
              "        dataTable['output_type'] = 'display_data';\n",
              "        await google.colab.output.renderOutput(dataTable, element);\n",
              "        const docLink = document.createElement('div');\n",
              "        docLink.innerHTML = docLinkHtml;\n",
              "        element.appendChild(docLink);\n",
              "      }\n",
              "    </script>\n",
              "  </div>\n",
              "\n",
              "\n",
              "<div id=\"df-c7478f91-70a2-49da-ad82-fbf0d6050cef\">\n",
              "  <button class=\"colab-df-quickchart\" onclick=\"quickchart('df-c7478f91-70a2-49da-ad82-fbf0d6050cef')\"\n",
              "            title=\"Suggest charts\"\n",
              "            style=\"display:none;\">\n",
              "\n",
              "<svg xmlns=\"http://www.w3.org/2000/svg\" height=\"24px\"viewBox=\"0 0 24 24\"\n",
              "     width=\"24px\">\n",
              "    <g>\n",
              "        <path d=\"M19 3H5c-1.1 0-2 .9-2 2v14c0 1.1.9 2 2 2h14c1.1 0 2-.9 2-2V5c0-1.1-.9-2-2-2zM9 17H7v-7h2v7zm4 0h-2V7h2v10zm4 0h-2v-4h2v4z\"/>\n",
              "    </g>\n",
              "</svg>\n",
              "  </button>\n",
              "\n",
              "<style>\n",
              "  .colab-df-quickchart {\n",
              "      --bg-color: #E8F0FE;\n",
              "      --fill-color: #1967D2;\n",
              "      --hover-bg-color: #E2EBFA;\n",
              "      --hover-fill-color: #174EA6;\n",
              "      --disabled-fill-color: #AAA;\n",
              "      --disabled-bg-color: #DDD;\n",
              "  }\n",
              "\n",
              "  [theme=dark] .colab-df-quickchart {\n",
              "      --bg-color: #3B4455;\n",
              "      --fill-color: #D2E3FC;\n",
              "      --hover-bg-color: #434B5C;\n",
              "      --hover-fill-color: #FFFFFF;\n",
              "      --disabled-bg-color: #3B4455;\n",
              "      --disabled-fill-color: #666;\n",
              "  }\n",
              "\n",
              "  .colab-df-quickchart {\n",
              "    background-color: var(--bg-color);\n",
              "    border: none;\n",
              "    border-radius: 50%;\n",
              "    cursor: pointer;\n",
              "    display: none;\n",
              "    fill: var(--fill-color);\n",
              "    height: 32px;\n",
              "    padding: 0;\n",
              "    width: 32px;\n",
              "  }\n",
              "\n",
              "  .colab-df-quickchart:hover {\n",
              "    background-color: var(--hover-bg-color);\n",
              "    box-shadow: 0 1px 2px rgba(60, 64, 67, 0.3), 0 1px 3px 1px rgba(60, 64, 67, 0.15);\n",
              "    fill: var(--button-hover-fill-color);\n",
              "  }\n",
              "\n",
              "  .colab-df-quickchart-complete:disabled,\n",
              "  .colab-df-quickchart-complete:disabled:hover {\n",
              "    background-color: var(--disabled-bg-color);\n",
              "    fill: var(--disabled-fill-color);\n",
              "    box-shadow: none;\n",
              "  }\n",
              "\n",
              "  .colab-df-spinner {\n",
              "    border: 2px solid var(--fill-color);\n",
              "    border-color: transparent;\n",
              "    border-bottom-color: var(--fill-color);\n",
              "    animation:\n",
              "      spin 1s steps(1) infinite;\n",
              "  }\n",
              "\n",
              "  @keyframes spin {\n",
              "    0% {\n",
              "      border-color: transparent;\n",
              "      border-bottom-color: var(--fill-color);\n",
              "      border-left-color: var(--fill-color);\n",
              "    }\n",
              "    20% {\n",
              "      border-color: transparent;\n",
              "      border-left-color: var(--fill-color);\n",
              "      border-top-color: var(--fill-color);\n",
              "    }\n",
              "    30% {\n",
              "      border-color: transparent;\n",
              "      border-left-color: var(--fill-color);\n",
              "      border-top-color: var(--fill-color);\n",
              "      border-right-color: var(--fill-color);\n",
              "    }\n",
              "    40% {\n",
              "      border-color: transparent;\n",
              "      border-right-color: var(--fill-color);\n",
              "      border-top-color: var(--fill-color);\n",
              "    }\n",
              "    60% {\n",
              "      border-color: transparent;\n",
              "      border-right-color: var(--fill-color);\n",
              "    }\n",
              "    80% {\n",
              "      border-color: transparent;\n",
              "      border-right-color: var(--fill-color);\n",
              "      border-bottom-color: var(--fill-color);\n",
              "    }\n",
              "    90% {\n",
              "      border-color: transparent;\n",
              "      border-bottom-color: var(--fill-color);\n",
              "    }\n",
              "  }\n",
              "</style>\n",
              "\n",
              "  <script>\n",
              "    async function quickchart(key) {\n",
              "      const quickchartButtonEl =\n",
              "        document.querySelector('#' + key + ' button');\n",
              "      quickchartButtonEl.disabled = true;  // To prevent multiple clicks.\n",
              "      quickchartButtonEl.classList.add('colab-df-spinner');\n",
              "      try {\n",
              "        const charts = await google.colab.kernel.invokeFunction(\n",
              "            'suggestCharts', [key], {});\n",
              "      } catch (error) {\n",
              "        console.error('Error during call to suggestCharts:', error);\n",
              "      }\n",
              "      quickchartButtonEl.classList.remove('colab-df-spinner');\n",
              "      quickchartButtonEl.classList.add('colab-df-quickchart-complete');\n",
              "    }\n",
              "    (() => {\n",
              "      let quickchartButtonEl =\n",
              "        document.querySelector('#df-c7478f91-70a2-49da-ad82-fbf0d6050cef button');\n",
              "      quickchartButtonEl.style.display =\n",
              "        google.colab.kernel.accessAllowed ? 'block' : 'none';\n",
              "    })();\n",
              "  </script>\n",
              "</div>\n",
              "\n",
              "    </div>\n",
              "  </div>\n"
            ]
          },
          "metadata": {},
          "execution_count": 18
        }
      ]
    },
    {
      "cell_type": "code",
      "source": [
        "past_20_days = data_testing.tail(20)"
      ],
      "metadata": {
        "id": "oix-XQ7G0w80"
      },
      "execution_count": 19,
      "outputs": []
    },
    {
      "cell_type": "code",
      "source": [
        "df = past_20_days.append(data_testing, ignore_index = True)\n",
        "df = df.drop(['Date'], axis = 1)\n",
        "df.head()"
      ],
      "metadata": {
        "colab": {
          "base_uri": "https://localhost:8080/",
          "height": 241
        },
        "id": "VFu9sJvr0y-d",
        "outputId": "bd2b4657-a522-40ca-e0ca-9d0c84ae4864"
      },
      "execution_count": 20,
      "outputs": [
        {
          "output_type": "stream",
          "name": "stderr",
          "text": [
            "<ipython-input-20-08f6f3976b94>:1: FutureWarning: The frame.append method is deprecated and will be removed from pandas in a future version. Use pandas.concat instead.\n",
            "  df = past_20_days.append(data_testing, ignore_index = True)\n"
          ]
        },
        {
          "output_type": "execute_result",
          "data": {
            "text/plain": [
              "   Open  High  Low  Close  Adj Close  Average\n",
              "0   5.9   5.9  5.7    5.8        5.8     5.82\n",
              "1   5.7   5.9  5.6    5.6        5.6     5.68\n",
              "2   5.6   5.7  5.4    5.5        5.5     5.54\n",
              "3   5.4   5.7  5.3    5.5        5.5     5.48\n",
              "4   5.8   6.4  5.8    6.0        6.0     6.00"
            ],
            "text/html": [
              "\n",
              "  <div id=\"df-faef6869-ebc1-45ae-ab5f-9246fb0b9279\" class=\"colab-df-container\">\n",
              "    <div>\n",
              "<style scoped>\n",
              "    .dataframe tbody tr th:only-of-type {\n",
              "        vertical-align: middle;\n",
              "    }\n",
              "\n",
              "    .dataframe tbody tr th {\n",
              "        vertical-align: top;\n",
              "    }\n",
              "\n",
              "    .dataframe thead th {\n",
              "        text-align: right;\n",
              "    }\n",
              "</style>\n",
              "<table border=\"1\" class=\"dataframe\">\n",
              "  <thead>\n",
              "    <tr style=\"text-align: right;\">\n",
              "      <th></th>\n",
              "      <th>Open</th>\n",
              "      <th>High</th>\n",
              "      <th>Low</th>\n",
              "      <th>Close</th>\n",
              "      <th>Adj Close</th>\n",
              "      <th>Average</th>\n",
              "    </tr>\n",
              "  </thead>\n",
              "  <tbody>\n",
              "    <tr>\n",
              "      <th>0</th>\n",
              "      <td>5.9</td>\n",
              "      <td>5.9</td>\n",
              "      <td>5.7</td>\n",
              "      <td>5.8</td>\n",
              "      <td>5.8</td>\n",
              "      <td>5.82</td>\n",
              "    </tr>\n",
              "    <tr>\n",
              "      <th>1</th>\n",
              "      <td>5.7</td>\n",
              "      <td>5.9</td>\n",
              "      <td>5.6</td>\n",
              "      <td>5.6</td>\n",
              "      <td>5.6</td>\n",
              "      <td>5.68</td>\n",
              "    </tr>\n",
              "    <tr>\n",
              "      <th>2</th>\n",
              "      <td>5.6</td>\n",
              "      <td>5.7</td>\n",
              "      <td>5.4</td>\n",
              "      <td>5.5</td>\n",
              "      <td>5.5</td>\n",
              "      <td>5.54</td>\n",
              "    </tr>\n",
              "    <tr>\n",
              "      <th>3</th>\n",
              "      <td>5.4</td>\n",
              "      <td>5.7</td>\n",
              "      <td>5.3</td>\n",
              "      <td>5.5</td>\n",
              "      <td>5.5</td>\n",
              "      <td>5.48</td>\n",
              "    </tr>\n",
              "    <tr>\n",
              "      <th>4</th>\n",
              "      <td>5.8</td>\n",
              "      <td>6.4</td>\n",
              "      <td>5.8</td>\n",
              "      <td>6.0</td>\n",
              "      <td>6.0</td>\n",
              "      <td>6.00</td>\n",
              "    </tr>\n",
              "  </tbody>\n",
              "</table>\n",
              "</div>\n",
              "    <div class=\"colab-df-buttons\">\n",
              "\n",
              "  <div class=\"colab-df-container\">\n",
              "    <button class=\"colab-df-convert\" onclick=\"convertToInteractive('df-faef6869-ebc1-45ae-ab5f-9246fb0b9279')\"\n",
              "            title=\"Convert this dataframe to an interactive table.\"\n",
              "            style=\"display:none;\">\n",
              "\n",
              "  <svg xmlns=\"http://www.w3.org/2000/svg\" height=\"24px\" viewBox=\"0 -960 960 960\">\n",
              "    <path d=\"M120-120v-720h720v720H120Zm60-500h600v-160H180v160Zm220 220h160v-160H400v160Zm0 220h160v-160H400v160ZM180-400h160v-160H180v160Zm440 0h160v-160H620v160ZM180-180h160v-160H180v160Zm440 0h160v-160H620v160Z\"/>\n",
              "  </svg>\n",
              "    </button>\n",
              "\n",
              "  <style>\n",
              "    .colab-df-container {\n",
              "      display:flex;\n",
              "      gap: 12px;\n",
              "    }\n",
              "\n",
              "    .colab-df-convert {\n",
              "      background-color: #E8F0FE;\n",
              "      border: none;\n",
              "      border-radius: 50%;\n",
              "      cursor: pointer;\n",
              "      display: none;\n",
              "      fill: #1967D2;\n",
              "      height: 32px;\n",
              "      padding: 0 0 0 0;\n",
              "      width: 32px;\n",
              "    }\n",
              "\n",
              "    .colab-df-convert:hover {\n",
              "      background-color: #E2EBFA;\n",
              "      box-shadow: 0px 1px 2px rgba(60, 64, 67, 0.3), 0px 1px 3px 1px rgba(60, 64, 67, 0.15);\n",
              "      fill: #174EA6;\n",
              "    }\n",
              "\n",
              "    .colab-df-buttons div {\n",
              "      margin-bottom: 4px;\n",
              "    }\n",
              "\n",
              "    [theme=dark] .colab-df-convert {\n",
              "      background-color: #3B4455;\n",
              "      fill: #D2E3FC;\n",
              "    }\n",
              "\n",
              "    [theme=dark] .colab-df-convert:hover {\n",
              "      background-color: #434B5C;\n",
              "      box-shadow: 0px 1px 3px 1px rgba(0, 0, 0, 0.15);\n",
              "      filter: drop-shadow(0px 1px 2px rgba(0, 0, 0, 0.3));\n",
              "      fill: #FFFFFF;\n",
              "    }\n",
              "  </style>\n",
              "\n",
              "    <script>\n",
              "      const buttonEl =\n",
              "        document.querySelector('#df-faef6869-ebc1-45ae-ab5f-9246fb0b9279 button.colab-df-convert');\n",
              "      buttonEl.style.display =\n",
              "        google.colab.kernel.accessAllowed ? 'block' : 'none';\n",
              "\n",
              "      async function convertToInteractive(key) {\n",
              "        const element = document.querySelector('#df-faef6869-ebc1-45ae-ab5f-9246fb0b9279');\n",
              "        const dataTable =\n",
              "          await google.colab.kernel.invokeFunction('convertToInteractive',\n",
              "                                                    [key], {});\n",
              "        if (!dataTable) return;\n",
              "\n",
              "        const docLinkHtml = 'Like what you see? Visit the ' +\n",
              "          '<a target=\"_blank\" href=https://colab.research.google.com/notebooks/data_table.ipynb>data table notebook</a>'\n",
              "          + ' to learn more about interactive tables.';\n",
              "        element.innerHTML = '';\n",
              "        dataTable['output_type'] = 'display_data';\n",
              "        await google.colab.output.renderOutput(dataTable, element);\n",
              "        const docLink = document.createElement('div');\n",
              "        docLink.innerHTML = docLinkHtml;\n",
              "        element.appendChild(docLink);\n",
              "      }\n",
              "    </script>\n",
              "  </div>\n",
              "\n",
              "\n",
              "<div id=\"df-3c6da921-f57a-4b6e-87a5-c01ff5b3f5c3\">\n",
              "  <button class=\"colab-df-quickchart\" onclick=\"quickchart('df-3c6da921-f57a-4b6e-87a5-c01ff5b3f5c3')\"\n",
              "            title=\"Suggest charts\"\n",
              "            style=\"display:none;\">\n",
              "\n",
              "<svg xmlns=\"http://www.w3.org/2000/svg\" height=\"24px\"viewBox=\"0 0 24 24\"\n",
              "     width=\"24px\">\n",
              "    <g>\n",
              "        <path d=\"M19 3H5c-1.1 0-2 .9-2 2v14c0 1.1.9 2 2 2h14c1.1 0 2-.9 2-2V5c0-1.1-.9-2-2-2zM9 17H7v-7h2v7zm4 0h-2V7h2v10zm4 0h-2v-4h2v4z\"/>\n",
              "    </g>\n",
              "</svg>\n",
              "  </button>\n",
              "\n",
              "<style>\n",
              "  .colab-df-quickchart {\n",
              "      --bg-color: #E8F0FE;\n",
              "      --fill-color: #1967D2;\n",
              "      --hover-bg-color: #E2EBFA;\n",
              "      --hover-fill-color: #174EA6;\n",
              "      --disabled-fill-color: #AAA;\n",
              "      --disabled-bg-color: #DDD;\n",
              "  }\n",
              "\n",
              "  [theme=dark] .colab-df-quickchart {\n",
              "      --bg-color: #3B4455;\n",
              "      --fill-color: #D2E3FC;\n",
              "      --hover-bg-color: #434B5C;\n",
              "      --hover-fill-color: #FFFFFF;\n",
              "      --disabled-bg-color: #3B4455;\n",
              "      --disabled-fill-color: #666;\n",
              "  }\n",
              "\n",
              "  .colab-df-quickchart {\n",
              "    background-color: var(--bg-color);\n",
              "    border: none;\n",
              "    border-radius: 50%;\n",
              "    cursor: pointer;\n",
              "    display: none;\n",
              "    fill: var(--fill-color);\n",
              "    height: 32px;\n",
              "    padding: 0;\n",
              "    width: 32px;\n",
              "  }\n",
              "\n",
              "  .colab-df-quickchart:hover {\n",
              "    background-color: var(--hover-bg-color);\n",
              "    box-shadow: 0 1px 2px rgba(60, 64, 67, 0.3), 0 1px 3px 1px rgba(60, 64, 67, 0.15);\n",
              "    fill: var(--button-hover-fill-color);\n",
              "  }\n",
              "\n",
              "  .colab-df-quickchart-complete:disabled,\n",
              "  .colab-df-quickchart-complete:disabled:hover {\n",
              "    background-color: var(--disabled-bg-color);\n",
              "    fill: var(--disabled-fill-color);\n",
              "    box-shadow: none;\n",
              "  }\n",
              "\n",
              "  .colab-df-spinner {\n",
              "    border: 2px solid var(--fill-color);\n",
              "    border-color: transparent;\n",
              "    border-bottom-color: var(--fill-color);\n",
              "    animation:\n",
              "      spin 1s steps(1) infinite;\n",
              "  }\n",
              "\n",
              "  @keyframes spin {\n",
              "    0% {\n",
              "      border-color: transparent;\n",
              "      border-bottom-color: var(--fill-color);\n",
              "      border-left-color: var(--fill-color);\n",
              "    }\n",
              "    20% {\n",
              "      border-color: transparent;\n",
              "      border-left-color: var(--fill-color);\n",
              "      border-top-color: var(--fill-color);\n",
              "    }\n",
              "    30% {\n",
              "      border-color: transparent;\n",
              "      border-left-color: var(--fill-color);\n",
              "      border-top-color: var(--fill-color);\n",
              "      border-right-color: var(--fill-color);\n",
              "    }\n",
              "    40% {\n",
              "      border-color: transparent;\n",
              "      border-right-color: var(--fill-color);\n",
              "      border-top-color: var(--fill-color);\n",
              "    }\n",
              "    60% {\n",
              "      border-color: transparent;\n",
              "      border-right-color: var(--fill-color);\n",
              "    }\n",
              "    80% {\n",
              "      border-color: transparent;\n",
              "      border-right-color: var(--fill-color);\n",
              "      border-bottom-color: var(--fill-color);\n",
              "    }\n",
              "    90% {\n",
              "      border-color: transparent;\n",
              "      border-bottom-color: var(--fill-color);\n",
              "    }\n",
              "  }\n",
              "</style>\n",
              "\n",
              "  <script>\n",
              "    async function quickchart(key) {\n",
              "      const quickchartButtonEl =\n",
              "        document.querySelector('#' + key + ' button');\n",
              "      quickchartButtonEl.disabled = true;  // To prevent multiple clicks.\n",
              "      quickchartButtonEl.classList.add('colab-df-spinner');\n",
              "      try {\n",
              "        const charts = await google.colab.kernel.invokeFunction(\n",
              "            'suggestCharts', [key], {});\n",
              "      } catch (error) {\n",
              "        console.error('Error during call to suggestCharts:', error);\n",
              "      }\n",
              "      quickchartButtonEl.classList.remove('colab-df-spinner');\n",
              "      quickchartButtonEl.classList.add('colab-df-quickchart-complete');\n",
              "    }\n",
              "    (() => {\n",
              "      let quickchartButtonEl =\n",
              "        document.querySelector('#df-3c6da921-f57a-4b6e-87a5-c01ff5b3f5c3 button');\n",
              "      quickchartButtonEl.style.display =\n",
              "        google.colab.kernel.accessAllowed ? 'block' : 'none';\n",
              "    })();\n",
              "  </script>\n",
              "</div>\n",
              "\n",
              "    </div>\n",
              "  </div>\n"
            ]
          },
          "metadata": {},
          "execution_count": 20
        }
      ]
    },
    {
      "cell_type": "code",
      "source": [
        "inputs = scaler.transform(df)\n",
        "inputs"
      ],
      "metadata": {
        "colab": {
          "base_uri": "https://localhost:8080/"
        },
        "id": "XKzOg7xH01pX",
        "outputId": "8d9e35db-4908-4600-c1fd-358fa21f91a2"
      },
      "execution_count": 21,
      "outputs": [
        {
          "output_type": "execute_result",
          "data": {
            "text/plain": [
              "array([[0.17791412, 0.16564417, 0.18709679, 0.175     , 0.175     ,\n",
              "        0.17625   ],\n",
              "       [0.16564418, 0.16564417, 0.18064517, 0.1625    , 0.1625    ,\n",
              "        0.1675    ],\n",
              "       [0.15950921, 0.15337423, 0.16774195, 0.15625   , 0.15625   ,\n",
              "        0.15875   ],\n",
              "       ...,\n",
              "       [0.23926382, 0.2392638 , 0.26451615, 0.24375   , 0.24375   ,\n",
              "        0.24625001],\n",
              "       [0.23926382, 0.22699387, 0.23870969, 0.225     , 0.225     ,\n",
              "        0.23125001],\n",
              "       [0.21472394, 0.24539877, 0.23225808, 0.24375   , 0.24375   ,\n",
              "        0.23625001]])"
            ]
          },
          "metadata": {},
          "execution_count": 21
        }
      ]
    },
    {
      "cell_type": "code",
      "source": [
        "x_test = []\n",
        "y_test = []\n",
        "\n",
        "for i in range(20, inputs.shape[0]):\n",
        "    x_test.append(inputs[i-20:i])\n",
        "    y_test.append(inputs[i,0])\n",
        "\n",
        "x_test = np.array(x_test)\n",
        "y_test = np.array(y_test)\n",
        "x_test.shape, y_test.shape"
      ],
      "metadata": {
        "colab": {
          "base_uri": "https://localhost:8080/"
        },
        "id": "BW9x3C9l04KV",
        "outputId": "058cd3aa-46e4-41ba-8eb5-03eeaa3d459d"
      },
      "execution_count": 22,
      "outputs": [
        {
          "output_type": "execute_result",
          "data": {
            "text/plain": [
              "((1572, 20, 6), (1572,))"
            ]
          },
          "metadata": {},
          "execution_count": 22
        }
      ]
    },
    {
      "cell_type": "code",
      "source": [
        "x_test.shape"
      ],
      "metadata": {
        "colab": {
          "base_uri": "https://localhost:8080/"
        },
        "id": "Zd_P2VYY067s",
        "outputId": "2d508d49-a7c3-4524-8565-52ac1790a158"
      },
      "execution_count": 23,
      "outputs": [
        {
          "output_type": "execute_result",
          "data": {
            "text/plain": [
              "(1572, 20, 6)"
            ]
          },
          "metadata": {},
          "execution_count": 23
        }
      ]
    },
    {
      "cell_type": "code",
      "source": [
        "y_pred = regressorGRU.predict(x_test)"
      ],
      "metadata": {
        "id": "25arIPFe0861",
        "colab": {
          "base_uri": "https://localhost:8080/"
        },
        "outputId": "303b5377-6c42-428f-c02f-6453dc118616"
      },
      "execution_count": 24,
      "outputs": [
        {
          "output_type": "stream",
          "name": "stdout",
          "text": [
            "50/50 [==============================] - 1s 14ms/step\n"
          ]
        }
      ]
    },
    {
      "cell_type": "code",
      "source": [
        "scaler.scale_"
      ],
      "metadata": {
        "colab": {
          "base_uri": "https://localhost:8080/"
        },
        "id": "4Ae570VM0-7E",
        "outputId": "cb1e53b6-95ca-4ebf-81be-7a1b3fe0c9a2"
      },
      "execution_count": 25,
      "outputs": [
        {
          "output_type": "execute_result",
          "data": {
            "text/plain": [
              "array([0.0613497 , 0.06134969, 0.06451613, 0.0625    , 0.0625    ,\n",
              "       0.0625    ])"
            ]
          },
          "metadata": {},
          "execution_count": 25
        }
      ]
    },
    {
      "cell_type": "code",
      "source": [
        "scale = 1 / 0.0613497\n",
        "scale"
      ],
      "metadata": {
        "colab": {
          "base_uri": "https://localhost:8080/"
        },
        "id": "_XnJ6dmz09A2",
        "outputId": "d2542073-15d0-40fe-a7fb-44b33d96027f"
      },
      "execution_count": 26,
      "outputs": [
        {
          "output_type": "execute_result",
          "data": {
            "text/plain": [
              "16.299998207000197"
            ]
          },
          "metadata": {},
          "execution_count": 26
        }
      ]
    },
    {
      "cell_type": "code",
      "source": [
        "y_pred = y_pred * scale\n",
        "y_test = y_test * scale"
      ],
      "metadata": {
        "id": "ygpN1m261DI1"
      },
      "execution_count": 27,
      "outputs": []
    },
    {
      "cell_type": "code",
      "source": [
        "y_pred.shape"
      ],
      "metadata": {
        "colab": {
          "base_uri": "https://localhost:8080/"
        },
        "id": "_rESwhpB1FjN",
        "outputId": "5843a16f-6b6f-4332-9ec4-e2d83492b6b4"
      },
      "execution_count": 28,
      "outputs": [
        {
          "output_type": "execute_result",
          "data": {
            "text/plain": [
              "(1572, 1)"
            ]
          },
          "metadata": {},
          "execution_count": 28
        }
      ]
    },
    {
      "cell_type": "code",
      "source": [
        "y_test.shape"
      ],
      "metadata": {
        "colab": {
          "base_uri": "https://localhost:8080/"
        },
        "id": "N1OtHpYw1Jpm",
        "outputId": "bfd830d5-f5d2-4b42-d439-c7ba59dfa5a6"
      },
      "execution_count": 29,
      "outputs": [
        {
          "output_type": "execute_result",
          "data": {
            "text/plain": [
              "(1572,)"
            ]
          },
          "metadata": {},
          "execution_count": 29
        }
      ]
    },
    {
      "cell_type": "code",
      "source": [
        "y_pred[1503:]"
      ],
      "metadata": {
        "colab": {
          "base_uri": "https://localhost:8080/"
        },
        "id": "dXtrd6bv1MEY",
        "outputId": "d28ba5f7-1282-4006-b9d7-0a534bf8e96d"
      },
      "execution_count": 30,
      "outputs": [
        {
          "output_type": "execute_result",
          "data": {
            "text/plain": [
              "array([[1.0001028 ],\n",
              "       [0.98595446],\n",
              "       [1.0205067 ],\n",
              "       [1.1073399 ],\n",
              "       [1.1739    ],\n",
              "       [1.1939578 ],\n",
              "       [1.2141936 ],\n",
              "       [1.1954716 ],\n",
              "       [1.1463258 ],\n",
              "       [1.1144614 ],\n",
              "       [1.1069012 ],\n",
              "       [1.1108499 ],\n",
              "       [1.1438323 ],\n",
              "       [1.1799686 ],\n",
              "       [1.2353022 ],\n",
              "       [1.2847593 ],\n",
              "       [1.3209833 ],\n",
              "       [1.3169235 ],\n",
              "       [1.2954491 ],\n",
              "       [1.261408  ],\n",
              "       [1.2747248 ],\n",
              "       [1.2811427 ],\n",
              "       [1.3119373 ],\n",
              "       [1.3355622 ],\n",
              "       [1.3442796 ],\n",
              "       [1.3682393 ],\n",
              "       [1.3732579 ],\n",
              "       [1.4156209 ],\n",
              "       [1.452041  ],\n",
              "       [1.4782554 ],\n",
              "       [1.5358222 ],\n",
              "       [1.8777475 ],\n",
              "       [2.111768  ],\n",
              "       [2.1487164 ],\n",
              "       [2.192882  ],\n",
              "       [2.216366  ],\n",
              "       [2.2434664 ],\n",
              "       [2.2129505 ],\n",
              "       [2.315676  ],\n",
              "       [2.5729978 ],\n",
              "       [2.885124  ],\n",
              "       [3.3636804 ],\n",
              "       [3.522833  ],\n",
              "       [3.1851099 ],\n",
              "       [3.0783334 ],\n",
              "       [2.7861426 ],\n",
              "       [2.5279856 ],\n",
              "       [2.5046585 ],\n",
              "       [2.6252854 ],\n",
              "       [2.8021975 ],\n",
              "       [2.868136  ],\n",
              "       [2.7761855 ],\n",
              "       [2.6241648 ],\n",
              "       [2.5280979 ],\n",
              "       [2.7622087 ],\n",
              "       [3.1560774 ],\n",
              "       [3.3332598 ],\n",
              "       [3.1450102 ],\n",
              "       [3.1206675 ],\n",
              "       [3.2182758 ],\n",
              "       [3.4821157 ],\n",
              "       [4.1386094 ],\n",
              "       [4.548657  ],\n",
              "       [4.4392476 ],\n",
              "       [4.0665164 ],\n",
              "       [3.825635  ],\n",
              "       [3.8368974 ],\n",
              "       [3.815851  ],\n",
              "       [3.6711729 ]], dtype=float32)"
            ]
          },
          "metadata": {},
          "execution_count": 30
        }
      ]
    },
    {
      "cell_type": "code",
      "source": [
        "y_test[1503:]"
      ],
      "metadata": {
        "colab": {
          "base_uri": "https://localhost:8080/"
        },
        "id": "1oaIx9rC1Ovu",
        "outputId": "5bce3dc5-f96c-4e8d-9e90-ad7843c085bc"
      },
      "execution_count": 31,
      "outputs": [
        {
          "output_type": "execute_result",
          "data": {
            "text/plain": [
              "array([0.        , 0.29999999, 0.99999995, 0.69999997, 0.69999997,\n",
              "       0.69999997, 0.39999998, 0.39999998, 0.39999998, 0.59999997,\n",
              "       0.49999998, 0.59999997, 0.69999997, 0.89999996, 0.99999995,\n",
              "       1.19999994, 1.09999995, 1.09999995, 0.99999995, 0.79999996,\n",
              "       1.19999994, 0.89999996, 1.19999994, 1.09999995, 1.29999994,\n",
              "       1.09999995, 1.29999994, 1.29999994, 1.39999993, 1.49999993,\n",
              "       2.29999989, 2.49999988, 2.0999999 , 2.19999989, 2.29999989,\n",
              "       2.29999989, 2.19999989, 2.29999989, 2.89999986, 3.09999985,\n",
              "       3.29999984, 3.79999982, 3.39999983, 2.79999986, 3.29999984,\n",
              "       2.49999988, 2.29999989, 2.59999987, 2.79999986, 2.89999986,\n",
              "       2.69999987, 2.59999987, 2.39999988, 2.79999986, 3.49999983,\n",
              "       3.89999981, 2.99999985, 3.09999985, 2.99999985, 3.69999982,\n",
              "       3.99999981, 6.29999969, 4.89999976, 4.0999998 , 4.29999979,\n",
              "       3.99999981, 3.89999981, 3.89999981, 3.49999983])"
            ]
          },
          "metadata": {},
          "execution_count": 31
        }
      ]
    },
    {
      "cell_type": "code",
      "source": [
        "plt.figure(figsize = (14,5))\n",
        "plt.plot(y_test[1503:], color = 'red', label = 'Real CELH Price')\n",
        "plt.plot(y_pred[1503:], color = 'green', label = 'Predicted CELH price')\n",
        "plt.title('CELH Price Prediction')\n",
        "plt.xlabel('Time')\n",
        "plt.ylabel('CELH Price')\n",
        "plt.legend()\n",
        "plt.show()"
      ],
      "metadata": {
        "colab": {
          "base_uri": "https://localhost:8080/",
          "height": 487
        },
        "id": "dF1LW4S51Q3F",
        "outputId": "0a58a88a-900a-4e82-ddde-8e82aad1d2ca"
      },
      "execution_count": 32,
      "outputs": [
        {
          "output_type": "display_data",
          "data": {
            "text/plain": [
              "<Figure size 1400x500 with 1 Axes>"
            ],
            "image/png": "[encoded data removed]"
          },
          "metadata": {}
        }
      ]
    }
  ]
}