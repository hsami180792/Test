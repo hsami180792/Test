{
  "cells": [
    {
      "cell_type": "code",
      "execution_count": 34,
      "metadata": {
        "id": "aoo_hrDL--2j"
      },
      "outputs": [],
      "source": [
        "import numpy as np\n",
        "import matplotlib.pyplot as plt\n",
        "import pandas as pd\n",
        "from sklearn.preprocessing import MinMaxScaler, StandardScaler"
      ]
    },
    {
      "cell_type": "code",
      "execution_count": 35,
      "metadata": {
        "id": "PcpaLHNYB-YW"
      },
      "outputs": [],
      "source": [
        "import io"
      ]
    },
    {
      "cell_type": "code",
      "execution_count": 36,
      "metadata": {
        "colab": {
          "base_uri": "https://localhost:8080/",
          "height": 73
        },
        "id": "8gk8rRfgCAZc",
        "outputId": "c38ce4b8-1e68-4872-c198-4bdca3676d42"
      },
      "outputs": [
        {
          "output_type": "display_data",
          "data": {
            "text/plain": [
              "<IPython.core.display.HTML object>"
            ],
            "text/html": [
              "\n",
              "     <input type=\"file\" id=\"files-b1252653-4855-425b-af21-5e8c8665bf1b\" name=\"files[]\" multiple disabled\n",
              "        style=\"border:none\" />\n",
              "     <output id=\"result-b1252653-4855-425b-af21-5e8c8665bf1b\">\n",
              "      Upload widget is only available when the cell has been executed in the\n",
              "      current browser session. Please rerun this cell to enable.\n",
              "      </output>\n",
              "      <script>// Copyright 2017 Google LLC\n",
              "//\n",
              "// Licensed under the Apache License, Version 2.0 (the \"License\");\n",
              "// you may not use this file except in compliance with the License.\n",
              "// You may obtain a copy of the License at\n",
              "//\n",
              "//      http://www.apache.org/licenses/LICENSE-2.0\n",
              "//\n",
              "// Unless required by applicable law or agreed to in writing, software\n",
              "// distributed under the License is distributed on an \"AS IS\" BASIS,\n",
              "// WITHOUT WARRANTIES OR CONDITIONS OF ANY KIND, either express or implied.\n",
              "// See the License for the specific language governing permissions and\n",
              "// limitations under the License.\n",
              "\n",
              "/**\n",
              " * @fileoverview Helpers for google.colab Python module.\n",
              " */\n",
              "(function(scope) {\n",
              "function span(text, styleAttributes = {}) {\n",
              "  const element = document.createElement('span');\n",
              "  element.textContent = text;\n",
              "  for (const key of Object.keys(styleAttributes)) {\n",
              "    element.style[key] = styleAttributes[key];\n",
              "  }\n",
              "  return element;\n",
              "}\n",
              "\n",
              "// Max number of bytes which will be uploaded at a time.\n",
              "const MAX_PAYLOAD_SIZE = 100 * 1024;\n",
              "\n",
              "function _uploadFiles(inputId, outputId) {\n",
              "  const steps = uploadFilesStep(inputId, outputId);\n",
              "  const outputElement = document.getElementById(outputId);\n",
              "  // Cache steps on the outputElement to make it available for the next call\n",
              "  // to uploadFilesContinue from Python.\n",
              "  outputElement.steps = steps;\n",
              "\n",
              "  return _uploadFilesContinue(outputId);\n",
              "}\n",
              "\n",
              "// This is roughly an async generator (not supported in the browser yet),\n",
              "// where there are multiple asynchronous steps and the Python side is going\n",
              "// to poll for completion of each step.\n",
              "// This uses a Promise to block the python side on completion of each step,\n",
              "// then passes the result of the previous step as the input to the next step.\n",
              "function _uploadFilesContinue(outputId) {\n",
              "  const outputElement = document.getElementById(outputId);\n",
              "  const steps = outputElement.steps;\n",
              "\n",
              "  const next = steps.next(outputElement.lastPromiseValue);\n",
              "  return Promise.resolve(next.value.promise).then((value) => {\n",
              "    // Cache the last promise value to make it available to the next\n",
              "    // step of the generator.\n",
              "    outputElement.lastPromiseValue = value;\n",
              "    return next.value.response;\n",
              "  });\n",
              "}\n",
              "\n",
              "/**\n",
              " * Generator function which is called between each async step of the upload\n",
              " * process.\n",
              " * @param {string} inputId Element ID of the input file picker element.\n",
              " * @param {string} outputId Element ID of the output display.\n",
              " * @return {!Iterable<!Object>} Iterable of next steps.\n",
              " */\n",
              "function* uploadFilesStep(inputId, outputId) {\n",
              "  const inputElement = document.getElementById(inputId);\n",
              "  inputElement.disabled = false;\n",
              "\n",
              "  const outputElement = document.getElementById(outputId);\n",
              "  outputElement.innerHTML = '';\n",
              "\n",
              "  const pickedPromise = new Promise((resolve) => {\n",
              "    inputElement.addEventListener('change', (e) => {\n",
              "      resolve(e.target.files);\n",
              "    });\n",
              "  });\n",
              "\n",
              "  const cancel = document.createElement('button');\n",
              "  inputElement.parentElement.appendChild(cancel);\n",
              "  cancel.textContent = 'Cancel upload';\n",
              "  const cancelPromise = new Promise((resolve) => {\n",
              "    cancel.onclick = () => {\n",
              "      resolve(null);\n",
              "    };\n",
              "  });\n",
              "\n",
              "  // Wait for the user to pick the files.\n",
              "  const files = yield {\n",
              "    promise: Promise.race([pickedPromise, cancelPromise]),\n",
              "    response: {\n",
              "      action: 'starting',\n",
              "    }\n",
              "  };\n",
              "\n",
              "  cancel.remove();\n",
              "\n",
              "  // Disable the input element since further picks are not allowed.\n",
              "  inputElement.disabled = true;\n",
              "\n",
              "  if (!files) {\n",
              "    return {\n",
              "      response: {\n",
              "        action: 'complete',\n",
              "      }\n",
              "    };\n",
              "  }\n",
              "\n",
              "  for (const file of files) {\n",
              "    const li = document.createElement('li');\n",
              "    li.append(span(file.name, {fontWeight: 'bold'}));\n",
              "    li.append(span(\n",
              "        `(${file.type || 'n/a'}) - ${file.size} bytes, ` +\n",
              "        `last modified: ${\n",
              "            file.lastModifiedDate ? file.lastModifiedDate.toLocaleDateString() :\n",
              "                                    'n/a'} - `));\n",
              "    const percent = span('0% done');\n",
              "    li.appendChild(percent);\n",
              "\n",
              "    outputElement.appendChild(li);\n",
              "\n",
              "    const fileDataPromise = new Promise((resolve) => {\n",
              "      const reader = new FileReader();\n",
              "      reader.onload = (e) => {\n",
              "        resolve(e.target.result);\n",
              "      };\n",
              "      reader.readAsArrayBuffer(file);\n",
              "    });\n",
              "    // Wait for the data to be ready.\n",
              "    let fileData = yield {\n",
              "      promise: fileDataPromise,\n",
              "      response: {\n",
              "        action: 'continue',\n",
              "      }\n",
              "    };\n",
              "\n",
              "    // Use a chunked sending to avoid message size limits. See b/62115660.\n",
              "    let position = 0;\n",
              "    do {\n",
              "      const length = Math.min(fileData.byteLength - position, MAX_PAYLOAD_SIZE);\n",
              "      const chunk = new Uint8Array(fileData, position, length);\n",
              "      position += length;\n",
              "\n",
              "      const base64 = btoa(String.fromCharCode.apply(null, chunk));\n",
              "      yield {\n",
              "        response: {\n",
              "          action: 'append',\n",
              "          file: file.name,\n",
              "          data: base64,\n",
              "        },\n",
              "      };\n",
              "\n",
              "      let percentDone = fileData.byteLength === 0 ?\n",
              "          100 :\n",
              "          Math.round((position / fileData.byteLength) * 100);\n",
              "      percent.textContent = `${percentDone}% done`;\n",
              "\n",
              "    } while (position < fileData.byteLength);\n",
              "  }\n",
              "\n",
              "  // All done.\n",
              "  yield {\n",
              "    response: {\n",
              "      action: 'complete',\n",
              "    }\n",
              "  };\n",
              "}\n",
              "\n",
              "scope.google = scope.google || {};\n",
              "scope.google.colab = scope.google.colab || {};\n",
              "scope.google.colab._files = {\n",
              "  _uploadFiles,\n",
              "  _uploadFilesContinue,\n",
              "};\n",
              "})(self);\n",
              "</script> "
            ]
          },
          "metadata": {}
        },
        {
          "output_type": "stream",
          "name": "stdout",
          "text": [
            "Saving CELH.csv to CELH.csv\n"
          ]
        }
      ],
      "source": [
        "from google.colab import files\n",
        "uploaded = files.upload()"
      ]
    },
    {
      "cell_type": "code",
      "execution_count": 38,
      "metadata": {
        "colab": {
          "base_uri": "https://localhost:8080/"
        },
        "id": "r02WFySSCJzj",
        "outputId": "591dd7ce-251f-46bd-fc11-d4c065b88113"
      },
      "outputs": [
        {
          "output_type": "stream",
          "name": "stdout",
          "text": [
            "           Date      Open      High       Low     Close  Adj Close   Average\n",
            "0      1/4/2010  1.666667  1.683333  1.666667  1.666667   1.666667  1.670000\n",
            "1      1/5/2010  1.666667  1.796667  1.500000  1.790000   1.790000  1.708667\n",
            "2      1/6/2010  1.816667  1.816667  1.666667  1.783333   1.783333  1.773333\n",
            "3      1/7/2010  1.683333  1.783333  1.683333  1.683333   1.683333  1.703333\n",
            "4      1/8/2010  1.700000  1.776667  1.586667  1.773333   1.773333  1.722000\n",
            "...         ...       ...       ...       ...       ...        ...       ...\n",
            "2635  6/23/2020  3.426667  3.816667  3.386667  3.700000   3.700000  3.606000\n",
            "2636  6/24/2020  3.603333  3.803333  3.430000  3.480000   3.480000  3.559333\n",
            "2637  6/25/2020  3.483333  3.790000  3.433333  3.786667   3.786667  3.656000\n",
            "2638  6/26/2020  3.803333  3.993333  3.570000  3.680000   3.680000  3.745333\n",
            "2639  6/29/2020  3.680000  3.880000  3.503333  3.853333   3.853333  3.754000\n",
            "\n",
            "[2640 rows x 7 columns]\n"
          ]
        }
      ],
      "source": [
        "df = pd.read_csv(io.BytesIO(uploaded['CELH.csv']))\n",
        "print(df)"
      ]
    },
    {
      "cell_type": "code",
      "execution_count": 39,
      "metadata": {
        "colab": {
          "base_uri": "https://localhost:8080/",
          "height": 574
        },
        "id": "BQ5bBs-mCEYL",
        "outputId": "ee2efe88-b820-4387-f1fc-ed85e74d5166"
      },
      "outputs": [
        {
          "output_type": "display_data",
          "data": {
            "text/plain": [
              "<Figure size 1600x600 with 1 Axes>"
            ],
            "image/png": "[encoded data removed]"
          },
          "metadata": {}
        }
      ],
      "source": [
        "plt.figure(figsize=(16,6))\n",
        "plt.title('Average Price History')\n",
        "plt.plot(df['Average'])\n",
        "plt.xlabel('Date', fontsize=18)\n",
        "plt.ylabel('Average Price USD ($)', fontsize=18)\n",
        "plt.show()"
      ]
    },
    {
      "cell_type": "code",
      "execution_count": 40,
      "metadata": {
        "colab": {
          "base_uri": "https://localhost:8080/"
        },
        "id": "ZTwdFCcCCLxK",
        "outputId": "2d91fa7c-2fd5-4d15-e9df-d4cb25e95c28"
      },
      "outputs": [
        {
          "output_type": "execute_result",
          "data": {
            "text/plain": [
              "2508"
            ]
          },
          "metadata": {},
          "execution_count": 40
        }
      ],
      "source": [
        "data = df.filter(['Average'])\n",
        "dataset = data.values\n",
        "training_data_len = int(np.ceil( len(dataset) * 0.95 ))\n",
        "window_size = 60\n",
        "training_data_len"
      ]
    },
    {
      "cell_type": "code",
      "execution_count": 41,
      "metadata": {
        "colab": {
          "base_uri": "https://localhost:8080/"
        },
        "id": "eH_fGy4aCRGr",
        "outputId": "bbd374fa-f94e-46b0-817f-6e90b63c2fa2"
      },
      "outputs": [
        {
          "output_type": "stream",
          "name": "stdout",
          "text": [
            "scaled_data.shape 2640\n"
          ]
        },
        {
          "output_type": "execute_result",
          "data": {
            "text/plain": [
              "array([[1.3946222 ],\n",
              "       [1.45384398],\n",
              "       [1.55288737],\n",
              "       ...,\n",
              "       [4.43638017],\n",
              "       [4.57320293],\n",
              "       [4.5864767 ]])"
            ]
          },
          "metadata": {},
          "execution_count": 41
        }
      ],
      "source": [
        "sc = StandardScaler()\n",
        "scaled_data = sc.fit_transform(dataset)\n",
        "print('scaled_data.shape', len(dataset))\n",
        "scaled_data"
      ]
    },
    {
      "cell_type": "code",
      "execution_count": 42,
      "metadata": {
        "colab": {
          "base_uri": "https://localhost:8080/"
        },
        "id": "EHCH_jjFCUsk",
        "outputId": "d93de9e7-c4ec-4598-ea6d-b4200b6a59ec"
      },
      "outputs": [
        {
          "output_type": "stream",
          "name": "stdout",
          "text": [
            "x_train [array([1.3946222 , 1.45384398, 1.55288737, 1.44567473, 1.47426511,\n",
            "       1.47528608, 1.35377932, 1.31293644, 1.27209356, 1.23227195,\n",
            "       1.07706968, 0.98619524, 1.2618833 , 1.37624239, 1.28230413,\n",
            "       1.19551355, 1.02805909, 1.03929092, 1.30783131, 1.35990511,\n",
            "       1.3200835 , 1.31804157, 1.2373777 , 1.16386088, 1.17509211,\n",
            "       1.18428171, 0.63086396, 0.76666545, 0.75645519, 0.71254972,\n",
            "       0.69008543, 0.67272781, 0.68906477, 0.66557983, 0.6237169 ,\n",
            "       0.57674762, 0.59410525, 0.58491626, 0.56040973, 0.54509434,\n",
            "       0.51548361, 0.54407368, 0.47566139, 0.53488347, 0.3980604 ,\n",
            "       0.43277719, 0.4971041 , 0.52875676, 0.48791449, 0.45217736,\n",
            "       0.41235605, 0.37968151, 0.35007016, 0.3766183 , 0.3735551 ,\n",
            "       0.58593722, 0.6666014 , 0.53998891, 0.46749305, 0.41950281])]\n",
            "\n",
            " y_train [0.5113988285593102]\n",
            "\n",
            "x_train [array([1.3946222 , 1.45384398, 1.55288737, 1.44567473, 1.47426511,\n",
            "       1.47528608, 1.35377932, 1.31293644, 1.27209356, 1.23227195,\n",
            "       1.07706968, 0.98619524, 1.2618833 , 1.37624239, 1.28230413,\n",
            "       1.19551355, 1.02805909, 1.03929092, 1.30783131, 1.35990511,\n",
            "       1.3200835 , 1.31804157, 1.2373777 , 1.16386088, 1.17509211,\n",
            "       1.18428171, 0.63086396, 0.76666545, 0.75645519, 0.71254972,\n",
            "       0.69008543, 0.67272781, 0.68906477, 0.66557983, 0.6237169 ,\n",
            "       0.57674762, 0.59410525, 0.58491626, 0.56040973, 0.54509434,\n",
            "       0.51548361, 0.54407368, 0.47566139, 0.53488347, 0.3980604 ,\n",
            "       0.43277719, 0.4971041 , 0.52875676, 0.48791449, 0.45217736,\n",
            "       0.41235605, 0.37968151, 0.35007016, 0.3766183 , 0.3735551 ,\n",
            "       0.58593722, 0.6666014 , 0.53998891, 0.46749305, 0.41950281]), array([1.45384398, 1.55288737, 1.44567473, 1.47426511, 1.47528608,\n",
            "       1.35377932, 1.31293644, 1.27209356, 1.23227195, 1.07706968,\n",
            "       0.98619524, 1.2618833 , 1.37624239, 1.28230413, 1.19551355,\n",
            "       1.02805909, 1.03929092, 1.30783131, 1.35990511, 1.3200835 ,\n",
            "       1.31804157, 1.2373777 , 1.16386088, 1.17509211, 1.18428171,\n",
            "       0.63086396, 0.76666545, 0.75645519, 0.71254972, 0.69008543,\n",
            "       0.67272781, 0.68906477, 0.66557983, 0.6237169 , 0.57674762,\n",
            "       0.59410525, 0.58491626, 0.56040973, 0.54509434, 0.51548361,\n",
            "       0.54407368, 0.47566139, 0.53488347, 0.3980604 , 0.43277719,\n",
            "       0.4971041 , 0.52875676, 0.48791449, 0.45217736, 0.41235605,\n",
            "       0.37968151, 0.35007016, 0.3766183 , 0.3735551 , 0.58593722,\n",
            "       0.6666014 , 0.53998891, 0.46749305, 0.41950281, 0.51139883])]\n",
            "\n",
            " y_train [0.5113988285593102, 0.49404058925911953]\n",
            "\n",
            "x_train.shape (2448, 60, 1)\n"
          ]
        }
      ],
      "source": [
        "train_data = scaled_data[0: int(training_data_len)]\n",
        "x_train = []\n",
        "y_train = []\n",
        "\n",
        "for i in range(window_size, len(train_data)):\n",
        "    x_train.append(train_data[i-window_size:i, 0])\n",
        "    y_train.append(train_data[i, 0])\n",
        "    if i <= window_size + 1:\n",
        "      print('x_train', x_train)\n",
        "      print('\\n y_train', y_train)\n",
        "      print()\n",
        "\n",
        "x_train = np.array(x_train)\n",
        "y_train = np.array(y_train)\n",
        "\n",
        "x_train = np.reshape(x_train, (x_train.shape[0], x_train.shape[1], 1))\n",
        "print('x_train.shape', x_train.shape)"
      ]
    },
    {
      "cell_type": "code",
      "execution_count": 43,
      "metadata": {
        "colab": {
          "base_uri": "https://localhost:8080/"
        },
        "id": "B_Kdn5MdCX86",
        "outputId": "cfed3f1e-51c7-4d67-b1a8-cc3e4ac0f331"
      },
      "outputs": [
        {
          "output_type": "stream",
          "name": "stdout",
          "text": [
            "60\n"
          ]
        }
      ],
      "source": [
        "print(x_train.shape[1])"
      ]
    },
    {
      "cell_type": "code",
      "execution_count": 44,
      "metadata": {
        "colab": {
          "base_uri": "https://localhost:8080/"
        },
        "id": "FdXRQCguCb7z",
        "outputId": "77b93d5d-af68-425f-dc21-3921ad39d5f5"
      },
      "outputs": [
        {
          "output_type": "stream",
          "name": "stdout",
          "text": [
            "Requirement already satisfied: layers in /usr/local/lib/python3.10/dist-packages (0.1.5)\n",
            "Requirement already satisfied: PyYaml in /usr/local/lib/python3.10/dist-packages (from layers) (6.0.1)\n",
            "Requirement already satisfied: bashutils in /usr/local/lib/python3.10/dist-packages (from layers) (0.0.4)\n"
          ]
        }
      ],
      "source": [
        "from tensorflow.keras import Sequential\n",
        "from tensorflow.keras.layers import Dense, LSTM, Dropout, GRU, Bidirectional\n",
        "!pip install layers"
      ]
    },
    {
      "cell_type": "code",
      "execution_count": 45,
      "metadata": {
        "id": "Imv-k6r1M1US"
      },
      "outputs": [],
      "source": [
        "import tensorflow as tf"
      ]
    },
    {
      "cell_type": "code",
      "execution_count": 46,
      "metadata": {
        "colab": {
          "base_uri": "https://localhost:8080/"
        },
        "id": "m3t6bpmsMii8",
        "outputId": "42580591-4d3d-4a35-a442-d81684954440"
      },
      "outputs": [
        {
          "output_type": "stream",
          "name": "stdout",
          "text": [
            "Model: \"model_2\"\n",
            "_________________________________________________________________\n",
            " Layer (type)                Output Shape              Param #   \n",
            "=================================================================\n",
            " input (InputLayer)          [(None, 60, 1)]           0         \n",
            "                                                                 \n",
            " bidirectional_4 (Bidirecti  (None, 60, 256)           133120    \n",
            " onal)                                                           \n",
            "                                                                 \n",
            " bidirectional_5 (Bidirecti  (None, 128)               164352    \n",
            " onal)                                                           \n",
            "                                                                 \n",
            " last_dense (Dense)          (None, 1)                 129       \n",
            "                                                                 \n",
            "=================================================================\n",
            "Total params: 297601 (1.14 MB)\n",
            "Trainable params: 297601 (1.14 MB)\n",
            "Non-trainable params: 0 (0.00 Byte)\n",
            "_________________________________________________________________\n"
          ]
        }
      ],
      "source": [
        "def build_lstm_model():\n",
        "  input = tf.keras.layers.Input(shape = (x_train.shape[1], 1), name = 'input')\n",
        "  x = tf.keras.layers.Bidirectional(LSTM(128, return_sequences = True))(input)\n",
        "  x = tf.keras.layers.Bidirectional(LSTM(64, return_sequences = False, dropout = 0.5))(x)\n",
        "  output = tf.keras.layers.Dense(1, name = \"last_dense\")(x)\n",
        "  model = tf.keras.Model(inputs = input, outputs = output)\n",
        "  return model\n",
        "\n",
        "LSTM_model = build_lstm_model()\n",
        "LSTM_model.summary()"
      ]
    },
    {
      "cell_type": "code",
      "execution_count": 47,
      "metadata": {
        "colab": {
          "base_uri": "https://localhost:8080/"
        },
        "id": "eDxyEfI1OGUL",
        "outputId": "7718059f-9703-4317-96ae-5259a71ba4c2"
      },
      "outputs": [
        {
          "output_type": "stream",
          "name": "stdout",
          "text": [
            "Epoch 1/50\n",
            "77/77 [==============================] - 44s 439ms/step - loss: 0.0487\n",
            "Epoch 2/50\n",
            "77/77 [==============================] - 21s 270ms/step - loss: 0.0097\n",
            "Epoch 3/50\n",
            "77/77 [==============================] - 21s 276ms/step - loss: 0.0073\n",
            "Epoch 4/50\n",
            "77/77 [==============================] - 20s 258ms/step - loss: 0.0067\n",
            "Epoch 5/50\n",
            "77/77 [==============================] - 21s 279ms/step - loss: 0.0059\n",
            "Epoch 6/50\n",
            "77/77 [==============================] - 21s 275ms/step - loss: 0.0054\n",
            "Epoch 7/50\n",
            "77/77 [==============================] - 20s 256ms/step - loss: 0.0054\n",
            "Epoch 8/50\n",
            "77/77 [==============================] - 21s 274ms/step - loss: 0.0050\n",
            "Epoch 9/50\n",
            "77/77 [==============================] - 20s 260ms/step - loss: 0.0051\n",
            "Epoch 10/50\n",
            "77/77 [==============================] - 21s 277ms/step - loss: 0.0047\n",
            "Epoch 11/50\n",
            "77/77 [==============================] - 21s 277ms/step - loss: 0.0052\n",
            "Epoch 12/50\n",
            "77/77 [==============================] - 20s 262ms/step - loss: 0.0049\n",
            "Epoch 13/50\n",
            "77/77 [==============================] - 21s 277ms/step - loss: 0.0046\n",
            "Epoch 14/50\n",
            "77/77 [==============================] - 21s 276ms/step - loss: 0.0044\n",
            "Epoch 15/50\n",
            "77/77 [==============================] - 20s 259ms/step - loss: 0.0039\n",
            "Epoch 16/50\n",
            "77/77 [==============================] - 21s 276ms/step - loss: 0.0042\n",
            "Epoch 17/50\n",
            "77/77 [==============================] - 21s 275ms/step - loss: 0.0042\n",
            "Epoch 18/50\n",
            "77/77 [==============================] - 20s 259ms/step - loss: 0.0040\n",
            "Epoch 19/50\n",
            "77/77 [==============================] - 21s 276ms/step - loss: 0.0040\n",
            "Epoch 20/50\n",
            "77/77 [==============================] - 21s 268ms/step - loss: 0.0039\n",
            "Epoch 21/50\n",
            "77/77 [==============================] - 21s 264ms/step - loss: 0.0038\n",
            "Epoch 22/50\n",
            "77/77 [==============================] - 21s 275ms/step - loss: 0.0038\n",
            "Epoch 23/50\n",
            "77/77 [==============================] - 20s 260ms/step - loss: 0.0039\n",
            "Epoch 24/50\n",
            "77/77 [==============================] - 21s 275ms/step - loss: 0.0037\n",
            "Epoch 25/50\n",
            "77/77 [==============================] - 21s 274ms/step - loss: 0.0040\n",
            "Epoch 26/50\n",
            "77/77 [==============================] - 20s 259ms/step - loss: 0.0038\n",
            "Epoch 27/50\n",
            "77/77 [==============================] - 21s 274ms/step - loss: 0.0038\n",
            "Epoch 28/50\n",
            "77/77 [==============================] - 20s 262ms/step - loss: 0.0038\n",
            "Epoch 29/50\n",
            "77/77 [==============================] - 20s 262ms/step - loss: 0.0039\n",
            "Epoch 30/50\n",
            "77/77 [==============================] - 21s 272ms/step - loss: 0.0037\n",
            "Epoch 31/50\n",
            "77/77 [==============================] - 20s 257ms/step - loss: 0.0037\n",
            "Epoch 32/50\n",
            "77/77 [==============================] - 21s 273ms/step - loss: 0.0040\n",
            "Epoch 33/50\n",
            "77/77 [==============================] - 21s 274ms/step - loss: 0.0037\n",
            "Epoch 34/50\n",
            "77/77 [==============================] - 20s 257ms/step - loss: 0.0034\n",
            "Epoch 35/50\n",
            "77/77 [==============================] - 21s 275ms/step - loss: 0.0037\n",
            "Epoch 36/50\n",
            "77/77 [==============================] - 20s 260ms/step - loss: 0.0039\n",
            "Epoch 37/50\n",
            "77/77 [==============================] - 21s 271ms/step - loss: 0.0038\n",
            "Epoch 38/50\n",
            "77/77 [==============================] - 21s 275ms/step - loss: 0.0034\n",
            "Epoch 39/50\n",
            "77/77 [==============================] - 20s 257ms/step - loss: 0.0040\n",
            "Epoch 40/50\n",
            "77/77 [==============================] - 21s 275ms/step - loss: 0.0034\n",
            "Epoch 41/50\n",
            "77/77 [==============================] - 21s 277ms/step - loss: 0.0034\n",
            "Epoch 42/50\n",
            "77/77 [==============================] - 20s 261ms/step - loss: 0.0034\n",
            "Epoch 43/50\n",
            "77/77 [==============================] - 21s 275ms/step - loss: 0.0036\n",
            "Epoch 44/50\n",
            "77/77 [==============================] - 20s 264ms/step - loss: 0.0036\n",
            "Epoch 45/50\n",
            "77/77 [==============================] - 21s 267ms/step - loss: 0.0034\n",
            "Epoch 46/50\n",
            "77/77 [==============================] - 21s 275ms/step - loss: 0.0035\n",
            "Epoch 47/50\n",
            "77/77 [==============================] - 20s 261ms/step - loss: 0.0035\n",
            "Epoch 48/50\n",
            "77/77 [==============================] - 21s 276ms/step - loss: 0.0033\n",
            "Epoch 49/50\n",
            "77/77 [==============================] - 21s 276ms/step - loss: 0.0032\n",
            "Epoch 50/50\n",
            "77/77 [==============================] - 20s 259ms/step - loss: 0.0034\n"
          ]
        }
      ],
      "source": [
        "epochs = 50\n",
        "batch_size = 32\n",
        "early_stopping_patience = 20\n",
        "\n",
        "LSTM_model.compile(optimizer = 'adam', loss = 'mean_squared_error')\n",
        "price = LSTM_model.fit(x_train, y_train, batch_size = batch_size, epochs = epochs)"
      ]
    },
    {
      "cell_type": "code",
      "execution_count": 48,
      "metadata": {
        "colab": {
          "base_uri": "https://localhost:8080/"
        },
        "id": "Ezh4SVe9Rcbc",
        "outputId": "acc71d64-7e76-4363-c448-03e403089425"
      },
      "outputs": [
        {
          "output_type": "stream",
          "name": "stdout",
          "text": [
            "len(test_data):  192\n",
            "5/5 [==============================] - 2s 59ms/step\n"
          ]
        },
        {
          "output_type": "execute_result",
          "data": {
            "text/plain": [
              "0.27091630827574015"
            ]
          },
          "metadata": {},
          "execution_count": 48
        }
      ],
      "source": [
        "test_data = scaled_data[training_data_len - window_size: ]\n",
        "print('len(test_data): ', len(test_data))\n",
        "\n",
        "x_test = []\n",
        "y_test = dataset[training_data_len:, :]\n",
        "for i in range(window_size, len(test_data)):\n",
        "  x_test.append(test_data[i - window_size:i, 0])\n",
        "\n",
        "x_test = np.array(x_test)\n",
        "\n",
        "x_test = np.reshape(x_test, (x_test.shape[0], x_test.shape[1], 1))\n",
        "\n",
        "predictions = LSTM_model.predict(x_test)\n",
        "predictions = sc.inverse_transform(predictions)\n",
        "\n",
        "rmse = np.sqrt(np.mean(((predictions - y_test) ** 2)))\n",
        "rmse"
      ]
    },
    {
      "cell_type": "code",
      "execution_count": 49,
      "metadata": {
        "colab": {
          "base_uri": "https://localhost:8080/",
          "height": 678
        },
        "id": "8VuPThTcTlvO",
        "outputId": "8cd6b7fe-63bd-458f-9872-875b2b3b2daf"
      },
      "outputs": [
        {
          "output_type": "stream",
          "name": "stderr",
          "text": [
            "<ipython-input-49-8f188311654f>:3: SettingWithCopyWarning: \n",
            "A value is trying to be set on a copy of a slice from a DataFrame.\n",
            "Try using .loc[row_indexer,col_indexer] = value instead\n",
            "\n",
            "See the caveats in the documentation: https://pandas.pydata.org/pandas-docs/stable/user_guide/indexing.html#returning-a-view-versus-a-copy\n",
            "  test['Predictions'] = predictions\n"
          ]
        },
        {
          "output_type": "display_data",
          "data": {
            "text/plain": [
              "<Figure size 1600x600 with 1 Axes>"
            ],
            "image/png": "[encoded data removed]"
          },
          "metadata": {}
        }
      ],
      "source": [
        "train = data[: training_data_len]\n",
        "test = data[training_data_len: ]\n",
        "test['Predictions'] = predictions\n",
        "\n",
        "plt.figure(figsize = (16, 6))\n",
        "plt.title('Model')\n",
        "plt.xlabel('Date', fontsize = 18)\n",
        "plt.ylabel('Average Price USD $', fontsize = 18)\n",
        "plt.plot(test[['Average', 'Predictions']])\n",
        "plt.legend(['Average', 'Predictions'], loc = 'lower right')\n",
        "plt.show()"
      ]
    },
    {
      "cell_type": "code",
      "execution_count": 50,
      "metadata": {
        "colab": {
          "base_uri": "https://localhost:8080/",
          "height": 831
        },
        "id": "GEby4t1IWCuD",
        "outputId": "4f501dc9-f2e9-4e3c-821f-c29c71c31db1"
      },
      "outputs": [
        {
          "output_type": "execute_result",
          "data": {
            "text/plain": [
              "       Average  Predictions\n",
              "2508  1.446000     1.432534\n",
              "2509  1.446667     1.427027\n",
              "2510  1.492000     1.428843\n",
              "2511  1.520666     1.465666\n",
              "2512  1.544667     1.498443\n",
              "...        ...          ...\n",
              "2635  3.606000     2.735600\n",
              "2636  3.559333     2.872182\n",
              "2637  3.656000     2.822915\n",
              "2638  3.745333     2.864648\n",
              "2639  3.754000     2.909755\n",
              "\n",
              "[132 rows x 2 columns]"
            ],
            "text/html": [
              "\n",
              "  <div id=\"df-b3ff0e68-ac0d-42a4-ad14-6c4ad1876405\" class=\"colab-df-container\">\n",
              "    <div>\n",
              "<style scoped>\n",
              "    .dataframe tbody tr th:only-of-type {\n",
              "        vertical-align: middle;\n",
              "    }\n",
              "\n",
              "    .dataframe tbody tr th {\n",
              "        vertical-align: top;\n",
              "    }\n",
              "\n",
              "    .dataframe thead th {\n",
              "        text-align: right;\n",
              "    }\n",
              "</style>\n",
              "<table border=\"1\" class=\"dataframe\">\n",
              "  <thead>\n",
              "    <tr style=\"text-align: right;\">\n",
              "      <th></th>\n",
              "      <th>Average</th>\n",
              "      <th>Predictions</th>\n",
              "    </tr>\n",
              "  </thead>\n",
              "  <tbody>\n",
              "    <tr>\n",
              "      <th>2508</th>\n",
              "      <td>1.446000</td>\n",
              "      <td>1.432534</td>\n",
              "    </tr>\n",
              "    <tr>\n",
              "      <th>2509</th>\n",
              "      <td>1.446667</td>\n",
              "      <td>1.427027</td>\n",
              "    </tr>\n",
              "    <tr>\n",
              "      <th>2510</th>\n",
              "      <td>1.492000</td>\n",
              "      <td>1.428843</td>\n",
              "    </tr>\n",
              "    <tr>\n",
              "      <th>2511</th>\n",
              "      <td>1.520666</td>\n",
              "      <td>1.465666</td>\n",
              "    </tr>\n",
              "    <tr>\n",
              "      <th>2512</th>\n",
              "      <td>1.544667</td>\n",
              "      <td>1.498443</td>\n",
              "    </tr>\n",
              "    <tr>\n",
              "      <th>...</th>\n",
              "      <td>...</td>\n",
              "      <td>...</td>\n",
              "    </tr>\n",
              "    <tr>\n",
              "      <th>2635</th>\n",
              "      <td>3.606000</td>\n",
              "      <td>2.735600</td>\n",
              "    </tr>\n",
              "    <tr>\n",
              "      <th>2636</th>\n",
              "      <td>3.559333</td>\n",
              "      <td>2.872182</td>\n",
              "    </tr>\n",
              "    <tr>\n",
              "      <th>2637</th>\n",
              "      <td>3.656000</td>\n",
              "      <td>2.822915</td>\n",
              "    </tr>\n",
              "    <tr>\n",
              "      <th>2638</th>\n",
              "      <td>3.745333</td>\n",
              "      <td>2.864648</td>\n",
              "    </tr>\n",
              "    <tr>\n",
              "      <th>2639</th>\n",
              "      <td>3.754000</td>\n",
              "      <td>2.909755</td>\n",
              "    </tr>\n",
              "  </tbody>\n",
              "</table>\n",
              "<p>132 rows × 2 columns</p>\n",
              "</div>\n",
              "    <div class=\"colab-df-buttons\">\n",
              "\n",
              "  <div class=\"colab-df-container\">\n",
              "    <button class=\"colab-df-convert\" onclick=\"convertToInteractive('df-b3ff0e68-ac0d-42a4-ad14-6c4ad1876405')\"\n",
              "            title=\"Convert this dataframe to an interactive table.\"\n",
              "            style=\"display:none;\">\n",
              "\n",
              "  <svg xmlns=\"http://www.w3.org/2000/svg\" height=\"24px\" viewBox=\"0 -960 960 960\">\n",
              "    <path d=\"M120-120v-720h720v720H120Zm60-500h600v-160H180v160Zm220 220h160v-160H400v160Zm0 220h160v-160H400v160ZM180-400h160v-160H180v160Zm440 0h160v-160H620v160ZM180-180h160v-160H180v160Zm440 0h160v-160H620v160Z\"/>\n",
              "  </svg>\n",
              "    </button>\n",
              "\n",
              "  <style>\n",
              "    .colab-df-container {\n",
              "      display:flex;\n",
              "      gap: 12px;\n",
              "    }\n",
              "\n",
              "    .colab-df-convert {\n",
              "      background-color: #E8F0FE;\n",
              "      border: none;\n",
              "      border-radius: 50%;\n",
              "      cursor: pointer;\n",
              "      display: none;\n",
              "      fill: #1967D2;\n",
              "      height: 32px;\n",
              "      padding: 0 0 0 0;\n",
              "      width: 32px;\n",
              "    }\n",
              "\n",
              "    .colab-df-convert:hover {\n",
              "      background-color: #E2EBFA;\n",
              "      box-shadow: 0px 1px 2px rgba(60, 64, 67, 0.3), 0px 1px 3px 1px rgba(60, 64, 67, 0.15);\n",
              "      fill: #174EA6;\n",
              "    }\n",
              "\n",
              "    .colab-df-buttons div {\n",
              "      margin-bottom: 4px;\n",
              "    }\n",
              "\n",
              "    [theme=dark] .colab-df-convert {\n",
              "      background-color: #3B4455;\n",
              "      fill: #D2E3FC;\n",
              "    }\n",
              "\n",
              "    [theme=dark] .colab-df-convert:hover {\n",
              "      background-color: #434B5C;\n",
              "      box-shadow: 0px 1px 3px 1px rgba(0, 0, 0, 0.15);\n",
              "      filter: drop-shadow(0px 1px 2px rgba(0, 0, 0, 0.3));\n",
              "      fill: #FFFFFF;\n",
              "    }\n",
              "  </style>\n",
              "\n",
              "    <script>\n",
              "      const buttonEl =\n",
              "        document.querySelector('#df-b3ff0e68-ac0d-42a4-ad14-6c4ad1876405 button.colab-df-convert');\n",
              "      buttonEl.style.display =\n",
              "        google.colab.kernel.accessAllowed ? 'block' : 'none';\n",
              "\n",
              "      async function convertToInteractive(key) {\n",
              "        const element = document.querySelector('#df-b3ff0e68-ac0d-42a4-ad14-6c4ad1876405');\n",
              "        const dataTable =\n",
              "          await google.colab.kernel.invokeFunction('convertToInteractive',\n",
              "                                                    [key], {});\n",
              "        if (!dataTable) return;\n",
              "\n",
              "        const docLinkHtml = 'Like what you see? Visit the ' +\n",
              "          '<a target=\"_blank\" href=https://colab.research.google.com/notebooks/data_table.ipynb>data table notebook</a>'\n",
              "          + ' to learn more about interactive tables.';\n",
              "        element.innerHTML = '';\n",
              "        dataTable['output_type'] = 'display_data';\n",
              "        await google.colab.output.renderOutput(dataTable, element);\n",
              "        const docLink = document.createElement('div');\n",
              "        docLink.innerHTML = docLinkHtml;\n",
              "        element.appendChild(docLink);\n",
              "      }\n",
              "    </script>\n",
              "  </div>\n",
              "\n",
              "\n",
              "<div id=\"df-bd4558ea-3a34-41fc-b5e1-481b89bdb34c\">\n",
              "  <button class=\"colab-df-quickchart\" onclick=\"quickchart('df-bd4558ea-3a34-41fc-b5e1-481b89bdb34c')\"\n",
              "            title=\"Suggest charts\"\n",
              "            style=\"display:none;\">\n",
              "\n",
              "<svg xmlns=\"http://www.w3.org/2000/svg\" height=\"24px\"viewBox=\"0 0 24 24\"\n",
              "     width=\"24px\">\n",
              "    <g>\n",
              "        <path d=\"M19 3H5c-1.1 0-2 .9-2 2v14c0 1.1.9 2 2 2h14c1.1 0 2-.9 2-2V5c0-1.1-.9-2-2-2zM9 17H7v-7h2v7zm4 0h-2V7h2v10zm4 0h-2v-4h2v4z\"/>\n",
              "    </g>\n",
              "</svg>\n",
              "  </button>\n",
              "\n",
              "<style>\n",
              "  .colab-df-quickchart {\n",
              "      --bg-color: #E8F0FE;\n",
              "      --fill-color: #1967D2;\n",
              "      --hover-bg-color: #E2EBFA;\n",
              "      --hover-fill-color: #174EA6;\n",
              "      --disabled-fill-color: #AAA;\n",
              "      --disabled-bg-color: #DDD;\n",
              "  }\n",
              "\n",
              "  [theme=dark] .colab-df-quickchart {\n",
              "      --bg-color: #3B4455;\n",
              "      --fill-color: #D2E3FC;\n",
              "      --hover-bg-color: #434B5C;\n",
              "      --hover-fill-color: #FFFFFF;\n",
              "      --disabled-bg-color: #3B4455;\n",
              "      --disabled-fill-color: #666;\n",
              "  }\n",
              "\n",
              "  .colab-df-quickchart {\n",
              "    background-color: var(--bg-color);\n",
              "    border: none;\n",
              "    border-radius: 50%;\n",
              "    cursor: pointer;\n",
              "    display: none;\n",
              "    fill: var(--fill-color);\n",
              "    height: 32px;\n",
              "    padding: 0;\n",
              "    width: 32px;\n",
              "  }\n",
              "\n",
              "  .colab-df-quickchart:hover {\n",
              "    background-color: var(--hover-bg-color);\n",
              "    box-shadow: 0 1px 2px rgba(60, 64, 67, 0.3), 0 1px 3px 1px rgba(60, 64, 67, 0.15);\n",
              "    fill: var(--button-hover-fill-color);\n",
              "  }\n",
              "\n",
              "  .colab-df-quickchart-complete:disabled,\n",
              "  .colab-df-quickchart-complete:disabled:hover {\n",
              "    background-color: var(--disabled-bg-color);\n",
              "    fill: var(--disabled-fill-color);\n",
              "    box-shadow: none;\n",
              "  }\n",
              "\n",
              "  .colab-df-spinner {\n",
              "    border: 2px solid var(--fill-color);\n",
              "    border-color: transparent;\n",
              "    border-bottom-color: var(--fill-color);\n",
              "    animation:\n",
              "      spin 1s steps(1) infinite;\n",
              "  }\n",
              "\n",
              "  @keyframes spin {\n",
              "    0% {\n",
              "      border-color: transparent;\n",
              "      border-bottom-color: var(--fill-color);\n",
              "      border-left-color: var(--fill-color);\n",
              "    }\n",
              "    20% {\n",
              "      border-color: transparent;\n",
              "      border-left-color: var(--fill-color);\n",
              "      border-top-color: var(--fill-color);\n",
              "    }\n",
              "    30% {\n",
              "      border-color: transparent;\n",
              "      border-left-color: var(--fill-color);\n",
              "      border-top-color: var(--fill-color);\n",
              "      border-right-color: var(--fill-color);\n",
              "    }\n",
              "    40% {\n",
              "      border-color: transparent;\n",
              "      border-right-color: var(--fill-color);\n",
              "      border-top-color: var(--fill-color);\n",
              "    }\n",
              "    60% {\n",
              "      border-color: transparent;\n",
              "      border-right-color: var(--fill-color);\n",
              "    }\n",
              "    80% {\n",
              "      border-color: transparent;\n",
              "      border-right-color: var(--fill-color);\n",
              "      border-bottom-color: var(--fill-color);\n",
              "    }\n",
              "    90% {\n",
              "      border-color: transparent;\n",
              "      border-bottom-color: var(--fill-color);\n",
              "    }\n",
              "  }\n",
              "</style>\n",
              "\n",
              "  <script>\n",
              "    async function quickchart(key) {\n",
              "      const quickchartButtonEl =\n",
              "        document.querySelector('#' + key + ' button');\n",
              "      quickchartButtonEl.disabled = true;  // To prevent multiple clicks.\n",
              "      quickchartButtonEl.classList.add('colab-df-spinner');\n",
              "      try {\n",
              "        const charts = await google.colab.kernel.invokeFunction(\n",
              "            'suggestCharts', [key], {});\n",
              "      } catch (error) {\n",
              "        console.error('Error during call to suggestCharts:', error);\n",
              "      }\n",
              "      quickchartButtonEl.classList.remove('colab-df-spinner');\n",
              "      quickchartButtonEl.classList.add('colab-df-quickchart-complete');\n",
              "    }\n",
              "    (() => {\n",
              "      let quickchartButtonEl =\n",
              "        document.querySelector('#df-bd4558ea-3a34-41fc-b5e1-481b89bdb34c button');\n",
              "      quickchartButtonEl.style.display =\n",
              "        google.colab.kernel.accessAllowed ? 'block' : 'none';\n",
              "    })();\n",
              "  </script>\n",
              "</div>\n",
              "\n",
              "    </div>\n",
              "  </div>\n"
            ]
          },
          "metadata": {},
          "execution_count": 50
        }
      ],
      "source": [
        "test[:]"
      ]
    }
  ],
  "metadata": {
    "colab": {
      "provenance": []
    },
    "kernelspec": {
      "display_name": "Python 3",
      "name": "python3"
    },
    "language_info": {
      "name": "python"
    }
  },
  "nbformat": 4,
  "nbformat_minor": 0
}