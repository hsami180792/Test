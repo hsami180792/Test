{
  "nbformat": 4,
  "nbformat_minor": 0,
  "metadata": {
    "colab": {
      "provenance": []
    },
    "kernelspec": {
      "name": "python3",
      "display_name": "Python 3"
    },
    "language_info": {
      "name": "python"
    }
  },
  "cells": [
    {
      "cell_type": "code",
      "execution_count": 172,
      "metadata": {
        "id": "pa8BuGYTzgJb"
      },
      "outputs": [],
      "source": [
        "import numpy as np\n",
        "import matplotlib.pyplot as plt\n",
        "import pandas as pd\n",
        "from sklearn.preprocessing import MinMaxScaler"
      ]
    },
    {
      "cell_type": "code",
      "source": [
        "import io"
      ],
      "metadata": {
        "id": "xV-QJu9fzocN"
      },
      "execution_count": 173,
      "outputs": []
    },
    {
      "cell_type": "code",
      "source": [
        "from google.colab import files\n",
        "uploaded = files.upload()"
      ],
      "metadata": {
        "colab": {
          "base_uri": "https://localhost:8080/",
          "height": 73
        },
        "id": "r24TXRS-zq5E",
        "outputId": "0dfd1e22-9067-481a-9dec-5f7cf68bc6b7"
      },
      "execution_count": 174,
      "outputs": [
        {
          "output_type": "display_data",
          "data": {
            "text/plain": [
              "<IPython.core.display.HTML object>"
            ],
            "text/html": [
              "\n",
              "     <input type=\"file\" id=\"files-a3be5182-820b-403c-b5c0-40d20de655b9\" name=\"files[]\" multiple disabled\n",
              "        style=\"border:none\" />\n",
              "     <output id=\"result-a3be5182-820b-403c-b5c0-40d20de655b9\">\n",
              "      Upload widget is only available when the cell has been executed in the\n",
              "      current browser session. Please rerun this cell to enable.\n",
              "      </output>\n",
              "      <script>// Copyright 2017 Google LLC\n",
              "//\n",
              "// Licensed under the Apache License, Version 2.0 (the \"License\");\n",
              "// you may not use this file except in compliance with the License.\n",
              "// You may obtain a copy of the License at\n",
              "//\n",
              "//      http://www.apache.org/licenses/LICENSE-2.0\n",
              "//\n",
              "// Unless required by applicable law or agreed to in writing, software\n",
              "// distributed under the License is distributed on an \"AS IS\" BASIS,\n",
              "// WITHOUT WARRANTIES OR CONDITIONS OF ANY KIND, either express or implied.\n",
              "// See the License for the specific language governing permissions and\n",
              "// limitations under the License.\n",
              "\n",
              "/**\n",
              " * @fileoverview Helpers for google.colab Python module.\n",
              " */\n",
              "(function(scope) {\n",
              "function span(text, styleAttributes = {}) {\n",
              "  const element = document.createElement('span');\n",
              "  element.textContent = text;\n",
              "  for (const key of Object.keys(styleAttributes)) {\n",
              "    element.style[key] = styleAttributes[key];\n",
              "  }\n",
              "  return element;\n",
              "}\n",
              "\n",
              "// Max number of bytes which will be uploaded at a time.\n",
              "const MAX_PAYLOAD_SIZE = 100 * 1024;\n",
              "\n",
              "function _uploadFiles(inputId, outputId) {\n",
              "  const steps = uploadFilesStep(inputId, outputId);\n",
              "  const outputElement = document.getElementById(outputId);\n",
              "  // Cache steps on the outputElement to make it available for the next call\n",
              "  // to uploadFilesContinue from Python.\n",
              "  outputElement.steps = steps;\n",
              "\n",
              "  return _uploadFilesContinue(outputId);\n",
              "}\n",
              "\n",
              "// This is roughly an async generator (not supported in the browser yet),\n",
              "// where there are multiple asynchronous steps and the Python side is going\n",
              "// to poll for completion of each step.\n",
              "// This uses a Promise to block the python side on completion of each step,\n",
              "// then passes the result of the previous step as the input to the next step.\n",
              "function _uploadFilesContinue(outputId) {\n",
              "  const outputElement = document.getElementById(outputId);\n",
              "  const steps = outputElement.steps;\n",
              "\n",
              "  const next = steps.next(outputElement.lastPromiseValue);\n",
              "  return Promise.resolve(next.value.promise).then((value) => {\n",
              "    // Cache the last promise value to make it available to the next\n",
              "    // step of the generator.\n",
              "    outputElement.lastPromiseValue = value;\n",
              "    return next.value.response;\n",
              "  });\n",
              "}\n",
              "\n",
              "/**\n",
              " * Generator function which is called between each async step of the upload\n",
              " * process.\n",
              " * @param {string} inputId Element ID of the input file picker element.\n",
              " * @param {string} outputId Element ID of the output display.\n",
              " * @return {!Iterable<!Object>} Iterable of next steps.\n",
              " */\n",
              "function* uploadFilesStep(inputId, outputId) {\n",
              "  const inputElement = document.getElementById(inputId);\n",
              "  inputElement.disabled = false;\n",
              "\n",
              "  const outputElement = document.getElementById(outputId);\n",
              "  outputElement.innerHTML = '';\n",
              "\n",
              "  const pickedPromise = new Promise((resolve) => {\n",
              "    inputElement.addEventListener('change', (e) => {\n",
              "      resolve(e.target.files);\n",
              "    });\n",
              "  });\n",
              "\n",
              "  const cancel = document.createElement('button');\n",
              "  inputElement.parentElement.appendChild(cancel);\n",
              "  cancel.textContent = 'Cancel upload';\n",
              "  const cancelPromise = new Promise((resolve) => {\n",
              "    cancel.onclick = () => {\n",
              "      resolve(null);\n",
              "    };\n",
              "  });\n",
              "\n",
              "  // Wait for the user to pick the files.\n",
              "  const files = yield {\n",
              "    promise: Promise.race([pickedPromise, cancelPromise]),\n",
              "    response: {\n",
              "      action: 'starting',\n",
              "    }\n",
              "  };\n",
              "\n",
              "  cancel.remove();\n",
              "\n",
              "  // Disable the input element since further picks are not allowed.\n",
              "  inputElement.disabled = true;\n",
              "\n",
              "  if (!files) {\n",
              "    return {\n",
              "      response: {\n",
              "        action: 'complete',\n",
              "      }\n",
              "    };\n",
              "  }\n",
              "\n",
              "  for (const file of files) {\n",
              "    const li = document.createElement('li');\n",
              "    li.append(span(file.name, {fontWeight: 'bold'}));\n",
              "    li.append(span(\n",
              "        `(${file.type || 'n/a'}) - ${file.size} bytes, ` +\n",
              "        `last modified: ${\n",
              "            file.lastModifiedDate ? file.lastModifiedDate.toLocaleDateString() :\n",
              "                                    'n/a'} - `));\n",
              "    const percent = span('0% done');\n",
              "    li.appendChild(percent);\n",
              "\n",
              "    outputElement.appendChild(li);\n",
              "\n",
              "    const fileDataPromise = new Promise((resolve) => {\n",
              "      const reader = new FileReader();\n",
              "      reader.onload = (e) => {\n",
              "        resolve(e.target.result);\n",
              "      };\n",
              "      reader.readAsArrayBuffer(file);\n",
              "    });\n",
              "    // Wait for the data to be ready.\n",
              "    let fileData = yield {\n",
              "      promise: fileDataPromise,\n",
              "      response: {\n",
              "        action: 'continue',\n",
              "      }\n",
              "    };\n",
              "\n",
              "    // Use a chunked sending to avoid message size limits. See b/62115660.\n",
              "    let position = 0;\n",
              "    do {\n",
              "      const length = Math.min(fileData.byteLength - position, MAX_PAYLOAD_SIZE);\n",
              "      const chunk = new Uint8Array(fileData, position, length);\n",
              "      position += length;\n",
              "\n",
              "      const base64 = btoa(String.fromCharCode.apply(null, chunk));\n",
              "      yield {\n",
              "        response: {\n",
              "          action: 'append',\n",
              "          file: file.name,\n",
              "          data: base64,\n",
              "        },\n",
              "      };\n",
              "\n",
              "      let percentDone = fileData.byteLength === 0 ?\n",
              "          100 :\n",
              "          Math.round((position / fileData.byteLength) * 100);\n",
              "      percent.textContent = `${percentDone}% done`;\n",
              "\n",
              "    } while (position < fileData.byteLength);\n",
              "  }\n",
              "\n",
              "  // All done.\n",
              "  yield {\n",
              "    response: {\n",
              "      action: 'complete',\n",
              "    }\n",
              "  };\n",
              "}\n",
              "\n",
              "scope.google = scope.google || {};\n",
              "scope.google.colab = scope.google.colab || {};\n",
              "scope.google.colab._files = {\n",
              "  _uploadFiles,\n",
              "  _uploadFilesContinue,\n",
              "};\n",
              "})(self);\n",
              "</script> "
            ]
          },
          "metadata": {}
        },
        {
          "output_type": "stream",
          "name": "stdout",
          "text": [
            "Saving CELH.csv to CELH.csv\n"
          ]
        }
      ]
    },
    {
      "cell_type": "code",
      "source": [
        "df = pd.read_csv(io.BytesIO(uploaded['CELH.csv']))\n",
        "print(df)"
      ],
      "metadata": {
        "colab": {
          "base_uri": "https://localhost:8080/"
        },
        "id": "rDifliYGzwvi",
        "outputId": "5cf3487d-1f7e-4b6f-d07d-884fd3d02e3d"
      },
      "execution_count": 176,
      "outputs": [
        {
          "output_type": "stream",
          "name": "stdout",
          "text": [
            "           Date      Open      High       Low     Close  Adj Close   Average\n",
            "0      1/4/2010  1.666667  1.683333  1.666667  1.666667   1.666667  1.670000\n",
            "1      1/5/2010  1.666667  1.796667  1.500000  1.790000   1.790000  1.708667\n",
            "2      1/6/2010  1.816667  1.816667  1.666667  1.783333   1.783333  1.773333\n",
            "3      1/7/2010  1.683333  1.783333  1.683333  1.683333   1.683333  1.703333\n",
            "4      1/8/2010  1.700000  1.776667  1.586667  1.773333   1.773333  1.722000\n",
            "...         ...       ...       ...       ...       ...        ...       ...\n",
            "2635  6/23/2020  3.426667  3.816667  3.386667  3.700000   3.700000  3.606000\n",
            "2636  6/24/2020  3.603333  3.803333  3.430000  3.480000   3.480000  3.559333\n",
            "2637  6/25/2020  3.483333  3.790000  3.433333  3.786667   3.786667  3.656000\n",
            "2638  6/26/2020  3.803333  3.993333  3.570000  3.680000   3.680000  3.745333\n",
            "2639  6/29/2020  3.680000  3.880000  3.503333  3.853333   3.853333  3.754000\n",
            "\n",
            "[2640 rows x 7 columns]\n"
          ]
        }
      ]
    },
    {
      "cell_type": "code",
      "source": [
        "data_training = df[df['Date'] < '2020-03-15'].copy()\n",
        "data_testing = df[df['Date'] >= '2020-03-15'].copy()"
      ],
      "metadata": {
        "id": "loLfrbEez1Kz"
      },
      "execution_count": 177,
      "outputs": []
    },
    {
      "cell_type": "code",
      "source": [
        "data_training = data_training.drop(['Date'], axis = 1)"
      ],
      "metadata": {
        "id": "ZAwybGlaz4HS"
      },
      "execution_count": 178,
      "outputs": []
    },
    {
      "cell_type": "code",
      "source": [
        "scaler = MinMaxScaler()\n",
        "data_training = scaler.fit_transform(data_training)\n",
        "data_training"
      ],
      "metadata": {
        "colab": {
          "base_uri": "https://localhost:8080/"
        },
        "id": "G0oMyymYz6nD",
        "outputId": "530285a8-91e1-4183-bd01-e7af44a40c50"
      },
      "execution_count": 179,
      "outputs": [
        {
          "output_type": "execute_result",
          "data": {
            "text/plain": [
              "array([[0.77849121, 0.70503573, 0.78640777, 0.77106522, 0.77106522,\n",
              "        0.7629514 ],\n",
              "       [0.77849121, 0.75395687, 0.70550146, 0.82988858, 0.82988858,\n",
              "        0.78116173],\n",
              "       [0.85072234, 0.76258996, 0.78640777, 0.82670877, 0.82670877,\n",
              "        0.81161696],\n",
              "       ...,\n",
              "       [0.93739969, 0.90935253, 0.94012913, 1.        , 1.        ,\n",
              "        0.95886977],\n",
              "       [0.99678957, 0.89496376, 0.95469223, 0.96502353, 0.96502353,\n",
              "        0.95635777],\n",
              "       [0.94863548, 0.85899268, 0.85760485, 0.91573912, 0.91573912,\n",
              "        0.90078487]])"
            ]
          },
          "metadata": {},
          "execution_count": 179
        }
      ]
    },
    {
      "cell_type": "code",
      "source": [
        "x_train = []\n",
        "y_train = []\n",
        "\n",
        "for i in range(60, data_training.shape[0]):\n",
        "    x_train.append(data_training[i-20:i])\n",
        "    y_train.append(data_training[i, 0])\n",
        "\n",
        "x_train = np.array(x_train)\n",
        "y_train = np.array(y_train)"
      ],
      "metadata": {
        "id": "RHB_FUf30Z9L"
      },
      "execution_count": 180,
      "outputs": []
    },
    {
      "cell_type": "code",
      "source": [
        "x_train.shape"
      ],
      "metadata": {
        "colab": {
          "base_uri": "https://localhost:8080/"
        },
        "id": "qmWYzXwY0h3r",
        "outputId": "88179a27-477e-446b-b602-e8c43a209738"
      },
      "execution_count": 181,
      "outputs": [
        {
          "output_type": "execute_result",
          "data": {
            "text/plain": [
              "(1008, 20, 6)"
            ]
          },
          "metadata": {},
          "execution_count": 181
        }
      ]
    },
    {
      "cell_type": "code",
      "source": [
        "from tensorflow.keras import Sequential\n",
        "from tensorflow.keras.layers import Dense, LSTM, Dropout, GRU, Bidirectional"
      ],
      "metadata": {
        "id": "bB7lh8H00kVb"
      },
      "execution_count": 182,
      "outputs": []
    },
    {
      "cell_type": "code",
      "source": [
        "regressorGRU = Sequential()\n",
        "\n",
        "regressorGRU.add(GRU(units = 60, activation = 'relu', return_sequences = True, input_shape = (x_train.shape[1], 6)))\n",
        "regressorGRU.add(Dropout(0.2))\n",
        "\n",
        "regressorGRU.add(GRU(units = 60, activation = 'relu', return_sequences = True))\n",
        "regressorGRU.add(Dropout(0.2))\n",
        "\n",
        "regressorGRU.add(GRU(units = 80, activation = 'relu', return_sequences = True))\n",
        "regressorGRU.add(Dropout(0.2))\n",
        "\n",
        "regressorGRU.add(GRU(units = 120, activation = 'relu'))\n",
        "regressorGRU.add(Dropout(0.2))\n",
        "\n",
        "regressorGRU.add(Dense(units = 1))"
      ],
      "metadata": {
        "id": "KGK1n3id0muD"
      },
      "execution_count": 183,
      "outputs": []
    },
    {
      "cell_type": "code",
      "source": [
        "regressorGRU.summary()"
      ],
      "metadata": {
        "colab": {
          "base_uri": "https://localhost:8080/"
        },
        "id": "yYY75U140pQz",
        "outputId": "54963b5c-0656-4bfa-be3a-998bd9b86ae8"
      },
      "execution_count": 184,
      "outputs": [
        {
          "output_type": "stream",
          "name": "stdout",
          "text": [
            "Model: \"sequential_7\"\n",
            "_________________________________________________________________\n",
            " Layer (type)                Output Shape              Param #   \n",
            "=================================================================\n",
            " gru_28 (GRU)                (None, 20, 60)            12240     \n",
            "                                                                 \n",
            " dropout_28 (Dropout)        (None, 20, 60)            0         \n",
            "                                                                 \n",
            " gru_29 (GRU)                (None, 20, 60)            21960     \n",
            "                                                                 \n",
            " dropout_29 (Dropout)        (None, 20, 60)            0         \n",
            "                                                                 \n",
            " gru_30 (GRU)                (None, 20, 80)            34080     \n",
            "                                                                 \n",
            " dropout_30 (Dropout)        (None, 20, 80)            0         \n",
            "                                                                 \n",
            " gru_31 (GRU)                (None, 120)               72720     \n",
            "                                                                 \n",
            " dropout_31 (Dropout)        (None, 120)               0         \n",
            "                                                                 \n",
            " dense_7 (Dense)             (None, 1)                 121       \n",
            "                                                                 \n",
            "=================================================================\n",
            "Total params: 141121 (551.25 KB)\n",
            "Trainable params: 141121 (551.25 KB)\n",
            "Non-trainable params: 0 (0.00 Byte)\n",
            "_________________________________________________________________\n"
          ]
        }
      ]
    },
    {
      "cell_type": "code",
      "source": [
        "regressorGRU.compile(optimizer = 'adam', loss = 'mean_squared_error')\n",
        "regressorGRU.fit(x_train, y_train, epochs = 50, batch_size = 32)"
      ],
      "metadata": {
        "colab": {
          "base_uri": "https://localhost:8080/"
        },
        "id": "wLj5SWbm0sLF",
        "outputId": "968353c5-a85d-43d4-bbf7-5138f1aa1679"
      },
      "execution_count": 185,
      "outputs": [
        {
          "output_type": "stream",
          "name": "stdout",
          "text": [
            "Epoch 1/50\n",
            "32/32 [==============================] - 8s 44ms/step - loss: 0.0411\n",
            "Epoch 2/50\n",
            "32/32 [==============================] - 1s 45ms/step - loss: 0.0053\n",
            "Epoch 3/50\n",
            "32/32 [==============================] - 1s 45ms/step - loss: 0.0042\n",
            "Epoch 4/50\n",
            "32/32 [==============================] - 1s 45ms/step - loss: 0.0043\n",
            "Epoch 5/50\n",
            "32/32 [==============================] - 1s 46ms/step - loss: 0.0040\n",
            "Epoch 6/50\n",
            "32/32 [==============================] - 1s 45ms/step - loss: 0.0033\n",
            "Epoch 7/50\n",
            "32/32 [==============================] - 2s 48ms/step - loss: 0.0033\n",
            "Epoch 8/50\n",
            "32/32 [==============================] - 2s 72ms/step - loss: 0.0041\n",
            "Epoch 9/50\n",
            "32/32 [==============================] - 1s 43ms/step - loss: 0.0047\n",
            "Epoch 10/50\n",
            "32/32 [==============================] - 1s 45ms/step - loss: 0.0032\n",
            "Epoch 11/50\n",
            "32/32 [==============================] - 1s 44ms/step - loss: 0.0031\n",
            "Epoch 12/50\n",
            "32/32 [==============================] - 1s 44ms/step - loss: 0.0028\n",
            "Epoch 13/50\n",
            "32/32 [==============================] - 1s 45ms/step - loss: 0.0029\n",
            "Epoch 14/50\n",
            "32/32 [==============================] - 1s 44ms/step - loss: 0.0030\n",
            "Epoch 15/50\n",
            "32/32 [==============================] - 1s 47ms/step - loss: 0.0030\n",
            "Epoch 16/50\n",
            "32/32 [==============================] - 2s 73ms/step - loss: 0.0031\n",
            "Epoch 17/50\n",
            "32/32 [==============================] - 1s 44ms/step - loss: 0.0029\n",
            "Epoch 18/50\n",
            "32/32 [==============================] - 1s 44ms/step - loss: 0.0025\n",
            "Epoch 19/50\n",
            "32/32 [==============================] - 1s 44ms/step - loss: 0.0027\n",
            "Epoch 20/50\n",
            "32/32 [==============================] - 1s 44ms/step - loss: 0.0023\n",
            "Epoch 21/50\n",
            "32/32 [==============================] - 1s 44ms/step - loss: 0.0026\n",
            "Epoch 22/50\n",
            "32/32 [==============================] - 2s 51ms/step - loss: 0.0023\n",
            "Epoch 23/50\n",
            "32/32 [==============================] - 2s 51ms/step - loss: 0.0025\n",
            "Epoch 24/50\n",
            "32/32 [==============================] - 2s 69ms/step - loss: 0.0026\n",
            "Epoch 25/50\n",
            "32/32 [==============================] - 1s 45ms/step - loss: 0.0024\n",
            "Epoch 26/50\n",
            "32/32 [==============================] - 1s 44ms/step - loss: 0.0021\n",
            "Epoch 27/50\n",
            "32/32 [==============================] - 1s 44ms/step - loss: 0.0027\n",
            "Epoch 28/50\n",
            "32/32 [==============================] - 1s 44ms/step - loss: 0.0021\n",
            "Epoch 29/50\n",
            "32/32 [==============================] - 1s 44ms/step - loss: 0.0020\n",
            "Epoch 30/50\n",
            "32/32 [==============================] - 1s 45ms/step - loss: 0.0021\n",
            "Epoch 31/50\n",
            "32/32 [==============================] - 2s 49ms/step - loss: 0.0023\n",
            "Epoch 32/50\n",
            "32/32 [==============================] - 2s 70ms/step - loss: 0.0018\n",
            "Epoch 33/50\n",
            "32/32 [==============================] - 1s 45ms/step - loss: 0.0020\n",
            "Epoch 34/50\n",
            "32/32 [==============================] - 1s 44ms/step - loss: 0.0027\n",
            "Epoch 35/50\n",
            "32/32 [==============================] - 1s 44ms/step - loss: 0.0022\n",
            "Epoch 36/50\n",
            "32/32 [==============================] - 1s 44ms/step - loss: 0.0022\n",
            "Epoch 37/50\n",
            "32/32 [==============================] - 1s 44ms/step - loss: 0.0021\n",
            "Epoch 38/50\n",
            "32/32 [==============================] - 1s 44ms/step - loss: 0.0020\n",
            "Epoch 39/50\n",
            "32/32 [==============================] - 2s 48ms/step - loss: 0.0019\n",
            "Epoch 40/50\n",
            "32/32 [==============================] - 2s 71ms/step - loss: 0.0019\n",
            "Epoch 41/50\n",
            "32/32 [==============================] - 1s 45ms/step - loss: 0.0019\n",
            "Epoch 42/50\n",
            "32/32 [==============================] - 2s 47ms/step - loss: 0.0020\n",
            "Epoch 43/50\n",
            "32/32 [==============================] - 1s 45ms/step - loss: 0.0015\n",
            "Epoch 44/50\n",
            "32/32 [==============================] - 1s 46ms/step - loss: 0.0020\n",
            "Epoch 45/50\n",
            "32/32 [==============================] - 1s 44ms/step - loss: 0.0019\n",
            "Epoch 46/50\n",
            "32/32 [==============================] - 1s 44ms/step - loss: 0.0017\n",
            "Epoch 47/50\n",
            "32/32 [==============================] - 2s 51ms/step - loss: 0.0017\n",
            "Epoch 48/50\n",
            "32/32 [==============================] - 2s 69ms/step - loss: 0.0017\n",
            "Epoch 49/50\n",
            "32/32 [==============================] - 1s 44ms/step - loss: 0.0019\n",
            "Epoch 50/50\n",
            "32/32 [==============================] - 1s 45ms/step - loss: 0.0017\n"
          ]
        },
        {
          "output_type": "execute_result",
          "data": {
            "text/plain": [
              "<keras.src.callbacks.History at 0x7e7f40538a90>"
            ]
          },
          "metadata": {},
          "execution_count": 185
        }
      ]
    },
    {
      "cell_type": "code",
      "source": [
        "data_testing.head()"
      ],
      "metadata": {
        "colab": {
          "base_uri": "https://localhost:8080/",
          "height": 206
        },
        "id": "vhTxTiQ00u7V",
        "outputId": "772e70e1-fdc4-4928-da58-889f38957bb0"
      },
      "execution_count": 186,
      "outputs": [
        {
          "output_type": "execute_result",
          "data": {
            "text/plain": [
              "        Date      Open      High       Low     Close  Adj Close   Average\n",
              "38  3/1/2010  1.133333  1.133333  1.093333  1.133333   1.133333  1.125333\n",
              "39  3/2/2010  1.150000  1.150000  1.076667  1.100000   1.100000  1.115333\n",
              "40  3/3/2010  1.116667  1.116667  1.066667  1.090000   1.090000  1.096000\n",
              "41  3/4/2010  1.166667  1.166667  1.066667  1.086667   1.086667  1.114667\n",
              "42  3/5/2010  1.133333  1.133333  1.016667  1.033333   1.033333  1.070000"
            ],
            "text/html": [
              "\n",
              "  <div id=\"df-be7df5e8-74bf-4620-9aeb-8b4cd0d5c710\" class=\"colab-df-container\">\n",
              "    <div>\n",
              "<style scoped>\n",
              "    .dataframe tbody tr th:only-of-type {\n",
              "        vertical-align: middle;\n",
              "    }\n",
              "\n",
              "    .dataframe tbody tr th {\n",
              "        vertical-align: top;\n",
              "    }\n",
              "\n",
              "    .dataframe thead th {\n",
              "        text-align: right;\n",
              "    }\n",
              "</style>\n",
              "<table border=\"1\" class=\"dataframe\">\n",
              "  <thead>\n",
              "    <tr style=\"text-align: right;\">\n",
              "      <th></th>\n",
              "      <th>Date</th>\n",
              "      <th>Open</th>\n",
              "      <th>High</th>\n",
              "      <th>Low</th>\n",
              "      <th>Close</th>\n",
              "      <th>Adj Close</th>\n",
              "      <th>Average</th>\n",
              "    </tr>\n",
              "  </thead>\n",
              "  <tbody>\n",
              "    <tr>\n",
              "      <th>38</th>\n",
              "      <td>3/1/2010</td>\n",
              "      <td>1.133333</td>\n",
              "      <td>1.133333</td>\n",
              "      <td>1.093333</td>\n",
              "      <td>1.133333</td>\n",
              "      <td>1.133333</td>\n",
              "      <td>1.125333</td>\n",
              "    </tr>\n",
              "    <tr>\n",
              "      <th>39</th>\n",
              "      <td>3/2/2010</td>\n",
              "      <td>1.150000</td>\n",
              "      <td>1.150000</td>\n",
              "      <td>1.076667</td>\n",
              "      <td>1.100000</td>\n",
              "      <td>1.100000</td>\n",
              "      <td>1.115333</td>\n",
              "    </tr>\n",
              "    <tr>\n",
              "      <th>40</th>\n",
              "      <td>3/3/2010</td>\n",
              "      <td>1.116667</td>\n",
              "      <td>1.116667</td>\n",
              "      <td>1.066667</td>\n",
              "      <td>1.090000</td>\n",
              "      <td>1.090000</td>\n",
              "      <td>1.096000</td>\n",
              "    </tr>\n",
              "    <tr>\n",
              "      <th>41</th>\n",
              "      <td>3/4/2010</td>\n",
              "      <td>1.166667</td>\n",
              "      <td>1.166667</td>\n",
              "      <td>1.066667</td>\n",
              "      <td>1.086667</td>\n",
              "      <td>1.086667</td>\n",
              "      <td>1.114667</td>\n",
              "    </tr>\n",
              "    <tr>\n",
              "      <th>42</th>\n",
              "      <td>3/5/2010</td>\n",
              "      <td>1.133333</td>\n",
              "      <td>1.133333</td>\n",
              "      <td>1.016667</td>\n",
              "      <td>1.033333</td>\n",
              "      <td>1.033333</td>\n",
              "      <td>1.070000</td>\n",
              "    </tr>\n",
              "  </tbody>\n",
              "</table>\n",
              "</div>\n",
              "    <div class=\"colab-df-buttons\">\n",
              "\n",
              "  <div class=\"colab-df-container\">\n",
              "    <button class=\"colab-df-convert\" onclick=\"convertToInteractive('df-be7df5e8-74bf-4620-9aeb-8b4cd0d5c710')\"\n",
              "            title=\"Convert this dataframe to an interactive table.\"\n",
              "            style=\"display:none;\">\n",
              "\n",
              "  <svg xmlns=\"http://www.w3.org/2000/svg\" height=\"24px\" viewBox=\"0 -960 960 960\">\n",
              "    <path d=\"M120-120v-720h720v720H120Zm60-500h600v-160H180v160Zm220 220h160v-160H400v160Zm0 220h160v-160H400v160ZM180-400h160v-160H180v160Zm440 0h160v-160H620v160ZM180-180h160v-160H180v160Zm440 0h160v-160H620v160Z\"/>\n",
              "  </svg>\n",
              "    </button>\n",
              "\n",
              "  <style>\n",
              "    .colab-df-container {\n",
              "      display:flex;\n",
              "      gap: 12px;\n",
              "    }\n",
              "\n",
              "    .colab-df-convert {\n",
              "      background-color: #E8F0FE;\n",
              "      border: none;\n",
              "      border-radius: 50%;\n",
              "      cursor: pointer;\n",
              "      display: none;\n",
              "      fill: #1967D2;\n",
              "      height: 32px;\n",
              "      padding: 0 0 0 0;\n",
              "      width: 32px;\n",
              "    }\n",
              "\n",
              "    .colab-df-convert:hover {\n",
              "      background-color: #E2EBFA;\n",
              "      box-shadow: 0px 1px 2px rgba(60, 64, 67, 0.3), 0px 1px 3px 1px rgba(60, 64, 67, 0.15);\n",
              "      fill: #174EA6;\n",
              "    }\n",
              "\n",
              "    .colab-df-buttons div {\n",
              "      margin-bottom: 4px;\n",
              "    }\n",
              "\n",
              "    [theme=dark] .colab-df-convert {\n",
              "      background-color: #3B4455;\n",
              "      fill: #D2E3FC;\n",
              "    }\n",
              "\n",
              "    [theme=dark] .colab-df-convert:hover {\n",
              "      background-color: #434B5C;\n",
              "      box-shadow: 0px 1px 3px 1px rgba(0, 0, 0, 0.15);\n",
              "      filter: drop-shadow(0px 1px 2px rgba(0, 0, 0, 0.3));\n",
              "      fill: #FFFFFF;\n",
              "    }\n",
              "  </style>\n",
              "\n",
              "    <script>\n",
              "      const buttonEl =\n",
              "        document.querySelector('#df-be7df5e8-74bf-4620-9aeb-8b4cd0d5c710 button.colab-df-convert');\n",
              "      buttonEl.style.display =\n",
              "        google.colab.kernel.accessAllowed ? 'block' : 'none';\n",
              "\n",
              "      async function convertToInteractive(key) {\n",
              "        const element = document.querySelector('#df-be7df5e8-74bf-4620-9aeb-8b4cd0d5c710');\n",
              "        const dataTable =\n",
              "          await google.colab.kernel.invokeFunction('convertToInteractive',\n",
              "                                                    [key], {});\n",
              "        if (!dataTable) return;\n",
              "\n",
              "        const docLinkHtml = 'Like what you see? Visit the ' +\n",
              "          '<a target=\"_blank\" href=https://colab.research.google.com/notebooks/data_table.ipynb>data table notebook</a>'\n",
              "          + ' to learn more about interactive tables.';\n",
              "        element.innerHTML = '';\n",
              "        dataTable['output_type'] = 'display_data';\n",
              "        await google.colab.output.renderOutput(dataTable, element);\n",
              "        const docLink = document.createElement('div');\n",
              "        docLink.innerHTML = docLinkHtml;\n",
              "        element.appendChild(docLink);\n",
              "      }\n",
              "    </script>\n",
              "  </div>\n",
              "\n",
              "\n",
              "<div id=\"df-0e6acef3-d9b3-4720-958d-bb70821f57c4\">\n",
              "  <button class=\"colab-df-quickchart\" onclick=\"quickchart('df-0e6acef3-d9b3-4720-958d-bb70821f57c4')\"\n",
              "            title=\"Suggest charts\"\n",
              "            style=\"display:none;\">\n",
              "\n",
              "<svg xmlns=\"http://www.w3.org/2000/svg\" height=\"24px\"viewBox=\"0 0 24 24\"\n",
              "     width=\"24px\">\n",
              "    <g>\n",
              "        <path d=\"M19 3H5c-1.1 0-2 .9-2 2v14c0 1.1.9 2 2 2h14c1.1 0 2-.9 2-2V5c0-1.1-.9-2-2-2zM9 17H7v-7h2v7zm4 0h-2V7h2v10zm4 0h-2v-4h2v4z\"/>\n",
              "    </g>\n",
              "</svg>\n",
              "  </button>\n",
              "\n",
              "<style>\n",
              "  .colab-df-quickchart {\n",
              "      --bg-color: #E8F0FE;\n",
              "      --fill-color: #1967D2;\n",
              "      --hover-bg-color: #E2EBFA;\n",
              "      --hover-fill-color: #174EA6;\n",
              "      --disabled-fill-color: #AAA;\n",
              "      --disabled-bg-color: #DDD;\n",
              "  }\n",
              "\n",
              "  [theme=dark] .colab-df-quickchart {\n",
              "      --bg-color: #3B4455;\n",
              "      --fill-color: #D2E3FC;\n",
              "      --hover-bg-color: #434B5C;\n",
              "      --hover-fill-color: #FFFFFF;\n",
              "      --disabled-bg-color: #3B4455;\n",
              "      --disabled-fill-color: #666;\n",
              "  }\n",
              "\n",
              "  .colab-df-quickchart {\n",
              "    background-color: var(--bg-color);\n",
              "    border: none;\n",
              "    border-radius: 50%;\n",
              "    cursor: pointer;\n",
              "    display: none;\n",
              "    fill: var(--fill-color);\n",
              "    height: 32px;\n",
              "    padding: 0;\n",
              "    width: 32px;\n",
              "  }\n",
              "\n",
              "  .colab-df-quickchart:hover {\n",
              "    background-color: var(--hover-bg-color);\n",
              "    box-shadow: 0 1px 2px rgba(60, 64, 67, 0.3), 0 1px 3px 1px rgba(60, 64, 67, 0.15);\n",
              "    fill: var(--button-hover-fill-color);\n",
              "  }\n",
              "\n",
              "  .colab-df-quickchart-complete:disabled,\n",
              "  .colab-df-quickchart-complete:disabled:hover {\n",
              "    background-color: var(--disabled-bg-color);\n",
              "    fill: var(--disabled-fill-color);\n",
              "    box-shadow: none;\n",
              "  }\n",
              "\n",
              "  .colab-df-spinner {\n",
              "    border: 2px solid var(--fill-color);\n",
              "    border-color: transparent;\n",
              "    border-bottom-color: var(--fill-color);\n",
              "    animation:\n",
              "      spin 1s steps(1) infinite;\n",
              "  }\n",
              "\n",
              "  @keyframes spin {\n",
              "    0% {\n",
              "      border-color: transparent;\n",
              "      border-bottom-color: var(--fill-color);\n",
              "      border-left-color: var(--fill-color);\n",
              "    }\n",
              "    20% {\n",
              "      border-color: transparent;\n",
              "      border-left-color: var(--fill-color);\n",
              "      border-top-color: var(--fill-color);\n",
              "    }\n",
              "    30% {\n",
              "      border-color: transparent;\n",
              "      border-left-color: var(--fill-color);\n",
              "      border-top-color: var(--fill-color);\n",
              "      border-right-color: var(--fill-color);\n",
              "    }\n",
              "    40% {\n",
              "      border-color: transparent;\n",
              "      border-right-color: var(--fill-color);\n",
              "      border-top-color: var(--fill-color);\n",
              "    }\n",
              "    60% {\n",
              "      border-color: transparent;\n",
              "      border-right-color: var(--fill-color);\n",
              "    }\n",
              "    80% {\n",
              "      border-color: transparent;\n",
              "      border-right-color: var(--fill-color);\n",
              "      border-bottom-color: var(--fill-color);\n",
              "    }\n",
              "    90% {\n",
              "      border-color: transparent;\n",
              "      border-bottom-color: var(--fill-color);\n",
              "    }\n",
              "  }\n",
              "</style>\n",
              "\n",
              "  <script>\n",
              "    async function quickchart(key) {\n",
              "      const quickchartButtonEl =\n",
              "        document.querySelector('#' + key + ' button');\n",
              "      quickchartButtonEl.disabled = true;  // To prevent multiple clicks.\n",
              "      quickchartButtonEl.classList.add('colab-df-spinner');\n",
              "      try {\n",
              "        const charts = await google.colab.kernel.invokeFunction(\n",
              "            'suggestCharts', [key], {});\n",
              "      } catch (error) {\n",
              "        console.error('Error during call to suggestCharts:', error);\n",
              "      }\n",
              "      quickchartButtonEl.classList.remove('colab-df-spinner');\n",
              "      quickchartButtonEl.classList.add('colab-df-quickchart-complete');\n",
              "    }\n",
              "    (() => {\n",
              "      let quickchartButtonEl =\n",
              "        document.querySelector('#df-0e6acef3-d9b3-4720-958d-bb70821f57c4 button');\n",
              "      quickchartButtonEl.style.display =\n",
              "        google.colab.kernel.accessAllowed ? 'block' : 'none';\n",
              "    })();\n",
              "  </script>\n",
              "</div>\n",
              "\n",
              "    </div>\n",
              "  </div>\n"
            ]
          },
          "metadata": {},
          "execution_count": 186
        }
      ]
    },
    {
      "cell_type": "code",
      "source": [
        "past_20_days = data_testing.tail(20)"
      ],
      "metadata": {
        "id": "oix-XQ7G0w80"
      },
      "execution_count": 187,
      "outputs": []
    },
    {
      "cell_type": "code",
      "source": [
        "df = past_20_days.append(data_testing, ignore_index = True)\n",
        "df = df.drop(['Date'], axis = 1)\n",
        "df.head()"
      ],
      "metadata": {
        "colab": {
          "base_uri": "https://localhost:8080/",
          "height": 241
        },
        "id": "VFu9sJvr0y-d",
        "outputId": "f4e1b9c0-742f-43dd-a3a6-53ae6ce5843d"
      },
      "execution_count": 188,
      "outputs": [
        {
          "output_type": "stream",
          "name": "stderr",
          "text": [
            "<ipython-input-188-08f6f3976b94>:1: FutureWarning: The frame.append method is deprecated and will be removed from pandas in a future version. Use pandas.concat instead.\n",
            "  df = past_20_days.append(data_testing, ignore_index = True)\n"
          ]
        },
        {
          "output_type": "execute_result",
          "data": {
            "text/plain": [
              "       Open      High       Low     Close  Adj Close   Average\n",
              "0  2.963333  3.026667  2.880000  2.963333   2.963333  2.959333\n",
              "1  2.980000  3.023333  2.870000  2.936667   2.936667  2.949333\n",
              "2  2.896667  3.090000  2.836667  3.060000   3.060000  2.988667\n",
              "3  3.096667  3.270000  3.076667  3.223333   3.223333  3.178000\n",
              "4  3.283333  3.403333  3.150000  3.183333   3.183333  3.240666"
            ],
            "text/html": [
              "\n",
              "  <div id=\"df-74e1d1af-757c-4248-b7b7-0d37b31d040c\" class=\"colab-df-container\">\n",
              "    <div>\n",
              "<style scoped>\n",
              "    .dataframe tbody tr th:only-of-type {\n",
              "        vertical-align: middle;\n",
              "    }\n",
              "\n",
              "    .dataframe tbody tr th {\n",
              "        vertical-align: top;\n",
              "    }\n",
              "\n",
              "    .dataframe thead th {\n",
              "        text-align: right;\n",
              "    }\n",
              "</style>\n",
              "<table border=\"1\" class=\"dataframe\">\n",
              "  <thead>\n",
              "    <tr style=\"text-align: right;\">\n",
              "      <th></th>\n",
              "      <th>Open</th>\n",
              "      <th>High</th>\n",
              "      <th>Low</th>\n",
              "      <th>Close</th>\n",
              "      <th>Adj Close</th>\n",
              "      <th>Average</th>\n",
              "    </tr>\n",
              "  </thead>\n",
              "  <tbody>\n",
              "    <tr>\n",
              "      <th>0</th>\n",
              "      <td>2.963333</td>\n",
              "      <td>3.026667</td>\n",
              "      <td>2.880000</td>\n",
              "      <td>2.963333</td>\n",
              "      <td>2.963333</td>\n",
              "      <td>2.959333</td>\n",
              "    </tr>\n",
              "    <tr>\n",
              "      <th>1</th>\n",
              "      <td>2.980000</td>\n",
              "      <td>3.023333</td>\n",
              "      <td>2.870000</td>\n",
              "      <td>2.936667</td>\n",
              "      <td>2.936667</td>\n",
              "      <td>2.949333</td>\n",
              "    </tr>\n",
              "    <tr>\n",
              "      <th>2</th>\n",
              "      <td>2.896667</td>\n",
              "      <td>3.090000</td>\n",
              "      <td>2.836667</td>\n",
              "      <td>3.060000</td>\n",
              "      <td>3.060000</td>\n",
              "      <td>2.988667</td>\n",
              "    </tr>\n",
              "    <tr>\n",
              "      <th>3</th>\n",
              "      <td>3.096667</td>\n",
              "      <td>3.270000</td>\n",
              "      <td>3.076667</td>\n",
              "      <td>3.223333</td>\n",
              "      <td>3.223333</td>\n",
              "      <td>3.178000</td>\n",
              "    </tr>\n",
              "    <tr>\n",
              "      <th>4</th>\n",
              "      <td>3.283333</td>\n",
              "      <td>3.403333</td>\n",
              "      <td>3.150000</td>\n",
              "      <td>3.183333</td>\n",
              "      <td>3.183333</td>\n",
              "      <td>3.240666</td>\n",
              "    </tr>\n",
              "  </tbody>\n",
              "</table>\n",
              "</div>\n",
              "    <div class=\"colab-df-buttons\">\n",
              "\n",
              "  <div class=\"colab-df-container\">\n",
              "    <button class=\"colab-df-convert\" onclick=\"convertToInteractive('df-74e1d1af-757c-4248-b7b7-0d37b31d040c')\"\n",
              "            title=\"Convert this dataframe to an interactive table.\"\n",
              "            style=\"display:none;\">\n",
              "\n",
              "  <svg xmlns=\"http://www.w3.org/2000/svg\" height=\"24px\" viewBox=\"0 -960 960 960\">\n",
              "    <path d=\"M120-120v-720h720v720H120Zm60-500h600v-160H180v160Zm220 220h160v-160H400v160Zm0 220h160v-160H400v160ZM180-400h160v-160H180v160Zm440 0h160v-160H620v160ZM180-180h160v-160H180v160Zm440 0h160v-160H620v160Z\"/>\n",
              "  </svg>\n",
              "    </button>\n",
              "\n",
              "  <style>\n",
              "    .colab-df-container {\n",
              "      display:flex;\n",
              "      gap: 12px;\n",
              "    }\n",
              "\n",
              "    .colab-df-convert {\n",
              "      background-color: #E8F0FE;\n",
              "      border: none;\n",
              "      border-radius: 50%;\n",
              "      cursor: pointer;\n",
              "      display: none;\n",
              "      fill: #1967D2;\n",
              "      height: 32px;\n",
              "      padding: 0 0 0 0;\n",
              "      width: 32px;\n",
              "    }\n",
              "\n",
              "    .colab-df-convert:hover {\n",
              "      background-color: #E2EBFA;\n",
              "      box-shadow: 0px 1px 2px rgba(60, 64, 67, 0.3), 0px 1px 3px 1px rgba(60, 64, 67, 0.15);\n",
              "      fill: #174EA6;\n",
              "    }\n",
              "\n",
              "    .colab-df-buttons div {\n",
              "      margin-bottom: 4px;\n",
              "    }\n",
              "\n",
              "    [theme=dark] .colab-df-convert {\n",
              "      background-color: #3B4455;\n",
              "      fill: #D2E3FC;\n",
              "    }\n",
              "\n",
              "    [theme=dark] .colab-df-convert:hover {\n",
              "      background-color: #434B5C;\n",
              "      box-shadow: 0px 1px 3px 1px rgba(0, 0, 0, 0.15);\n",
              "      filter: drop-shadow(0px 1px 2px rgba(0, 0, 0, 0.3));\n",
              "      fill: #FFFFFF;\n",
              "    }\n",
              "  </style>\n",
              "\n",
              "    <script>\n",
              "      const buttonEl =\n",
              "        document.querySelector('#df-74e1d1af-757c-4248-b7b7-0d37b31d040c button.colab-df-convert');\n",
              "      buttonEl.style.display =\n",
              "        google.colab.kernel.accessAllowed ? 'block' : 'none';\n",
              "\n",
              "      async function convertToInteractive(key) {\n",
              "        const element = document.querySelector('#df-74e1d1af-757c-4248-b7b7-0d37b31d040c');\n",
              "        const dataTable =\n",
              "          await google.colab.kernel.invokeFunction('convertToInteractive',\n",
              "                                                    [key], {});\n",
              "        if (!dataTable) return;\n",
              "\n",
              "        const docLinkHtml = 'Like what you see? Visit the ' +\n",
              "          '<a target=\"_blank\" href=https://colab.research.google.com/notebooks/data_table.ipynb>data table notebook</a>'\n",
              "          + ' to learn more about interactive tables.';\n",
              "        element.innerHTML = '';\n",
              "        dataTable['output_type'] = 'display_data';\n",
              "        await google.colab.output.renderOutput(dataTable, element);\n",
              "        const docLink = document.createElement('div');\n",
              "        docLink.innerHTML = docLinkHtml;\n",
              "        element.appendChild(docLink);\n",
              "      }\n",
              "    </script>\n",
              "  </div>\n",
              "\n",
              "\n",
              "<div id=\"df-d9120866-32e9-4215-a339-85f93f465ad1\">\n",
              "  <button class=\"colab-df-quickchart\" onclick=\"quickchart('df-d9120866-32e9-4215-a339-85f93f465ad1')\"\n",
              "            title=\"Suggest charts\"\n",
              "            style=\"display:none;\">\n",
              "\n",
              "<svg xmlns=\"http://www.w3.org/2000/svg\" height=\"24px\"viewBox=\"0 0 24 24\"\n",
              "     width=\"24px\">\n",
              "    <g>\n",
              "        <path d=\"M19 3H5c-1.1 0-2 .9-2 2v14c0 1.1.9 2 2 2h14c1.1 0 2-.9 2-2V5c0-1.1-.9-2-2-2zM9 17H7v-7h2v7zm4 0h-2V7h2v10zm4 0h-2v-4h2v4z\"/>\n",
              "    </g>\n",
              "</svg>\n",
              "  </button>\n",
              "\n",
              "<style>\n",
              "  .colab-df-quickchart {\n",
              "      --bg-color: #E8F0FE;\n",
              "      --fill-color: #1967D2;\n",
              "      --hover-bg-color: #E2EBFA;\n",
              "      --hover-fill-color: #174EA6;\n",
              "      --disabled-fill-color: #AAA;\n",
              "      --disabled-bg-color: #DDD;\n",
              "  }\n",
              "\n",
              "  [theme=dark] .colab-df-quickchart {\n",
              "      --bg-color: #3B4455;\n",
              "      --fill-color: #D2E3FC;\n",
              "      --hover-bg-color: #434B5C;\n",
              "      --hover-fill-color: #FFFFFF;\n",
              "      --disabled-bg-color: #3B4455;\n",
              "      --disabled-fill-color: #666;\n",
              "  }\n",
              "\n",
              "  .colab-df-quickchart {\n",
              "    background-color: var(--bg-color);\n",
              "    border: none;\n",
              "    border-radius: 50%;\n",
              "    cursor: pointer;\n",
              "    display: none;\n",
              "    fill: var(--fill-color);\n",
              "    height: 32px;\n",
              "    padding: 0;\n",
              "    width: 32px;\n",
              "  }\n",
              "\n",
              "  .colab-df-quickchart:hover {\n",
              "    background-color: var(--hover-bg-color);\n",
              "    box-shadow: 0 1px 2px rgba(60, 64, 67, 0.3), 0 1px 3px 1px rgba(60, 64, 67, 0.15);\n",
              "    fill: var(--button-hover-fill-color);\n",
              "  }\n",
              "\n",
              "  .colab-df-quickchart-complete:disabled,\n",
              "  .colab-df-quickchart-complete:disabled:hover {\n",
              "    background-color: var(--disabled-bg-color);\n",
              "    fill: var(--disabled-fill-color);\n",
              "    box-shadow: none;\n",
              "  }\n",
              "\n",
              "  .colab-df-spinner {\n",
              "    border: 2px solid var(--fill-color);\n",
              "    border-color: transparent;\n",
              "    border-bottom-color: var(--fill-color);\n",
              "    animation:\n",
              "      spin 1s steps(1) infinite;\n",
              "  }\n",
              "\n",
              "  @keyframes spin {\n",
              "    0% {\n",
              "      border-color: transparent;\n",
              "      border-bottom-color: var(--fill-color);\n",
              "      border-left-color: var(--fill-color);\n",
              "    }\n",
              "    20% {\n",
              "      border-color: transparent;\n",
              "      border-left-color: var(--fill-color);\n",
              "      border-top-color: var(--fill-color);\n",
              "    }\n",
              "    30% {\n",
              "      border-color: transparent;\n",
              "      border-left-color: var(--fill-color);\n",
              "      border-top-color: var(--fill-color);\n",
              "      border-right-color: var(--fill-color);\n",
              "    }\n",
              "    40% {\n",
              "      border-color: transparent;\n",
              "      border-right-color: var(--fill-color);\n",
              "      border-top-color: var(--fill-color);\n",
              "    }\n",
              "    60% {\n",
              "      border-color: transparent;\n",
              "      border-right-color: var(--fill-color);\n",
              "    }\n",
              "    80% {\n",
              "      border-color: transparent;\n",
              "      border-right-color: var(--fill-color);\n",
              "      border-bottom-color: var(--fill-color);\n",
              "    }\n",
              "    90% {\n",
              "      border-color: transparent;\n",
              "      border-bottom-color: var(--fill-color);\n",
              "    }\n",
              "  }\n",
              "</style>\n",
              "\n",
              "  <script>\n",
              "    async function quickchart(key) {\n",
              "      const quickchartButtonEl =\n",
              "        document.querySelector('#' + key + ' button');\n",
              "      quickchartButtonEl.disabled = true;  // To prevent multiple clicks.\n",
              "      quickchartButtonEl.classList.add('colab-df-spinner');\n",
              "      try {\n",
              "        const charts = await google.colab.kernel.invokeFunction(\n",
              "            'suggestCharts', [key], {});\n",
              "      } catch (error) {\n",
              "        console.error('Error during call to suggestCharts:', error);\n",
              "      }\n",
              "      quickchartButtonEl.classList.remove('colab-df-spinner');\n",
              "      quickchartButtonEl.classList.add('colab-df-quickchart-complete');\n",
              "    }\n",
              "    (() => {\n",
              "      let quickchartButtonEl =\n",
              "        document.querySelector('#df-d9120866-32e9-4215-a339-85f93f465ad1 button');\n",
              "      quickchartButtonEl.style.display =\n",
              "        google.colab.kernel.accessAllowed ? 'block' : 'none';\n",
              "    })();\n",
              "  </script>\n",
              "</div>\n",
              "\n",
              "    </div>\n",
              "  </div>\n"
            ]
          },
          "metadata": {},
          "execution_count": 188
        }
      ]
    },
    {
      "cell_type": "code",
      "source": [
        "inputs = scaler.transform(df)\n",
        "inputs"
      ],
      "metadata": {
        "colab": {
          "base_uri": "https://localhost:8080/"
        },
        "id": "XKzOg7xH01pX",
        "outputId": "00a37778-cf2c-4ab0-9756-c6764e458b39"
      },
      "execution_count": 189,
      "outputs": [
        {
          "output_type": "execute_result",
          "data": {
            "text/plain": [
              "array([[1.40288886, 1.28489205, 1.37540437, 1.38950677, 1.38950677,\n",
              "        1.37017258],\n",
              "       [1.4109147 , 1.28345291, 1.37055   , 1.37678849, 1.37678849,\n",
              "        1.3654631 ],\n",
              "       [1.37078646, 1.31223003, 1.35436893, 1.43561185, 1.43561185,\n",
              "        1.38398746],\n",
              "       ...,\n",
              "       [1.6532901 , 1.61438826, 1.64401262, 1.78219383, 1.78219383,\n",
              "        1.6982731 ],\n",
              "       [1.80738318, 1.70215788, 1.71035583, 1.73131928, 1.73131928,\n",
              "        1.74034525],\n",
              "       [1.7479933 , 1.65323717, 1.6779932 , 1.81399001, 1.81399001,\n",
              "        1.74442685]])"
            ]
          },
          "metadata": {},
          "execution_count": 189
        }
      ]
    },
    {
      "cell_type": "code",
      "source": [
        "x_test = []\n",
        "y_test = []\n",
        "\n",
        "for i in range(20, inputs.shape[0]):\n",
        "    x_test.append(inputs[i-20:i])\n",
        "    y_test.append(inputs[i,0])\n",
        "\n",
        "x_test = np.array(x_test)\n",
        "y_test = np.array(y_test)\n",
        "x_test.shape, y_test.shape"
      ],
      "metadata": {
        "colab": {
          "base_uri": "https://localhost:8080/"
        },
        "id": "BW9x3C9l04KV",
        "outputId": "4511dc9d-c466-43cc-9fa4-34f090c673bc"
      },
      "execution_count": 190,
      "outputs": [
        {
          "output_type": "execute_result",
          "data": {
            "text/plain": [
              "((1572, 20, 6), (1572,))"
            ]
          },
          "metadata": {},
          "execution_count": 190
        }
      ]
    },
    {
      "cell_type": "code",
      "source": [
        "x_test.shape"
      ],
      "metadata": {
        "colab": {
          "base_uri": "https://localhost:8080/"
        },
        "id": "Zd_P2VYY067s",
        "outputId": "68b03260-5aaa-4aeb-cbc1-2b7b0d507990"
      },
      "execution_count": 191,
      "outputs": [
        {
          "output_type": "execute_result",
          "data": {
            "text/plain": [
              "(1572, 20, 6)"
            ]
          },
          "metadata": {},
          "execution_count": 191
        }
      ]
    },
    {
      "cell_type": "code",
      "source": [
        "y_pred = regressorGRU.predict(x_test)"
      ],
      "metadata": {
        "id": "25arIPFe0861",
        "colab": {
          "base_uri": "https://localhost:8080/"
        },
        "outputId": "c976be39-aaf7-415e-c354-4e9d062a509f"
      },
      "execution_count": 192,
      "outputs": [
        {
          "output_type": "stream",
          "name": "stdout",
          "text": [
            "50/50 [==============================] - 2s 20ms/step\n"
          ]
        }
      ]
    },
    {
      "cell_type": "code",
      "source": [
        "scaler.scale_"
      ],
      "metadata": {
        "colab": {
          "base_uri": "https://localhost:8080/"
        },
        "id": "4Ae570VM0-7E",
        "outputId": "b9432dc6-84c5-4b25-faf7-0c7bf252e46c"
      },
      "execution_count": 193,
      "outputs": [
        {
          "output_type": "execute_result",
          "data": {
            "text/plain": [
              "array([0.48154085, 0.43165461, 0.48543689, 0.47694746, 0.47694746,\n",
              "       0.4709576 ])"
            ]
          },
          "metadata": {},
          "execution_count": 193
        }
      ]
    },
    {
      "cell_type": "code",
      "source": [
        "scale = 1 / 0.48154085\n",
        "scale"
      ],
      "metadata": {
        "colab": {
          "base_uri": "https://localhost:8080/"
        },
        "id": "_XnJ6dmz09A2",
        "outputId": "c26fc1dd-a259-4936-aedc-81f56219a647"
      },
      "execution_count": 194,
      "outputs": [
        {
          "output_type": "execute_result",
          "data": {
            "text/plain": [
              "2.0766670158928364"
            ]
          },
          "metadata": {},
          "execution_count": 194
        }
      ]
    },
    {
      "cell_type": "code",
      "source": [
        "y_pred = y_pred * scale\n",
        "y_test = y_test * scale"
      ],
      "metadata": {
        "id": "ygpN1m261DI1"
      },
      "execution_count": 195,
      "outputs": []
    },
    {
      "cell_type": "code",
      "source": [
        "y_pred.shape"
      ],
      "metadata": {
        "colab": {
          "base_uri": "https://localhost:8080/"
        },
        "id": "_rESwhpB1FjN",
        "outputId": "9af2a300-2a3b-414c-d16c-b1fc45343e7f"
      },
      "execution_count": 196,
      "outputs": [
        {
          "output_type": "execute_result",
          "data": {
            "text/plain": [
              "(1572, 1)"
            ]
          },
          "metadata": {},
          "execution_count": 196
        }
      ]
    },
    {
      "cell_type": "code",
      "source": [
        "y_test.shape"
      ],
      "metadata": {
        "colab": {
          "base_uri": "https://localhost:8080/"
        },
        "id": "N1OtHpYw1Jpm",
        "outputId": "c4bd3db4-3efe-4c52-d75a-8ef3dc2db990"
      },
      "execution_count": 197,
      "outputs": [
        {
          "output_type": "execute_result",
          "data": {
            "text/plain": [
              "(1572,)"
            ]
          },
          "metadata": {},
          "execution_count": 197
        }
      ]
    },
    {
      "cell_type": "code",
      "source": [
        "y_pred[1503:]"
      ],
      "metadata": {
        "colab": {
          "base_uri": "https://localhost:8080/"
        },
        "id": "dXtrd6bv1MEY",
        "outputId": "f5fa1f79-6ad2-437d-ebb8-e2e466757cc6"
      },
      "execution_count": 198,
      "outputs": [
        {
          "output_type": "execute_result",
          "data": {
            "text/plain": [
              "array([[1.0916494],\n",
              "       [1.0870749],\n",
              "       [1.0904456],\n",
              "       [1.073073 ],\n",
              "       [1.0694829],\n",
              "       [1.0747811],\n",
              "       [1.0819662],\n",
              "       [1.0922061],\n",
              "       [1.0765091],\n",
              "       [1.0558748],\n",
              "       [1.0430424],\n",
              "       [1.0500835],\n",
              "       [1.0624751],\n",
              "       [1.0754044],\n",
              "       [1.1141788],\n",
              "       [1.1516217],\n",
              "       [1.1817114],\n",
              "       [1.1667722],\n",
              "       [1.1417316],\n",
              "       [1.1418973],\n",
              "       [1.148422 ],\n",
              "       [1.1418344],\n",
              "       [1.159958 ],\n",
              "       [1.1791608],\n",
              "       [1.183262 ],\n",
              "       [1.2060612],\n",
              "       [1.2338579],\n",
              "       [1.261671 ],\n",
              "       [1.2824396],\n",
              "       [1.2798828],\n",
              "       [1.2620143],\n",
              "       [1.2622228],\n",
              "       [1.2476393],\n",
              "       [1.2272041],\n",
              "       [1.2576758],\n",
              "       [1.3275142],\n",
              "       [1.5117959],\n",
              "       [1.5224543],\n",
              "       [1.545078 ],\n",
              "       [1.5936607],\n",
              "       [1.663264 ],\n",
              "       [1.8053665],\n",
              "       [1.9028643],\n",
              "       [1.9869661],\n",
              "       [2.0751386],\n",
              "       [2.2064073],\n",
              "       [2.1789544],\n",
              "       [2.148631 ],\n",
              "       [2.1867373],\n",
              "       [2.2074962],\n",
              "       [2.1837184],\n",
              "       [2.1797566],\n",
              "       [2.2029142],\n",
              "       [2.2986557],\n",
              "       [2.332707 ],\n",
              "       [2.303758 ],\n",
              "       [2.308442 ],\n",
              "       [2.223074 ],\n",
              "       [2.2369108],\n",
              "       [2.2827034],\n",
              "       [2.2829394],\n",
              "       [2.2999425],\n",
              "       [2.3821776],\n",
              "       [2.4306626],\n",
              "       [2.4228437],\n",
              "       [2.548372 ],\n",
              "       [2.5302958],\n",
              "       [2.588704 ],\n",
              "       [2.6275995]], dtype=float32)"
            ]
          },
          "metadata": {},
          "execution_count": 198
        }
      ]
    },
    {
      "cell_type": "code",
      "source": [
        "y_test[1503:]"
      ],
      "metadata": {
        "colab": {
          "base_uri": "https://localhost:8080/"
        },
        "id": "1oaIx9rC1Ovu",
        "outputId": "4da00377-afd4-4d58-ff69-0749d0216ffa"
      },
      "execution_count": 199,
      "outputs": [
        {
          "output_type": "execute_result",
          "data": {
            "text/plain": [
              "array([1.22666701, 1.44666701, 1.27666701, 1.24333301, 1.28333301,\n",
              "       1.35000001, 1.32333301, 1.34333301, 1.24000001, 1.24000001,\n",
              "       1.28666701, 1.30333301, 1.32333301, 1.35666701, 1.49333301,\n",
              "       1.50000001, 1.47000001, 1.38333301, 1.39666701, 1.41333301,\n",
              "       1.39666701, 1.44333301, 1.46666701, 1.47666701, 1.47333301,\n",
              "       1.61000001, 1.61000001, 1.70333301, 1.61333301, 1.55666701,\n",
              "       1.54666701, 1.57666701, 1.48333301, 1.48666701, 1.69666701,\n",
              "       2.02000002, 2.06666702, 1.96666702, 2.07333302, 2.16666702,\n",
              "       2.27666702, 2.59000002, 2.65666702, 2.80666702, 3.05000002,\n",
              "       3.05333302, 2.92666702, 2.79666702, 3.07333302, 2.91333302,\n",
              "       2.93000002, 2.84666702, 3.04666702, 3.23333302, 3.05666702,\n",
              "       3.10333302, 2.99333302, 2.90000002, 2.90000002, 3.13666702,\n",
              "       3.04000002, 3.10000002, 3.38000003, 3.33333303, 3.37666703,\n",
              "       3.55333303, 3.43333303, 3.75333303, 3.63000003])"
            ]
          },
          "metadata": {},
          "execution_count": 199
        }
      ]
    },
    {
      "cell_type": "code",
      "source": [
        "plt.figure(figsize = (14,5))\n",
        "plt.plot(y_test[1503:], color = 'red', label = 'Real CELH Price')\n",
        "plt.plot(y_pred[1503:], color = 'green', label = 'Predicted CELH price')\n",
        "plt.title('CELH Price Prediction')\n",
        "plt.xlabel('Time')\n",
        "plt.ylabel('CELH Price')\n",
        "plt.legend()\n",
        "plt.show()"
      ],
      "metadata": {
        "colab": {
          "base_uri": "https://localhost:8080/",
          "height": 487
        },
        "id": "dF1LW4S51Q3F",
        "outputId": "f2d2ee18-353c-4e18-ecb9-c47c5cc1442e"
      },
      "execution_count": 200,
      "outputs": [
        {
          "output_type": "display_data",
          "data": {
            "text/plain": [
              "<Figure size 1400x500 with 1 Axes>"
            ],
            "image/png": "[encoded data removed]"
          },
          "metadata": {}
        }
      ]
    }
  ]
}