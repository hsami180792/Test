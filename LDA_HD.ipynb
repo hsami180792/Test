{
  "nbformat": 4,
  "nbformat_minor": 0,
  "metadata": {
    "colab": {
      "provenance": []
    },
    "kernelspec": {
      "name": "python3",
      "display_name": "Python 3"
    },
    "language_info": {
      "name": "python"
    }
  },
  "cells": [
    {
      "cell_type": "code",
      "execution_count": 113,
      "metadata": {
        "id": "2wQ0HyqL0gdS"
      },
      "outputs": [],
      "source": [
        "#Linear Discriminant Analysis for dimensionality reduction\n",
        "#Dataset preparation\n",
        "import numpy as np\n",
        "import matplotlib.pyplot as plt\n",
        "import pandas as pd\n",
        "from sklearn.preprocessing import MinMaxScaler"
      ]
    },
    {
      "cell_type": "code",
      "source": [
        "import io"
      ],
      "metadata": {
        "id": "fYdbUkBy12On"
      },
      "execution_count": 114,
      "outputs": []
    },
    {
      "cell_type": "code",
      "source": [
        "from google.colab import files\n",
        "uploaded = files.upload()"
      ],
      "metadata": {
        "colab": {
          "base_uri": "https://localhost:8080/",
          "height": 73
        },
        "id": "u5AUST1819ZV",
        "outputId": "65356860-201f-48f6-8135-26ba50f6d522"
      },
      "execution_count": 117,
      "outputs": [
        {
          "output_type": "display_data",
          "data": {
            "text/plain": [
              "<IPython.core.display.HTML object>"
            ],
            "text/html": [
              "\n",
              "     <input type=\"file\" id=\"files-848a3c1a-60e7-497c-9e70-818a0e6a7d0b\" name=\"files[]\" multiple disabled\n",
              "        style=\"border:none\" />\n",
              "     <output id=\"result-848a3c1a-60e7-497c-9e70-818a0e6a7d0b\">\n",
              "      Upload widget is only available when the cell has been executed in the\n",
              "      current browser session. Please rerun this cell to enable.\n",
              "      </output>\n",
              "      <script>// Copyright 2017 Google LLC\n",
              "//\n",
              "// Licensed under the Apache License, Version 2.0 (the \"License\");\n",
              "// you may not use this file except in compliance with the License.\n",
              "// You may obtain a copy of the License at\n",
              "//\n",
              "//      http://www.apache.org/licenses/LICENSE-2.0\n",
              "//\n",
              "// Unless required by applicable law or agreed to in writing, software\n",
              "// distributed under the License is distributed on an \"AS IS\" BASIS,\n",
              "// WITHOUT WARRANTIES OR CONDITIONS OF ANY KIND, either express or implied.\n",
              "// See the License for the specific language governing permissions and\n",
              "// limitations under the License.\n",
              "\n",
              "/**\n",
              " * @fileoverview Helpers for google.colab Python module.\n",
              " */\n",
              "(function(scope) {\n",
              "function span(text, styleAttributes = {}) {\n",
              "  const element = document.createElement('span');\n",
              "  element.textContent = text;\n",
              "  for (const key of Object.keys(styleAttributes)) {\n",
              "    element.style[key] = styleAttributes[key];\n",
              "  }\n",
              "  return element;\n",
              "}\n",
              "\n",
              "// Max number of bytes which will be uploaded at a time.\n",
              "const MAX_PAYLOAD_SIZE = 100 * 1024;\n",
              "\n",
              "function _uploadFiles(inputId, outputId) {\n",
              "  const steps = uploadFilesStep(inputId, outputId);\n",
              "  const outputElement = document.getElementById(outputId);\n",
              "  // Cache steps on the outputElement to make it available for the next call\n",
              "  // to uploadFilesContinue from Python.\n",
              "  outputElement.steps = steps;\n",
              "\n",
              "  return _uploadFilesContinue(outputId);\n",
              "}\n",
              "\n",
              "// This is roughly an async generator (not supported in the browser yet),\n",
              "// where there are multiple asynchronous steps and the Python side is going\n",
              "// to poll for completion of each step.\n",
              "// This uses a Promise to block the python side on completion of each step,\n",
              "// then passes the result of the previous step as the input to the next step.\n",
              "function _uploadFilesContinue(outputId) {\n",
              "  const outputElement = document.getElementById(outputId);\n",
              "  const steps = outputElement.steps;\n",
              "\n",
              "  const next = steps.next(outputElement.lastPromiseValue);\n",
              "  return Promise.resolve(next.value.promise).then((value) => {\n",
              "    // Cache the last promise value to make it available to the next\n",
              "    // step of the generator.\n",
              "    outputElement.lastPromiseValue = value;\n",
              "    return next.value.response;\n",
              "  });\n",
              "}\n",
              "\n",
              "/**\n",
              " * Generator function which is called between each async step of the upload\n",
              " * process.\n",
              " * @param {string} inputId Element ID of the input file picker element.\n",
              " * @param {string} outputId Element ID of the output display.\n",
              " * @return {!Iterable<!Object>} Iterable of next steps.\n",
              " */\n",
              "function* uploadFilesStep(inputId, outputId) {\n",
              "  const inputElement = document.getElementById(inputId);\n",
              "  inputElement.disabled = false;\n",
              "\n",
              "  const outputElement = document.getElementById(outputId);\n",
              "  outputElement.innerHTML = '';\n",
              "\n",
              "  const pickedPromise = new Promise((resolve) => {\n",
              "    inputElement.addEventListener('change', (e) => {\n",
              "      resolve(e.target.files);\n",
              "    });\n",
              "  });\n",
              "\n",
              "  const cancel = document.createElement('button');\n",
              "  inputElement.parentElement.appendChild(cancel);\n",
              "  cancel.textContent = 'Cancel upload';\n",
              "  const cancelPromise = new Promise((resolve) => {\n",
              "    cancel.onclick = () => {\n",
              "      resolve(null);\n",
              "    };\n",
              "  });\n",
              "\n",
              "  // Wait for the user to pick the files.\n",
              "  const files = yield {\n",
              "    promise: Promise.race([pickedPromise, cancelPromise]),\n",
              "    response: {\n",
              "      action: 'starting',\n",
              "    }\n",
              "  };\n",
              "\n",
              "  cancel.remove();\n",
              "\n",
              "  // Disable the input element since further picks are not allowed.\n",
              "  inputElement.disabled = true;\n",
              "\n",
              "  if (!files) {\n",
              "    return {\n",
              "      response: {\n",
              "        action: 'complete',\n",
              "      }\n",
              "    };\n",
              "  }\n",
              "\n",
              "  for (const file of files) {\n",
              "    const li = document.createElement('li');\n",
              "    li.append(span(file.name, {fontWeight: 'bold'}));\n",
              "    li.append(span(\n",
              "        `(${file.type || 'n/a'}) - ${file.size} bytes, ` +\n",
              "        `last modified: ${\n",
              "            file.lastModifiedDate ? file.lastModifiedDate.toLocaleDateString() :\n",
              "                                    'n/a'} - `));\n",
              "    const percent = span('0% done');\n",
              "    li.appendChild(percent);\n",
              "\n",
              "    outputElement.appendChild(li);\n",
              "\n",
              "    const fileDataPromise = new Promise((resolve) => {\n",
              "      const reader = new FileReader();\n",
              "      reader.onload = (e) => {\n",
              "        resolve(e.target.result);\n",
              "      };\n",
              "      reader.readAsArrayBuffer(file);\n",
              "    });\n",
              "    // Wait for the data to be ready.\n",
              "    let fileData = yield {\n",
              "      promise: fileDataPromise,\n",
              "      response: {\n",
              "        action: 'continue',\n",
              "      }\n",
              "    };\n",
              "\n",
              "    // Use a chunked sending to avoid message size limits. See b/62115660.\n",
              "    let position = 0;\n",
              "    do {\n",
              "      const length = Math.min(fileData.byteLength - position, MAX_PAYLOAD_SIZE);\n",
              "      const chunk = new Uint8Array(fileData, position, length);\n",
              "      position += length;\n",
              "\n",
              "      const base64 = btoa(String.fromCharCode.apply(null, chunk));\n",
              "      yield {\n",
              "        response: {\n",
              "          action: 'append',\n",
              "          file: file.name,\n",
              "          data: base64,\n",
              "        },\n",
              "      };\n",
              "\n",
              "      let percentDone = fileData.byteLength === 0 ?\n",
              "          100 :\n",
              "          Math.round((position / fileData.byteLength) * 100);\n",
              "      percent.textContent = `${percentDone}% done`;\n",
              "\n",
              "    } while (position < fileData.byteLength);\n",
              "  }\n",
              "\n",
              "  // All done.\n",
              "  yield {\n",
              "    response: {\n",
              "      action: 'complete',\n",
              "    }\n",
              "  };\n",
              "}\n",
              "\n",
              "scope.google = scope.google || {};\n",
              "scope.google.colab = scope.google.colab || {};\n",
              "scope.google.colab._files = {\n",
              "  _uploadFiles,\n",
              "  _uploadFilesContinue,\n",
              "};\n",
              "})(self);\n",
              "</script> "
            ]
          },
          "metadata": {}
        },
        {
          "output_type": "stream",
          "name": "stdout",
          "text": [
            "Saving HD.csv to HD (2).csv\n"
          ]
        }
      ]
    },
    {
      "cell_type": "code",
      "source": [
        "df = pd.read_csv(io.BytesIO(uploaded['HD (2).csv']))\n",
        "print(df)"
      ],
      "metadata": {
        "colab": {
          "base_uri": "https://localhost:8080/"
        },
        "id": "RtMgc1yy2FYj",
        "outputId": "8fdb1958-6a26-4c6d-cbc1-73b4b76e8de2"
      },
      "execution_count": 118,
      "outputs": [
        {
          "output_type": "stream",
          "name": "stdout",
          "text": [
            "           Date        Open        High         Low       Close   Adj Close\n",
            "0      1/4/2010   29.150000   29.150000   28.549999   28.670000   20.551073\n",
            "1      1/5/2010   28.730000   28.990000   28.290001   28.879999   20.701614\n",
            "2      1/6/2010   28.879999   29.000000   28.700001   28.780001   20.629927\n",
            "3      1/7/2010   28.860001   29.219999   28.730000   29.120001   20.873646\n",
            "4      1/8/2010   29.000000   29.240000   28.690001   28.980000   20.773291\n",
            "...         ...         ...         ...         ...         ...         ...\n",
            "2635  6/23/2020  253.000000  253.440002  250.130005  250.309998  230.219467\n",
            "2636  6/24/2020  247.809998  250.289993  242.729996  246.130005  226.374954\n",
            "2637  6/25/2020  244.800003  246.350006  242.199997  245.380005  225.685181\n",
            "2638  6/26/2020  245.350006  246.100006  240.250000  241.009995  221.665909\n",
            "2639  6/29/2020  242.660004  246.500000  240.339996  246.119995  226.365753\n",
            "\n",
            "[2640 rows x 6 columns]\n"
          ]
        }
      ]
    },
    {
      "cell_type": "markdown",
      "source": [
        "# New Section"
      ],
      "metadata": {
        "id": "z5YDXVWKKWqx"
      }
    },
    {
      "cell_type": "code",
      "source": [
        "df = df.drop(['Date'], axis = 1)\n",
        "df.head()"
      ],
      "metadata": {
        "colab": {
          "base_uri": "https://localhost:8080/",
          "height": 206
        },
        "id": "ayJAAVEH7kBU",
        "outputId": "480c5683-a2b8-44c0-deb5-f15c21c8d09e"
      },
      "execution_count": 119,
      "outputs": [
        {
          "output_type": "execute_result",
          "data": {
            "text/plain": [
              "        Open       High        Low      Close  Adj Close\n",
              "0  29.150000  29.150000  28.549999  28.670000  20.551073\n",
              "1  28.730000  28.990000  28.290001  28.879999  20.701614\n",
              "2  28.879999  29.000000  28.700001  28.780001  20.629927\n",
              "3  28.860001  29.219999  28.730000  29.120001  20.873646\n",
              "4  29.000000  29.240000  28.690001  28.980000  20.773291"
            ],
            "text/html": [
              "\n",
              "  <div id=\"df-154e386a-b565-41a5-a99a-ba0b489295c6\" class=\"colab-df-container\">\n",
              "    <div>\n",
              "<style scoped>\n",
              "    .dataframe tbody tr th:only-of-type {\n",
              "        vertical-align: middle;\n",
              "    }\n",
              "\n",
              "    .dataframe tbody tr th {\n",
              "        vertical-align: top;\n",
              "    }\n",
              "\n",
              "    .dataframe thead th {\n",
              "        text-align: right;\n",
              "    }\n",
              "</style>\n",
              "<table border=\"1\" class=\"dataframe\">\n",
              "  <thead>\n",
              "    <tr style=\"text-align: right;\">\n",
              "      <th></th>\n",
              "      <th>Open</th>\n",
              "      <th>High</th>\n",
              "      <th>Low</th>\n",
              "      <th>Close</th>\n",
              "      <th>Adj Close</th>\n",
              "    </tr>\n",
              "  </thead>\n",
              "  <tbody>\n",
              "    <tr>\n",
              "      <th>0</th>\n",
              "      <td>29.150000</td>\n",
              "      <td>29.150000</td>\n",
              "      <td>28.549999</td>\n",
              "      <td>28.670000</td>\n",
              "      <td>20.551073</td>\n",
              "    </tr>\n",
              "    <tr>\n",
              "      <th>1</th>\n",
              "      <td>28.730000</td>\n",
              "      <td>28.990000</td>\n",
              "      <td>28.290001</td>\n",
              "      <td>28.879999</td>\n",
              "      <td>20.701614</td>\n",
              "    </tr>\n",
              "    <tr>\n",
              "      <th>2</th>\n",
              "      <td>28.879999</td>\n",
              "      <td>29.000000</td>\n",
              "      <td>28.700001</td>\n",
              "      <td>28.780001</td>\n",
              "      <td>20.629927</td>\n",
              "    </tr>\n",
              "    <tr>\n",
              "      <th>3</th>\n",
              "      <td>28.860001</td>\n",
              "      <td>29.219999</td>\n",
              "      <td>28.730000</td>\n",
              "      <td>29.120001</td>\n",
              "      <td>20.873646</td>\n",
              "    </tr>\n",
              "    <tr>\n",
              "      <th>4</th>\n",
              "      <td>29.000000</td>\n",
              "      <td>29.240000</td>\n",
              "      <td>28.690001</td>\n",
              "      <td>28.980000</td>\n",
              "      <td>20.773291</td>\n",
              "    </tr>\n",
              "  </tbody>\n",
              "</table>\n",
              "</div>\n",
              "    <div class=\"colab-df-buttons\">\n",
              "\n",
              "  <div class=\"colab-df-container\">\n",
              "    <button class=\"colab-df-convert\" onclick=\"convertToInteractive('df-154e386a-b565-41a5-a99a-ba0b489295c6')\"\n",
              "            title=\"Convert this dataframe to an interactive table.\"\n",
              "            style=\"display:none;\">\n",
              "\n",
              "  <svg xmlns=\"http://www.w3.org/2000/svg\" height=\"24px\" viewBox=\"0 -960 960 960\">\n",
              "    <path d=\"M120-120v-720h720v720H120Zm60-500h600v-160H180v160Zm220 220h160v-160H400v160Zm0 220h160v-160H400v160ZM180-400h160v-160H180v160Zm440 0h160v-160H620v160ZM180-180h160v-160H180v160Zm440 0h160v-160H620v160Z\"/>\n",
              "  </svg>\n",
              "    </button>\n",
              "\n",
              "  <style>\n",
              "    .colab-df-container {\n",
              "      display:flex;\n",
              "      gap: 12px;\n",
              "    }\n",
              "\n",
              "    .colab-df-convert {\n",
              "      background-color: #E8F0FE;\n",
              "      border: none;\n",
              "      border-radius: 50%;\n",
              "      cursor: pointer;\n",
              "      display: none;\n",
              "      fill: #1967D2;\n",
              "      height: 32px;\n",
              "      padding: 0 0 0 0;\n",
              "      width: 32px;\n",
              "    }\n",
              "\n",
              "    .colab-df-convert:hover {\n",
              "      background-color: #E2EBFA;\n",
              "      box-shadow: 0px 1px 2px rgba(60, 64, 67, 0.3), 0px 1px 3px 1px rgba(60, 64, 67, 0.15);\n",
              "      fill: #174EA6;\n",
              "    }\n",
              "\n",
              "    .colab-df-buttons div {\n",
              "      margin-bottom: 4px;\n",
              "    }\n",
              "\n",
              "    [theme=dark] .colab-df-convert {\n",
              "      background-color: #3B4455;\n",
              "      fill: #D2E3FC;\n",
              "    }\n",
              "\n",
              "    [theme=dark] .colab-df-convert:hover {\n",
              "      background-color: #434B5C;\n",
              "      box-shadow: 0px 1px 3px 1px rgba(0, 0, 0, 0.15);\n",
              "      filter: drop-shadow(0px 1px 2px rgba(0, 0, 0, 0.3));\n",
              "      fill: #FFFFFF;\n",
              "    }\n",
              "  </style>\n",
              "\n",
              "    <script>\n",
              "      const buttonEl =\n",
              "        document.querySelector('#df-154e386a-b565-41a5-a99a-ba0b489295c6 button.colab-df-convert');\n",
              "      buttonEl.style.display =\n",
              "        google.colab.kernel.accessAllowed ? 'block' : 'none';\n",
              "\n",
              "      async function convertToInteractive(key) {\n",
              "        const element = document.querySelector('#df-154e386a-b565-41a5-a99a-ba0b489295c6');\n",
              "        const dataTable =\n",
              "          await google.colab.kernel.invokeFunction('convertToInteractive',\n",
              "                                                    [key], {});\n",
              "        if (!dataTable) return;\n",
              "\n",
              "        const docLinkHtml = 'Like what you see? Visit the ' +\n",
              "          '<a target=\"_blank\" href=https://colab.research.google.com/notebooks/data_table.ipynb>data table notebook</a>'\n",
              "          + ' to learn more about interactive tables.';\n",
              "        element.innerHTML = '';\n",
              "        dataTable['output_type'] = 'display_data';\n",
              "        await google.colab.output.renderOutput(dataTable, element);\n",
              "        const docLink = document.createElement('div');\n",
              "        docLink.innerHTML = docLinkHtml;\n",
              "        element.appendChild(docLink);\n",
              "      }\n",
              "    </script>\n",
              "  </div>\n",
              "\n",
              "\n",
              "<div id=\"df-0e4d25b6-86ca-4752-9b5a-d943a391599d\">\n",
              "  <button class=\"colab-df-quickchart\" onclick=\"quickchart('df-0e4d25b6-86ca-4752-9b5a-d943a391599d')\"\n",
              "            title=\"Suggest charts\"\n",
              "            style=\"display:none;\">\n",
              "\n",
              "<svg xmlns=\"http://www.w3.org/2000/svg\" height=\"24px\"viewBox=\"0 0 24 24\"\n",
              "     width=\"24px\">\n",
              "    <g>\n",
              "        <path d=\"M19 3H5c-1.1 0-2 .9-2 2v14c0 1.1.9 2 2 2h14c1.1 0 2-.9 2-2V5c0-1.1-.9-2-2-2zM9 17H7v-7h2v7zm4 0h-2V7h2v10zm4 0h-2v-4h2v4z\"/>\n",
              "    </g>\n",
              "</svg>\n",
              "  </button>\n",
              "\n",
              "<style>\n",
              "  .colab-df-quickchart {\n",
              "      --bg-color: #E8F0FE;\n",
              "      --fill-color: #1967D2;\n",
              "      --hover-bg-color: #E2EBFA;\n",
              "      --hover-fill-color: #174EA6;\n",
              "      --disabled-fill-color: #AAA;\n",
              "      --disabled-bg-color: #DDD;\n",
              "  }\n",
              "\n",
              "  [theme=dark] .colab-df-quickchart {\n",
              "      --bg-color: #3B4455;\n",
              "      --fill-color: #D2E3FC;\n",
              "      --hover-bg-color: #434B5C;\n",
              "      --hover-fill-color: #FFFFFF;\n",
              "      --disabled-bg-color: #3B4455;\n",
              "      --disabled-fill-color: #666;\n",
              "  }\n",
              "\n",
              "  .colab-df-quickchart {\n",
              "    background-color: var(--bg-color);\n",
              "    border: none;\n",
              "    border-radius: 50%;\n",
              "    cursor: pointer;\n",
              "    display: none;\n",
              "    fill: var(--fill-color);\n",
              "    height: 32px;\n",
              "    padding: 0;\n",
              "    width: 32px;\n",
              "  }\n",
              "\n",
              "  .colab-df-quickchart:hover {\n",
              "    background-color: var(--hover-bg-color);\n",
              "    box-shadow: 0 1px 2px rgba(60, 64, 67, 0.3), 0 1px 3px 1px rgba(60, 64, 67, 0.15);\n",
              "    fill: var(--button-hover-fill-color);\n",
              "  }\n",
              "\n",
              "  .colab-df-quickchart-complete:disabled,\n",
              "  .colab-df-quickchart-complete:disabled:hover {\n",
              "    background-color: var(--disabled-bg-color);\n",
              "    fill: var(--disabled-fill-color);\n",
              "    box-shadow: none;\n",
              "  }\n",
              "\n",
              "  .colab-df-spinner {\n",
              "    border: 2px solid var(--fill-color);\n",
              "    border-color: transparent;\n",
              "    border-bottom-color: var(--fill-color);\n",
              "    animation:\n",
              "      spin 1s steps(1) infinite;\n",
              "  }\n",
              "\n",
              "  @keyframes spin {\n",
              "    0% {\n",
              "      border-color: transparent;\n",
              "      border-bottom-color: var(--fill-color);\n",
              "      border-left-color: var(--fill-color);\n",
              "    }\n",
              "    20% {\n",
              "      border-color: transparent;\n",
              "      border-left-color: var(--fill-color);\n",
              "      border-top-color: var(--fill-color);\n",
              "    }\n",
              "    30% {\n",
              "      border-color: transparent;\n",
              "      border-left-color: var(--fill-color);\n",
              "      border-top-color: var(--fill-color);\n",
              "      border-right-color: var(--fill-color);\n",
              "    }\n",
              "    40% {\n",
              "      border-color: transparent;\n",
              "      border-right-color: var(--fill-color);\n",
              "      border-top-color: var(--fill-color);\n",
              "    }\n",
              "    60% {\n",
              "      border-color: transparent;\n",
              "      border-right-color: var(--fill-color);\n",
              "    }\n",
              "    80% {\n",
              "      border-color: transparent;\n",
              "      border-right-color: var(--fill-color);\n",
              "      border-bottom-color: var(--fill-color);\n",
              "    }\n",
              "    90% {\n",
              "      border-color: transparent;\n",
              "      border-bottom-color: var(--fill-color);\n",
              "    }\n",
              "  }\n",
              "</style>\n",
              "\n",
              "  <script>\n",
              "    async function quickchart(key) {\n",
              "      const quickchartButtonEl =\n",
              "        document.querySelector('#' + key + ' button');\n",
              "      quickchartButtonEl.disabled = true;  // To prevent multiple clicks.\n",
              "      quickchartButtonEl.classList.add('colab-df-spinner');\n",
              "      try {\n",
              "        const charts = await google.colab.kernel.invokeFunction(\n",
              "            'suggestCharts', [key], {});\n",
              "      } catch (error) {\n",
              "        console.error('Error during call to suggestCharts:', error);\n",
              "      }\n",
              "      quickchartButtonEl.classList.remove('colab-df-spinner');\n",
              "      quickchartButtonEl.classList.add('colab-df-quickchart-complete');\n",
              "    }\n",
              "    (() => {\n",
              "      let quickchartButtonEl =\n",
              "        document.querySelector('#df-0e4d25b6-86ca-4752-9b5a-d943a391599d button');\n",
              "      quickchartButtonEl.style.display =\n",
              "        google.colab.kernel.accessAllowed ? 'block' : 'none';\n",
              "    })();\n",
              "  </script>\n",
              "</div>\n",
              "\n",
              "    </div>\n",
              "  </div>\n"
            ]
          },
          "metadata": {},
          "execution_count": 119
        }
      ]
    },
    {
      "cell_type": "code",
      "source": [
        "x = df.iloc[:, 0:4].values\n",
        "y = df.iloc[:, 4].values\n",
        "y = y.astype('int')"
      ],
      "metadata": {
        "id": "bSeDQALb8vic"
      },
      "execution_count": 120,
      "outputs": []
    },
    {
      "cell_type": "code",
      "source": [
        "from sklearn.model_selection import train_test_split\n",
        "x_train, x_test, y_train, y_test = train_test_split(x, y, test_size = 0.2, random_state = 0)"
      ],
      "metadata": {
        "id": "42_jEhpG-RH9"
      },
      "execution_count": 121,
      "outputs": []
    },
    {
      "cell_type": "code",
      "source": [
        "from sklearn.preprocessing import StandardScaler\n",
        "sc = StandardScaler()\n",
        "x_train = sc.fit_transform(x_train)\n",
        "x_test = sc.transform(x_test)"
      ],
      "metadata": {
        "id": "aJjkApKr-p7C"
      },
      "execution_count": 122,
      "outputs": []
    },
    {
      "cell_type": "code",
      "source": [
        "from  sklearn.discriminant_analysis import LinearDiscriminantAnalysis as LDA\n",
        "lda = LDA(n_components = 1)\n",
        "x_train = lda.fit_transform(x_train, y_train)\n",
        "x_test = lda.transform(x_test)"
      ],
      "metadata": {
        "id": "uqO9ZX3G_Ftk"
      },
      "execution_count": 123,
      "outputs": []
    },
    {
      "cell_type": "code",
      "source": [
        "from sklearn.linear_model import LogisticRegression\n",
        "classifier = LogisticRegression(random_state = 0)\n",
        "classifier.fit(x_train, y_train)"
      ],
      "metadata": {
        "colab": {
          "base_uri": "https://localhost:8080/",
          "height": 213
        },
        "id": "PrEIrxouAvCV",
        "outputId": "0a23b214-be06-4bb9-9a72-0daaa5ce7748"
      },
      "execution_count": 124,
      "outputs": [
        {
          "output_type": "stream",
          "name": "stderr",
          "text": [
            "/usr/local/lib/python3.10/dist-packages/sklearn/linear_model/_logistic.py:458: ConvergenceWarning: lbfgs failed to converge (status=1):\n",
            "STOP: TOTAL NO. of ITERATIONS REACHED LIMIT.\n",
            "\n",
            "Increase the number of iterations (max_iter) or scale the data as shown in:\n",
            "    https://scikit-learn.org/stable/modules/preprocessing.html\n",
            "Please also refer to the documentation for alternative solver options:\n",
            "    https://scikit-learn.org/stable/modules/linear_model.html#logistic-regression\n",
            "  n_iter_i = _check_optimize_result(\n"
          ]
        },
        {
          "output_type": "execute_result",
          "data": {
            "text/plain": [
              "LogisticRegression(random_state=0)"
            ],
            "text/html": [
              "<style>#sk-container-id-10 {color: black;background-color: white;}#sk-container-id-10 pre{padding: 0;}#sk-container-id-10 div.sk-toggleable {background-color: white;}#sk-container-id-10 label.sk-toggleable__label {cursor: pointer;display: block;width: 100%;margin-bottom: 0;padding: 0.3em;box-sizing: border-box;text-align: center;}#sk-container-id-10 label.sk-toggleable__label-arrow:before {content: \"▸\";float: left;margin-right: 0.25em;color: #696969;}#sk-container-id-10 label.sk-toggleable__label-arrow:hover:before {color: black;}#sk-container-id-10 div.sk-estimator:hover label.sk-toggleable__label-arrow:before {color: black;}#sk-container-id-10 div.sk-toggleable__content {max-height: 0;max-width: 0;overflow: hidden;text-align: left;background-color: #f0f8ff;}#sk-container-id-10 div.sk-toggleable__content pre {margin: 0.2em;color: black;border-radius: 0.25em;background-color: #f0f8ff;}#sk-container-id-10 input.sk-toggleable__control:checked~div.sk-toggleable__content {max-height: 200px;max-width: 100%;overflow: auto;}#sk-container-id-10 input.sk-toggleable__control:checked~label.sk-toggleable__label-arrow:before {content: \"▾\";}#sk-container-id-10 div.sk-estimator input.sk-toggleable__control:checked~label.sk-toggleable__label {background-color: #d4ebff;}#sk-container-id-10 div.sk-label input.sk-toggleable__control:checked~label.sk-toggleable__label {background-color: #d4ebff;}#sk-container-id-10 input.sk-hidden--visually {border: 0;clip: rect(1px 1px 1px 1px);clip: rect(1px, 1px, 1px, 1px);height: 1px;margin: -1px;overflow: hidden;padding: 0;position: absolute;width: 1px;}#sk-container-id-10 div.sk-estimator {font-family: monospace;background-color: #f0f8ff;border: 1px dotted black;border-radius: 0.25em;box-sizing: border-box;margin-bottom: 0.5em;}#sk-container-id-10 div.sk-estimator:hover {background-color: #d4ebff;}#sk-container-id-10 div.sk-parallel-item::after {content: \"\";width: 100%;border-bottom: 1px solid gray;flex-grow: 1;}#sk-container-id-10 div.sk-label:hover label.sk-toggleable__label {background-color: #d4ebff;}#sk-container-id-10 div.sk-serial::before {content: \"\";position: absolute;border-left: 1px solid gray;box-sizing: border-box;top: 0;bottom: 0;left: 50%;z-index: 0;}#sk-container-id-10 div.sk-serial {display: flex;flex-direction: column;align-items: center;background-color: white;padding-right: 0.2em;padding-left: 0.2em;position: relative;}#sk-container-id-10 div.sk-item {position: relative;z-index: 1;}#sk-container-id-10 div.sk-parallel {display: flex;align-items: stretch;justify-content: center;background-color: white;position: relative;}#sk-container-id-10 div.sk-item::before, #sk-container-id-10 div.sk-parallel-item::before {content: \"\";position: absolute;border-left: 1px solid gray;box-sizing: border-box;top: 0;bottom: 0;left: 50%;z-index: -1;}#sk-container-id-10 div.sk-parallel-item {display: flex;flex-direction: column;z-index: 1;position: relative;background-color: white;}#sk-container-id-10 div.sk-parallel-item:first-child::after {align-self: flex-end;width: 50%;}#sk-container-id-10 div.sk-parallel-item:last-child::after {align-self: flex-start;width: 50%;}#sk-container-id-10 div.sk-parallel-item:only-child::after {width: 0;}#sk-container-id-10 div.sk-dashed-wrapped {border: 1px dashed gray;margin: 0 0.4em 0.5em 0.4em;box-sizing: border-box;padding-bottom: 0.4em;background-color: white;}#sk-container-id-10 div.sk-label label {font-family: monospace;font-weight: bold;display: inline-block;line-height: 1.2em;}#sk-container-id-10 div.sk-label-container {text-align: center;}#sk-container-id-10 div.sk-container {/* jupyter's `normalize.less` sets `[hidden] { display: none; }` but bootstrap.min.css set `[hidden] { display: none !important; }` so we also need the `!important` here to be able to override the default hidden behavior on the sphinx rendered scikit-learn.org. See: https://github.com/scikit-learn/scikit-learn/issues/21755 */display: inline-block !important;position: relative;}#sk-container-id-10 div.sk-text-repr-fallback {display: none;}</style><div id=\"sk-container-id-10\" class=\"sk-top-container\"><div class=\"sk-text-repr-fallback\"><pre>LogisticRegression(random_state=0)</pre><b>In a Jupyter environment, please rerun this cell to show the HTML representation or trust the notebook. <br />On GitHub, the HTML representation is unable to render, please try loading this page with nbviewer.org.</b></div><div class=\"sk-container\" hidden><div class=\"sk-item\"><div class=\"sk-estimator sk-toggleable\"><input class=\"sk-toggleable__control sk-hidden--visually\" id=\"sk-estimator-id-10\" type=\"checkbox\" checked><label for=\"sk-estimator-id-10\" class=\"sk-toggleable__label sk-toggleable__label-arrow\">LogisticRegression</label><div class=\"sk-toggleable__content\"><pre>LogisticRegression(random_state=0)</pre></div></div></div></div></div>"
            ]
          },
          "metadata": {},
          "execution_count": 124
        }
      ]
    },
    {
      "cell_type": "code",
      "source": [
        "y_pred = classifier.predict(x_test)"
      ],
      "metadata": {
        "id": "7HYmPH7BBPqE"
      },
      "execution_count": 125,
      "outputs": []
    },
    {
      "cell_type": "code",
      "source": [
        "from sklearn.metrics import confusion_matrix, accuracy_score\n",
        "cm = confusion_matrix(y_test, y_pred)\n",
        "print(cm)\n",
        "accuracy_score(y_test, y_pred)"
      ],
      "metadata": {
        "colab": {
          "base_uri": "https://localhost:8080/"
        },
        "id": "7-ckGs45BVFy",
        "outputId": "20adf8e4-5634-47cc-d8f9-d9890e3c1bac"
      },
      "execution_count": 126,
      "outputs": [
        {
          "output_type": "stream",
          "name": "stdout",
          "text": [
            "[[0 0 0 ... 0 0 0]\n",
            " [0 0 0 ... 0 0 0]\n",
            " [0 0 0 ... 0 0 0]\n",
            " ...\n",
            " [0 0 0 ... 0 0 0]\n",
            " [0 0 0 ... 0 0 0]\n",
            " [0 0 0 ... 0 0 0]]\n"
          ]
        },
        {
          "output_type": "execute_result",
          "data": {
            "text/plain": [
              "0.0928030303030303"
            ]
          },
          "metadata": {},
          "execution_count": 126
        }
      ]
    },
    {
      "cell_type": "code",
      "source": [
        "y_pred"
      ],
      "metadata": {
        "colab": {
          "base_uri": "https://localhost:8080/"
        },
        "id": "1hG-pdpfBzj-",
        "outputId": "5f4037ef-ab34-4713-c0ea-c30c895437cc"
      },
      "execution_count": 127,
      "outputs": [
        {
          "output_type": "execute_result",
          "data": {
            "text/plain": [
              "array([ 62,  92,  27,  62, 108, 170, 170,  27,  92, 170, 131, 170, 131,\n",
              "        62,  62, 108, 114,  27, 170,  62,  27, 170,  27,  62,  27, 114,\n",
              "       170,  27,  27,  27,  27, 170,  27,  27, 114,  27,  27,  62, 114,\n",
              "       170,  92,  62, 170, 109, 170, 170,  27, 170, 114,  27,  27, 114,\n",
              "       170, 108,  27,  62,  27,  27, 170, 114, 170, 131,  27,  27, 170,\n",
              "        27,  62,  92,  62,  62,  27,  62,  62, 170, 170, 170, 170, 170,\n",
              "       108,  27, 170,  27, 114, 170,  62, 114, 170,  27, 170, 109,  27,\n",
              "       131,  27,  27,  27,  27, 170, 170, 114,  62, 170, 170,  62,  27,\n",
              "        62, 170, 114, 170, 170,  27,  27,  94,  62,  27, 170,  27, 170,\n",
              "       109, 108,  62, 170,  27,  62, 170, 170, 170,  62, 170,  27,  62,\n",
              "        27, 131, 170, 170,  27,  27,  62, 131, 108, 109, 108,  62, 109,\n",
              "        62,  62, 109, 108,  27, 114,  62,  62,  27,  27,  27,  27, 170,\n",
              "        27, 170, 170, 170,  62, 170, 170,  62,  27,  27, 170, 131,  62,\n",
              "       170,  62, 131, 109, 170,  27,  27,  62,  27,  27,  62,  27,  27,\n",
              "       170, 131,  62, 131, 108,  92,  62,  27,  62, 170,  94, 108,  27,\n",
              "       170,  91, 170, 108, 131, 170, 114,  27, 109, 170,  27,  27,  27,\n",
              "       114,  27,  62, 108,  92,  62,  92, 170,  27,  92, 170, 170,  27,\n",
              "       170, 108,  62,  27,  27, 108, 170, 131, 131, 114,  62,  62,  62,\n",
              "        27, 170,  27, 131, 114, 170, 170,  27, 131,  27, 170, 170, 170,\n",
              "        94, 170,  27,  62,  27, 170, 170, 170,  27, 170, 170, 170, 114,\n",
              "        27,  27,  92, 170, 109, 170, 170,  27,  62,  27,  27,  62,  27,\n",
              "        27, 170,  27, 131,  27, 108, 114, 114,  27,  27,  62,  92,  62,\n",
              "       170, 170, 131, 109, 170, 108,  27, 170, 114,  62,  27,  62, 170,\n",
              "       131, 131, 170, 109, 170,  27,  62, 170, 170, 108,  27,  27,  62,\n",
              "       170,  62, 131,  62, 108, 170, 108, 170, 114,  27,  62,  62,  27,\n",
              "        62,  27, 170,  62,  27, 131,  27, 131, 109, 131,  27, 170, 170,\n",
              "        27, 131, 170,  27,  27,  27, 170,  27, 170,  62,  27, 109, 170,\n",
              "       114, 170, 170,  62,  27,  27, 170, 170,  62, 170, 114, 170, 170,\n",
              "        27,  62, 170, 170,  62,  27, 114, 131, 114,  27,  62,  62, 170,\n",
              "       170, 170,  62, 170,  27,  27, 108, 131, 131, 131,  92, 131,  62,\n",
              "        27, 170,  27, 108,  62, 170, 170,  62,  27, 131, 108,  27,  27,\n",
              "        27,  27,  27, 170,  27,  62,  27,  27, 108,  94,  27,  27, 131,\n",
              "       170,  62,  27,  27, 170,  27, 131,  27,  27,  27, 170,  62, 170,\n",
              "        27, 114,  62, 170,  27, 170, 170,  27,  27,  27,  27,  62, 114,\n",
              "       108,  62,  62,  27,  27, 170, 109,  62,  27, 170, 170,  62,  62,\n",
              "        27, 170,  27,  62,  62, 108, 170,  27,  62, 170,  62,  62,  62,\n",
              "       170,  62, 170, 170, 170,  27, 114,  27, 131,  62,  27,  62,  62,\n",
              "        27,  62, 114,  27,  27,  62, 108, 170, 170,  27, 131,  27,  62,\n",
              "       170, 170,  27,  27,  27,  27, 114, 131, 170, 170, 170,  27, 170,\n",
              "        27, 170,  27, 114, 170,  62,  27, 108,  62,  62, 170,  62, 131,\n",
              "        27, 170, 108, 170,  62,  27,  62, 170])"
            ]
          },
          "metadata": {},
          "execution_count": 127
        }
      ]
    },
    {
      "cell_type": "code",
      "source": [
        "y_test"
      ],
      "metadata": {
        "colab": {
          "base_uri": "https://localhost:8080/"
        },
        "id": "cs34X9pRB5V8",
        "outputId": "68db3b52-7b0b-4242-b9a9-27279438b36c"
      },
      "execution_count": 128,
      "outputs": [
        {
          "output_type": "execute_result",
          "data": {
            "text/plain": [
              "array([ 87,  92,  54,  63,  94, 177, 157,  46,  93, 167, 131, 226, 125,\n",
              "        59,  61,  98, 112,  30, 178,  61,  38, 156,  27,  74,  23, 113,\n",
              "       211,  26,  51,  29,  25, 161,  38,  22, 112,  38,  22,  62, 114,\n",
              "       202,  92,  64, 186, 110, 165, 185,  39, 155, 112,  22,  27, 114,\n",
              "       153, 100,  40,  65,  23,  43, 160, 111, 172, 142,  49,  47, 162,\n",
              "        46,  60,  93,  77,  73,  51,  58,  61, 157, 158, 205, 168, 197,\n",
              "        94,  26, 189,  22, 112, 195,  61, 114, 175,  48, 234, 109,  26,\n",
              "       130,  25,  21,  27,  39, 211, 175, 113,  67, 210, 174,  60,  23,\n",
              "        85, 172, 111, 195, 197,  24,  27,  94,  90,  43, 152,  27, 207,\n",
              "       109, 104,  91, 163,  20,  90, 159, 182, 190,  60, 199,  22,  64,\n",
              "        27, 141, 166, 160,  24,  26,  64, 126, 101, 110, 101,  86, 109,\n",
              "        63,  64, 109, 104,  40, 113,  64,  58,  44,  37,  23,  22, 154,\n",
              "        46, 152, 180, 190,  63, 163, 200,  91,  28,  35, 219, 124,  63,\n",
              "       212,  74, 132, 105, 161,  50,  31,  75,  27,  20,  64,  45,  21,\n",
              "       158, 127,  65, 140, 101,  93,  63,  25,  73, 169,  93, 103,  45,\n",
              "       162,  91, 161,  94, 128, 177, 114,  19, 110, 208,  25,  34,  50,\n",
              "       111,  27,  80,  98,  92,  64,  92, 163,  27,  92, 162, 188,  27,\n",
              "       150, 103,  64,  47,  27, 102, 226, 125, 125, 115,  64,  65,  84,\n",
              "        22, 174,  25, 141, 113, 224, 191,  51, 142,  23, 170, 217, 229,\n",
              "        94, 215,  19,  58,  24, 209, 162, 162,  27, 185, 202, 174, 112,\n",
              "        46,  20,  92, 148, 107, 177, 236,  34,  59,  23,  54,  61,  39,\n",
              "        20, 229,  24, 141,  27, 102, 112, 111,  55,  20,  60,  91,  61,\n",
              "       180, 195, 124, 110, 176,  98,  24, 196, 116,  62,  37,  58, 202,\n",
              "       130, 127, 176, 110, 190,  24,  79, 163, 218, 106,  22,  49,  60,\n",
              "       169,  63, 124,  57,  96, 212, 105, 210, 114,  39,  61,  61,  36,\n",
              "        72,  20, 152,  81,  40, 144,  26, 144, 107, 130,  23, 204, 153,\n",
              "        40, 132, 193,  34,  45,  47, 163,  39, 173,  61,  28, 112, 199,\n",
              "       112, 197, 167,  59,  36,  23, 211, 159,  62, 177, 115, 231, 216,\n",
              "        39,  59, 221, 160,  84,  53, 114, 141, 112,  25,  71,  62, 157,\n",
              "       159, 179,  63, 199,  27,  24,  94, 136, 132, 142,  93, 130,  80,\n",
              "        27, 197,  48, 106,  58, 200, 146,  58,  28, 133, 105,  21,  31,\n",
              "        40,  25,  47, 216,  43,  89,  26,  20, 102,  93,  19,  25, 138,\n",
              "       152,  76,  23,  22, 203,  34, 134,  25,  26,  39, 183,  63, 156,\n",
              "        20, 114,  62, 174,  37, 174, 144,  38,  26,  43,  27,  60, 111,\n",
              "       101,  60,  82,  25,  20, 155, 108,  86,  48, 149, 162,  63,  72,\n",
              "        24, 172,  24,  81,  61, 103, 163,  24,  60, 186,  62,  89,  57,\n",
              "       173,  88, 171, 157, 152,  23, 113,  46, 124,  59,  25,  61,  63,\n",
              "        40,  59, 111,  49,  20,  60, 101, 155, 211,  20, 127,  26,  61,\n",
              "       183, 213,  35,  27,  38,  48, 116, 140, 200, 165, 162,  47, 149,\n",
              "        21, 222,  25, 114, 165,  56,  20, 106,  65,  60, 178,  62, 131,\n",
              "        30, 164, 101, 213,  63,  27,  65, 203])"
            ]
          },
          "metadata": {},
          "execution_count": 128
        }
      ]
    }
  ]
}